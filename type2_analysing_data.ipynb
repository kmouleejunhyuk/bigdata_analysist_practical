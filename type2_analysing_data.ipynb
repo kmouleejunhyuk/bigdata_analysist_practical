{
  "nbformat": 4,
  "nbformat_minor": 0,
  "metadata": {
    "colab": {
      "name": "type2_analysing data.ipynb",
      "provenance": [],
      "authorship_tag": "ABX9TyNk9C6bduQwWX60pjiqJVGC",
      "include_colab_link": true
    },
    "kernelspec": {
      "name": "python3",
      "display_name": "Python 3"
    },
    "language_info": {
      "name": "python"
    }
  },
  "cells": [
    {
      "cell_type": "markdown",
      "metadata": {
        "id": "view-in-github",
        "colab_type": "text"
      },
      "source": [
        "<a href=\"https://colab.research.google.com/github/kmouleejunhyuk/bigdata_analysist_practical/blob/main/type2_analysing_data.ipynb\" target=\"_parent\"><img src=\"https://colab.research.google.com/assets/colab-badge.svg\" alt=\"Open In Colab\"/></a>"
      ]
    },
    {
      "cell_type": "code",
      "metadata": {
        "colab": {
          "base_uri": "https://localhost:8080/"
        },
        "id": "DcuVQttNZVaz",
        "outputId": "0f8ad554-ab1c-460e-f61d-293358b36965"
      },
      "source": [
        "#prepare data\n",
        "from google.colab import drive\n",
        "drive.mount('/gdrive')"
      ],
      "execution_count": 142,
      "outputs": [
        {
          "output_type": "stream",
          "text": [
            "Drive already mounted at /gdrive; to attempt to forcibly remount, call drive.mount(\"/gdrive\", force_remount=True).\n"
          ],
          "name": "stdout"
        }
      ]
    },
    {
      "cell_type": "code",
      "metadata": {
        "id": "r84PjdNPZxC9"
      },
      "source": [
        "PATH ='/gdrive/MyDrive/big_2021/data/official'\n",
        "SEED = 49"
      ],
      "execution_count": 143,
      "outputs": []
    },
    {
      "cell_type": "code",
      "metadata": {
        "id": "plS9BbcYZ-I9"
      },
      "source": [
        "import pandas as pd\n",
        "import numpy as np\n",
        "import collections\n",
        "import sklearn"
      ],
      "execution_count": 144,
      "outputs": []
    },
    {
      "cell_type": "code",
      "metadata": {
        "id": "0fKjPRUoZ4tD"
      },
      "source": [
        "x_test_o = pd.read_csv(PATH + '/type2/X_test.csv', encoding = 'cp949')\n",
        "x_train_o = pd.read_csv(PATH + '/type2/X_train.csv', encoding = 'cp949')\n",
        "y_train_o = pd.read_csv(PATH + '/type2/y_train.csv', encoding = 'cp949')"
      ],
      "execution_count": 145,
      "outputs": []
    },
    {
      "cell_type": "code",
      "metadata": {
        "id": "lDVyQlN0q8_p"
      },
      "source": [
        "x_test_raw = x_test_o.copy()\n",
        "x_train_raw = x_train_o.copy()\n",
        "y_train_raw = y_train_o.copy()"
      ],
      "execution_count": 146,
      "outputs": []
    },
    {
      "cell_type": "code",
      "metadata": {
        "colab": {
          "base_uri": "https://localhost:8080/"
        },
        "id": "R3yiaPLfw8JE",
        "outputId": "00f402e0-8a7d-4dc6-b754-fa3edd1dd7f2"
      },
      "source": [
        "x_train_raw.shape"
      ],
      "execution_count": 147,
      "outputs": [
        {
          "output_type": "execute_result",
          "data": {
            "text/plain": [
              "(3500, 10)"
            ]
          },
          "metadata": {
            "tags": []
          },
          "execution_count": 147
        }
      ]
    },
    {
      "cell_type": "code",
      "metadata": {
        "colab": {
          "base_uri": "https://localhost:8080/"
        },
        "id": "fLKEhv90xBRU",
        "outputId": "6885b6a5-5958-4acf-9337-c32ca9a205e4"
      },
      "source": [
        "y_train_raw.shape"
      ],
      "execution_count": 148,
      "outputs": [
        {
          "output_type": "execute_result",
          "data": {
            "text/plain": [
              "(3500, 2)"
            ]
          },
          "metadata": {
            "tags": []
          },
          "execution_count": 148
        }
      ]
    },
    {
      "cell_type": "code",
      "metadata": {
        "colab": {
          "base_uri": "https://localhost:8080/"
        },
        "id": "sZx3f48yw_Y0",
        "outputId": "cebc1c9b-0196-4171-c466-fcdea2fdfe3c"
      },
      "source": [
        "x_test_raw.shape"
      ],
      "execution_count": 149,
      "outputs": [
        {
          "output_type": "execute_result",
          "data": {
            "text/plain": [
              "(2482, 10)"
            ]
          },
          "metadata": {
            "tags": []
          },
          "execution_count": 149
        }
      ]
    },
    {
      "cell_type": "code",
      "metadata": {
        "colab": {
          "base_uri": "https://localhost:8080/",
          "height": 198
        },
        "id": "5Unp4qb5aCDf",
        "outputId": "fe00e66e-9455-4311-cb4e-986a3642a664"
      },
      "source": [
        "x_test_raw.head()"
      ],
      "execution_count": 150,
      "outputs": [
        {
          "output_type": "execute_result",
          "data": {
            "text/html": [
              "<div>\n",
              "<style scoped>\n",
              "    .dataframe tbody tr th:only-of-type {\n",
              "        vertical-align: middle;\n",
              "    }\n",
              "\n",
              "    .dataframe tbody tr th {\n",
              "        vertical-align: top;\n",
              "    }\n",
              "\n",
              "    .dataframe thead th {\n",
              "        text-align: right;\n",
              "    }\n",
              "</style>\n",
              "<table border=\"1\" class=\"dataframe\">\n",
              "  <thead>\n",
              "    <tr style=\"text-align: right;\">\n",
              "      <th></th>\n",
              "      <th>cust_id</th>\n",
              "      <th>총구매액</th>\n",
              "      <th>최대구매액</th>\n",
              "      <th>환불금액</th>\n",
              "      <th>주구매상품</th>\n",
              "      <th>주구매지점</th>\n",
              "      <th>내점일수</th>\n",
              "      <th>내점당구매건수</th>\n",
              "      <th>주말방문비율</th>\n",
              "      <th>구매주기</th>\n",
              "    </tr>\n",
              "  </thead>\n",
              "  <tbody>\n",
              "    <tr>\n",
              "      <th>0</th>\n",
              "      <td>3500</td>\n",
              "      <td>70900400</td>\n",
              "      <td>22000000</td>\n",
              "      <td>4050000.0</td>\n",
              "      <td>골프</td>\n",
              "      <td>부산본점</td>\n",
              "      <td>13</td>\n",
              "      <td>1.461538</td>\n",
              "      <td>0.789474</td>\n",
              "      <td>26</td>\n",
              "    </tr>\n",
              "    <tr>\n",
              "      <th>1</th>\n",
              "      <td>3501</td>\n",
              "      <td>310533100</td>\n",
              "      <td>38558000</td>\n",
              "      <td>48034700.0</td>\n",
              "      <td>농산물</td>\n",
              "      <td>잠실점</td>\n",
              "      <td>90</td>\n",
              "      <td>2.433333</td>\n",
              "      <td>0.369863</td>\n",
              "      <td>3</td>\n",
              "    </tr>\n",
              "    <tr>\n",
              "      <th>2</th>\n",
              "      <td>3502</td>\n",
              "      <td>305264140</td>\n",
              "      <td>14825000</td>\n",
              "      <td>30521000.0</td>\n",
              "      <td>가공식품</td>\n",
              "      <td>본  점</td>\n",
              "      <td>101</td>\n",
              "      <td>14.623762</td>\n",
              "      <td>0.083277</td>\n",
              "      <td>3</td>\n",
              "    </tr>\n",
              "    <tr>\n",
              "      <th>3</th>\n",
              "      <td>3503</td>\n",
              "      <td>7594080</td>\n",
              "      <td>5225000</td>\n",
              "      <td>NaN</td>\n",
              "      <td>주방용품</td>\n",
              "      <td>부산본점</td>\n",
              "      <td>5</td>\n",
              "      <td>2.000000</td>\n",
              "      <td>0.000000</td>\n",
              "      <td>47</td>\n",
              "    </tr>\n",
              "    <tr>\n",
              "      <th>4</th>\n",
              "      <td>3504</td>\n",
              "      <td>1795790</td>\n",
              "      <td>1411200</td>\n",
              "      <td>NaN</td>\n",
              "      <td>수산품</td>\n",
              "      <td>청량리점</td>\n",
              "      <td>3</td>\n",
              "      <td>2.666667</td>\n",
              "      <td>0.125000</td>\n",
              "      <td>8</td>\n",
              "    </tr>\n",
              "  </tbody>\n",
              "</table>\n",
              "</div>"
            ],
            "text/plain": [
              "   cust_id       총구매액     최대구매액        환불금액  ... 내점일수    내점당구매건수    주말방문비율  구매주기\n",
              "0     3500   70900400  22000000   4050000.0  ...   13   1.461538  0.789474    26\n",
              "1     3501  310533100  38558000  48034700.0  ...   90   2.433333  0.369863     3\n",
              "2     3502  305264140  14825000  30521000.0  ...  101  14.623762  0.083277     3\n",
              "3     3503    7594080   5225000         NaN  ...    5   2.000000  0.000000    47\n",
              "4     3504    1795790   1411200         NaN  ...    3   2.666667  0.125000     8\n",
              "\n",
              "[5 rows x 10 columns]"
            ]
          },
          "metadata": {
            "tags": []
          },
          "execution_count": 150
        }
      ]
    },
    {
      "cell_type": "code",
      "metadata": {
        "colab": {
          "base_uri": "https://localhost:8080/",
          "height": 198
        },
        "id": "Ziuue_mkf4AD",
        "outputId": "0a5cea33-df93-49d7-891f-d6d840ca4884"
      },
      "source": [
        "x_train_raw.head()"
      ],
      "execution_count": 151,
      "outputs": [
        {
          "output_type": "execute_result",
          "data": {
            "text/html": [
              "<div>\n",
              "<style scoped>\n",
              "    .dataframe tbody tr th:only-of-type {\n",
              "        vertical-align: middle;\n",
              "    }\n",
              "\n",
              "    .dataframe tbody tr th {\n",
              "        vertical-align: top;\n",
              "    }\n",
              "\n",
              "    .dataframe thead th {\n",
              "        text-align: right;\n",
              "    }\n",
              "</style>\n",
              "<table border=\"1\" class=\"dataframe\">\n",
              "  <thead>\n",
              "    <tr style=\"text-align: right;\">\n",
              "      <th></th>\n",
              "      <th>cust_id</th>\n",
              "      <th>총구매액</th>\n",
              "      <th>최대구매액</th>\n",
              "      <th>환불금액</th>\n",
              "      <th>주구매상품</th>\n",
              "      <th>주구매지점</th>\n",
              "      <th>내점일수</th>\n",
              "      <th>내점당구매건수</th>\n",
              "      <th>주말방문비율</th>\n",
              "      <th>구매주기</th>\n",
              "    </tr>\n",
              "  </thead>\n",
              "  <tbody>\n",
              "    <tr>\n",
              "      <th>0</th>\n",
              "      <td>0</td>\n",
              "      <td>68282840</td>\n",
              "      <td>11264000</td>\n",
              "      <td>6860000.0</td>\n",
              "      <td>기타</td>\n",
              "      <td>강남점</td>\n",
              "      <td>19</td>\n",
              "      <td>3.894737</td>\n",
              "      <td>0.527027</td>\n",
              "      <td>17</td>\n",
              "    </tr>\n",
              "    <tr>\n",
              "      <th>1</th>\n",
              "      <td>1</td>\n",
              "      <td>2136000</td>\n",
              "      <td>2136000</td>\n",
              "      <td>300000.0</td>\n",
              "      <td>스포츠</td>\n",
              "      <td>잠실점</td>\n",
              "      <td>2</td>\n",
              "      <td>1.500000</td>\n",
              "      <td>0.000000</td>\n",
              "      <td>1</td>\n",
              "    </tr>\n",
              "    <tr>\n",
              "      <th>2</th>\n",
              "      <td>2</td>\n",
              "      <td>3197000</td>\n",
              "      <td>1639000</td>\n",
              "      <td>NaN</td>\n",
              "      <td>남성 캐주얼</td>\n",
              "      <td>관악점</td>\n",
              "      <td>2</td>\n",
              "      <td>2.000000</td>\n",
              "      <td>0.000000</td>\n",
              "      <td>1</td>\n",
              "    </tr>\n",
              "    <tr>\n",
              "      <th>3</th>\n",
              "      <td>3</td>\n",
              "      <td>16077620</td>\n",
              "      <td>4935000</td>\n",
              "      <td>NaN</td>\n",
              "      <td>기타</td>\n",
              "      <td>광주점</td>\n",
              "      <td>18</td>\n",
              "      <td>2.444444</td>\n",
              "      <td>0.318182</td>\n",
              "      <td>16</td>\n",
              "    </tr>\n",
              "    <tr>\n",
              "      <th>4</th>\n",
              "      <td>4</td>\n",
              "      <td>29050000</td>\n",
              "      <td>24000000</td>\n",
              "      <td>NaN</td>\n",
              "      <td>보석</td>\n",
              "      <td>본  점</td>\n",
              "      <td>2</td>\n",
              "      <td>1.500000</td>\n",
              "      <td>0.000000</td>\n",
              "      <td>85</td>\n",
              "    </tr>\n",
              "  </tbody>\n",
              "</table>\n",
              "</div>"
            ],
            "text/plain": [
              "   cust_id      총구매액     최대구매액       환불금액  ... 내점일수   내점당구매건수    주말방문비율  구매주기\n",
              "0        0  68282840  11264000  6860000.0  ...   19  3.894737  0.527027    17\n",
              "1        1   2136000   2136000   300000.0  ...    2  1.500000  0.000000     1\n",
              "2        2   3197000   1639000        NaN  ...    2  2.000000  0.000000     1\n",
              "3        3  16077620   4935000        NaN  ...   18  2.444444  0.318182    16\n",
              "4        4  29050000  24000000        NaN  ...    2  1.500000  0.000000    85\n",
              "\n",
              "[5 rows x 10 columns]"
            ]
          },
          "metadata": {
            "tags": []
          },
          "execution_count": 151
        }
      ]
    },
    {
      "cell_type": "code",
      "metadata": {
        "colab": {
          "base_uri": "https://localhost:8080/",
          "height": 198
        },
        "id": "mQos6428f8yq",
        "outputId": "abce0354-60f6-4f95-e4c6-d48caabc0e01"
      },
      "source": [
        "y_train_raw.head()"
      ],
      "execution_count": 152,
      "outputs": [
        {
          "output_type": "execute_result",
          "data": {
            "text/html": [
              "<div>\n",
              "<style scoped>\n",
              "    .dataframe tbody tr th:only-of-type {\n",
              "        vertical-align: middle;\n",
              "    }\n",
              "\n",
              "    .dataframe tbody tr th {\n",
              "        vertical-align: top;\n",
              "    }\n",
              "\n",
              "    .dataframe thead th {\n",
              "        text-align: right;\n",
              "    }\n",
              "</style>\n",
              "<table border=\"1\" class=\"dataframe\">\n",
              "  <thead>\n",
              "    <tr style=\"text-align: right;\">\n",
              "      <th></th>\n",
              "      <th>cust_id</th>\n",
              "      <th>gender</th>\n",
              "    </tr>\n",
              "  </thead>\n",
              "  <tbody>\n",
              "    <tr>\n",
              "      <th>0</th>\n",
              "      <td>0</td>\n",
              "      <td>0</td>\n",
              "    </tr>\n",
              "    <tr>\n",
              "      <th>1</th>\n",
              "      <td>1</td>\n",
              "      <td>0</td>\n",
              "    </tr>\n",
              "    <tr>\n",
              "      <th>2</th>\n",
              "      <td>2</td>\n",
              "      <td>1</td>\n",
              "    </tr>\n",
              "    <tr>\n",
              "      <th>3</th>\n",
              "      <td>3</td>\n",
              "      <td>1</td>\n",
              "    </tr>\n",
              "    <tr>\n",
              "      <th>4</th>\n",
              "      <td>4</td>\n",
              "      <td>0</td>\n",
              "    </tr>\n",
              "  </tbody>\n",
              "</table>\n",
              "</div>"
            ],
            "text/plain": [
              "   cust_id  gender\n",
              "0        0       0\n",
              "1        1       0\n",
              "2        2       1\n",
              "3        3       1\n",
              "4        4       0"
            ]
          },
          "metadata": {
            "tags": []
          },
          "execution_count": 152
        }
      ]
    },
    {
      "cell_type": "markdown",
      "metadata": {
        "id": "CZcS_8tQBcAK"
      },
      "source": [
        "이상치 및 중복값 제거를 용이하게 하기 위해 레이블과 변수 통합"
      ]
    },
    {
      "cell_type": "code",
      "metadata": {
        "id": "pVFZ6FP1Bbeh"
      },
      "source": [
        "x_train_raw = pd.concat([y_train_raw['gender'], x_train_raw], axis = 1)"
      ],
      "execution_count": 153,
      "outputs": []
    },
    {
      "cell_type": "code",
      "metadata": {
        "colab": {
          "base_uri": "https://localhost:8080/",
          "height": 198
        },
        "id": "8cty0dtfCuoD",
        "outputId": "e0109464-4888-4865-96be-2fc513485c0d"
      },
      "source": [
        "x_train_raw.head()"
      ],
      "execution_count": 154,
      "outputs": [
        {
          "output_type": "execute_result",
          "data": {
            "text/html": [
              "<div>\n",
              "<style scoped>\n",
              "    .dataframe tbody tr th:only-of-type {\n",
              "        vertical-align: middle;\n",
              "    }\n",
              "\n",
              "    .dataframe tbody tr th {\n",
              "        vertical-align: top;\n",
              "    }\n",
              "\n",
              "    .dataframe thead th {\n",
              "        text-align: right;\n",
              "    }\n",
              "</style>\n",
              "<table border=\"1\" class=\"dataframe\">\n",
              "  <thead>\n",
              "    <tr style=\"text-align: right;\">\n",
              "      <th></th>\n",
              "      <th>gender</th>\n",
              "      <th>cust_id</th>\n",
              "      <th>총구매액</th>\n",
              "      <th>최대구매액</th>\n",
              "      <th>환불금액</th>\n",
              "      <th>주구매상품</th>\n",
              "      <th>주구매지점</th>\n",
              "      <th>내점일수</th>\n",
              "      <th>내점당구매건수</th>\n",
              "      <th>주말방문비율</th>\n",
              "      <th>구매주기</th>\n",
              "    </tr>\n",
              "  </thead>\n",
              "  <tbody>\n",
              "    <tr>\n",
              "      <th>0</th>\n",
              "      <td>0</td>\n",
              "      <td>0</td>\n",
              "      <td>68282840</td>\n",
              "      <td>11264000</td>\n",
              "      <td>6860000.0</td>\n",
              "      <td>기타</td>\n",
              "      <td>강남점</td>\n",
              "      <td>19</td>\n",
              "      <td>3.894737</td>\n",
              "      <td>0.527027</td>\n",
              "      <td>17</td>\n",
              "    </tr>\n",
              "    <tr>\n",
              "      <th>1</th>\n",
              "      <td>0</td>\n",
              "      <td>1</td>\n",
              "      <td>2136000</td>\n",
              "      <td>2136000</td>\n",
              "      <td>300000.0</td>\n",
              "      <td>스포츠</td>\n",
              "      <td>잠실점</td>\n",
              "      <td>2</td>\n",
              "      <td>1.500000</td>\n",
              "      <td>0.000000</td>\n",
              "      <td>1</td>\n",
              "    </tr>\n",
              "    <tr>\n",
              "      <th>2</th>\n",
              "      <td>1</td>\n",
              "      <td>2</td>\n",
              "      <td>3197000</td>\n",
              "      <td>1639000</td>\n",
              "      <td>NaN</td>\n",
              "      <td>남성 캐주얼</td>\n",
              "      <td>관악점</td>\n",
              "      <td>2</td>\n",
              "      <td>2.000000</td>\n",
              "      <td>0.000000</td>\n",
              "      <td>1</td>\n",
              "    </tr>\n",
              "    <tr>\n",
              "      <th>3</th>\n",
              "      <td>1</td>\n",
              "      <td>3</td>\n",
              "      <td>16077620</td>\n",
              "      <td>4935000</td>\n",
              "      <td>NaN</td>\n",
              "      <td>기타</td>\n",
              "      <td>광주점</td>\n",
              "      <td>18</td>\n",
              "      <td>2.444444</td>\n",
              "      <td>0.318182</td>\n",
              "      <td>16</td>\n",
              "    </tr>\n",
              "    <tr>\n",
              "      <th>4</th>\n",
              "      <td>0</td>\n",
              "      <td>4</td>\n",
              "      <td>29050000</td>\n",
              "      <td>24000000</td>\n",
              "      <td>NaN</td>\n",
              "      <td>보석</td>\n",
              "      <td>본  점</td>\n",
              "      <td>2</td>\n",
              "      <td>1.500000</td>\n",
              "      <td>0.000000</td>\n",
              "      <td>85</td>\n",
              "    </tr>\n",
              "  </tbody>\n",
              "</table>\n",
              "</div>"
            ],
            "text/plain": [
              "   gender  cust_id      총구매액     최대구매액  ...  내점일수   내점당구매건수    주말방문비율  구매주기\n",
              "0       0        0  68282840  11264000  ...    19  3.894737  0.527027    17\n",
              "1       0        1   2136000   2136000  ...     2  1.500000  0.000000     1\n",
              "2       1        2   3197000   1639000  ...     2  2.000000  0.000000     1\n",
              "3       1        3  16077620   4935000  ...    18  2.444444  0.318182    16\n",
              "4       0        4  29050000  24000000  ...     2  1.500000  0.000000    85\n",
              "\n",
              "[5 rows x 11 columns]"
            ]
          },
          "metadata": {
            "tags": []
          },
          "execution_count": 154
        }
      ]
    },
    {
      "cell_type": "markdown",
      "metadata": {
        "id": "8-DttV5nol_3"
      },
      "source": [
        "이름을 영문으로 치환"
      ]
    },
    {
      "cell_type": "code",
      "metadata": {
        "id": "COPuAgXFolzm"
      },
      "source": [
        "mapper = {'총구매액': 'total_purchase', '최대구매액': 'max_purchace', '환불금액': 'refund', '주구매상품': 'main_merch', '주구매지점': 'main_office', '내점일수': 'visit', '내점당구매건수': 'purchace_per_visit', '주말방문비율': 'weekend_visit_ratio', '구매주기': 'purchace_period'}\n",
        "x_train_raw = x_train_raw.rename(mapper, axis = 1)\n",
        "x_test_raw = x_test_raw.rename(mapper, axis = 1)"
      ],
      "execution_count": 155,
      "outputs": []
    },
    {
      "cell_type": "markdown",
      "metadata": {
        "id": "MOKagAGZgM4f"
      },
      "source": [
        "#EDA"
      ]
    },
    {
      "cell_type": "code",
      "metadata": {
        "colab": {
          "base_uri": "https://localhost:8080/"
        },
        "id": "KlCoDs1Kf_M7",
        "outputId": "f9f5eb5c-c365-4d38-a074-42826c621f87"
      },
      "source": [
        "x_train_raw['gender'].value_counts()"
      ],
      "execution_count": 156,
      "outputs": [
        {
          "output_type": "execute_result",
          "data": {
            "text/plain": [
              "0    2184\n",
              "1    1316\n",
              "Name: gender, dtype: int64"
            ]
          },
          "metadata": {
            "tags": []
          },
          "execution_count": 156
        }
      ]
    },
    {
      "cell_type": "markdown",
      "metadata": {
        "id": "0SHzKripgbkP"
      },
      "source": [
        "여자가 남자보다 약 2배 많은 데이터, 하지만 과적합하기엔 표본이 많다(레이블 불균형 고려 x)"
      ]
    },
    {
      "cell_type": "markdown",
      "metadata": {
        "id": "XACRrxLpwGy0"
      },
      "source": [
        "null과 duplicated 데이터를 확인한다"
      ]
    },
    {
      "cell_type": "code",
      "metadata": {
        "colab": {
          "base_uri": "https://localhost:8080/"
        },
        "id": "GBRXW1BtgRF8",
        "outputId": "5af5e51d-307e-4ad3-bb84-ad143c5441d5"
      },
      "source": [
        "x_train_raw.isnull().sum()"
      ],
      "execution_count": 157,
      "outputs": [
        {
          "output_type": "execute_result",
          "data": {
            "text/plain": [
              "gender                    0\n",
              "cust_id                   0\n",
              "total_purchase            0\n",
              "max_purchace              0\n",
              "refund                 2295\n",
              "main_merch                0\n",
              "main_office               0\n",
              "visit                     0\n",
              "purchace_per_visit        0\n",
              "weekend_visit_ratio       0\n",
              "purchace_period           0\n",
              "dtype: int64"
            ]
          },
          "metadata": {
            "tags": []
          },
          "execution_count": 157
        }
      ]
    },
    {
      "cell_type": "code",
      "metadata": {
        "colab": {
          "base_uri": "https://localhost:8080/"
        },
        "id": "Z9OVtYvbguSw",
        "outputId": "f53e09a8-777a-41fc-de4f-3791f28a91c0"
      },
      "source": [
        "x_test_raw.isnull().sum()"
      ],
      "execution_count": 158,
      "outputs": [
        {
          "output_type": "execute_result",
          "data": {
            "text/plain": [
              "cust_id                   0\n",
              "total_purchase            0\n",
              "max_purchace              0\n",
              "refund                 1611\n",
              "main_merch                0\n",
              "main_office               0\n",
              "visit                     0\n",
              "purchace_per_visit        0\n",
              "weekend_visit_ratio       0\n",
              "purchace_period           0\n",
              "dtype: int64"
            ]
          },
          "metadata": {
            "tags": []
          },
          "execution_count": 158
        }
      ]
    },
    {
      "cell_type": "code",
      "metadata": {
        "colab": {
          "base_uri": "https://localhost:8080/"
        },
        "id": "OYP-7b3Yv1aU",
        "outputId": "34c48b67-f599-4c9f-d58c-01ea1504dbe6"
      },
      "source": [
        "x_train_raw.duplicated().sum()"
      ],
      "execution_count": 159,
      "outputs": [
        {
          "output_type": "execute_result",
          "data": {
            "text/plain": [
              "0"
            ]
          },
          "metadata": {
            "tags": []
          },
          "execution_count": 159
        }
      ]
    },
    {
      "cell_type": "markdown",
      "metadata": {
        "id": "U0pFDKTbh29H"
      },
      "source": [
        "x의 환불금액에 null이 있다. 고객 별 환불금액이니 환불 이력이 없다는 의미. 0으로 치환한다.\n"
      ]
    },
    {
      "cell_type": "code",
      "metadata": {
        "colab": {
          "base_uri": "https://localhost:8080/"
        },
        "id": "9cWzNbQ5htuP",
        "outputId": "1d7c1ae4-2371-4709-ef14-08ba329f5bff"
      },
      "source": [
        "x_train_raw['refund'].replace(np.nan, 0, inplace = True)\n",
        "x_train_raw.isnull().sum()"
      ],
      "execution_count": 160,
      "outputs": [
        {
          "output_type": "execute_result",
          "data": {
            "text/plain": [
              "gender                 0\n",
              "cust_id                0\n",
              "total_purchase         0\n",
              "max_purchace           0\n",
              "refund                 0\n",
              "main_merch             0\n",
              "main_office            0\n",
              "visit                  0\n",
              "purchace_per_visit     0\n",
              "weekend_visit_ratio    0\n",
              "purchace_period        0\n",
              "dtype: int64"
            ]
          },
          "metadata": {
            "tags": []
          },
          "execution_count": 160
        }
      ]
    },
    {
      "cell_type": "code",
      "metadata": {
        "colab": {
          "base_uri": "https://localhost:8080/"
        },
        "id": "zuLg2TVRijrQ",
        "outputId": "af49eb73-a84e-469d-c070-c1485946f50d"
      },
      "source": [
        "x_test_raw['refund'].replace(np.nan, 0, inplace = True)\n",
        "x_test_raw.isnull().sum()"
      ],
      "execution_count": 161,
      "outputs": [
        {
          "output_type": "execute_result",
          "data": {
            "text/plain": [
              "cust_id                0\n",
              "total_purchase         0\n",
              "max_purchace           0\n",
              "refund                 0\n",
              "main_merch             0\n",
              "main_office            0\n",
              "visit                  0\n",
              "purchace_per_visit     0\n",
              "weekend_visit_ratio    0\n",
              "purchace_period        0\n",
              "dtype: int64"
            ]
          },
          "metadata": {
            "tags": []
          },
          "execution_count": 161
        }
      ]
    },
    {
      "cell_type": "markdown",
      "metadata": {
        "id": "cmj_Z7B9i1gv"
      },
      "source": [
        "cust_id를 제외한 데이터의 분포를 살펴본다"
      ]
    },
    {
      "cell_type": "code",
      "metadata": {
        "colab": {
          "base_uri": "https://localhost:8080/",
          "height": 1000
        },
        "id": "OpblSOBZnCoX",
        "outputId": "dc8152a7-bd6b-4bad-fefb-36836b322ec7"
      },
      "source": [
        "x_train_raw.boxplot(figsize=(20, 20))"
      ],
      "execution_count": 162,
      "outputs": [
        {
          "output_type": "execute_result",
          "data": {
            "text/plain": [
              "<matplotlib.axes._subplots.AxesSubplot at 0x7f9dac841590>"
            ]
          },
          "metadata": {
            "tags": []
          },
          "execution_count": 162
        },
        {
          "output_type": "display_data",
          "data": {
            "image/png": "[encoded data removed]",
            "text/plain": [
              "<Figure size 1440x1440 with 1 Axes>"
            ]
          },
          "metadata": {
            "tags": [],
            "needs_background": "light"
          }
        }
      ]
    },
    {
      "cell_type": "markdown",
      "metadata": {
        "id": "njX_lU5I8ss0"
      },
      "source": [
        "총 구매금액이 음수인 사용자는 제거"
      ]
    },
    {
      "cell_type": "code",
      "metadata": {
        "id": "VrcoG9x30rE8"
      },
      "source": [
        "invalid_index = x_train_raw['total_purchase'] < 0\n",
        "x_train_raw = x_train_raw[~invalid_index]"
      ],
      "execution_count": 163,
      "outputs": []
    },
    {
      "cell_type": "code",
      "metadata": {
        "colab": {
          "base_uri": "https://localhost:8080/",
          "height": 288
        },
        "id": "8-YOKH7bij83",
        "outputId": "8829a5c8-185b-4f6c-bf51-d4d6e2a4d9db"
      },
      "source": [
        "x_train_raw.describe()"
      ],
      "execution_count": 164,
      "outputs": [
        {
          "output_type": "execute_result",
          "data": {
            "text/html": [
              "<div>\n",
              "<style scoped>\n",
              "    .dataframe tbody tr th:only-of-type {\n",
              "        vertical-align: middle;\n",
              "    }\n",
              "\n",
              "    .dataframe tbody tr th {\n",
              "        vertical-align: top;\n",
              "    }\n",
              "\n",
              "    .dataframe thead th {\n",
              "        text-align: right;\n",
              "    }\n",
              "</style>\n",
              "<table border=\"1\" class=\"dataframe\">\n",
              "  <thead>\n",
              "    <tr style=\"text-align: right;\">\n",
              "      <th></th>\n",
              "      <th>gender</th>\n",
              "      <th>cust_id</th>\n",
              "      <th>total_purchase</th>\n",
              "      <th>max_purchace</th>\n",
              "      <th>refund</th>\n",
              "      <th>visit</th>\n",
              "      <th>purchace_per_visit</th>\n",
              "      <th>weekend_visit_ratio</th>\n",
              "      <th>purchace_period</th>\n",
              "    </tr>\n",
              "  </thead>\n",
              "  <tbody>\n",
              "    <tr>\n",
              "      <th>count</th>\n",
              "      <td>3497.000000</td>\n",
              "      <td>3497.00000</td>\n",
              "      <td>3.497000e+03</td>\n",
              "      <td>3.497000e+03</td>\n",
              "      <td>3.497000e+03</td>\n",
              "      <td>3497.000000</td>\n",
              "      <td>3497.000000</td>\n",
              "      <td>3497.000000</td>\n",
              "      <td>3497.000000</td>\n",
              "    </tr>\n",
              "    <tr>\n",
              "      <th>mean</th>\n",
              "      <td>0.376323</td>\n",
              "      <td>1748.62139</td>\n",
              "      <td>9.201936e+07</td>\n",
              "      <td>1.965454e+07</td>\n",
              "      <td>8.116796e+06</td>\n",
              "      <td>19.255934</td>\n",
              "      <td>2.835534</td>\n",
              "      <td>0.307344</td>\n",
              "      <td>20.968544</td>\n",
              "    </tr>\n",
              "    <tr>\n",
              "      <th>std</th>\n",
              "      <td>0.484532</td>\n",
              "      <td>1010.22432</td>\n",
              "      <td>1.635398e+08</td>\n",
              "      <td>3.198607e+07</td>\n",
              "      <td>2.875541e+07</td>\n",
              "      <td>27.184112</td>\n",
              "      <td>1.912509</td>\n",
              "      <td>0.289827</td>\n",
              "      <td>24.756044</td>\n",
              "    </tr>\n",
              "    <tr>\n",
              "      <th>min</th>\n",
              "      <td>0.000000</td>\n",
              "      <td>0.00000</td>\n",
              "      <td>0.000000e+00</td>\n",
              "      <td>5.000000e+03</td>\n",
              "      <td>0.000000e+00</td>\n",
              "      <td>1.000000</td>\n",
              "      <td>1.000000</td>\n",
              "      <td>0.000000</td>\n",
              "      <td>0.000000</td>\n",
              "    </tr>\n",
              "    <tr>\n",
              "      <th>25%</th>\n",
              "      <td>0.000000</td>\n",
              "      <td>874.00000</td>\n",
              "      <td>4.770000e+06</td>\n",
              "      <td>2.875000e+06</td>\n",
              "      <td>0.000000e+00</td>\n",
              "      <td>2.000000</td>\n",
              "      <td>1.666667</td>\n",
              "      <td>0.027778</td>\n",
              "      <td>4.000000</td>\n",
              "    </tr>\n",
              "    <tr>\n",
              "      <th>50%</th>\n",
              "      <td>0.000000</td>\n",
              "      <td>1749.00000</td>\n",
              "      <td>2.827300e+07</td>\n",
              "      <td>9.834000e+06</td>\n",
              "      <td>0.000000e+00</td>\n",
              "      <td>8.000000</td>\n",
              "      <td>2.333333</td>\n",
              "      <td>0.256410</td>\n",
              "      <td>13.000000</td>\n",
              "    </tr>\n",
              "    <tr>\n",
              "      <th>75%</th>\n",
              "      <td>1.000000</td>\n",
              "      <td>2623.00000</td>\n",
              "      <td>1.068040e+08</td>\n",
              "      <td>2.295000e+07</td>\n",
              "      <td>2.576000e+06</td>\n",
              "      <td>25.000000</td>\n",
              "      <td>3.375000</td>\n",
              "      <td>0.448980</td>\n",
              "      <td>28.000000</td>\n",
              "    </tr>\n",
              "    <tr>\n",
              "      <th>max</th>\n",
              "      <td>1.000000</td>\n",
              "      <td>3499.00000</td>\n",
              "      <td>2.323180e+09</td>\n",
              "      <td>7.066290e+08</td>\n",
              "      <td>5.637530e+08</td>\n",
              "      <td>285.000000</td>\n",
              "      <td>22.083333</td>\n",
              "      <td>1.000000</td>\n",
              "      <td>166.000000</td>\n",
              "    </tr>\n",
              "  </tbody>\n",
              "</table>\n",
              "</div>"
            ],
            "text/plain": [
              "            gender     cust_id  ...  weekend_visit_ratio  purchace_period\n",
              "count  3497.000000  3497.00000  ...          3497.000000      3497.000000\n",
              "mean      0.376323  1748.62139  ...             0.307344        20.968544\n",
              "std       0.484532  1010.22432  ...             0.289827        24.756044\n",
              "min       0.000000     0.00000  ...             0.000000         0.000000\n",
              "25%       0.000000   874.00000  ...             0.027778         4.000000\n",
              "50%       0.000000  1749.00000  ...             0.256410        13.000000\n",
              "75%       1.000000  2623.00000  ...             0.448980        28.000000\n",
              "max       1.000000  3499.00000  ...             1.000000       166.000000\n",
              "\n",
              "[8 rows x 9 columns]"
            ]
          },
          "metadata": {
            "tags": []
          },
          "execution_count": 164
        }
      ]
    },
    {
      "cell_type": "markdown",
      "metadata": {
        "id": "KQojyWPF8xek"
      },
      "source": [
        "total_purchase의 IQR를 넘는 이상치는 제거"
      ]
    },
    {
      "cell_type": "code",
      "metadata": {
        "id": "Hzj4a2qg8xAT"
      },
      "source": [
        "Q1 = x_train_raw['total_purchase'].quantile(0.25)\n",
        "Q3 = x_train_raw['total_purchase'].quantile(0.75)\n",
        "IQR = Q3 - Q1\n",
        "x_train_raw = x_train_raw[~(x_train_raw['total_purchase'] > (1.5 * Q3))]"
      ],
      "execution_count": 165,
      "outputs": []
    },
    {
      "cell_type": "markdown",
      "metadata": {
        "id": "vbtPvK6LFa2y"
      },
      "source": [
        "refund의 시각적 이상치 제거"
      ]
    },
    {
      "cell_type": "code",
      "metadata": {
        "id": "Xttqw2w2-fWj"
      },
      "source": [
        "x_train_raw = x_train_raw[~(x_train_raw['refund'] > 1.75e+8)]"
      ],
      "execution_count": 166,
      "outputs": []
    },
    {
      "cell_type": "code",
      "metadata": {
        "colab": {
          "base_uri": "https://localhost:8080/",
          "height": 1000
        },
        "id": "_LEsE2UNFhm5",
        "outputId": "02a0a6c3-863e-47fc-8407-0e4bfa26e308"
      },
      "source": [
        "x_train_raw.boxplot(figsize=(20, 20))"
      ],
      "execution_count": 167,
      "outputs": [
        {
          "output_type": "execute_result",
          "data": {
            "text/plain": [
              "<matplotlib.axes._subplots.AxesSubplot at 0x7f9dac733a10>"
            ]
          },
          "metadata": {
            "tags": []
          },
          "execution_count": 167
        },
        {
          "output_type": "display_data",
          "data": {
            "image/png": "[encoded data removed]",
            "text/plain": [
              "<Figure size 1440x1440 with 1 Axes>"
            ]
          },
          "metadata": {
            "tags": [],
            "needs_background": "light"
          }
        }
      ]
    },
    {
      "cell_type": "markdown",
      "metadata": {
        "id": "US1jt9x3Fv5a"
      },
      "source": [
        "상관계수 확인"
      ]
    },
    {
      "cell_type": "code",
      "metadata": {
        "colab": {
          "base_uri": "https://localhost:8080/",
          "height": 318
        },
        "id": "9ZgkqB9ww1g0",
        "outputId": "7cfad90d-2b7d-40b2-c35b-ac40f0e47942"
      },
      "source": [
        "x_train_raw.corr()"
      ],
      "execution_count": 168,
      "outputs": [
        {
          "output_type": "execute_result",
          "data": {
            "text/html": [
              "<div>\n",
              "<style scoped>\n",
              "    .dataframe tbody tr th:only-of-type {\n",
              "        vertical-align: middle;\n",
              "    }\n",
              "\n",
              "    .dataframe tbody tr th {\n",
              "        vertical-align: top;\n",
              "    }\n",
              "\n",
              "    .dataframe thead th {\n",
              "        text-align: right;\n",
              "    }\n",
              "</style>\n",
              "<table border=\"1\" class=\"dataframe\">\n",
              "  <thead>\n",
              "    <tr style=\"text-align: right;\">\n",
              "      <th></th>\n",
              "      <th>gender</th>\n",
              "      <th>cust_id</th>\n",
              "      <th>total_purchase</th>\n",
              "      <th>max_purchace</th>\n",
              "      <th>refund</th>\n",
              "      <th>visit</th>\n",
              "      <th>purchace_per_visit</th>\n",
              "      <th>weekend_visit_ratio</th>\n",
              "      <th>purchace_period</th>\n",
              "    </tr>\n",
              "  </thead>\n",
              "  <tbody>\n",
              "    <tr>\n",
              "      <th>gender</th>\n",
              "      <td>1.000000</td>\n",
              "      <td>-0.001349</td>\n",
              "      <td>-0.142451</td>\n",
              "      <td>-0.089917</td>\n",
              "      <td>-0.084031</td>\n",
              "      <td>-0.120665</td>\n",
              "      <td>-0.029419</td>\n",
              "      <td>0.067052</td>\n",
              "      <td>0.003022</td>\n",
              "    </tr>\n",
              "    <tr>\n",
              "      <th>cust_id</th>\n",
              "      <td>-0.001349</td>\n",
              "      <td>1.000000</td>\n",
              "      <td>-0.015194</td>\n",
              "      <td>0.003828</td>\n",
              "      <td>0.008175</td>\n",
              "      <td>-0.042428</td>\n",
              "      <td>-0.004443</td>\n",
              "      <td>-0.001786</td>\n",
              "      <td>0.019720</td>\n",
              "    </tr>\n",
              "    <tr>\n",
              "      <th>total_purchase</th>\n",
              "      <td>-0.142451</td>\n",
              "      <td>-0.015194</td>\n",
              "      <td>1.000000</td>\n",
              "      <td>0.671705</td>\n",
              "      <td>0.313885</td>\n",
              "      <td>0.604826</td>\n",
              "      <td>0.124758</td>\n",
              "      <td>0.022779</td>\n",
              "      <td>-0.110709</td>\n",
              "    </tr>\n",
              "    <tr>\n",
              "      <th>max_purchace</th>\n",
              "      <td>-0.089917</td>\n",
              "      <td>0.003828</td>\n",
              "      <td>0.671705</td>\n",
              "      <td>1.000000</td>\n",
              "      <td>0.413055</td>\n",
              "      <td>0.229128</td>\n",
              "      <td>-0.018843</td>\n",
              "      <td>0.021522</td>\n",
              "      <td>0.002039</td>\n",
              "    </tr>\n",
              "    <tr>\n",
              "      <th>refund</th>\n",
              "      <td>-0.084031</td>\n",
              "      <td>0.008175</td>\n",
              "      <td>0.313885</td>\n",
              "      <td>0.413055</td>\n",
              "      <td>1.000000</td>\n",
              "      <td>0.273126</td>\n",
              "      <td>-0.001308</td>\n",
              "      <td>-0.002403</td>\n",
              "      <td>-0.090270</td>\n",
              "    </tr>\n",
              "    <tr>\n",
              "      <th>visit</th>\n",
              "      <td>-0.120665</td>\n",
              "      <td>-0.042428</td>\n",
              "      <td>0.604826</td>\n",
              "      <td>0.229128</td>\n",
              "      <td>0.273126</td>\n",
              "      <td>1.000000</td>\n",
              "      <td>0.214806</td>\n",
              "      <td>-0.004990</td>\n",
              "      <td>-0.210926</td>\n",
              "    </tr>\n",
              "    <tr>\n",
              "      <th>purchace_per_visit</th>\n",
              "      <td>-0.029419</td>\n",
              "      <td>-0.004443</td>\n",
              "      <td>0.124758</td>\n",
              "      <td>-0.018843</td>\n",
              "      <td>-0.001308</td>\n",
              "      <td>0.214806</td>\n",
              "      <td>1.000000</td>\n",
              "      <td>0.006339</td>\n",
              "      <td>-0.071607</td>\n",
              "    </tr>\n",
              "    <tr>\n",
              "      <th>weekend_visit_ratio</th>\n",
              "      <td>0.067052</td>\n",
              "      <td>-0.001786</td>\n",
              "      <td>0.022779</td>\n",
              "      <td>0.021522</td>\n",
              "      <td>-0.002403</td>\n",
              "      <td>-0.004990</td>\n",
              "      <td>0.006339</td>\n",
              "      <td>1.000000</td>\n",
              "      <td>0.002076</td>\n",
              "    </tr>\n",
              "    <tr>\n",
              "      <th>purchace_period</th>\n",
              "      <td>0.003022</td>\n",
              "      <td>0.019720</td>\n",
              "      <td>-0.110709</td>\n",
              "      <td>0.002039</td>\n",
              "      <td>-0.090270</td>\n",
              "      <td>-0.210926</td>\n",
              "      <td>-0.071607</td>\n",
              "      <td>0.002076</td>\n",
              "      <td>1.000000</td>\n",
              "    </tr>\n",
              "  </tbody>\n",
              "</table>\n",
              "</div>"
            ],
            "text/plain": [
              "                       gender   cust_id  ...  weekend_visit_ratio  purchace_period\n",
              "gender               1.000000 -0.001349  ...             0.067052         0.003022\n",
              "cust_id             -0.001349  1.000000  ...            -0.001786         0.019720\n",
              "total_purchase      -0.142451 -0.015194  ...             0.022779        -0.110709\n",
              "max_purchace        -0.089917  0.003828  ...             0.021522         0.002039\n",
              "refund              -0.084031  0.008175  ...            -0.002403        -0.090270\n",
              "visit               -0.120665 -0.042428  ...            -0.004990        -0.210926\n",
              "purchace_per_visit  -0.029419 -0.004443  ...             0.006339        -0.071607\n",
              "weekend_visit_ratio  0.067052 -0.001786  ...             1.000000         0.002076\n",
              "purchace_period      0.003022  0.019720  ...             0.002076         1.000000\n",
              "\n",
              "[9 rows x 9 columns]"
            ]
          },
          "metadata": {
            "tags": []
          },
          "execution_count": 168
        }
      ]
    },
    {
      "cell_type": "markdown",
      "metadata": {
        "id": "6po_6s_gvhs9"
      },
      "source": [
        "총구매액, 최대구매액이 상관도가 높으나 0.9 이하는 제거하지 않기로 결정."
      ]
    },
    {
      "cell_type": "code",
      "metadata": {
        "colab": {
          "base_uri": "https://localhost:8080/",
          "height": 1000
        },
        "id": "XfX4vWma4ztP",
        "outputId": "762eef04-d47c-402a-bbfc-6c46c51d6d01"
      },
      "source": [
        "x_train_raw.hist(figsize = (20, 20), bins = 50)"
      ],
      "execution_count": 169,
      "outputs": [
        {
          "output_type": "execute_result",
          "data": {
            "text/plain": [
              "array([[<matplotlib.axes._subplots.AxesSubplot object at 0x7f9dac6bf050>,\n",
              "        <matplotlib.axes._subplots.AxesSubplot object at 0x7f9dac672f90>,\n",
              "        <matplotlib.axes._subplots.AxesSubplot object at 0x7f9dac633450>],\n",
              "       [<matplotlib.axes._subplots.AxesSubplot object at 0x7f9dac5689d0>,\n",
              "        <matplotlib.axes._subplots.AxesSubplot object at 0x7f9dac51ff50>,\n",
              "        <matplotlib.axes._subplots.AxesSubplot object at 0x7f9dac4e0510>],\n",
              "       [<matplotlib.axes._subplots.AxesSubplot object at 0x7f9dac496b10>,\n",
              "        <matplotlib.axes._subplots.AxesSubplot object at 0x7f9dac44dfd0>,\n",
              "        <matplotlib.axes._subplots.AxesSubplot object at 0x7f9dac459050>]],\n",
              "      dtype=object)"
            ]
          },
          "metadata": {
            "tags": []
          },
          "execution_count": 169
        },
        {
          "output_type": "display_data",
          "data": {
            "image/png": "[encoded data removed]",
            "text/plain": [
              "<Figure size 1440x1440 with 9 Axes>"
            ]
          },
          "metadata": {
            "tags": [],
            "needs_background": "light"
          }
        }
      ]
    },
    {
      "cell_type": "code",
      "metadata": {
        "colab": {
          "base_uri": "https://localhost:8080/"
        },
        "id": "PUz8wivIjCCt",
        "outputId": "a939b78c-b950-40fc-fca2-fb1eed4c5eb9"
      },
      "source": [
        "x_train_raw['main_merch'].value_counts()"
      ],
      "execution_count": 170,
      "outputs": [
        {
          "output_type": "execute_result",
          "data": {
            "text/plain": [
              "가공식품      467\n",
              "기타        430\n",
              "농산물       255\n",
              "화장품       222\n",
              "시티웨어      184\n",
              "수산품       143\n",
              "디자이너      100\n",
              "섬유잡화       96\n",
              "캐주얼        82\n",
              "일용잡화       63\n",
              "명품         62\n",
              "스포츠        60\n",
              "골프         58\n",
              "육류         56\n",
              "모피/피혁      56\n",
              "구두         52\n",
              "남성 캐주얼     52\n",
              "건강식품       46\n",
              "차/커피       40\n",
              "피혁잡화       39\n",
              "축산가공       34\n",
              "아동         31\n",
              "주방용품       30\n",
              "셔츠         30\n",
              "젓갈/반찬      29\n",
              "주방가전       25\n",
              "남성정장       22\n",
              "트래디셔널      20\n",
              "생활잡화       15\n",
              "주류         13\n",
              "가구         10\n",
              "커리어         8\n",
              "대형가전        7\n",
              "란제리/내의      7\n",
              "식기          6\n",
              "액세서리        5\n",
              "보석          3\n",
              "침구/수예       3\n",
              "통신/컴퓨터      3\n",
              "소형가전        2\n",
              "악기          2\n",
              "남성 트랜디      1\n",
              "Name: main_merch, dtype: int64"
            ]
          },
          "metadata": {
            "tags": []
          },
          "execution_count": 170
        }
      ]
    },
    {
      "cell_type": "code",
      "metadata": {
        "colab": {
          "base_uri": "https://localhost:8080/"
        },
        "id": "wZe1ziJdjhnU",
        "outputId": "418e77f2-b0a8-4023-d531-dd0375fec892"
      },
      "source": [
        "x_train_raw['main_office'].value_counts()"
      ],
      "execution_count": 171,
      "outputs": [
        {
          "output_type": "execute_result",
          "data": {
            "text/plain": [
              "본  점     860\n",
              "잠실점      406\n",
              "분당점      372\n",
              "영등포점     214\n",
              "부산본점     205\n",
              "일산점      147\n",
              "강남점      132\n",
              "청량리점      76\n",
              "노원점       75\n",
              "광주점       74\n",
              "미아점       60\n",
              "대전점       50\n",
              "부평점       45\n",
              "관악점       37\n",
              "동래점       36\n",
              "안양점       26\n",
              "인천점       21\n",
              "포항점        9\n",
              "센텀시티점      6\n",
              "전주점        5\n",
              "대구점        5\n",
              "창원점        4\n",
              "울산점        4\n",
              "Name: main_office, dtype: int64"
            ]
          },
          "metadata": {
            "tags": []
          },
          "execution_count": 171
        }
      ]
    },
    {
      "cell_type": "markdown",
      "metadata": {
        "id": "NX2-H0UykM8Y"
      },
      "source": [
        "파생변수 창출"
      ]
    },
    {
      "cell_type": "code",
      "metadata": {
        "id": "XOiov-2uvohd"
      },
      "source": [
        "is_man = ['스포츠', '골프', '남성 캐주얼', '남성정장', '남성 트렌디', '시티웨어']"
      ],
      "execution_count": 211,
      "outputs": []
    },
    {
      "cell_type": "code",
      "metadata": {
        "id": "GqJqQbY-WAhH"
      },
      "source": [
        "x_train_raw['isman'] = [0 if x in is_man else 1 for x in x_train_raw['main_merch']]"
      ],
      "execution_count": 212,
      "outputs": []
    },
    {
      "cell_type": "code",
      "metadata": {
        "id": "eUySq9EaVKn_"
      },
      "source": [
        "x_train_raw['weekend'] = [1 if x >= 0.8 else 0 for x in x_train_raw['weekend_visit_ratio']]"
      ],
      "execution_count": 221,
      "outputs": []
    },
    {
      "cell_type": "code",
      "metadata": {
        "colab": {
          "base_uri": "https://localhost:8080/",
          "height": 378
        },
        "id": "KlNjaXVeVyin",
        "outputId": "4e85916d-fc6f-4aa8-db0f-0ecd4a86fc9e"
      },
      "source": [
        "x_train_raw.corr()"
      ],
      "execution_count": 222,
      "outputs": [
        {
          "output_type": "execute_result",
          "data": {
            "text/html": [
              "<div>\n",
              "<style scoped>\n",
              "    .dataframe tbody tr th:only-of-type {\n",
              "        vertical-align: middle;\n",
              "    }\n",
              "\n",
              "    .dataframe tbody tr th {\n",
              "        vertical-align: top;\n",
              "    }\n",
              "\n",
              "    .dataframe thead th {\n",
              "        text-align: right;\n",
              "    }\n",
              "</style>\n",
              "<table border=\"1\" class=\"dataframe\">\n",
              "  <thead>\n",
              "    <tr style=\"text-align: right;\">\n",
              "      <th></th>\n",
              "      <th>gender</th>\n",
              "      <th>cust_id</th>\n",
              "      <th>total_purchase</th>\n",
              "      <th>max_purchace</th>\n",
              "      <th>refund</th>\n",
              "      <th>visit</th>\n",
              "      <th>purchace_per_visit</th>\n",
              "      <th>weekend_visit_ratio</th>\n",
              "      <th>purchace_period</th>\n",
              "      <th>weekend</th>\n",
              "      <th>isman</th>\n",
              "    </tr>\n",
              "  </thead>\n",
              "  <tbody>\n",
              "    <tr>\n",
              "      <th>gender</th>\n",
              "      <td>1.000000</td>\n",
              "      <td>-0.001349</td>\n",
              "      <td>-0.142451</td>\n",
              "      <td>-0.089917</td>\n",
              "      <td>-0.084031</td>\n",
              "      <td>-0.120665</td>\n",
              "      <td>-0.029419</td>\n",
              "      <td>0.067052</td>\n",
              "      <td>0.003022</td>\n",
              "      <td>0.102007</td>\n",
              "      <td>-0.025931</td>\n",
              "    </tr>\n",
              "    <tr>\n",
              "      <th>cust_id</th>\n",
              "      <td>-0.001349</td>\n",
              "      <td>1.000000</td>\n",
              "      <td>-0.015194</td>\n",
              "      <td>0.003828</td>\n",
              "      <td>0.008175</td>\n",
              "      <td>-0.042428</td>\n",
              "      <td>-0.004443</td>\n",
              "      <td>-0.001786</td>\n",
              "      <td>0.019720</td>\n",
              "      <td>-0.004210</td>\n",
              "      <td>-0.003460</td>\n",
              "    </tr>\n",
              "    <tr>\n",
              "      <th>total_purchase</th>\n",
              "      <td>-0.142451</td>\n",
              "      <td>-0.015194</td>\n",
              "      <td>1.000000</td>\n",
              "      <td>0.671705</td>\n",
              "      <td>0.313885</td>\n",
              "      <td>0.604826</td>\n",
              "      <td>0.124758</td>\n",
              "      <td>0.022779</td>\n",
              "      <td>-0.110709</td>\n",
              "      <td>-0.191443</td>\n",
              "      <td>0.029623</td>\n",
              "    </tr>\n",
              "    <tr>\n",
              "      <th>max_purchace</th>\n",
              "      <td>-0.089917</td>\n",
              "      <td>0.003828</td>\n",
              "      <td>0.671705</td>\n",
              "      <td>1.000000</td>\n",
              "      <td>0.413055</td>\n",
              "      <td>0.229128</td>\n",
              "      <td>-0.018843</td>\n",
              "      <td>0.021522</td>\n",
              "      <td>0.002039</td>\n",
              "      <td>-0.118111</td>\n",
              "      <td>-0.019909</td>\n",
              "    </tr>\n",
              "    <tr>\n",
              "      <th>refund</th>\n",
              "      <td>-0.084031</td>\n",
              "      <td>0.008175</td>\n",
              "      <td>0.313885</td>\n",
              "      <td>0.413055</td>\n",
              "      <td>1.000000</td>\n",
              "      <td>0.273126</td>\n",
              "      <td>-0.001308</td>\n",
              "      <td>-0.002403</td>\n",
              "      <td>-0.090270</td>\n",
              "      <td>-0.079442</td>\n",
              "      <td>-0.007380</td>\n",
              "    </tr>\n",
              "    <tr>\n",
              "      <th>visit</th>\n",
              "      <td>-0.120665</td>\n",
              "      <td>-0.042428</td>\n",
              "      <td>0.604826</td>\n",
              "      <td>0.229128</td>\n",
              "      <td>0.273126</td>\n",
              "      <td>1.000000</td>\n",
              "      <td>0.214806</td>\n",
              "      <td>-0.004990</td>\n",
              "      <td>-0.210926</td>\n",
              "      <td>-0.176888</td>\n",
              "      <td>0.115754</td>\n",
              "    </tr>\n",
              "    <tr>\n",
              "      <th>purchace_per_visit</th>\n",
              "      <td>-0.029419</td>\n",
              "      <td>-0.004443</td>\n",
              "      <td>0.124758</td>\n",
              "      <td>-0.018843</td>\n",
              "      <td>-0.001308</td>\n",
              "      <td>0.214806</td>\n",
              "      <td>1.000000</td>\n",
              "      <td>0.006339</td>\n",
              "      <td>-0.071607</td>\n",
              "      <td>-0.027422</td>\n",
              "      <td>0.176509</td>\n",
              "    </tr>\n",
              "    <tr>\n",
              "      <th>weekend_visit_ratio</th>\n",
              "      <td>0.067052</td>\n",
              "      <td>-0.001786</td>\n",
              "      <td>0.022779</td>\n",
              "      <td>0.021522</td>\n",
              "      <td>-0.002403</td>\n",
              "      <td>-0.004990</td>\n",
              "      <td>0.006339</td>\n",
              "      <td>1.000000</td>\n",
              "      <td>0.002076</td>\n",
              "      <td>0.745676</td>\n",
              "      <td>0.014956</td>\n",
              "    </tr>\n",
              "    <tr>\n",
              "      <th>purchace_period</th>\n",
              "      <td>0.003022</td>\n",
              "      <td>0.019720</td>\n",
              "      <td>-0.110709</td>\n",
              "      <td>0.002039</td>\n",
              "      <td>-0.090270</td>\n",
              "      <td>-0.210926</td>\n",
              "      <td>-0.071607</td>\n",
              "      <td>0.002076</td>\n",
              "      <td>1.000000</td>\n",
              "      <td>-0.094707</td>\n",
              "      <td>0.001997</td>\n",
              "    </tr>\n",
              "    <tr>\n",
              "      <th>weekend</th>\n",
              "      <td>0.102007</td>\n",
              "      <td>-0.004210</td>\n",
              "      <td>-0.191443</td>\n",
              "      <td>-0.118111</td>\n",
              "      <td>-0.079442</td>\n",
              "      <td>-0.176888</td>\n",
              "      <td>-0.027422</td>\n",
              "      <td>0.745676</td>\n",
              "      <td>-0.094707</td>\n",
              "      <td>1.000000</td>\n",
              "      <td>-0.027387</td>\n",
              "    </tr>\n",
              "    <tr>\n",
              "      <th>isman</th>\n",
              "      <td>-0.025931</td>\n",
              "      <td>-0.003460</td>\n",
              "      <td>0.029623</td>\n",
              "      <td>-0.019909</td>\n",
              "      <td>-0.007380</td>\n",
              "      <td>0.115754</td>\n",
              "      <td>0.176509</td>\n",
              "      <td>0.014956</td>\n",
              "      <td>0.001997</td>\n",
              "      <td>-0.027387</td>\n",
              "      <td>1.000000</td>\n",
              "    </tr>\n",
              "  </tbody>\n",
              "</table>\n",
              "</div>"
            ],
            "text/plain": [
              "                       gender   cust_id  ...   weekend     isman\n",
              "gender               1.000000 -0.001349  ...  0.102007 -0.025931\n",
              "cust_id             -0.001349  1.000000  ... -0.004210 -0.003460\n",
              "total_purchase      -0.142451 -0.015194  ... -0.191443  0.029623\n",
              "max_purchace        -0.089917  0.003828  ... -0.118111 -0.019909\n",
              "refund              -0.084031  0.008175  ... -0.079442 -0.007380\n",
              "visit               -0.120665 -0.042428  ... -0.176888  0.115754\n",
              "purchace_per_visit  -0.029419 -0.004443  ... -0.027422  0.176509\n",
              "weekend_visit_ratio  0.067052 -0.001786  ...  0.745676  0.014956\n",
              "purchace_period      0.003022  0.019720  ... -0.094707  0.001997\n",
              "weekend              0.102007 -0.004210  ...  1.000000 -0.027387\n",
              "isman               -0.025931 -0.003460  ... -0.027387  1.000000\n",
              "\n",
              "[11 rows x 11 columns]"
            ]
          },
          "metadata": {
            "tags": []
          },
          "execution_count": 222
        }
      ]
    },
    {
      "cell_type": "code",
      "metadata": {
        "id": "vebjIYpeXYeH"
      },
      "source": [
        "dummy_main_merch = pd.get_dummies(x_train_raw['main_merch'])"
      ],
      "execution_count": 224,
      "outputs": []
    },
    {
      "cell_type": "code",
      "metadata": {
        "id": "D-ci11Gjrt4z"
      },
      "source": [
        "x_train_raw = pd.concat([x_train_raw, dummy_main_merch], axis = 1)"
      ],
      "execution_count": 225,
      "outputs": []
    },
    {
      "cell_type": "code",
      "metadata": {
        "id": "vl-F-NFNxFaG"
      },
      "source": [
        "x_train_raw = x_train_raw.drop(['main_merch', 'main_office', 'isman', 'purchace_per_visit'], axis = 1)"
      ],
      "execution_count": 226,
      "outputs": []
    },
    {
      "cell_type": "code",
      "metadata": {
        "colab": {
          "base_uri": "https://localhost:8080/",
          "height": 496
        },
        "id": "COLliBmCxIOH",
        "outputId": "6607f47a-b3eb-4ddd-b9ff-fd3e60797ee8"
      },
      "source": [
        "x_train_raw"
      ],
      "execution_count": 227,
      "outputs": [
        {
          "output_type": "execute_result",
          "data": {
            "text/html": [
              "<div>\n",
              "<style scoped>\n",
              "    .dataframe tbody tr th:only-of-type {\n",
              "        vertical-align: middle;\n",
              "    }\n",
              "\n",
              "    .dataframe tbody tr th {\n",
              "        vertical-align: top;\n",
              "    }\n",
              "\n",
              "    .dataframe thead th {\n",
              "        text-align: right;\n",
              "    }\n",
              "</style>\n",
              "<table border=\"1\" class=\"dataframe\">\n",
              "  <thead>\n",
              "    <tr style=\"text-align: right;\">\n",
              "      <th></th>\n",
              "      <th>gender</th>\n",
              "      <th>cust_id</th>\n",
              "      <th>total_purchase</th>\n",
              "      <th>max_purchace</th>\n",
              "      <th>refund</th>\n",
              "      <th>visit</th>\n",
              "      <th>weekend_visit_ratio</th>\n",
              "      <th>purchace_period</th>\n",
              "      <th>weekend</th>\n",
              "      <th>가공식품</th>\n",
              "      <th>가구</th>\n",
              "      <th>건강식품</th>\n",
              "      <th>골프</th>\n",
              "      <th>구두</th>\n",
              "      <th>기타</th>\n",
              "      <th>남성 캐주얼</th>\n",
              "      <th>남성 트랜디</th>\n",
              "      <th>남성정장</th>\n",
              "      <th>농산물</th>\n",
              "      <th>대형가전</th>\n",
              "      <th>디자이너</th>\n",
              "      <th>란제리/내의</th>\n",
              "      <th>명품</th>\n",
              "      <th>모피/피혁</th>\n",
              "      <th>보석</th>\n",
              "      <th>생활잡화</th>\n",
              "      <th>섬유잡화</th>\n",
              "      <th>셔츠</th>\n",
              "      <th>소형가전</th>\n",
              "      <th>수산품</th>\n",
              "      <th>스포츠</th>\n",
              "      <th>시티웨어</th>\n",
              "      <th>식기</th>\n",
              "      <th>아동</th>\n",
              "      <th>악기</th>\n",
              "      <th>액세서리</th>\n",
              "      <th>육류</th>\n",
              "      <th>일용잡화</th>\n",
              "      <th>젓갈/반찬</th>\n",
              "      <th>주류</th>\n",
              "      <th>주방가전</th>\n",
              "      <th>주방용품</th>\n",
              "      <th>차/커피</th>\n",
              "      <th>축산가공</th>\n",
              "      <th>침구/수예</th>\n",
              "      <th>캐주얼</th>\n",
              "      <th>커리어</th>\n",
              "      <th>통신/컴퓨터</th>\n",
              "      <th>트래디셔널</th>\n",
              "      <th>피혁잡화</th>\n",
              "      <th>화장품</th>\n",
              "    </tr>\n",
              "  </thead>\n",
              "  <tbody>\n",
              "    <tr>\n",
              "      <th>0</th>\n",
              "      <td>0</td>\n",
              "      <td>0</td>\n",
              "      <td>68282840</td>\n",
              "      <td>11264000</td>\n",
              "      <td>6860000.0</td>\n",
              "      <td>19</td>\n",
              "      <td>0.527027</td>\n",
              "      <td>17</td>\n",
              "      <td>0</td>\n",
              "      <td>0</td>\n",
              "      <td>0</td>\n",
              "      <td>0</td>\n",
              "      <td>0</td>\n",
              "      <td>0</td>\n",
              "      <td>1</td>\n",
              "      <td>0</td>\n",
              "      <td>0</td>\n",
              "      <td>0</td>\n",
              "      <td>0</td>\n",
              "      <td>0</td>\n",
              "      <td>0</td>\n",
              "      <td>0</td>\n",
              "      <td>0</td>\n",
              "      <td>0</td>\n",
              "      <td>0</td>\n",
              "      <td>0</td>\n",
              "      <td>0</td>\n",
              "      <td>0</td>\n",
              "      <td>0</td>\n",
              "      <td>0</td>\n",
              "      <td>0</td>\n",
              "      <td>0</td>\n",
              "      <td>0</td>\n",
              "      <td>0</td>\n",
              "      <td>0</td>\n",
              "      <td>0</td>\n",
              "      <td>0</td>\n",
              "      <td>0</td>\n",
              "      <td>0</td>\n",
              "      <td>0</td>\n",
              "      <td>0</td>\n",
              "      <td>0</td>\n",
              "      <td>0</td>\n",
              "      <td>0</td>\n",
              "      <td>0</td>\n",
              "      <td>0</td>\n",
              "      <td>0</td>\n",
              "      <td>0</td>\n",
              "      <td>0</td>\n",
              "      <td>0</td>\n",
              "      <td>0</td>\n",
              "    </tr>\n",
              "    <tr>\n",
              "      <th>1</th>\n",
              "      <td>0</td>\n",
              "      <td>1</td>\n",
              "      <td>2136000</td>\n",
              "      <td>2136000</td>\n",
              "      <td>300000.0</td>\n",
              "      <td>2</td>\n",
              "      <td>0.000000</td>\n",
              "      <td>1</td>\n",
              "      <td>0</td>\n",
              "      <td>0</td>\n",
              "      <td>0</td>\n",
              "      <td>0</td>\n",
              "      <td>0</td>\n",
              "      <td>0</td>\n",
              "      <td>0</td>\n",
              "      <td>0</td>\n",
              "      <td>0</td>\n",
              "      <td>0</td>\n",
              "      <td>0</td>\n",
              "      <td>0</td>\n",
              "      <td>0</td>\n",
              "      <td>0</td>\n",
              "      <td>0</td>\n",
              "      <td>0</td>\n",
              "      <td>0</td>\n",
              "      <td>0</td>\n",
              "      <td>0</td>\n",
              "      <td>0</td>\n",
              "      <td>0</td>\n",
              "      <td>0</td>\n",
              "      <td>1</td>\n",
              "      <td>0</td>\n",
              "      <td>0</td>\n",
              "      <td>0</td>\n",
              "      <td>0</td>\n",
              "      <td>0</td>\n",
              "      <td>0</td>\n",
              "      <td>0</td>\n",
              "      <td>0</td>\n",
              "      <td>0</td>\n",
              "      <td>0</td>\n",
              "      <td>0</td>\n",
              "      <td>0</td>\n",
              "      <td>0</td>\n",
              "      <td>0</td>\n",
              "      <td>0</td>\n",
              "      <td>0</td>\n",
              "      <td>0</td>\n",
              "      <td>0</td>\n",
              "      <td>0</td>\n",
              "      <td>0</td>\n",
              "    </tr>\n",
              "    <tr>\n",
              "      <th>2</th>\n",
              "      <td>1</td>\n",
              "      <td>2</td>\n",
              "      <td>3197000</td>\n",
              "      <td>1639000</td>\n",
              "      <td>0.0</td>\n",
              "      <td>2</td>\n",
              "      <td>0.000000</td>\n",
              "      <td>1</td>\n",
              "      <td>0</td>\n",
              "      <td>0</td>\n",
              "      <td>0</td>\n",
              "      <td>0</td>\n",
              "      <td>0</td>\n",
              "      <td>0</td>\n",
              "      <td>0</td>\n",
              "      <td>1</td>\n",
              "      <td>0</td>\n",
              "      <td>0</td>\n",
              "      <td>0</td>\n",
              "      <td>0</td>\n",
              "      <td>0</td>\n",
              "      <td>0</td>\n",
              "      <td>0</td>\n",
              "      <td>0</td>\n",
              "      <td>0</td>\n",
              "      <td>0</td>\n",
              "      <td>0</td>\n",
              "      <td>0</td>\n",
              "      <td>0</td>\n",
              "      <td>0</td>\n",
              "      <td>0</td>\n",
              "      <td>0</td>\n",
              "      <td>0</td>\n",
              "      <td>0</td>\n",
              "      <td>0</td>\n",
              "      <td>0</td>\n",
              "      <td>0</td>\n",
              "      <td>0</td>\n",
              "      <td>0</td>\n",
              "      <td>0</td>\n",
              "      <td>0</td>\n",
              "      <td>0</td>\n",
              "      <td>0</td>\n",
              "      <td>0</td>\n",
              "      <td>0</td>\n",
              "      <td>0</td>\n",
              "      <td>0</td>\n",
              "      <td>0</td>\n",
              "      <td>0</td>\n",
              "      <td>0</td>\n",
              "      <td>0</td>\n",
              "    </tr>\n",
              "    <tr>\n",
              "      <th>3</th>\n",
              "      <td>1</td>\n",
              "      <td>3</td>\n",
              "      <td>16077620</td>\n",
              "      <td>4935000</td>\n",
              "      <td>0.0</td>\n",
              "      <td>18</td>\n",
              "      <td>0.318182</td>\n",
              "      <td>16</td>\n",
              "      <td>0</td>\n",
              "      <td>0</td>\n",
              "      <td>0</td>\n",
              "      <td>0</td>\n",
              "      <td>0</td>\n",
              "      <td>0</td>\n",
              "      <td>1</td>\n",
              "      <td>0</td>\n",
              "      <td>0</td>\n",
              "      <td>0</td>\n",
              "      <td>0</td>\n",
              "      <td>0</td>\n",
              "      <td>0</td>\n",
              "      <td>0</td>\n",
              "      <td>0</td>\n",
              "      <td>0</td>\n",
              "      <td>0</td>\n",
              "      <td>0</td>\n",
              "      <td>0</td>\n",
              "      <td>0</td>\n",
              "      <td>0</td>\n",
              "      <td>0</td>\n",
              "      <td>0</td>\n",
              "      <td>0</td>\n",
              "      <td>0</td>\n",
              "      <td>0</td>\n",
              "      <td>0</td>\n",
              "      <td>0</td>\n",
              "      <td>0</td>\n",
              "      <td>0</td>\n",
              "      <td>0</td>\n",
              "      <td>0</td>\n",
              "      <td>0</td>\n",
              "      <td>0</td>\n",
              "      <td>0</td>\n",
              "      <td>0</td>\n",
              "      <td>0</td>\n",
              "      <td>0</td>\n",
              "      <td>0</td>\n",
              "      <td>0</td>\n",
              "      <td>0</td>\n",
              "      <td>0</td>\n",
              "      <td>0</td>\n",
              "    </tr>\n",
              "    <tr>\n",
              "      <th>4</th>\n",
              "      <td>0</td>\n",
              "      <td>4</td>\n",
              "      <td>29050000</td>\n",
              "      <td>24000000</td>\n",
              "      <td>0.0</td>\n",
              "      <td>2</td>\n",
              "      <td>0.000000</td>\n",
              "      <td>85</td>\n",
              "      <td>0</td>\n",
              "      <td>0</td>\n",
              "      <td>0</td>\n",
              "      <td>0</td>\n",
              "      <td>0</td>\n",
              "      <td>0</td>\n",
              "      <td>0</td>\n",
              "      <td>0</td>\n",
              "      <td>0</td>\n",
              "      <td>0</td>\n",
              "      <td>0</td>\n",
              "      <td>0</td>\n",
              "      <td>0</td>\n",
              "      <td>0</td>\n",
              "      <td>0</td>\n",
              "      <td>0</td>\n",
              "      <td>1</td>\n",
              "      <td>0</td>\n",
              "      <td>0</td>\n",
              "      <td>0</td>\n",
              "      <td>0</td>\n",
              "      <td>0</td>\n",
              "      <td>0</td>\n",
              "      <td>0</td>\n",
              "      <td>0</td>\n",
              "      <td>0</td>\n",
              "      <td>0</td>\n",
              "      <td>0</td>\n",
              "      <td>0</td>\n",
              "      <td>0</td>\n",
              "      <td>0</td>\n",
              "      <td>0</td>\n",
              "      <td>0</td>\n",
              "      <td>0</td>\n",
              "      <td>0</td>\n",
              "      <td>0</td>\n",
              "      <td>0</td>\n",
              "      <td>0</td>\n",
              "      <td>0</td>\n",
              "      <td>0</td>\n",
              "      <td>0</td>\n",
              "      <td>0</td>\n",
              "      <td>0</td>\n",
              "    </tr>\n",
              "    <tr>\n",
              "      <th>...</th>\n",
              "      <td>...</td>\n",
              "      <td>...</td>\n",
              "      <td>...</td>\n",
              "      <td>...</td>\n",
              "      <td>...</td>\n",
              "      <td>...</td>\n",
              "      <td>...</td>\n",
              "      <td>...</td>\n",
              "      <td>...</td>\n",
              "      <td>...</td>\n",
              "      <td>...</td>\n",
              "      <td>...</td>\n",
              "      <td>...</td>\n",
              "      <td>...</td>\n",
              "      <td>...</td>\n",
              "      <td>...</td>\n",
              "      <td>...</td>\n",
              "      <td>...</td>\n",
              "      <td>...</td>\n",
              "      <td>...</td>\n",
              "      <td>...</td>\n",
              "      <td>...</td>\n",
              "      <td>...</td>\n",
              "      <td>...</td>\n",
              "      <td>...</td>\n",
              "      <td>...</td>\n",
              "      <td>...</td>\n",
              "      <td>...</td>\n",
              "      <td>...</td>\n",
              "      <td>...</td>\n",
              "      <td>...</td>\n",
              "      <td>...</td>\n",
              "      <td>...</td>\n",
              "      <td>...</td>\n",
              "      <td>...</td>\n",
              "      <td>...</td>\n",
              "      <td>...</td>\n",
              "      <td>...</td>\n",
              "      <td>...</td>\n",
              "      <td>...</td>\n",
              "      <td>...</td>\n",
              "      <td>...</td>\n",
              "      <td>...</td>\n",
              "      <td>...</td>\n",
              "      <td>...</td>\n",
              "      <td>...</td>\n",
              "      <td>...</td>\n",
              "      <td>...</td>\n",
              "      <td>...</td>\n",
              "      <td>...</td>\n",
              "      <td>...</td>\n",
              "    </tr>\n",
              "    <tr>\n",
              "      <th>3494</th>\n",
              "      <td>1</td>\n",
              "      <td>3494</td>\n",
              "      <td>95835000</td>\n",
              "      <td>81650000</td>\n",
              "      <td>0.0</td>\n",
              "      <td>7</td>\n",
              "      <td>0.111111</td>\n",
              "      <td>34</td>\n",
              "      <td>0</td>\n",
              "      <td>0</td>\n",
              "      <td>0</td>\n",
              "      <td>0</td>\n",
              "      <td>0</td>\n",
              "      <td>0</td>\n",
              "      <td>0</td>\n",
              "      <td>0</td>\n",
              "      <td>0</td>\n",
              "      <td>0</td>\n",
              "      <td>0</td>\n",
              "      <td>0</td>\n",
              "      <td>0</td>\n",
              "      <td>0</td>\n",
              "      <td>0</td>\n",
              "      <td>0</td>\n",
              "      <td>0</td>\n",
              "      <td>0</td>\n",
              "      <td>1</td>\n",
              "      <td>0</td>\n",
              "      <td>0</td>\n",
              "      <td>0</td>\n",
              "      <td>0</td>\n",
              "      <td>0</td>\n",
              "      <td>0</td>\n",
              "      <td>0</td>\n",
              "      <td>0</td>\n",
              "      <td>0</td>\n",
              "      <td>0</td>\n",
              "      <td>0</td>\n",
              "      <td>0</td>\n",
              "      <td>0</td>\n",
              "      <td>0</td>\n",
              "      <td>0</td>\n",
              "      <td>0</td>\n",
              "      <td>0</td>\n",
              "      <td>0</td>\n",
              "      <td>0</td>\n",
              "      <td>0</td>\n",
              "      <td>0</td>\n",
              "      <td>0</td>\n",
              "      <td>0</td>\n",
              "      <td>0</td>\n",
              "    </tr>\n",
              "    <tr>\n",
              "      <th>3495</th>\n",
              "      <td>1</td>\n",
              "      <td>3495</td>\n",
              "      <td>3175200</td>\n",
              "      <td>3042900</td>\n",
              "      <td>0.0</td>\n",
              "      <td>1</td>\n",
              "      <td>1.000000</td>\n",
              "      <td>0</td>\n",
              "      <td>1</td>\n",
              "      <td>0</td>\n",
              "      <td>0</td>\n",
              "      <td>0</td>\n",
              "      <td>1</td>\n",
              "      <td>0</td>\n",
              "      <td>0</td>\n",
              "      <td>0</td>\n",
              "      <td>0</td>\n",
              "      <td>0</td>\n",
              "      <td>0</td>\n",
              "      <td>0</td>\n",
              "      <td>0</td>\n",
              "      <td>0</td>\n",
              "      <td>0</td>\n",
              "      <td>0</td>\n",
              "      <td>0</td>\n",
              "      <td>0</td>\n",
              "      <td>0</td>\n",
              "      <td>0</td>\n",
              "      <td>0</td>\n",
              "      <td>0</td>\n",
              "      <td>0</td>\n",
              "      <td>0</td>\n",
              "      <td>0</td>\n",
              "      <td>0</td>\n",
              "      <td>0</td>\n",
              "      <td>0</td>\n",
              "      <td>0</td>\n",
              "      <td>0</td>\n",
              "      <td>0</td>\n",
              "      <td>0</td>\n",
              "      <td>0</td>\n",
              "      <td>0</td>\n",
              "      <td>0</td>\n",
              "      <td>0</td>\n",
              "      <td>0</td>\n",
              "      <td>0</td>\n",
              "      <td>0</td>\n",
              "      <td>0</td>\n",
              "      <td>0</td>\n",
              "      <td>0</td>\n",
              "      <td>0</td>\n",
              "    </tr>\n",
              "    <tr>\n",
              "      <th>3496</th>\n",
              "      <td>1</td>\n",
              "      <td>3496</td>\n",
              "      <td>29628600</td>\n",
              "      <td>7200000</td>\n",
              "      <td>6049600.0</td>\n",
              "      <td>8</td>\n",
              "      <td>0.461538</td>\n",
              "      <td>40</td>\n",
              "      <td>0</td>\n",
              "      <td>0</td>\n",
              "      <td>0</td>\n",
              "      <td>0</td>\n",
              "      <td>0</td>\n",
              "      <td>0</td>\n",
              "      <td>0</td>\n",
              "      <td>0</td>\n",
              "      <td>0</td>\n",
              "      <td>0</td>\n",
              "      <td>0</td>\n",
              "      <td>0</td>\n",
              "      <td>0</td>\n",
              "      <td>0</td>\n",
              "      <td>0</td>\n",
              "      <td>0</td>\n",
              "      <td>0</td>\n",
              "      <td>0</td>\n",
              "      <td>0</td>\n",
              "      <td>0</td>\n",
              "      <td>0</td>\n",
              "      <td>0</td>\n",
              "      <td>0</td>\n",
              "      <td>1</td>\n",
              "      <td>0</td>\n",
              "      <td>0</td>\n",
              "      <td>0</td>\n",
              "      <td>0</td>\n",
              "      <td>0</td>\n",
              "      <td>0</td>\n",
              "      <td>0</td>\n",
              "      <td>0</td>\n",
              "      <td>0</td>\n",
              "      <td>0</td>\n",
              "      <td>0</td>\n",
              "      <td>0</td>\n",
              "      <td>0</td>\n",
              "      <td>0</td>\n",
              "      <td>0</td>\n",
              "      <td>0</td>\n",
              "      <td>0</td>\n",
              "      <td>0</td>\n",
              "      <td>0</td>\n",
              "    </tr>\n",
              "    <tr>\n",
              "      <th>3497</th>\n",
              "      <td>0</td>\n",
              "      <td>3497</td>\n",
              "      <td>75000</td>\n",
              "      <td>75000</td>\n",
              "      <td>0.0</td>\n",
              "      <td>1</td>\n",
              "      <td>0.000000</td>\n",
              "      <td>0</td>\n",
              "      <td>0</td>\n",
              "      <td>0</td>\n",
              "      <td>0</td>\n",
              "      <td>0</td>\n",
              "      <td>0</td>\n",
              "      <td>0</td>\n",
              "      <td>0</td>\n",
              "      <td>0</td>\n",
              "      <td>0</td>\n",
              "      <td>0</td>\n",
              "      <td>0</td>\n",
              "      <td>0</td>\n",
              "      <td>0</td>\n",
              "      <td>0</td>\n",
              "      <td>0</td>\n",
              "      <td>0</td>\n",
              "      <td>0</td>\n",
              "      <td>0</td>\n",
              "      <td>0</td>\n",
              "      <td>0</td>\n",
              "      <td>0</td>\n",
              "      <td>0</td>\n",
              "      <td>0</td>\n",
              "      <td>0</td>\n",
              "      <td>0</td>\n",
              "      <td>0</td>\n",
              "      <td>0</td>\n",
              "      <td>0</td>\n",
              "      <td>0</td>\n",
              "      <td>0</td>\n",
              "      <td>0</td>\n",
              "      <td>0</td>\n",
              "      <td>0</td>\n",
              "      <td>1</td>\n",
              "      <td>0</td>\n",
              "      <td>0</td>\n",
              "      <td>0</td>\n",
              "      <td>0</td>\n",
              "      <td>0</td>\n",
              "      <td>0</td>\n",
              "      <td>0</td>\n",
              "      <td>0</td>\n",
              "      <td>0</td>\n",
              "    </tr>\n",
              "    <tr>\n",
              "      <th>3498</th>\n",
              "      <td>0</td>\n",
              "      <td>3498</td>\n",
              "      <td>1875000</td>\n",
              "      <td>1000000</td>\n",
              "      <td>0.0</td>\n",
              "      <td>2</td>\n",
              "      <td>0.000000</td>\n",
              "      <td>39</td>\n",
              "      <td>0</td>\n",
              "      <td>0</td>\n",
              "      <td>0</td>\n",
              "      <td>0</td>\n",
              "      <td>0</td>\n",
              "      <td>0</td>\n",
              "      <td>0</td>\n",
              "      <td>0</td>\n",
              "      <td>0</td>\n",
              "      <td>0</td>\n",
              "      <td>0</td>\n",
              "      <td>0</td>\n",
              "      <td>0</td>\n",
              "      <td>0</td>\n",
              "      <td>0</td>\n",
              "      <td>0</td>\n",
              "      <td>0</td>\n",
              "      <td>0</td>\n",
              "      <td>0</td>\n",
              "      <td>0</td>\n",
              "      <td>0</td>\n",
              "      <td>0</td>\n",
              "      <td>0</td>\n",
              "      <td>0</td>\n",
              "      <td>0</td>\n",
              "      <td>0</td>\n",
              "      <td>0</td>\n",
              "      <td>0</td>\n",
              "      <td>0</td>\n",
              "      <td>0</td>\n",
              "      <td>0</td>\n",
              "      <td>0</td>\n",
              "      <td>0</td>\n",
              "      <td>0</td>\n",
              "      <td>0</td>\n",
              "      <td>0</td>\n",
              "      <td>0</td>\n",
              "      <td>0</td>\n",
              "      <td>0</td>\n",
              "      <td>0</td>\n",
              "      <td>0</td>\n",
              "      <td>0</td>\n",
              "      <td>1</td>\n",
              "    </tr>\n",
              "  </tbody>\n",
              "</table>\n",
              "<p>2869 rows × 51 columns</p>\n",
              "</div>"
            ],
            "text/plain": [
              "      gender  cust_id  total_purchase  max_purchace  ...  통신/컴퓨터  트래디셔널  피혁잡화  화장품\n",
              "0          0        0        68282840      11264000  ...       0      0     0    0\n",
              "1          0        1         2136000       2136000  ...       0      0     0    0\n",
              "2          1        2         3197000       1639000  ...       0      0     0    0\n",
              "3          1        3        16077620       4935000  ...       0      0     0    0\n",
              "4          0        4        29050000      24000000  ...       0      0     0    0\n",
              "...      ...      ...             ...           ...  ...     ...    ...   ...  ...\n",
              "3494       1     3494        95835000      81650000  ...       0      0     0    0\n",
              "3495       1     3495         3175200       3042900  ...       0      0     0    0\n",
              "3496       1     3496        29628600       7200000  ...       0      0     0    0\n",
              "3497       0     3497           75000         75000  ...       0      0     0    0\n",
              "3498       0     3498         1875000       1000000  ...       0      0     0    1\n",
              "\n",
              "[2869 rows x 51 columns]"
            ]
          },
          "metadata": {
            "tags": []
          },
          "execution_count": 227
        }
      ]
    },
    {
      "cell_type": "code",
      "metadata": {
        "id": "34aG_1TUX1s3"
      },
      "source": [
        "correlation = x_train_raw.corr()"
      ],
      "execution_count": 230,
      "outputs": []
    },
    {
      "cell_type": "code",
      "metadata": {
        "id": "hztoqhksYSHH"
      },
      "source": [
        "related = [ind for x, ind in zip(correlation['gender'].values, correlation['gender'].index) if abs(x)>0.05]"
      ],
      "execution_count": 236,
      "outputs": []
    },
    {
      "cell_type": "code",
      "metadata": {
        "id": "-qw6cwMVZCoe"
      },
      "source": [
        "x_train_selected = x_train_raw[related].copy()"
      ],
      "execution_count": 237,
      "outputs": []
    },
    {
      "cell_type": "code",
      "metadata": {
        "colab": {
          "base_uri": "https://localhost:8080/",
          "height": 407
        },
        "id": "u7aAo0KxZiX-",
        "outputId": "11156d60-f661-4fe9-b77f-d9a49f58fef9"
      },
      "source": [
        "x_train_selected"
      ],
      "execution_count": 242,
      "outputs": [
        {
          "output_type": "execute_result",
          "data": {
            "text/html": [
              "<div>\n",
              "<style scoped>\n",
              "    .dataframe tbody tr th:only-of-type {\n",
              "        vertical-align: middle;\n",
              "    }\n",
              "\n",
              "    .dataframe tbody tr th {\n",
              "        vertical-align: top;\n",
              "    }\n",
              "\n",
              "    .dataframe thead th {\n",
              "        text-align: right;\n",
              "    }\n",
              "</style>\n",
              "<table border=\"1\" class=\"dataframe\">\n",
              "  <thead>\n",
              "    <tr style=\"text-align: right;\">\n",
              "      <th></th>\n",
              "      <th>gender</th>\n",
              "      <th>total_purchase</th>\n",
              "      <th>max_purchace</th>\n",
              "      <th>refund</th>\n",
              "      <th>visit</th>\n",
              "      <th>weekend_visit_ratio</th>\n",
              "      <th>weekend</th>\n",
              "      <th>골프</th>\n",
              "      <th>남성 캐주얼</th>\n",
              "      <th>남성정장</th>\n",
              "      <th>농산물</th>\n",
              "      <th>디자이너</th>\n",
              "      <th>시티웨어</th>\n",
              "      <th>주방가전</th>\n",
              "      <th>화장품</th>\n",
              "    </tr>\n",
              "  </thead>\n",
              "  <tbody>\n",
              "    <tr>\n",
              "      <th>0</th>\n",
              "      <td>0</td>\n",
              "      <td>68282840</td>\n",
              "      <td>11264000</td>\n",
              "      <td>6860000.0</td>\n",
              "      <td>19</td>\n",
              "      <td>0.527027</td>\n",
              "      <td>0</td>\n",
              "      <td>0</td>\n",
              "      <td>0</td>\n",
              "      <td>0</td>\n",
              "      <td>0</td>\n",
              "      <td>0</td>\n",
              "      <td>0</td>\n",
              "      <td>0</td>\n",
              "      <td>0</td>\n",
              "    </tr>\n",
              "    <tr>\n",
              "      <th>1</th>\n",
              "      <td>0</td>\n",
              "      <td>2136000</td>\n",
              "      <td>2136000</td>\n",
              "      <td>300000.0</td>\n",
              "      <td>2</td>\n",
              "      <td>0.000000</td>\n",
              "      <td>0</td>\n",
              "      <td>0</td>\n",
              "      <td>0</td>\n",
              "      <td>0</td>\n",
              "      <td>0</td>\n",
              "      <td>0</td>\n",
              "      <td>0</td>\n",
              "      <td>0</td>\n",
              "      <td>0</td>\n",
              "    </tr>\n",
              "    <tr>\n",
              "      <th>2</th>\n",
              "      <td>1</td>\n",
              "      <td>3197000</td>\n",
              "      <td>1639000</td>\n",
              "      <td>0.0</td>\n",
              "      <td>2</td>\n",
              "      <td>0.000000</td>\n",
              "      <td>0</td>\n",
              "      <td>0</td>\n",
              "      <td>1</td>\n",
              "      <td>0</td>\n",
              "      <td>0</td>\n",
              "      <td>0</td>\n",
              "      <td>0</td>\n",
              "      <td>0</td>\n",
              "      <td>0</td>\n",
              "    </tr>\n",
              "    <tr>\n",
              "      <th>3</th>\n",
              "      <td>1</td>\n",
              "      <td>16077620</td>\n",
              "      <td>4935000</td>\n",
              "      <td>0.0</td>\n",
              "      <td>18</td>\n",
              "      <td>0.318182</td>\n",
              "      <td>0</td>\n",
              "      <td>0</td>\n",
              "      <td>0</td>\n",
              "      <td>0</td>\n",
              "      <td>0</td>\n",
              "      <td>0</td>\n",
              "      <td>0</td>\n",
              "      <td>0</td>\n",
              "      <td>0</td>\n",
              "    </tr>\n",
              "    <tr>\n",
              "      <th>4</th>\n",
              "      <td>0</td>\n",
              "      <td>29050000</td>\n",
              "      <td>24000000</td>\n",
              "      <td>0.0</td>\n",
              "      <td>2</td>\n",
              "      <td>0.000000</td>\n",
              "      <td>0</td>\n",
              "      <td>0</td>\n",
              "      <td>0</td>\n",
              "      <td>0</td>\n",
              "      <td>0</td>\n",
              "      <td>0</td>\n",
              "      <td>0</td>\n",
              "      <td>0</td>\n",
              "      <td>0</td>\n",
              "    </tr>\n",
              "    <tr>\n",
              "      <th>...</th>\n",
              "      <td>...</td>\n",
              "      <td>...</td>\n",
              "      <td>...</td>\n",
              "      <td>...</td>\n",
              "      <td>...</td>\n",
              "      <td>...</td>\n",
              "      <td>...</td>\n",
              "      <td>...</td>\n",
              "      <td>...</td>\n",
              "      <td>...</td>\n",
              "      <td>...</td>\n",
              "      <td>...</td>\n",
              "      <td>...</td>\n",
              "      <td>...</td>\n",
              "      <td>...</td>\n",
              "    </tr>\n",
              "    <tr>\n",
              "      <th>3494</th>\n",
              "      <td>1</td>\n",
              "      <td>95835000</td>\n",
              "      <td>81650000</td>\n",
              "      <td>0.0</td>\n",
              "      <td>7</td>\n",
              "      <td>0.111111</td>\n",
              "      <td>0</td>\n",
              "      <td>0</td>\n",
              "      <td>0</td>\n",
              "      <td>0</td>\n",
              "      <td>0</td>\n",
              "      <td>0</td>\n",
              "      <td>0</td>\n",
              "      <td>0</td>\n",
              "      <td>0</td>\n",
              "    </tr>\n",
              "    <tr>\n",
              "      <th>3495</th>\n",
              "      <td>1</td>\n",
              "      <td>3175200</td>\n",
              "      <td>3042900</td>\n",
              "      <td>0.0</td>\n",
              "      <td>1</td>\n",
              "      <td>1.000000</td>\n",
              "      <td>1</td>\n",
              "      <td>1</td>\n",
              "      <td>0</td>\n",
              "      <td>0</td>\n",
              "      <td>0</td>\n",
              "      <td>0</td>\n",
              "      <td>0</td>\n",
              "      <td>0</td>\n",
              "      <td>0</td>\n",
              "    </tr>\n",
              "    <tr>\n",
              "      <th>3496</th>\n",
              "      <td>1</td>\n",
              "      <td>29628600</td>\n",
              "      <td>7200000</td>\n",
              "      <td>6049600.0</td>\n",
              "      <td>8</td>\n",
              "      <td>0.461538</td>\n",
              "      <td>0</td>\n",
              "      <td>0</td>\n",
              "      <td>0</td>\n",
              "      <td>0</td>\n",
              "      <td>0</td>\n",
              "      <td>0</td>\n",
              "      <td>1</td>\n",
              "      <td>0</td>\n",
              "      <td>0</td>\n",
              "    </tr>\n",
              "    <tr>\n",
              "      <th>3497</th>\n",
              "      <td>0</td>\n",
              "      <td>75000</td>\n",
              "      <td>75000</td>\n",
              "      <td>0.0</td>\n",
              "      <td>1</td>\n",
              "      <td>0.000000</td>\n",
              "      <td>0</td>\n",
              "      <td>0</td>\n",
              "      <td>0</td>\n",
              "      <td>0</td>\n",
              "      <td>0</td>\n",
              "      <td>0</td>\n",
              "      <td>0</td>\n",
              "      <td>0</td>\n",
              "      <td>0</td>\n",
              "    </tr>\n",
              "    <tr>\n",
              "      <th>3498</th>\n",
              "      <td>0</td>\n",
              "      <td>1875000</td>\n",
              "      <td>1000000</td>\n",
              "      <td>0.0</td>\n",
              "      <td>2</td>\n",
              "      <td>0.000000</td>\n",
              "      <td>0</td>\n",
              "      <td>0</td>\n",
              "      <td>0</td>\n",
              "      <td>0</td>\n",
              "      <td>0</td>\n",
              "      <td>0</td>\n",
              "      <td>0</td>\n",
              "      <td>0</td>\n",
              "      <td>1</td>\n",
              "    </tr>\n",
              "  </tbody>\n",
              "</table>\n",
              "<p>2869 rows × 15 columns</p>\n",
              "</div>"
            ],
            "text/plain": [
              "      gender  total_purchase  max_purchace     refund  ...  디자이너  시티웨어  주방가전  화장품\n",
              "0          0        68282840      11264000  6860000.0  ...     0     0     0    0\n",
              "1          0         2136000       2136000   300000.0  ...     0     0     0    0\n",
              "2          1         3197000       1639000        0.0  ...     0     0     0    0\n",
              "3          1        16077620       4935000        0.0  ...     0     0     0    0\n",
              "4          0        29050000      24000000        0.0  ...     0     0     0    0\n",
              "...      ...             ...           ...        ...  ...   ...   ...   ...  ...\n",
              "3494       1        95835000      81650000        0.0  ...     0     0     0    0\n",
              "3495       1         3175200       3042900        0.0  ...     0     0     0    0\n",
              "3496       1        29628600       7200000  6049600.0  ...     0     1     0    0\n",
              "3497       0           75000         75000        0.0  ...     0     0     0    0\n",
              "3498       0         1875000       1000000        0.0  ...     0     0     0    1\n",
              "\n",
              "[2869 rows x 15 columns]"
            ]
          },
          "metadata": {
            "tags": []
          },
          "execution_count": 242
        }
      ]
    },
    {
      "cell_type": "code",
      "metadata": {
        "colab": {
          "base_uri": "https://localhost:8080/"
        },
        "id": "XbtRHmSmHC4x",
        "outputId": "0955aec5-a18a-4bd1-ff3b-5b9283d29865"
      },
      "source": [
        "print(x_train_o.shape[0] - x_train_raw.shape[0])"
      ],
      "execution_count": 126,
      "outputs": [
        {
          "output_type": "stream",
          "text": [
            "631\n"
          ],
          "name": "stdout"
        }
      ]
    },
    {
      "cell_type": "code",
      "metadata": {
        "id": "5dXrqOR4OdzB"
      },
      "source": [
        "female = x_train_raw[x_train_raw['gender'] == 0]\n",
        "male = x_train_raw[x_train_raw['gender'] == 1]"
      ],
      "execution_count": 127,
      "outputs": []
    },
    {
      "cell_type": "code",
      "metadata": {
        "colab": {
          "base_uri": "https://localhost:8080/",
          "height": 496
        },
        "id": "_VotcNshO4S5",
        "outputId": "7dece42e-410d-4291-a789-f794a3f8b269"
      },
      "source": [
        "diff = female.shape[0] - male.shape[0]\n",
        "female = female.sample(n = female.shape[0] - diff)\n",
        "x_train_raw = pd.concat([female, male], axis = 0)\n",
        "x_train_raw.sample(frac = 1, replace = True).reset_index(drop = True)"
      ],
      "execution_count": 264,
      "outputs": [
        {
          "output_type": "execute_result",
          "data": {
            "text/html": [
              "<div>\n",
              "<style scoped>\n",
              "    .dataframe tbody tr th:only-of-type {\n",
              "        vertical-align: middle;\n",
              "    }\n",
              "\n",
              "    .dataframe tbody tr th {\n",
              "        vertical-align: top;\n",
              "    }\n",
              "\n",
              "    .dataframe thead th {\n",
              "        text-align: right;\n",
              "    }\n",
              "</style>\n",
              "<table border=\"1\" class=\"dataframe\">\n",
              "  <thead>\n",
              "    <tr style=\"text-align: right;\">\n",
              "      <th></th>\n",
              "      <th>gender</th>\n",
              "      <th>cust_id</th>\n",
              "      <th>total_purchase</th>\n",
              "      <th>max_purchace</th>\n",
              "      <th>refund</th>\n",
              "      <th>visit</th>\n",
              "      <th>purchace_per_visit</th>\n",
              "      <th>weekend_visit_ratio</th>\n",
              "      <th>purchace_period</th>\n",
              "      <th>가공식품</th>\n",
              "      <th>가구</th>\n",
              "      <th>건강식품</th>\n",
              "      <th>골프</th>\n",
              "      <th>구두</th>\n",
              "      <th>기타</th>\n",
              "      <th>남성 캐주얼</th>\n",
              "      <th>남성 트랜디</th>\n",
              "      <th>남성정장</th>\n",
              "      <th>농산물</th>\n",
              "      <th>대형가전</th>\n",
              "      <th>디자이너</th>\n",
              "      <th>란제리/내의</th>\n",
              "      <th>명품</th>\n",
              "      <th>모피/피혁</th>\n",
              "      <th>보석</th>\n",
              "      <th>생활잡화</th>\n",
              "      <th>섬유잡화</th>\n",
              "      <th>셔츠</th>\n",
              "      <th>소형가전</th>\n",
              "      <th>수산품</th>\n",
              "      <th>스포츠</th>\n",
              "      <th>시티웨어</th>\n",
              "      <th>식기</th>\n",
              "      <th>아동</th>\n",
              "      <th>악기</th>\n",
              "      <th>액세서리</th>\n",
              "      <th>육류</th>\n",
              "      <th>일용잡화</th>\n",
              "      <th>젓갈/반찬</th>\n",
              "      <th>주류</th>\n",
              "      <th>주방가전</th>\n",
              "      <th>주방용품</th>\n",
              "      <th>차/커피</th>\n",
              "      <th>축산가공</th>\n",
              "      <th>침구/수예</th>\n",
              "      <th>캐주얼</th>\n",
              "      <th>커리어</th>\n",
              "      <th>통신/컴퓨터</th>\n",
              "      <th>트래디셔널</th>\n",
              "      <th>피혁잡화</th>\n",
              "      <th>화장품</th>\n",
              "      <th>강남점</th>\n",
              "      <th>관악점</th>\n",
              "      <th>광주점</th>\n",
              "      <th>노원점</th>\n",
              "      <th>대구점</th>\n",
              "      <th>대전점</th>\n",
              "      <th>동래점</th>\n",
              "      <th>미아점</th>\n",
              "      <th>본  점</th>\n",
              "      <th>부산본점</th>\n",
              "      <th>부평점</th>\n",
              "      <th>분당점</th>\n",
              "      <th>센텀시티점</th>\n",
              "      <th>안양점</th>\n",
              "      <th>영등포점</th>\n",
              "      <th>울산점</th>\n",
              "      <th>인천점</th>\n",
              "      <th>일산점</th>\n",
              "      <th>잠실점</th>\n",
              "      <th>전주점</th>\n",
              "      <th>창원점</th>\n",
              "      <th>청량리점</th>\n",
              "      <th>포항점</th>\n",
              "    </tr>\n",
              "  </thead>\n",
              "  <tbody>\n",
              "    <tr>\n",
              "      <th>0</th>\n",
              "      <td>1</td>\n",
              "      <td>2385</td>\n",
              "      <td>2025000</td>\n",
              "      <td>1944000</td>\n",
              "      <td>0.0</td>\n",
              "      <td>1</td>\n",
              "      <td>2.000000</td>\n",
              "      <td>1.000000</td>\n",
              "      <td>0</td>\n",
              "      <td>0</td>\n",
              "      <td>0</td>\n",
              "      <td>0</td>\n",
              "      <td>0</td>\n",
              "      <td>0</td>\n",
              "      <td>0</td>\n",
              "      <td>0</td>\n",
              "      <td>0</td>\n",
              "      <td>0</td>\n",
              "      <td>0</td>\n",
              "      <td>0</td>\n",
              "      <td>0</td>\n",
              "      <td>0</td>\n",
              "      <td>0</td>\n",
              "      <td>0</td>\n",
              "      <td>0</td>\n",
              "      <td>0</td>\n",
              "      <td>0</td>\n",
              "      <td>0</td>\n",
              "      <td>0</td>\n",
              "      <td>0</td>\n",
              "      <td>0</td>\n",
              "      <td>0</td>\n",
              "      <td>0</td>\n",
              "      <td>0</td>\n",
              "      <td>0</td>\n",
              "      <td>0</td>\n",
              "      <td>0</td>\n",
              "      <td>0</td>\n",
              "      <td>0</td>\n",
              "      <td>0</td>\n",
              "      <td>0</td>\n",
              "      <td>0</td>\n",
              "      <td>0</td>\n",
              "      <td>0</td>\n",
              "      <td>0</td>\n",
              "      <td>0</td>\n",
              "      <td>0</td>\n",
              "      <td>0</td>\n",
              "      <td>0</td>\n",
              "      <td>0</td>\n",
              "      <td>1</td>\n",
              "      <td>0</td>\n",
              "      <td>0</td>\n",
              "      <td>0</td>\n",
              "      <td>0</td>\n",
              "      <td>0</td>\n",
              "      <td>0</td>\n",
              "      <td>0</td>\n",
              "      <td>0</td>\n",
              "      <td>0</td>\n",
              "      <td>0</td>\n",
              "      <td>0</td>\n",
              "      <td>1</td>\n",
              "      <td>0</td>\n",
              "      <td>0</td>\n",
              "      <td>0</td>\n",
              "      <td>0</td>\n",
              "      <td>0</td>\n",
              "      <td>0</td>\n",
              "      <td>0</td>\n",
              "      <td>0</td>\n",
              "      <td>0</td>\n",
              "      <td>0</td>\n",
              "      <td>0</td>\n",
              "    </tr>\n",
              "    <tr>\n",
              "      <th>1</th>\n",
              "      <td>1</td>\n",
              "      <td>842</td>\n",
              "      <td>3418570</td>\n",
              "      <td>1958000</td>\n",
              "      <td>0.0</td>\n",
              "      <td>2</td>\n",
              "      <td>8.000000</td>\n",
              "      <td>0.625000</td>\n",
              "      <td>113</td>\n",
              "      <td>1</td>\n",
              "      <td>0</td>\n",
              "      <td>0</td>\n",
              "      <td>0</td>\n",
              "      <td>0</td>\n",
              "      <td>0</td>\n",
              "      <td>0</td>\n",
              "      <td>0</td>\n",
              "      <td>0</td>\n",
              "      <td>0</td>\n",
              "      <td>0</td>\n",
              "      <td>0</td>\n",
              "      <td>0</td>\n",
              "      <td>0</td>\n",
              "      <td>0</td>\n",
              "      <td>0</td>\n",
              "      <td>0</td>\n",
              "      <td>0</td>\n",
              "      <td>0</td>\n",
              "      <td>0</td>\n",
              "      <td>0</td>\n",
              "      <td>0</td>\n",
              "      <td>0</td>\n",
              "      <td>0</td>\n",
              "      <td>0</td>\n",
              "      <td>0</td>\n",
              "      <td>0</td>\n",
              "      <td>0</td>\n",
              "      <td>0</td>\n",
              "      <td>0</td>\n",
              "      <td>0</td>\n",
              "      <td>0</td>\n",
              "      <td>0</td>\n",
              "      <td>0</td>\n",
              "      <td>0</td>\n",
              "      <td>0</td>\n",
              "      <td>0</td>\n",
              "      <td>0</td>\n",
              "      <td>0</td>\n",
              "      <td>0</td>\n",
              "      <td>0</td>\n",
              "      <td>0</td>\n",
              "      <td>0</td>\n",
              "      <td>0</td>\n",
              "      <td>0</td>\n",
              "      <td>1</td>\n",
              "      <td>0</td>\n",
              "      <td>0</td>\n",
              "      <td>0</td>\n",
              "      <td>0</td>\n",
              "      <td>0</td>\n",
              "      <td>0</td>\n",
              "      <td>0</td>\n",
              "      <td>0</td>\n",
              "      <td>0</td>\n",
              "      <td>0</td>\n",
              "      <td>0</td>\n",
              "      <td>0</td>\n",
              "      <td>0</td>\n",
              "      <td>0</td>\n",
              "      <td>0</td>\n",
              "      <td>0</td>\n",
              "      <td>0</td>\n",
              "      <td>0</td>\n",
              "      <td>0</td>\n",
              "    </tr>\n",
              "    <tr>\n",
              "      <th>2</th>\n",
              "      <td>0</td>\n",
              "      <td>1945</td>\n",
              "      <td>50600000</td>\n",
              "      <td>50600000</td>\n",
              "      <td>0.0</td>\n",
              "      <td>1</td>\n",
              "      <td>1.000000</td>\n",
              "      <td>0.000000</td>\n",
              "      <td>0</td>\n",
              "      <td>0</td>\n",
              "      <td>0</td>\n",
              "      <td>0</td>\n",
              "      <td>0</td>\n",
              "      <td>0</td>\n",
              "      <td>0</td>\n",
              "      <td>0</td>\n",
              "      <td>0</td>\n",
              "      <td>0</td>\n",
              "      <td>0</td>\n",
              "      <td>1</td>\n",
              "      <td>0</td>\n",
              "      <td>0</td>\n",
              "      <td>0</td>\n",
              "      <td>0</td>\n",
              "      <td>0</td>\n",
              "      <td>0</td>\n",
              "      <td>0</td>\n",
              "      <td>0</td>\n",
              "      <td>0</td>\n",
              "      <td>0</td>\n",
              "      <td>0</td>\n",
              "      <td>0</td>\n",
              "      <td>0</td>\n",
              "      <td>0</td>\n",
              "      <td>0</td>\n",
              "      <td>0</td>\n",
              "      <td>0</td>\n",
              "      <td>0</td>\n",
              "      <td>0</td>\n",
              "      <td>0</td>\n",
              "      <td>0</td>\n",
              "      <td>0</td>\n",
              "      <td>0</td>\n",
              "      <td>0</td>\n",
              "      <td>0</td>\n",
              "      <td>0</td>\n",
              "      <td>0</td>\n",
              "      <td>0</td>\n",
              "      <td>0</td>\n",
              "      <td>0</td>\n",
              "      <td>0</td>\n",
              "      <td>0</td>\n",
              "      <td>0</td>\n",
              "      <td>0</td>\n",
              "      <td>0</td>\n",
              "      <td>0</td>\n",
              "      <td>0</td>\n",
              "      <td>0</td>\n",
              "      <td>0</td>\n",
              "      <td>1</td>\n",
              "      <td>0</td>\n",
              "      <td>0</td>\n",
              "      <td>0</td>\n",
              "      <td>0</td>\n",
              "      <td>0</td>\n",
              "      <td>0</td>\n",
              "      <td>0</td>\n",
              "      <td>0</td>\n",
              "      <td>0</td>\n",
              "      <td>0</td>\n",
              "      <td>0</td>\n",
              "      <td>0</td>\n",
              "      <td>0</td>\n",
              "      <td>0</td>\n",
              "    </tr>\n",
              "    <tr>\n",
              "      <th>3</th>\n",
              "      <td>0</td>\n",
              "      <td>475</td>\n",
              "      <td>17482650</td>\n",
              "      <td>8064000</td>\n",
              "      <td>0.0</td>\n",
              "      <td>12</td>\n",
              "      <td>4.416667</td>\n",
              "      <td>0.452830</td>\n",
              "      <td>24</td>\n",
              "      <td>1</td>\n",
              "      <td>0</td>\n",
              "      <td>0</td>\n",
              "      <td>0</td>\n",
              "      <td>0</td>\n",
              "      <td>0</td>\n",
              "      <td>0</td>\n",
              "      <td>0</td>\n",
              "      <td>0</td>\n",
              "      <td>0</td>\n",
              "      <td>0</td>\n",
              "      <td>0</td>\n",
              "      <td>0</td>\n",
              "      <td>0</td>\n",
              "      <td>0</td>\n",
              "      <td>0</td>\n",
              "      <td>0</td>\n",
              "      <td>0</td>\n",
              "      <td>0</td>\n",
              "      <td>0</td>\n",
              "      <td>0</td>\n",
              "      <td>0</td>\n",
              "      <td>0</td>\n",
              "      <td>0</td>\n",
              "      <td>0</td>\n",
              "      <td>0</td>\n",
              "      <td>0</td>\n",
              "      <td>0</td>\n",
              "      <td>0</td>\n",
              "      <td>0</td>\n",
              "      <td>0</td>\n",
              "      <td>0</td>\n",
              "      <td>0</td>\n",
              "      <td>0</td>\n",
              "      <td>0</td>\n",
              "      <td>0</td>\n",
              "      <td>0</td>\n",
              "      <td>0</td>\n",
              "      <td>0</td>\n",
              "      <td>0</td>\n",
              "      <td>0</td>\n",
              "      <td>0</td>\n",
              "      <td>0</td>\n",
              "      <td>0</td>\n",
              "      <td>0</td>\n",
              "      <td>0</td>\n",
              "      <td>0</td>\n",
              "      <td>0</td>\n",
              "      <td>0</td>\n",
              "      <td>0</td>\n",
              "      <td>0</td>\n",
              "      <td>1</td>\n",
              "      <td>0</td>\n",
              "      <td>0</td>\n",
              "      <td>0</td>\n",
              "      <td>0</td>\n",
              "      <td>0</td>\n",
              "      <td>0</td>\n",
              "      <td>0</td>\n",
              "      <td>0</td>\n",
              "      <td>0</td>\n",
              "      <td>0</td>\n",
              "      <td>0</td>\n",
              "      <td>0</td>\n",
              "      <td>0</td>\n",
              "    </tr>\n",
              "    <tr>\n",
              "      <th>4</th>\n",
              "      <td>1</td>\n",
              "      <td>1628</td>\n",
              "      <td>319000</td>\n",
              "      <td>225000</td>\n",
              "      <td>0.0</td>\n",
              "      <td>1</td>\n",
              "      <td>3.000000</td>\n",
              "      <td>0.000000</td>\n",
              "      <td>0</td>\n",
              "      <td>0</td>\n",
              "      <td>0</td>\n",
              "      <td>0</td>\n",
              "      <td>0</td>\n",
              "      <td>0</td>\n",
              "      <td>1</td>\n",
              "      <td>0</td>\n",
              "      <td>0</td>\n",
              "      <td>0</td>\n",
              "      <td>0</td>\n",
              "      <td>0</td>\n",
              "      <td>0</td>\n",
              "      <td>0</td>\n",
              "      <td>0</td>\n",
              "      <td>0</td>\n",
              "      <td>0</td>\n",
              "      <td>0</td>\n",
              "      <td>0</td>\n",
              "      <td>0</td>\n",
              "      <td>0</td>\n",
              "      <td>0</td>\n",
              "      <td>0</td>\n",
              "      <td>0</td>\n",
              "      <td>0</td>\n",
              "      <td>0</td>\n",
              "      <td>0</td>\n",
              "      <td>0</td>\n",
              "      <td>0</td>\n",
              "      <td>0</td>\n",
              "      <td>0</td>\n",
              "      <td>0</td>\n",
              "      <td>0</td>\n",
              "      <td>0</td>\n",
              "      <td>0</td>\n",
              "      <td>0</td>\n",
              "      <td>0</td>\n",
              "      <td>0</td>\n",
              "      <td>0</td>\n",
              "      <td>0</td>\n",
              "      <td>0</td>\n",
              "      <td>0</td>\n",
              "      <td>0</td>\n",
              "      <td>0</td>\n",
              "      <td>0</td>\n",
              "      <td>0</td>\n",
              "      <td>0</td>\n",
              "      <td>0</td>\n",
              "      <td>1</td>\n",
              "      <td>0</td>\n",
              "      <td>0</td>\n",
              "      <td>0</td>\n",
              "      <td>0</td>\n",
              "      <td>0</td>\n",
              "      <td>0</td>\n",
              "      <td>0</td>\n",
              "      <td>0</td>\n",
              "      <td>0</td>\n",
              "      <td>0</td>\n",
              "      <td>0</td>\n",
              "      <td>0</td>\n",
              "      <td>0</td>\n",
              "      <td>0</td>\n",
              "      <td>0</td>\n",
              "      <td>0</td>\n",
              "      <td>0</td>\n",
              "    </tr>\n",
              "    <tr>\n",
              "      <th>...</th>\n",
              "      <td>...</td>\n",
              "      <td>...</td>\n",
              "      <td>...</td>\n",
              "      <td>...</td>\n",
              "      <td>...</td>\n",
              "      <td>...</td>\n",
              "      <td>...</td>\n",
              "      <td>...</td>\n",
              "      <td>...</td>\n",
              "      <td>...</td>\n",
              "      <td>...</td>\n",
              "      <td>...</td>\n",
              "      <td>...</td>\n",
              "      <td>...</td>\n",
              "      <td>...</td>\n",
              "      <td>...</td>\n",
              "      <td>...</td>\n",
              "      <td>...</td>\n",
              "      <td>...</td>\n",
              "      <td>...</td>\n",
              "      <td>...</td>\n",
              "      <td>...</td>\n",
              "      <td>...</td>\n",
              "      <td>...</td>\n",
              "      <td>...</td>\n",
              "      <td>...</td>\n",
              "      <td>...</td>\n",
              "      <td>...</td>\n",
              "      <td>...</td>\n",
              "      <td>...</td>\n",
              "      <td>...</td>\n",
              "      <td>...</td>\n",
              "      <td>...</td>\n",
              "      <td>...</td>\n",
              "      <td>...</td>\n",
              "      <td>...</td>\n",
              "      <td>...</td>\n",
              "      <td>...</td>\n",
              "      <td>...</td>\n",
              "      <td>...</td>\n",
              "      <td>...</td>\n",
              "      <td>...</td>\n",
              "      <td>...</td>\n",
              "      <td>...</td>\n",
              "      <td>...</td>\n",
              "      <td>...</td>\n",
              "      <td>...</td>\n",
              "      <td>...</td>\n",
              "      <td>...</td>\n",
              "      <td>...</td>\n",
              "      <td>...</td>\n",
              "      <td>...</td>\n",
              "      <td>...</td>\n",
              "      <td>...</td>\n",
              "      <td>...</td>\n",
              "      <td>...</td>\n",
              "      <td>...</td>\n",
              "      <td>...</td>\n",
              "      <td>...</td>\n",
              "      <td>...</td>\n",
              "      <td>...</td>\n",
              "      <td>...</td>\n",
              "      <td>...</td>\n",
              "      <td>...</td>\n",
              "      <td>...</td>\n",
              "      <td>...</td>\n",
              "      <td>...</td>\n",
              "      <td>...</td>\n",
              "      <td>...</td>\n",
              "      <td>...</td>\n",
              "      <td>...</td>\n",
              "      <td>...</td>\n",
              "      <td>...</td>\n",
              "      <td>...</td>\n",
              "    </tr>\n",
              "    <tr>\n",
              "      <th>2355</th>\n",
              "      <td>1</td>\n",
              "      <td>3109</td>\n",
              "      <td>2145000</td>\n",
              "      <td>2145000</td>\n",
              "      <td>0.0</td>\n",
              "      <td>1</td>\n",
              "      <td>1.000000</td>\n",
              "      <td>0.000000</td>\n",
              "      <td>0</td>\n",
              "      <td>0</td>\n",
              "      <td>0</td>\n",
              "      <td>1</td>\n",
              "      <td>0</td>\n",
              "      <td>0</td>\n",
              "      <td>0</td>\n",
              "      <td>0</td>\n",
              "      <td>0</td>\n",
              "      <td>0</td>\n",
              "      <td>0</td>\n",
              "      <td>0</td>\n",
              "      <td>0</td>\n",
              "      <td>0</td>\n",
              "      <td>0</td>\n",
              "      <td>0</td>\n",
              "      <td>0</td>\n",
              "      <td>0</td>\n",
              "      <td>0</td>\n",
              "      <td>0</td>\n",
              "      <td>0</td>\n",
              "      <td>0</td>\n",
              "      <td>0</td>\n",
              "      <td>0</td>\n",
              "      <td>0</td>\n",
              "      <td>0</td>\n",
              "      <td>0</td>\n",
              "      <td>0</td>\n",
              "      <td>0</td>\n",
              "      <td>0</td>\n",
              "      <td>0</td>\n",
              "      <td>0</td>\n",
              "      <td>0</td>\n",
              "      <td>0</td>\n",
              "      <td>0</td>\n",
              "      <td>0</td>\n",
              "      <td>0</td>\n",
              "      <td>0</td>\n",
              "      <td>0</td>\n",
              "      <td>0</td>\n",
              "      <td>0</td>\n",
              "      <td>0</td>\n",
              "      <td>0</td>\n",
              "      <td>0</td>\n",
              "      <td>0</td>\n",
              "      <td>0</td>\n",
              "      <td>0</td>\n",
              "      <td>0</td>\n",
              "      <td>0</td>\n",
              "      <td>0</td>\n",
              "      <td>0</td>\n",
              "      <td>1</td>\n",
              "      <td>0</td>\n",
              "      <td>0</td>\n",
              "      <td>0</td>\n",
              "      <td>0</td>\n",
              "      <td>0</td>\n",
              "      <td>0</td>\n",
              "      <td>0</td>\n",
              "      <td>0</td>\n",
              "      <td>0</td>\n",
              "      <td>0</td>\n",
              "      <td>0</td>\n",
              "      <td>0</td>\n",
              "      <td>0</td>\n",
              "      <td>0</td>\n",
              "    </tr>\n",
              "    <tr>\n",
              "      <th>2356</th>\n",
              "      <td>1</td>\n",
              "      <td>76</td>\n",
              "      <td>14219880</td>\n",
              "      <td>2415000</td>\n",
              "      <td>0.0</td>\n",
              "      <td>12</td>\n",
              "      <td>3.083333</td>\n",
              "      <td>0.378378</td>\n",
              "      <td>20</td>\n",
              "      <td>0</td>\n",
              "      <td>0</td>\n",
              "      <td>0</td>\n",
              "      <td>0</td>\n",
              "      <td>0</td>\n",
              "      <td>0</td>\n",
              "      <td>0</td>\n",
              "      <td>0</td>\n",
              "      <td>0</td>\n",
              "      <td>0</td>\n",
              "      <td>0</td>\n",
              "      <td>0</td>\n",
              "      <td>0</td>\n",
              "      <td>0</td>\n",
              "      <td>0</td>\n",
              "      <td>0</td>\n",
              "      <td>0</td>\n",
              "      <td>0</td>\n",
              "      <td>0</td>\n",
              "      <td>0</td>\n",
              "      <td>0</td>\n",
              "      <td>0</td>\n",
              "      <td>0</td>\n",
              "      <td>0</td>\n",
              "      <td>0</td>\n",
              "      <td>0</td>\n",
              "      <td>0</td>\n",
              "      <td>0</td>\n",
              "      <td>0</td>\n",
              "      <td>1</td>\n",
              "      <td>0</td>\n",
              "      <td>0</td>\n",
              "      <td>0</td>\n",
              "      <td>0</td>\n",
              "      <td>0</td>\n",
              "      <td>0</td>\n",
              "      <td>0</td>\n",
              "      <td>0</td>\n",
              "      <td>0</td>\n",
              "      <td>0</td>\n",
              "      <td>0</td>\n",
              "      <td>0</td>\n",
              "      <td>0</td>\n",
              "      <td>0</td>\n",
              "      <td>0</td>\n",
              "      <td>0</td>\n",
              "      <td>0</td>\n",
              "      <td>0</td>\n",
              "      <td>0</td>\n",
              "      <td>0</td>\n",
              "      <td>1</td>\n",
              "      <td>0</td>\n",
              "      <td>0</td>\n",
              "      <td>0</td>\n",
              "      <td>0</td>\n",
              "      <td>0</td>\n",
              "      <td>0</td>\n",
              "      <td>0</td>\n",
              "      <td>0</td>\n",
              "      <td>0</td>\n",
              "      <td>0</td>\n",
              "      <td>0</td>\n",
              "      <td>0</td>\n",
              "      <td>0</td>\n",
              "      <td>0</td>\n",
              "    </tr>\n",
              "    <tr>\n",
              "      <th>2357</th>\n",
              "      <td>1</td>\n",
              "      <td>2595</td>\n",
              "      <td>4673300</td>\n",
              "      <td>2475000</td>\n",
              "      <td>0.0</td>\n",
              "      <td>1</td>\n",
              "      <td>4.000000</td>\n",
              "      <td>1.000000</td>\n",
              "      <td>0</td>\n",
              "      <td>0</td>\n",
              "      <td>0</td>\n",
              "      <td>0</td>\n",
              "      <td>0</td>\n",
              "      <td>0</td>\n",
              "      <td>0</td>\n",
              "      <td>0</td>\n",
              "      <td>0</td>\n",
              "      <td>0</td>\n",
              "      <td>0</td>\n",
              "      <td>0</td>\n",
              "      <td>0</td>\n",
              "      <td>0</td>\n",
              "      <td>0</td>\n",
              "      <td>0</td>\n",
              "      <td>0</td>\n",
              "      <td>0</td>\n",
              "      <td>0</td>\n",
              "      <td>0</td>\n",
              "      <td>0</td>\n",
              "      <td>0</td>\n",
              "      <td>1</td>\n",
              "      <td>0</td>\n",
              "      <td>0</td>\n",
              "      <td>0</td>\n",
              "      <td>0</td>\n",
              "      <td>0</td>\n",
              "      <td>0</td>\n",
              "      <td>0</td>\n",
              "      <td>0</td>\n",
              "      <td>0</td>\n",
              "      <td>0</td>\n",
              "      <td>0</td>\n",
              "      <td>0</td>\n",
              "      <td>0</td>\n",
              "      <td>0</td>\n",
              "      <td>0</td>\n",
              "      <td>0</td>\n",
              "      <td>0</td>\n",
              "      <td>0</td>\n",
              "      <td>0</td>\n",
              "      <td>0</td>\n",
              "      <td>0</td>\n",
              "      <td>0</td>\n",
              "      <td>0</td>\n",
              "      <td>0</td>\n",
              "      <td>0</td>\n",
              "      <td>0</td>\n",
              "      <td>0</td>\n",
              "      <td>0</td>\n",
              "      <td>0</td>\n",
              "      <td>0</td>\n",
              "      <td>0</td>\n",
              "      <td>0</td>\n",
              "      <td>0</td>\n",
              "      <td>0</td>\n",
              "      <td>1</td>\n",
              "      <td>0</td>\n",
              "      <td>0</td>\n",
              "      <td>0</td>\n",
              "      <td>0</td>\n",
              "      <td>0</td>\n",
              "      <td>0</td>\n",
              "      <td>0</td>\n",
              "      <td>0</td>\n",
              "    </tr>\n",
              "    <tr>\n",
              "      <th>2358</th>\n",
              "      <td>0</td>\n",
              "      <td>790</td>\n",
              "      <td>61555880</td>\n",
              "      <td>6325000</td>\n",
              "      <td>0.0</td>\n",
              "      <td>44</td>\n",
              "      <td>6.431818</td>\n",
              "      <td>0.374558</td>\n",
              "      <td>8</td>\n",
              "      <td>0</td>\n",
              "      <td>0</td>\n",
              "      <td>0</td>\n",
              "      <td>0</td>\n",
              "      <td>0</td>\n",
              "      <td>1</td>\n",
              "      <td>0</td>\n",
              "      <td>0</td>\n",
              "      <td>0</td>\n",
              "      <td>0</td>\n",
              "      <td>0</td>\n",
              "      <td>0</td>\n",
              "      <td>0</td>\n",
              "      <td>0</td>\n",
              "      <td>0</td>\n",
              "      <td>0</td>\n",
              "      <td>0</td>\n",
              "      <td>0</td>\n",
              "      <td>0</td>\n",
              "      <td>0</td>\n",
              "      <td>0</td>\n",
              "      <td>0</td>\n",
              "      <td>0</td>\n",
              "      <td>0</td>\n",
              "      <td>0</td>\n",
              "      <td>0</td>\n",
              "      <td>0</td>\n",
              "      <td>0</td>\n",
              "      <td>0</td>\n",
              "      <td>0</td>\n",
              "      <td>0</td>\n",
              "      <td>0</td>\n",
              "      <td>0</td>\n",
              "      <td>0</td>\n",
              "      <td>0</td>\n",
              "      <td>0</td>\n",
              "      <td>0</td>\n",
              "      <td>0</td>\n",
              "      <td>0</td>\n",
              "      <td>0</td>\n",
              "      <td>0</td>\n",
              "      <td>0</td>\n",
              "      <td>0</td>\n",
              "      <td>0</td>\n",
              "      <td>0</td>\n",
              "      <td>0</td>\n",
              "      <td>0</td>\n",
              "      <td>0</td>\n",
              "      <td>0</td>\n",
              "      <td>0</td>\n",
              "      <td>0</td>\n",
              "      <td>0</td>\n",
              "      <td>0</td>\n",
              "      <td>1</td>\n",
              "      <td>0</td>\n",
              "      <td>0</td>\n",
              "      <td>0</td>\n",
              "      <td>0</td>\n",
              "      <td>0</td>\n",
              "      <td>0</td>\n",
              "      <td>0</td>\n",
              "      <td>0</td>\n",
              "      <td>0</td>\n",
              "      <td>0</td>\n",
              "      <td>0</td>\n",
              "    </tr>\n",
              "    <tr>\n",
              "      <th>2359</th>\n",
              "      <td>0</td>\n",
              "      <td>1419</td>\n",
              "      <td>13140920</td>\n",
              "      <td>3816000</td>\n",
              "      <td>0.0</td>\n",
              "      <td>3</td>\n",
              "      <td>13.333333</td>\n",
              "      <td>0.000000</td>\n",
              "      <td>3</td>\n",
              "      <td>0</td>\n",
              "      <td>0</td>\n",
              "      <td>0</td>\n",
              "      <td>0</td>\n",
              "      <td>0</td>\n",
              "      <td>1</td>\n",
              "      <td>0</td>\n",
              "      <td>0</td>\n",
              "      <td>0</td>\n",
              "      <td>0</td>\n",
              "      <td>0</td>\n",
              "      <td>0</td>\n",
              "      <td>0</td>\n",
              "      <td>0</td>\n",
              "      <td>0</td>\n",
              "      <td>0</td>\n",
              "      <td>0</td>\n",
              "      <td>0</td>\n",
              "      <td>0</td>\n",
              "      <td>0</td>\n",
              "      <td>0</td>\n",
              "      <td>0</td>\n",
              "      <td>0</td>\n",
              "      <td>0</td>\n",
              "      <td>0</td>\n",
              "      <td>0</td>\n",
              "      <td>0</td>\n",
              "      <td>0</td>\n",
              "      <td>0</td>\n",
              "      <td>0</td>\n",
              "      <td>0</td>\n",
              "      <td>0</td>\n",
              "      <td>0</td>\n",
              "      <td>0</td>\n",
              "      <td>0</td>\n",
              "      <td>0</td>\n",
              "      <td>0</td>\n",
              "      <td>0</td>\n",
              "      <td>0</td>\n",
              "      <td>0</td>\n",
              "      <td>0</td>\n",
              "      <td>0</td>\n",
              "      <td>0</td>\n",
              "      <td>0</td>\n",
              "      <td>0</td>\n",
              "      <td>0</td>\n",
              "      <td>0</td>\n",
              "      <td>0</td>\n",
              "      <td>0</td>\n",
              "      <td>1</td>\n",
              "      <td>0</td>\n",
              "      <td>0</td>\n",
              "      <td>0</td>\n",
              "      <td>0</td>\n",
              "      <td>0</td>\n",
              "      <td>0</td>\n",
              "      <td>0</td>\n",
              "      <td>0</td>\n",
              "      <td>0</td>\n",
              "      <td>0</td>\n",
              "      <td>0</td>\n",
              "      <td>0</td>\n",
              "      <td>0</td>\n",
              "      <td>0</td>\n",
              "      <td>0</td>\n",
              "    </tr>\n",
              "  </tbody>\n",
              "</table>\n",
              "<p>2360 rows × 74 columns</p>\n",
              "</div>"
            ],
            "text/plain": [
              "      gender  cust_id  total_purchase  max_purchace  ...  전주점  창원점  청량리점  포항점\n",
              "0          1     2385         2025000       1944000  ...    0    0     0    0\n",
              "1          1      842         3418570       1958000  ...    0    0     0    0\n",
              "2          0     1945        50600000      50600000  ...    0    0     0    0\n",
              "3          0      475        17482650       8064000  ...    0    0     0    0\n",
              "4          1     1628          319000        225000  ...    0    0     0    0\n",
              "...      ...      ...             ...           ...  ...  ...  ...   ...  ...\n",
              "2355       1     3109         2145000       2145000  ...    0    0     0    0\n",
              "2356       1       76        14219880       2415000  ...    0    0     0    0\n",
              "2357       1     2595         4673300       2475000  ...    0    0     0    0\n",
              "2358       0      790        61555880       6325000  ...    0    0     0    0\n",
              "2359       0     1419        13140920       3816000  ...    0    0     0    0\n",
              "\n",
              "[2360 rows x 74 columns]"
            ]
          },
          "metadata": {
            "tags": []
          },
          "execution_count": 264
        }
      ]
    },
    {
      "cell_type": "code",
      "metadata": {
        "colab": {
          "base_uri": "https://localhost:8080/"
        },
        "id": "_tcBxtAsQrvw",
        "outputId": "de684370-da73-4506-8899-cd6896b2a8fe"
      },
      "source": [
        "x_train_raw['gender'].value_counts()"
      ],
      "execution_count": 265,
      "outputs": [
        {
          "output_type": "execute_result",
          "data": {
            "text/plain": [
              "1    1180\n",
              "0    1180\n",
              "Name: gender, dtype: int64"
            ]
          },
          "metadata": {
            "tags": []
          },
          "execution_count": 265
        }
      ]
    },
    {
      "cell_type": "markdown",
      "metadata": {
        "id": "KEHz7auSCUw6"
      },
      "source": [
        "스케일링"
      ]
    },
    {
      "cell_type": "code",
      "metadata": {
        "colab": {
          "base_uri": "https://localhost:8080/"
        },
        "id": "3xL0Clf711Cd",
        "outputId": "4a78ac03-06f4-4dfb-9ce0-7a3abf431d38"
      },
      "source": [
        "from sklearn.model_selection import train_test_split\n",
        "\n",
        "x = x_train_selected[x_train_selected.columns[1:]].copy()\n",
        "y = x_train_selected['gender'].copy()\n",
        "\n",
        "x_train, x_valid, y_train, y_valid = sklearn.model_selection.train_test_split(x, y, random_state = SEED, test_size = 0.1, stratify = y)\n",
        "print(x_train.shape, x_valid.shape, y_train.shape, y_valid.shape)"
      ],
      "execution_count": 266,
      "outputs": [
        {
          "output_type": "stream",
          "text": [
            "(2582, 14) (287, 14) (2582,) (287,)\n"
          ],
          "name": "stdout"
        }
      ]
    },
    {
      "cell_type": "code",
      "metadata": {
        "id": "xUcC8NngCWO7"
      },
      "source": [
        "from sklearn.preprocessing import MinMaxScaler\n",
        "std = MinMaxScaler()\n",
        "x_train = std.fit_transform(x_train)\n",
        "x_valid = std.transform(x_valid)\n",
        "\n",
        "\n",
        "#x_test = std.transform(x_test_raw[x_test_raw.columns[1:]])"
      ],
      "execution_count": 267,
      "outputs": []
    },
    {
      "cell_type": "code",
      "metadata": {
        "colab": {
          "base_uri": "https://localhost:8080/",
          "height": 288
        },
        "id": "VzDC0l4ngM-J",
        "outputId": "b089b539-7e10-413d-fe39-49a44d158eae"
      },
      "source": [
        "tmp = pd.DataFrame(x_train, columns=x_train_selected.columns[1:])\n",
        "\n",
        "tmp.describe()"
      ],
      "execution_count": 268,
      "outputs": [
        {
          "output_type": "execute_result",
          "data": {
            "text/html": [
              "<div>\n",
              "<style scoped>\n",
              "    .dataframe tbody tr th:only-of-type {\n",
              "        vertical-align: middle;\n",
              "    }\n",
              "\n",
              "    .dataframe tbody tr th {\n",
              "        vertical-align: top;\n",
              "    }\n",
              "\n",
              "    .dataframe thead th {\n",
              "        text-align: right;\n",
              "    }\n",
              "</style>\n",
              "<table border=\"1\" class=\"dataframe\">\n",
              "  <thead>\n",
              "    <tr style=\"text-align: right;\">\n",
              "      <th></th>\n",
              "      <th>total_purchase</th>\n",
              "      <th>max_purchace</th>\n",
              "      <th>refund</th>\n",
              "      <th>visit</th>\n",
              "      <th>weekend_visit_ratio</th>\n",
              "      <th>weekend</th>\n",
              "      <th>골프</th>\n",
              "      <th>남성 캐주얼</th>\n",
              "      <th>남성정장</th>\n",
              "      <th>농산물</th>\n",
              "      <th>디자이너</th>\n",
              "      <th>시티웨어</th>\n",
              "      <th>주방가전</th>\n",
              "      <th>화장품</th>\n",
              "    </tr>\n",
              "  </thead>\n",
              "  <tbody>\n",
              "    <tr>\n",
              "      <th>count</th>\n",
              "      <td>2582.000000</td>\n",
              "      <td>2582.000000</td>\n",
              "      <td>2582.000000</td>\n",
              "      <td>2582.000000</td>\n",
              "      <td>2582.000000</td>\n",
              "      <td>2582.000000</td>\n",
              "      <td>2582.000000</td>\n",
              "      <td>2582.000000</td>\n",
              "      <td>2582.000000</td>\n",
              "      <td>2582.000000</td>\n",
              "      <td>2582.000000</td>\n",
              "      <td>2582.000000</td>\n",
              "      <td>2582.000000</td>\n",
              "      <td>2582.000000</td>\n",
              "    </tr>\n",
              "    <tr>\n",
              "      <th>mean</th>\n",
              "      <td>0.214893</td>\n",
              "      <td>0.071644</td>\n",
              "      <td>0.022079</td>\n",
              "      <td>0.067182</td>\n",
              "      <td>0.304751</td>\n",
              "      <td>0.110380</td>\n",
              "      <td>0.021301</td>\n",
              "      <td>0.018978</td>\n",
              "      <td>0.007359</td>\n",
              "      <td>0.090240</td>\n",
              "      <td>0.033308</td>\n",
              "      <td>0.064679</td>\n",
              "      <td>0.008133</td>\n",
              "      <td>0.075136</td>\n",
              "    </tr>\n",
              "    <tr>\n",
              "      <th>std</th>\n",
              "      <td>0.256751</td>\n",
              "      <td>0.092236</td>\n",
              "      <td>0.083210</td>\n",
              "      <td>0.106874</td>\n",
              "      <td>0.310237</td>\n",
              "      <td>0.313423</td>\n",
              "      <td>0.144415</td>\n",
              "      <td>0.136472</td>\n",
              "      <td>0.085483</td>\n",
              "      <td>0.286581</td>\n",
              "      <td>0.179473</td>\n",
              "      <td>0.246005</td>\n",
              "      <td>0.089834</td>\n",
              "      <td>0.263661</td>\n",
              "    </tr>\n",
              "    <tr>\n",
              "      <th>min</th>\n",
              "      <td>0.000000</td>\n",
              "      <td>0.000000</td>\n",
              "      <td>0.000000</td>\n",
              "      <td>0.000000</td>\n",
              "      <td>0.000000</td>\n",
              "      <td>0.000000</td>\n",
              "      <td>0.000000</td>\n",
              "      <td>0.000000</td>\n",
              "      <td>0.000000</td>\n",
              "      <td>0.000000</td>\n",
              "      <td>0.000000</td>\n",
              "      <td>0.000000</td>\n",
              "      <td>0.000000</td>\n",
              "      <td>0.000000</td>\n",
              "    </tr>\n",
              "    <tr>\n",
              "      <th>25%</th>\n",
              "      <td>0.019061</td>\n",
              "      <td>0.012525</td>\n",
              "      <td>0.000000</td>\n",
              "      <td>0.006173</td>\n",
              "      <td>0.000000</td>\n",
              "      <td>0.000000</td>\n",
              "      <td>0.000000</td>\n",
              "      <td>0.000000</td>\n",
              "      <td>0.000000</td>\n",
              "      <td>0.000000</td>\n",
              "      <td>0.000000</td>\n",
              "      <td>0.000000</td>\n",
              "      <td>0.000000</td>\n",
              "      <td>0.000000</td>\n",
              "    </tr>\n",
              "    <tr>\n",
              "      <th>50%</th>\n",
              "      <td>0.098198</td>\n",
              "      <td>0.043973</td>\n",
              "      <td>0.000000</td>\n",
              "      <td>0.024691</td>\n",
              "      <td>0.241379</td>\n",
              "      <td>0.000000</td>\n",
              "      <td>0.000000</td>\n",
              "      <td>0.000000</td>\n",
              "      <td>0.000000</td>\n",
              "      <td>0.000000</td>\n",
              "      <td>0.000000</td>\n",
              "      <td>0.000000</td>\n",
              "      <td>0.000000</td>\n",
              "      <td>0.000000</td>\n",
              "    </tr>\n",
              "    <tr>\n",
              "      <th>75%</th>\n",
              "      <td>0.338227</td>\n",
              "      <td>0.094909</td>\n",
              "      <td>0.001234</td>\n",
              "      <td>0.086420</td>\n",
              "      <td>0.475830</td>\n",
              "      <td>0.000000</td>\n",
              "      <td>0.000000</td>\n",
              "      <td>0.000000</td>\n",
              "      <td>0.000000</td>\n",
              "      <td>0.000000</td>\n",
              "      <td>0.000000</td>\n",
              "      <td>0.000000</td>\n",
              "      <td>0.000000</td>\n",
              "      <td>0.000000</td>\n",
              "    </tr>\n",
              "    <tr>\n",
              "      <th>max</th>\n",
              "      <td>1.000000</td>\n",
              "      <td>1.000000</td>\n",
              "      <td>1.000000</td>\n",
              "      <td>1.000000</td>\n",
              "      <td>1.000000</td>\n",
              "      <td>1.000000</td>\n",
              "      <td>1.000000</td>\n",
              "      <td>1.000000</td>\n",
              "      <td>1.000000</td>\n",
              "      <td>1.000000</td>\n",
              "      <td>1.000000</td>\n",
              "      <td>1.000000</td>\n",
              "      <td>1.000000</td>\n",
              "      <td>1.000000</td>\n",
              "    </tr>\n",
              "  </tbody>\n",
              "</table>\n",
              "</div>"
            ],
            "text/plain": [
              "       total_purchase  max_purchace  ...         주방가전          화장품\n",
              "count     2582.000000   2582.000000  ...  2582.000000  2582.000000\n",
              "mean         0.214893      0.071644  ...     0.008133     0.075136\n",
              "std          0.256751      0.092236  ...     0.089834     0.263661\n",
              "min          0.000000      0.000000  ...     0.000000     0.000000\n",
              "25%          0.019061      0.012525  ...     0.000000     0.000000\n",
              "50%          0.098198      0.043973  ...     0.000000     0.000000\n",
              "75%          0.338227      0.094909  ...     0.000000     0.000000\n",
              "max          1.000000      1.000000  ...     1.000000     1.000000\n",
              "\n",
              "[8 rows x 14 columns]"
            ]
          },
          "metadata": {
            "tags": []
          },
          "execution_count": 268
        }
      ]
    },
    {
      "cell_type": "markdown",
      "metadata": {
        "id": "Is6eWVA7Iiwp"
      },
      "source": [
        "t-sne"
      ]
    },
    {
      "cell_type": "code",
      "metadata": {
        "id": "a0pxGYZ5IkLJ"
      },
      "source": [
        "from sklearn.decomposition import PCA\n",
        "pca = PCA(n_components = 2)\n",
        "tt = pca.fit_transform(tmp)"
      ],
      "execution_count": 269,
      "outputs": []
    },
    {
      "cell_type": "code",
      "metadata": {
        "colab": {
          "base_uri": "https://localhost:8080/",
          "height": 1000
        },
        "id": "zbS8p5fgKrfg",
        "outputId": "538e79ba-94fa-4204-cb88-aae41a30a60b"
      },
      "source": [
        "import matplotlib.pyplot as plt\n",
        "plt.figure(figsize = (20, 20))\n",
        "plt.xlim(tt[:, 0].min() - 1, tt[:, 0].max() + 1)\n",
        "plt.ylim(tt[:, 1].min() - 1, tt[:, 1].max() + 1)\n",
        "\n",
        "for i in range(tt.shape[0]):\n",
        "    plt.text(tt[i, 0], tt[i, 1], str(y_train.values[i]))"
      ],
      "execution_count": 270,
      "outputs": [
        {
          "output_type": "display_data",
          "data": {
            "image/png": "[encoded data removed]",
            "text/plain": [
              "<Figure size 1440x1440 with 1 Axes>"
            ]
          },
          "metadata": {
            "tags": [],
            "needs_background": "light"
          }
        }
      ]
    },
    {
      "cell_type": "markdown",
      "metadata": {
        "id": "pYbzQ2sX11NF"
      },
      "source": [
        "knn classifier, 신경망, 랜덤 포레스트, SVM "
      ]
    },
    {
      "cell_type": "markdown",
      "metadata": {
        "id": "kErGQ-wt791g"
      },
      "source": [
        "데이터 분할"
      ]
    },
    {
      "cell_type": "markdown",
      "metadata": {
        "id": "nElRBq0b70Zn"
      },
      "source": [
        "knn classifier"
      ]
    },
    {
      "cell_type": "markdown",
      "metadata": {
        "id": "fZi6fakzAQgi"
      },
      "source": [
        "이웃 수 그리드 서칭"
      ]
    },
    {
      "cell_type": "code",
      "metadata": {
        "colab": {
          "base_uri": "https://localhost:8080/"
        },
        "id": "NS3KHy2P774E",
        "outputId": "4f8193b9-ea2f-4ec2-91f5-b273d2b49cbc"
      },
      "source": [
        "from sklearn.neighbors import KNeighborsClassifier\n",
        "best_score = 0\n",
        "for n in range(1, 200):\n",
        "    knn = KNeighborsClassifier(n_neighbors = n)\n",
        "    knn.fit(x_train, y_train)\n",
        "    score = knn.score(x_valid, y_valid)\n",
        "    if best_score < score:\n",
        "        best_score = score\n",
        "        print('best param: ', n, 'score: ', score)"
      ],
      "execution_count": 251,
      "outputs": [
        {
          "output_type": "stream",
          "text": [
            "best param:  1 score:  0.554006968641115\n",
            "best param:  2 score:  0.5958188153310104\n",
            "best param:  10 score:  0.6167247386759582\n"
          ],
          "name": "stdout"
        }
      ]
    },
    {
      "cell_type": "code",
      "metadata": {
        "colab": {
          "base_uri": "https://localhost:8080/"
        },
        "id": "-XTL8USZx7wv",
        "outputId": "f7fc40f4-8242-48cb-d48a-d5858eaaf5ed"
      },
      "source": [
        "knn = KNeighborsClassifier(n_neighbors = 10)\n",
        "knn.fit(x_train, y_train.values)\n",
        "train_score = knn.score(x_train, y_train.values)\n",
        "valid_score = knn.score(x_valid, y_valid.values)\n",
        "\n",
        "print(train_score, valid_score)"
      ],
      "execution_count": 253,
      "outputs": [
        {
          "output_type": "stream",
          "text": [
            "0.6874515879163439 0.6167247386759582\n"
          ],
          "name": "stdout"
        }
      ]
    },
    {
      "cell_type": "markdown",
      "metadata": {
        "id": "FCTKr6W5BLJO"
      },
      "source": [
        "신경망"
      ]
    },
    {
      "cell_type": "code",
      "metadata": {
        "colab": {
          "base_uri": "https://localhost:8080/"
        },
        "id": "8WoIy9qfBKKB",
        "outputId": "57c377cb-0d91-476c-ece6-2de83a1643a8"
      },
      "source": [
        "from sklearn.neural_network import MLPClassifier\n",
        "\n",
        "best = 0\n",
        "for n in range(1, 100):\n",
        "    mlp = MLPClassifier(learning_rate_init = 0.01, random_state = SEED, max_iter = 1000, hidden_layer_sizes = [n, n])\n",
        "    mlp.fit(x_train, y_train)\n",
        "    train_score = mlp.score(x_train, y_train)\n",
        "    valid_score = mlp.score(x_valid, y_valid)\n",
        "\n",
        "    if valid_score > best:\n",
        "        best = valid_score\n",
        "        print(f'trainscore: {train_score}  validscore: {valid_score}  N = {n}')"
      ],
      "execution_count": 255,
      "outputs": [
        {
          "output_type": "stream",
          "text": [
            "trainscore: 0.5886909372579395  validscore: 0.5888501742160279  N = 1\n",
            "trainscore: 0.632842757552285  validscore: 0.6027874564459931  N = 2\n",
            "trainscore: 0.6425251742835012  validscore: 0.6167247386759582  N = 3\n",
            "trainscore: 0.6363284275755229  validscore: 0.6341463414634146  N = 5\n",
            "trainscore: 0.6371030209140202  validscore: 0.6376306620209059  N = 6\n",
            "trainscore: 0.6467854376452362  validscore: 0.6445993031358885  N = 9\n"
          ],
          "name": "stdout"
        }
      ]
    },
    {
      "cell_type": "code",
      "metadata": {
        "colab": {
          "base_uri": "https://localhost:8080/"
        },
        "id": "4-fXxTJ4_xpp",
        "outputId": "6dd265d4-1f3c-458c-f5f2-ccd4e5437975"
      },
      "source": [
        "mlp = MLPClassifier(learning_rate_init = 0.01, random_state = SEED, max_iter = 1000, hidden_layer_sizes = [9, 9])\n",
        "mlp.fit(x_train, y_train)\n",
        "train_score = mlp.score(x_train, y_train)\n",
        "valid_score = mlp.score(x_valid, y_valid)\n",
        "\n",
        "print(f'trainscore: {train_score}  validscore: {valid_score} ')"
      ],
      "execution_count": 256,
      "outputs": [
        {
          "output_type": "stream",
          "text": [
            "trainscore: 0.6467854376452362  validscore: 0.6445993031358885 \n"
          ],
          "name": "stdout"
        }
      ]
    },
    {
      "cell_type": "markdown",
      "metadata": {
        "id": "5Poc4rE5L-0l"
      },
      "source": [
        "트리"
      ]
    },
    {
      "cell_type": "code",
      "metadata": {
        "colab": {
          "base_uri": "https://localhost:8080/"
        },
        "id": "BLdI8T_w7S4P",
        "outputId": "bac42223-749f-4adf-832e-ca75ebcc74e7"
      },
      "source": [
        "from sklearn.ensemble import RandomForestClassifier\n",
        "forest = RandomForestClassifier(n_estimators = 1000, random_state = SEED, max_depth=15)\n",
        "forest.fit(x_train, y_train)\n",
        "train_score = forest.score(x_train, y_train)\n",
        "valid_score = forest.score(x_valid, y_valid)\n",
        "\n",
        "print(f'trainscore: {train_score}  validscore: {valid_score} ')"
      ],
      "execution_count": 261,
      "outputs": [
        {
          "output_type": "stream",
          "text": [
            "trainscore: 0.9182804027885361  validscore: 0.6306620209059234 \n"
          ],
          "name": "stdout"
        }
      ]
    },
    {
      "cell_type": "code",
      "metadata": {
        "colab": {
          "base_uri": "https://localhost:8080/"
        },
        "id": "ELvXbGU3M4aY",
        "outputId": "262499a8-8303-4827-e120-c53df344a33d"
      },
      "source": [
        "from sklearn.ensemble import GradientBoostingClassifier\n",
        "forest = GradientBoostingClassifier(n_estimators = 10, random_state = SEED, max_depth=5, learning_rate=0.05)\n",
        "forest.fit(x_train, y_train)\n",
        "train_score = forest.score(x_train, y_train)\n",
        "valid_score = forest.score(x_valid, y_valid)\n",
        "\n",
        "print(f'trainscore: {train_score}  validscore: {valid_score} ')"
      ],
      "execution_count": 262,
      "outputs": [
        {
          "output_type": "stream",
          "text": [
            "trainscore: 0.6130906274206042  validscore: 0.5853658536585366 \n"
          ],
          "name": "stdout"
        }
      ]
    },
    {
      "cell_type": "markdown",
      "metadata": {
        "id": "lxgsvXUcf0rO"
      },
      "source": [
        "SVM"
      ]
    },
    {
      "cell_type": "code",
      "metadata": {
        "colab": {
          "base_uri": "https://localhost:8080/"
        },
        "id": "rW6zhAQ4f0T9",
        "outputId": "c4405609-9f23-4e03-b2f3-1d9a4a2c47ef"
      },
      "source": [
        "from sklearn.svm import SVC\n",
        "svm = SVC(kernel = 'rbf', C=5, gamma = 0.01).fit(x_train, y_train)\n",
        "svm.score(x_valid, y_valid)"
      ],
      "execution_count": 276,
      "outputs": [
        {
          "output_type": "execute_result",
          "data": {
            "text/plain": [
              "0.6027874564459931"
            ]
          },
          "metadata": {
            "tags": []
          },
          "execution_count": 276
        }
      ]
    },
    {
      "cell_type": "markdown",
      "metadata": {
        "id": "WvXGRVv7eB_I"
      },
      "source": [
        "AUC"
      ]
    },
    {
      "cell_type": "code",
      "metadata": {
        "id": "9EORG4NCT1RT",
        "colab": {
          "base_uri": "https://localhost:8080/"
        },
        "outputId": "e8e01565-8908-48b6-8562-fcc6375d3c81"
      },
      "source": [
        "from sklearn.metrics import roc_auc_score\n",
        "\n",
        "roc_auc_score(y_valid, mlp.predict(x_valid))"
      ],
      "execution_count": 263,
      "outputs": [
        {
          "output_type": "execute_result",
          "data": {
            "text/plain": [
              "0.6176662320730117"
            ]
          },
          "metadata": {
            "tags": []
          },
          "execution_count": 263
        }
      ]
    },
    {
      "cell_type": "code",
      "metadata": {
        "id": "4VvqQBQYenF1"
      },
      "source": [
        ""
      ],
      "execution_count": null,
      "outputs": []
    }
  ]
}