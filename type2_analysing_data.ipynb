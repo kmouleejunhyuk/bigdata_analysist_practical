{
  "nbformat": 4,
  "nbformat_minor": 0,
  "metadata": {
    "colab": {
      "name": "type2_analysing data.ipynb",
      "provenance": [],
      "authorship_tag": "ABX9TyP0o2FWlkwHS60DHDnJ5gxE",
      "include_colab_link": true
    },
    "kernelspec": {
      "name": "python3",
      "display_name": "Python 3"
    },
    "language_info": {
      "name": "python"
    }
  },
  "cells": [
    {
      "cell_type": "markdown",
      "metadata": {
        "id": "view-in-github",
        "colab_type": "text"
      },
      "source": [
        "<a href=\"https://colab.research.google.com/github/kmouleejunhyuk/bigdata_analysist_practical/blob/main/type2_analysing_data.ipynb\" target=\"_parent\"><img src=\"https://colab.research.google.com/assets/colab-badge.svg\" alt=\"Open In Colab\"/></a>"
      ]
    },
    {
      "cell_type": "code",
      "metadata": {
        "colab": {
          "base_uri": "https://localhost:8080/"
        },
        "id": "DcuVQttNZVaz",
        "outputId": "dc7c46da-69b2-496e-9314-6b6354a08c96"
      },
      "source": [
        "#prepare data\n",
        "from google.colab import drive\n",
        "drive.mount('/gdrive')"
      ],
      "execution_count": 1,
      "outputs": [
        {
          "output_type": "stream",
          "text": [
            "Drive already mounted at /gdrive; to attempt to forcibly remount, call drive.mount(\"/gdrive\", force_remount=True).\n"
          ],
          "name": "stdout"
        }
      ]
    },
    {
      "cell_type": "code",
      "metadata": {
        "id": "r84PjdNPZxC9"
      },
      "source": [
        "PATH ='/gdrive/MyDrive/big_2021/data/official'\n",
        "SEED = 49"
      ],
      "execution_count": 2,
      "outputs": []
    },
    {
      "cell_type": "code",
      "metadata": {
        "id": "plS9BbcYZ-I9"
      },
      "source": [
        "import pandas as pd\n",
        "import numpy as np\n",
        "import collections\n",
        "import sklearn"
      ],
      "execution_count": 3,
      "outputs": []
    },
    {
      "cell_type": "code",
      "metadata": {
        "id": "0fKjPRUoZ4tD"
      },
      "source": [
        "x_test_o = pd.read_csv(PATH + '/type2/X_test.csv', encoding = 'cp949')\n",
        "x_train_o = pd.read_csv(PATH + '/type2/X_train.csv', encoding = 'cp949')\n",
        "y_train_o = pd.read_csv(PATH + '/type2/y_train.csv', encoding = 'cp949')"
      ],
      "execution_count": 95,
      "outputs": []
    },
    {
      "cell_type": "code",
      "metadata": {
        "id": "lDVyQlN0q8_p"
      },
      "source": [
        "x_test_raw = x_test_o.copy()\n",
        "x_train_raw = x_train_o.copy()\n",
        "y_train_raw = y_train_o.copy()"
      ],
      "execution_count": 96,
      "outputs": []
    },
    {
      "cell_type": "code",
      "metadata": {
        "colab": {
          "base_uri": "https://localhost:8080/"
        },
        "id": "R3yiaPLfw8JE",
        "outputId": "880aa3d5-fc3b-41f5-b69e-9ff98315aaee"
      },
      "source": [
        "x_train_raw.shape"
      ],
      "execution_count": 97,
      "outputs": [
        {
          "output_type": "execute_result",
          "data": {
            "text/plain": [
              "(3500, 10)"
            ]
          },
          "metadata": {
            "tags": []
          },
          "execution_count": 97
        }
      ]
    },
    {
      "cell_type": "code",
      "metadata": {
        "colab": {
          "base_uri": "https://localhost:8080/"
        },
        "id": "fLKEhv90xBRU",
        "outputId": "3846d0c2-b47a-448f-ddda-b1f20ba4264f"
      },
      "source": [
        "y_train_raw.shape"
      ],
      "execution_count": 98,
      "outputs": [
        {
          "output_type": "execute_result",
          "data": {
            "text/plain": [
              "(3500, 2)"
            ]
          },
          "metadata": {
            "tags": []
          },
          "execution_count": 98
        }
      ]
    },
    {
      "cell_type": "code",
      "metadata": {
        "colab": {
          "base_uri": "https://localhost:8080/"
        },
        "id": "sZx3f48yw_Y0",
        "outputId": "ffdd1f44-116b-487c-da53-69d06b56907c"
      },
      "source": [
        "x_test_raw.shape"
      ],
      "execution_count": 99,
      "outputs": [
        {
          "output_type": "execute_result",
          "data": {
            "text/plain": [
              "(2482, 10)"
            ]
          },
          "metadata": {
            "tags": []
          },
          "execution_count": 99
        }
      ]
    },
    {
      "cell_type": "code",
      "metadata": {
        "colab": {
          "base_uri": "https://localhost:8080/",
          "height": 198
        },
        "id": "5Unp4qb5aCDf",
        "outputId": "f614fc4b-3d76-4482-95cc-3bb36ef2c987"
      },
      "source": [
        "x_test_raw.head()"
      ],
      "execution_count": 100,
      "outputs": [
        {
          "output_type": "execute_result",
          "data": {
            "text/html": [
              "<div>\n",
              "<style scoped>\n",
              "    .dataframe tbody tr th:only-of-type {\n",
              "        vertical-align: middle;\n",
              "    }\n",
              "\n",
              "    .dataframe tbody tr th {\n",
              "        vertical-align: top;\n",
              "    }\n",
              "\n",
              "    .dataframe thead th {\n",
              "        text-align: right;\n",
              "    }\n",
              "</style>\n",
              "<table border=\"1\" class=\"dataframe\">\n",
              "  <thead>\n",
              "    <tr style=\"text-align: right;\">\n",
              "      <th></th>\n",
              "      <th>cust_id</th>\n",
              "      <th>총구매액</th>\n",
              "      <th>최대구매액</th>\n",
              "      <th>환불금액</th>\n",
              "      <th>주구매상품</th>\n",
              "      <th>주구매지점</th>\n",
              "      <th>내점일수</th>\n",
              "      <th>내점당구매건수</th>\n",
              "      <th>주말방문비율</th>\n",
              "      <th>구매주기</th>\n",
              "    </tr>\n",
              "  </thead>\n",
              "  <tbody>\n",
              "    <tr>\n",
              "      <th>0</th>\n",
              "      <td>3500</td>\n",
              "      <td>70900400</td>\n",
              "      <td>22000000</td>\n",
              "      <td>4050000.0</td>\n",
              "      <td>골프</td>\n",
              "      <td>부산본점</td>\n",
              "      <td>13</td>\n",
              "      <td>1.461538</td>\n",
              "      <td>0.789474</td>\n",
              "      <td>26</td>\n",
              "    </tr>\n",
              "    <tr>\n",
              "      <th>1</th>\n",
              "      <td>3501</td>\n",
              "      <td>310533100</td>\n",
              "      <td>38558000</td>\n",
              "      <td>48034700.0</td>\n",
              "      <td>농산물</td>\n",
              "      <td>잠실점</td>\n",
              "      <td>90</td>\n",
              "      <td>2.433333</td>\n",
              "      <td>0.369863</td>\n",
              "      <td>3</td>\n",
              "    </tr>\n",
              "    <tr>\n",
              "      <th>2</th>\n",
              "      <td>3502</td>\n",
              "      <td>305264140</td>\n",
              "      <td>14825000</td>\n",
              "      <td>30521000.0</td>\n",
              "      <td>가공식품</td>\n",
              "      <td>본  점</td>\n",
              "      <td>101</td>\n",
              "      <td>14.623762</td>\n",
              "      <td>0.083277</td>\n",
              "      <td>3</td>\n",
              "    </tr>\n",
              "    <tr>\n",
              "      <th>3</th>\n",
              "      <td>3503</td>\n",
              "      <td>7594080</td>\n",
              "      <td>5225000</td>\n",
              "      <td>NaN</td>\n",
              "      <td>주방용품</td>\n",
              "      <td>부산본점</td>\n",
              "      <td>5</td>\n",
              "      <td>2.000000</td>\n",
              "      <td>0.000000</td>\n",
              "      <td>47</td>\n",
              "    </tr>\n",
              "    <tr>\n",
              "      <th>4</th>\n",
              "      <td>3504</td>\n",
              "      <td>1795790</td>\n",
              "      <td>1411200</td>\n",
              "      <td>NaN</td>\n",
              "      <td>수산품</td>\n",
              "      <td>청량리점</td>\n",
              "      <td>3</td>\n",
              "      <td>2.666667</td>\n",
              "      <td>0.125000</td>\n",
              "      <td>8</td>\n",
              "    </tr>\n",
              "  </tbody>\n",
              "</table>\n",
              "</div>"
            ],
            "text/plain": [
              "   cust_id       총구매액     최대구매액        환불금액  ... 내점일수    내점당구매건수    주말방문비율  구매주기\n",
              "0     3500   70900400  22000000   4050000.0  ...   13   1.461538  0.789474    26\n",
              "1     3501  310533100  38558000  48034700.0  ...   90   2.433333  0.369863     3\n",
              "2     3502  305264140  14825000  30521000.0  ...  101  14.623762  0.083277     3\n",
              "3     3503    7594080   5225000         NaN  ...    5   2.000000  0.000000    47\n",
              "4     3504    1795790   1411200         NaN  ...    3   2.666667  0.125000     8\n",
              "\n",
              "[5 rows x 10 columns]"
            ]
          },
          "metadata": {
            "tags": []
          },
          "execution_count": 100
        }
      ]
    },
    {
      "cell_type": "code",
      "metadata": {
        "colab": {
          "base_uri": "https://localhost:8080/",
          "height": 198
        },
        "id": "Ziuue_mkf4AD",
        "outputId": "6e7ff823-48c9-4649-9878-be5940b79b5d"
      },
      "source": [
        "x_train_raw.head()"
      ],
      "execution_count": 101,
      "outputs": [
        {
          "output_type": "execute_result",
          "data": {
            "text/html": [
              "<div>\n",
              "<style scoped>\n",
              "    .dataframe tbody tr th:only-of-type {\n",
              "        vertical-align: middle;\n",
              "    }\n",
              "\n",
              "    .dataframe tbody tr th {\n",
              "        vertical-align: top;\n",
              "    }\n",
              "\n",
              "    .dataframe thead th {\n",
              "        text-align: right;\n",
              "    }\n",
              "</style>\n",
              "<table border=\"1\" class=\"dataframe\">\n",
              "  <thead>\n",
              "    <tr style=\"text-align: right;\">\n",
              "      <th></th>\n",
              "      <th>cust_id</th>\n",
              "      <th>총구매액</th>\n",
              "      <th>최대구매액</th>\n",
              "      <th>환불금액</th>\n",
              "      <th>주구매상품</th>\n",
              "      <th>주구매지점</th>\n",
              "      <th>내점일수</th>\n",
              "      <th>내점당구매건수</th>\n",
              "      <th>주말방문비율</th>\n",
              "      <th>구매주기</th>\n",
              "    </tr>\n",
              "  </thead>\n",
              "  <tbody>\n",
              "    <tr>\n",
              "      <th>0</th>\n",
              "      <td>0</td>\n",
              "      <td>68282840</td>\n",
              "      <td>11264000</td>\n",
              "      <td>6860000.0</td>\n",
              "      <td>기타</td>\n",
              "      <td>강남점</td>\n",
              "      <td>19</td>\n",
              "      <td>3.894737</td>\n",
              "      <td>0.527027</td>\n",
              "      <td>17</td>\n",
              "    </tr>\n",
              "    <tr>\n",
              "      <th>1</th>\n",
              "      <td>1</td>\n",
              "      <td>2136000</td>\n",
              "      <td>2136000</td>\n",
              "      <td>300000.0</td>\n",
              "      <td>스포츠</td>\n",
              "      <td>잠실점</td>\n",
              "      <td>2</td>\n",
              "      <td>1.500000</td>\n",
              "      <td>0.000000</td>\n",
              "      <td>1</td>\n",
              "    </tr>\n",
              "    <tr>\n",
              "      <th>2</th>\n",
              "      <td>2</td>\n",
              "      <td>3197000</td>\n",
              "      <td>1639000</td>\n",
              "      <td>NaN</td>\n",
              "      <td>남성 캐주얼</td>\n",
              "      <td>관악점</td>\n",
              "      <td>2</td>\n",
              "      <td>2.000000</td>\n",
              "      <td>0.000000</td>\n",
              "      <td>1</td>\n",
              "    </tr>\n",
              "    <tr>\n",
              "      <th>3</th>\n",
              "      <td>3</td>\n",
              "      <td>16077620</td>\n",
              "      <td>4935000</td>\n",
              "      <td>NaN</td>\n",
              "      <td>기타</td>\n",
              "      <td>광주점</td>\n",
              "      <td>18</td>\n",
              "      <td>2.444444</td>\n",
              "      <td>0.318182</td>\n",
              "      <td>16</td>\n",
              "    </tr>\n",
              "    <tr>\n",
              "      <th>4</th>\n",
              "      <td>4</td>\n",
              "      <td>29050000</td>\n",
              "      <td>24000000</td>\n",
              "      <td>NaN</td>\n",
              "      <td>보석</td>\n",
              "      <td>본  점</td>\n",
              "      <td>2</td>\n",
              "      <td>1.500000</td>\n",
              "      <td>0.000000</td>\n",
              "      <td>85</td>\n",
              "    </tr>\n",
              "  </tbody>\n",
              "</table>\n",
              "</div>"
            ],
            "text/plain": [
              "   cust_id      총구매액     최대구매액       환불금액  ... 내점일수   내점당구매건수    주말방문비율  구매주기\n",
              "0        0  68282840  11264000  6860000.0  ...   19  3.894737  0.527027    17\n",
              "1        1   2136000   2136000   300000.0  ...    2  1.500000  0.000000     1\n",
              "2        2   3197000   1639000        NaN  ...    2  2.000000  0.000000     1\n",
              "3        3  16077620   4935000        NaN  ...   18  2.444444  0.318182    16\n",
              "4        4  29050000  24000000        NaN  ...    2  1.500000  0.000000    85\n",
              "\n",
              "[5 rows x 10 columns]"
            ]
          },
          "metadata": {
            "tags": []
          },
          "execution_count": 101
        }
      ]
    },
    {
      "cell_type": "code",
      "metadata": {
        "colab": {
          "base_uri": "https://localhost:8080/",
          "height": 198
        },
        "id": "mQos6428f8yq",
        "outputId": "2d31b842-27e2-4325-be28-963102d1ef27"
      },
      "source": [
        "y_train_raw.head()"
      ],
      "execution_count": 102,
      "outputs": [
        {
          "output_type": "execute_result",
          "data": {
            "text/html": [
              "<div>\n",
              "<style scoped>\n",
              "    .dataframe tbody tr th:only-of-type {\n",
              "        vertical-align: middle;\n",
              "    }\n",
              "\n",
              "    .dataframe tbody tr th {\n",
              "        vertical-align: top;\n",
              "    }\n",
              "\n",
              "    .dataframe thead th {\n",
              "        text-align: right;\n",
              "    }\n",
              "</style>\n",
              "<table border=\"1\" class=\"dataframe\">\n",
              "  <thead>\n",
              "    <tr style=\"text-align: right;\">\n",
              "      <th></th>\n",
              "      <th>cust_id</th>\n",
              "      <th>gender</th>\n",
              "    </tr>\n",
              "  </thead>\n",
              "  <tbody>\n",
              "    <tr>\n",
              "      <th>0</th>\n",
              "      <td>0</td>\n",
              "      <td>0</td>\n",
              "    </tr>\n",
              "    <tr>\n",
              "      <th>1</th>\n",
              "      <td>1</td>\n",
              "      <td>0</td>\n",
              "    </tr>\n",
              "    <tr>\n",
              "      <th>2</th>\n",
              "      <td>2</td>\n",
              "      <td>1</td>\n",
              "    </tr>\n",
              "    <tr>\n",
              "      <th>3</th>\n",
              "      <td>3</td>\n",
              "      <td>1</td>\n",
              "    </tr>\n",
              "    <tr>\n",
              "      <th>4</th>\n",
              "      <td>4</td>\n",
              "      <td>0</td>\n",
              "    </tr>\n",
              "  </tbody>\n",
              "</table>\n",
              "</div>"
            ],
            "text/plain": [
              "   cust_id  gender\n",
              "0        0       0\n",
              "1        1       0\n",
              "2        2       1\n",
              "3        3       1\n",
              "4        4       0"
            ]
          },
          "metadata": {
            "tags": []
          },
          "execution_count": 102
        }
      ]
    },
    {
      "cell_type": "markdown",
      "metadata": {
        "id": "MOKagAGZgM4f"
      },
      "source": [
        "#EDA"
      ]
    },
    {
      "cell_type": "code",
      "metadata": {
        "colab": {
          "base_uri": "https://localhost:8080/"
        },
        "id": "KlCoDs1Kf_M7",
        "outputId": "35280d27-35cb-43f2-900a-059d13fc4bd5"
      },
      "source": [
        "y_train_raw['gender'].value_counts()"
      ],
      "execution_count": 103,
      "outputs": [
        {
          "output_type": "execute_result",
          "data": {
            "text/plain": [
              "0    2184\n",
              "1    1316\n",
              "Name: gender, dtype: int64"
            ]
          },
          "metadata": {
            "tags": []
          },
          "execution_count": 103
        }
      ]
    },
    {
      "cell_type": "markdown",
      "metadata": {
        "id": "0SHzKripgbkP"
      },
      "source": [
        "여자가 남자보다 약 2배 많은 데이터, 하지만 과적합하기엔 표본이 많다(레이블 불균형 고려 x)"
      ]
    },
    {
      "cell_type": "markdown",
      "metadata": {
        "id": "XACRrxLpwGy0"
      },
      "source": [
        "null과 duplicated 데이터를 확인한다"
      ]
    },
    {
      "cell_type": "code",
      "metadata": {
        "colab": {
          "base_uri": "https://localhost:8080/"
        },
        "id": "GBRXW1BtgRF8",
        "outputId": "7e0b11ff-3af5-47b4-e355-238665b0614b"
      },
      "source": [
        "x_train_raw.isnull().sum()"
      ],
      "execution_count": 104,
      "outputs": [
        {
          "output_type": "execute_result",
          "data": {
            "text/plain": [
              "cust_id       0\n",
              "총구매액          0\n",
              "최대구매액         0\n",
              "환불금액       2295\n",
              "주구매상품         0\n",
              "주구매지점         0\n",
              "내점일수          0\n",
              "내점당구매건수       0\n",
              "주말방문비율        0\n",
              "구매주기          0\n",
              "dtype: int64"
            ]
          },
          "metadata": {
            "tags": []
          },
          "execution_count": 104
        }
      ]
    },
    {
      "cell_type": "code",
      "metadata": {
        "colab": {
          "base_uri": "https://localhost:8080/"
        },
        "id": "Z9OVtYvbguSw",
        "outputId": "18a3dd24-24ed-47dd-99db-e8e120d2bcae"
      },
      "source": [
        "x_test_raw.isnull().sum()"
      ],
      "execution_count": 105,
      "outputs": [
        {
          "output_type": "execute_result",
          "data": {
            "text/plain": [
              "cust_id       0\n",
              "총구매액          0\n",
              "최대구매액         0\n",
              "환불금액       1611\n",
              "주구매상품         0\n",
              "주구매지점         0\n",
              "내점일수          0\n",
              "내점당구매건수       0\n",
              "주말방문비율        0\n",
              "구매주기          0\n",
              "dtype: int64"
            ]
          },
          "metadata": {
            "tags": []
          },
          "execution_count": 105
        }
      ]
    },
    {
      "cell_type": "code",
      "metadata": {
        "colab": {
          "base_uri": "https://localhost:8080/"
        },
        "id": "8imyUEZBh4c0",
        "outputId": "a211e033-5cd6-4b11-b524-bda69985814b"
      },
      "source": [
        "y_train_raw.isnull().sum()"
      ],
      "execution_count": 106,
      "outputs": [
        {
          "output_type": "execute_result",
          "data": {
            "text/plain": [
              "cust_id    0\n",
              "gender     0\n",
              "dtype: int64"
            ]
          },
          "metadata": {
            "tags": []
          },
          "execution_count": 106
        }
      ]
    },
    {
      "cell_type": "code",
      "metadata": {
        "colab": {
          "base_uri": "https://localhost:8080/"
        },
        "id": "OYP-7b3Yv1aU",
        "outputId": "9b22ce30-22a3-48da-a0a3-c9ef5880c606"
      },
      "source": [
        "x_train_raw.duplicated().sum()"
      ],
      "execution_count": 107,
      "outputs": [
        {
          "output_type": "execute_result",
          "data": {
            "text/plain": [
              "0"
            ]
          },
          "metadata": {
            "tags": []
          },
          "execution_count": 107
        }
      ]
    },
    {
      "cell_type": "markdown",
      "metadata": {
        "id": "U0pFDKTbh29H"
      },
      "source": [
        "x의 환불금액에 null이 있다. 고객 별 환불금액이니 환불 이력이 없다는 의미. 0으로 치환한다.\n"
      ]
    },
    {
      "cell_type": "code",
      "metadata": {
        "colab": {
          "base_uri": "https://localhost:8080/"
        },
        "id": "9cWzNbQ5htuP",
        "outputId": "5877a20e-8f5a-4978-b9a6-417df9827189"
      },
      "source": [
        "x_train_raw['환불금액'].replace(np.nan, 0, inplace = True)\n",
        "x_train_raw.isnull().sum()"
      ],
      "execution_count": 108,
      "outputs": [
        {
          "output_type": "execute_result",
          "data": {
            "text/plain": [
              "cust_id    0\n",
              "총구매액       0\n",
              "최대구매액      0\n",
              "환불금액       0\n",
              "주구매상품      0\n",
              "주구매지점      0\n",
              "내점일수       0\n",
              "내점당구매건수    0\n",
              "주말방문비율     0\n",
              "구매주기       0\n",
              "dtype: int64"
            ]
          },
          "metadata": {
            "tags": []
          },
          "execution_count": 108
        }
      ]
    },
    {
      "cell_type": "code",
      "metadata": {
        "colab": {
          "base_uri": "https://localhost:8080/"
        },
        "id": "zuLg2TVRijrQ",
        "outputId": "60e906d0-1535-412e-9937-7be758dbf304"
      },
      "source": [
        "x_test_raw['환불금액'].replace(np.nan, 0, inplace = True)\n",
        "x_test_raw.isnull().sum()"
      ],
      "execution_count": 109,
      "outputs": [
        {
          "output_type": "execute_result",
          "data": {
            "text/plain": [
              "cust_id    0\n",
              "총구매액       0\n",
              "최대구매액      0\n",
              "환불금액       0\n",
              "주구매상품      0\n",
              "주구매지점      0\n",
              "내점일수       0\n",
              "내점당구매건수    0\n",
              "주말방문비율     0\n",
              "구매주기       0\n",
              "dtype: int64"
            ]
          },
          "metadata": {
            "tags": []
          },
          "execution_count": 109
        }
      ]
    },
    {
      "cell_type": "markdown",
      "metadata": {
        "id": "cmj_Z7B9i1gv"
      },
      "source": [
        "cust_id를 제외한 데이터의 분포를 살펴본다"
      ]
    },
    {
      "cell_type": "code",
      "metadata": {
        "colab": {
          "base_uri": "https://localhost:8080/",
          "height": 288
        },
        "id": "8-YOKH7bij83",
        "outputId": "2e11f9c5-f0a3-4987-e1b9-c332a89bef3f"
      },
      "source": [
        "x_train_raw[x_train_raw.columns[1:]].describe()"
      ],
      "execution_count": 110,
      "outputs": [
        {
          "output_type": "execute_result",
          "data": {
            "text/html": [
              "<div>\n",
              "<style scoped>\n",
              "    .dataframe tbody tr th:only-of-type {\n",
              "        vertical-align: middle;\n",
              "    }\n",
              "\n",
              "    .dataframe tbody tr th {\n",
              "        vertical-align: top;\n",
              "    }\n",
              "\n",
              "    .dataframe thead th {\n",
              "        text-align: right;\n",
              "    }\n",
              "</style>\n",
              "<table border=\"1\" class=\"dataframe\">\n",
              "  <thead>\n",
              "    <tr style=\"text-align: right;\">\n",
              "      <th></th>\n",
              "      <th>총구매액</th>\n",
              "      <th>최대구매액</th>\n",
              "      <th>환불금액</th>\n",
              "      <th>내점일수</th>\n",
              "      <th>내점당구매건수</th>\n",
              "      <th>주말방문비율</th>\n",
              "      <th>구매주기</th>\n",
              "    </tr>\n",
              "  </thead>\n",
              "  <tbody>\n",
              "    <tr>\n",
              "      <th>count</th>\n",
              "      <td>3.500000e+03</td>\n",
              "      <td>3.500000e+03</td>\n",
              "      <td>3.500000e+03</td>\n",
              "      <td>3500.000000</td>\n",
              "      <td>3500.000000</td>\n",
              "      <td>3500.000000</td>\n",
              "      <td>3500.000000</td>\n",
              "    </tr>\n",
              "    <tr>\n",
              "      <th>mean</th>\n",
              "      <td>9.191925e+07</td>\n",
              "      <td>1.966424e+07</td>\n",
              "      <td>8.289786e+06</td>\n",
              "      <td>19.253714</td>\n",
              "      <td>2.834963</td>\n",
              "      <td>0.307246</td>\n",
              "      <td>20.958286</td>\n",
              "    </tr>\n",
              "    <tr>\n",
              "      <th>std</th>\n",
              "      <td>1.635065e+08</td>\n",
              "      <td>3.199235e+07</td>\n",
              "      <td>3.010204e+07</td>\n",
              "      <td>27.174942</td>\n",
              "      <td>1.912368</td>\n",
              "      <td>0.289752</td>\n",
              "      <td>24.748682</td>\n",
              "    </tr>\n",
              "    <tr>\n",
              "      <th>min</th>\n",
              "      <td>-5.242152e+07</td>\n",
              "      <td>-2.992000e+06</td>\n",
              "      <td>0.000000e+00</td>\n",
              "      <td>1.000000</td>\n",
              "      <td>1.000000</td>\n",
              "      <td>0.000000</td>\n",
              "      <td>0.000000</td>\n",
              "    </tr>\n",
              "    <tr>\n",
              "      <th>25%</th>\n",
              "      <td>4.747050e+06</td>\n",
              "      <td>2.875000e+06</td>\n",
              "      <td>0.000000e+00</td>\n",
              "      <td>2.000000</td>\n",
              "      <td>1.666667</td>\n",
              "      <td>0.027291</td>\n",
              "      <td>4.000000</td>\n",
              "    </tr>\n",
              "    <tr>\n",
              "      <th>50%</th>\n",
              "      <td>2.822270e+07</td>\n",
              "      <td>9.837000e+06</td>\n",
              "      <td>0.000000e+00</td>\n",
              "      <td>8.000000</td>\n",
              "      <td>2.333333</td>\n",
              "      <td>0.256410</td>\n",
              "      <td>13.000000</td>\n",
              "    </tr>\n",
              "    <tr>\n",
              "      <th>75%</th>\n",
              "      <td>1.065079e+08</td>\n",
              "      <td>2.296250e+07</td>\n",
              "      <td>2.642250e+06</td>\n",
              "      <td>25.000000</td>\n",
              "      <td>3.375000</td>\n",
              "      <td>0.448980</td>\n",
              "      <td>28.000000</td>\n",
              "    </tr>\n",
              "    <tr>\n",
              "      <th>max</th>\n",
              "      <td>2.323180e+09</td>\n",
              "      <td>7.066290e+08</td>\n",
              "      <td>5.637530e+08</td>\n",
              "      <td>285.000000</td>\n",
              "      <td>22.083333</td>\n",
              "      <td>1.000000</td>\n",
              "      <td>166.000000</td>\n",
              "    </tr>\n",
              "  </tbody>\n",
              "</table>\n",
              "</div>"
            ],
            "text/plain": [
              "               총구매액         최대구매액  ...       주말방문비율         구매주기\n",
              "count  3.500000e+03  3.500000e+03  ...  3500.000000  3500.000000\n",
              "mean   9.191925e+07  1.966424e+07  ...     0.307246    20.958286\n",
              "std    1.635065e+08  3.199235e+07  ...     0.289752    24.748682\n",
              "min   -5.242152e+07 -2.992000e+06  ...     0.000000     0.000000\n",
              "25%    4.747050e+06  2.875000e+06  ...     0.027291     4.000000\n",
              "50%    2.822270e+07  9.837000e+06  ...     0.256410    13.000000\n",
              "75%    1.065079e+08  2.296250e+07  ...     0.448980    28.000000\n",
              "max    2.323180e+09  7.066290e+08  ...     1.000000   166.000000\n",
              "\n",
              "[8 rows x 7 columns]"
            ]
          },
          "metadata": {
            "tags": []
          },
          "execution_count": 110
        }
      ]
    },
    {
      "cell_type": "code",
      "metadata": {
        "colab": {
          "base_uri": "https://localhost:8080/"
        },
        "id": "PUz8wivIjCCt",
        "outputId": "c211ea35-8d71-4434-d7d8-92dfc6765279"
      },
      "source": [
        "x_train_raw['주구매상품'].value_counts()"
      ],
      "execution_count": 111,
      "outputs": [
        {
          "output_type": "execute_result",
          "data": {
            "text/plain": [
              "기타        595\n",
              "가공식품      546\n",
              "농산물       339\n",
              "화장품       264\n",
              "시티웨어      213\n",
              "디자이너      193\n",
              "수산품       153\n",
              "캐주얼       101\n",
              "명품        100\n",
              "섬유잡화       98\n",
              "골프         82\n",
              "스포츠        69\n",
              "일용잡화       64\n",
              "육류         57\n",
              "모피/피혁      57\n",
              "남성 캐주얼     55\n",
              "구두         54\n",
              "건강식품       47\n",
              "차/커피       44\n",
              "아동         40\n",
              "피혁잡화       40\n",
              "축산가공       35\n",
              "주방용품       32\n",
              "셔츠         30\n",
              "젓갈/반찬      29\n",
              "주방가전       26\n",
              "트래디셔널      23\n",
              "남성정장       22\n",
              "생활잡화       15\n",
              "주류         14\n",
              "가구         10\n",
              "커리어         9\n",
              "란제리/내의      8\n",
              "대형가전        8\n",
              "식기          7\n",
              "액세서리        5\n",
              "침구/수예       4\n",
              "통신/컴퓨터      3\n",
              "보석          3\n",
              "남성 트랜디      2\n",
              "소형가전        2\n",
              "악기          2\n",
              "Name: 주구매상품, dtype: int64"
            ]
          },
          "metadata": {
            "tags": []
          },
          "execution_count": 111
        }
      ]
    },
    {
      "cell_type": "code",
      "metadata": {
        "colab": {
          "base_uri": "https://localhost:8080/"
        },
        "id": "wZe1ziJdjhnU",
        "outputId": "045aa9f2-ec47-4a1e-cce3-a1519b57d2f8"
      },
      "source": [
        "x_train_raw['주구매지점'].value_counts()"
      ],
      "execution_count": 112,
      "outputs": [
        {
          "output_type": "execute_result",
          "data": {
            "text/plain": [
              "본  점     1077\n",
              "잠실점       474\n",
              "분당점       436\n",
              "부산본점      245\n",
              "영등포점      241\n",
              "일산점       198\n",
              "강남점       145\n",
              "광주점       114\n",
              "노원점        90\n",
              "청량리점       86\n",
              "대전점        70\n",
              "미아점        69\n",
              "부평점        57\n",
              "동래점        49\n",
              "관악점        46\n",
              "인천점        34\n",
              "안양점        29\n",
              "포항점        11\n",
              "대구점         7\n",
              "센텀시티점       6\n",
              "울산점         6\n",
              "전주점         5\n",
              "창원점         4\n",
              "상인점         1\n",
              "Name: 주구매지점, dtype: int64"
            ]
          },
          "metadata": {
            "tags": []
          },
          "execution_count": 112
        }
      ]
    },
    {
      "cell_type": "code",
      "metadata": {
        "colab": {
          "base_uri": "https://localhost:8080/"
        },
        "id": "XUMGENYak1KI",
        "outputId": "eedccdab-c7c9-46a6-bedf-52372e81d6af"
      },
      "source": [
        "set(x_test_raw['주구매상품'].value_counts().index).difference(set(x_train_raw['주구매상품'].value_counts().index))"
      ],
      "execution_count": 113,
      "outputs": [
        {
          "output_type": "execute_result",
          "data": {
            "text/plain": [
              "set()"
            ]
          },
          "metadata": {
            "tags": []
          },
          "execution_count": 113
        }
      ]
    },
    {
      "cell_type": "code",
      "metadata": {
        "colab": {
          "base_uri": "https://localhost:8080/"
        },
        "id": "Ti5F6fjNlzgA",
        "outputId": "600fa51c-ad5c-4a62-e3b7-1251c778a209"
      },
      "source": [
        "set(x_test_raw['주구매지점'].value_counts().index).difference(set(x_train_raw['주구매지점'].value_counts().index))"
      ],
      "execution_count": 114,
      "outputs": [
        {
          "output_type": "execute_result",
          "data": {
            "text/plain": [
              "set()"
            ]
          },
          "metadata": {
            "tags": []
          },
          "execution_count": 114
        }
      ]
    },
    {
      "cell_type": "markdown",
      "metadata": {
        "id": "xIW3CQqOotdq"
      },
      "source": [
        "범주 변환 시 oob 에러는 일어나지 않는다"
      ]
    },
    {
      "cell_type": "markdown",
      "metadata": {
        "id": "NX2-H0UykM8Y"
      },
      "source": [
        "get_dummies하기엔 너무 많은 범주형 변수. 각 변수에 정수를 할당한다"
      ]
    },
    {
      "cell_type": "code",
      "metadata": {
        "id": "Cqbk6cmgj5To"
      },
      "source": [
        "changedict_sangpoom = {}\n",
        "for idx, key in enumerate(x_train_raw['주구매상품'].value_counts().index):\n",
        "    changedict_sangpoom[key] = changedict_sangpoom.get(key, 0) + idx"
      ],
      "execution_count": 115,
      "outputs": []
    },
    {
      "cell_type": "code",
      "metadata": {
        "id": "kFtaxObHm179"
      },
      "source": [
        "changedict_jijum = {}\n",
        "for idx, key in enumerate(x_train_raw['주구매지점'].value_counts().index):\n",
        "    changedict_jijum[key] = changedict_jijum.get(key, 0) + idx"
      ],
      "execution_count": 116,
      "outputs": []
    },
    {
      "cell_type": "code",
      "metadata": {
        "id": "dyYFu_riqzFa"
      },
      "source": [
        "x_train_raw['주구매지점'] = x_train_raw['주구매지점'].replace(changedict_jijum)"
      ],
      "execution_count": 117,
      "outputs": []
    },
    {
      "cell_type": "code",
      "metadata": {
        "id": "73_l_bGErfEM"
      },
      "source": [
        "x_test_raw['주구매지점'] = x_test_raw['주구매지점'].replace(changedict_jijum)"
      ],
      "execution_count": 118,
      "outputs": []
    },
    {
      "cell_type": "code",
      "metadata": {
        "id": "jBpdePKArkou"
      },
      "source": [
        "x_train_raw['주구매상품'] = x_train_raw['주구매상품'].replace(changedict_sangpoom)"
      ],
      "execution_count": 119,
      "outputs": []
    },
    {
      "cell_type": "code",
      "metadata": {
        "id": "sqYSMaWXrrLy"
      },
      "source": [
        "x_test_raw['주구매상품'] = x_test_raw['주구매상품'].replace(changedict_sangpoom)"
      ],
      "execution_count": 120,
      "outputs": []
    },
    {
      "cell_type": "code",
      "metadata": {
        "colab": {
          "base_uri": "https://localhost:8080/",
          "height": 198
        },
        "id": "D-ci11Gjrt4z",
        "outputId": "393fb754-658b-487a-d8c8-25ec52f3cc61"
      },
      "source": [
        "x_train_raw.head()"
      ],
      "execution_count": 121,
      "outputs": [
        {
          "output_type": "execute_result",
          "data": {
            "text/html": [
              "<div>\n",
              "<style scoped>\n",
              "    .dataframe tbody tr th:only-of-type {\n",
              "        vertical-align: middle;\n",
              "    }\n",
              "\n",
              "    .dataframe tbody tr th {\n",
              "        vertical-align: top;\n",
              "    }\n",
              "\n",
              "    .dataframe thead th {\n",
              "        text-align: right;\n",
              "    }\n",
              "</style>\n",
              "<table border=\"1\" class=\"dataframe\">\n",
              "  <thead>\n",
              "    <tr style=\"text-align: right;\">\n",
              "      <th></th>\n",
              "      <th>cust_id</th>\n",
              "      <th>총구매액</th>\n",
              "      <th>최대구매액</th>\n",
              "      <th>환불금액</th>\n",
              "      <th>주구매상품</th>\n",
              "      <th>주구매지점</th>\n",
              "      <th>내점일수</th>\n",
              "      <th>내점당구매건수</th>\n",
              "      <th>주말방문비율</th>\n",
              "      <th>구매주기</th>\n",
              "    </tr>\n",
              "  </thead>\n",
              "  <tbody>\n",
              "    <tr>\n",
              "      <th>0</th>\n",
              "      <td>0</td>\n",
              "      <td>68282840</td>\n",
              "      <td>11264000</td>\n",
              "      <td>6860000.0</td>\n",
              "      <td>0</td>\n",
              "      <td>6</td>\n",
              "      <td>19</td>\n",
              "      <td>3.894737</td>\n",
              "      <td>0.527027</td>\n",
              "      <td>17</td>\n",
              "    </tr>\n",
              "    <tr>\n",
              "      <th>1</th>\n",
              "      <td>1</td>\n",
              "      <td>2136000</td>\n",
              "      <td>2136000</td>\n",
              "      <td>300000.0</td>\n",
              "      <td>11</td>\n",
              "      <td>1</td>\n",
              "      <td>2</td>\n",
              "      <td>1.500000</td>\n",
              "      <td>0.000000</td>\n",
              "      <td>1</td>\n",
              "    </tr>\n",
              "    <tr>\n",
              "      <th>2</th>\n",
              "      <td>2</td>\n",
              "      <td>3197000</td>\n",
              "      <td>1639000</td>\n",
              "      <td>0.0</td>\n",
              "      <td>15</td>\n",
              "      <td>14</td>\n",
              "      <td>2</td>\n",
              "      <td>2.000000</td>\n",
              "      <td>0.000000</td>\n",
              "      <td>1</td>\n",
              "    </tr>\n",
              "    <tr>\n",
              "      <th>3</th>\n",
              "      <td>3</td>\n",
              "      <td>16077620</td>\n",
              "      <td>4935000</td>\n",
              "      <td>0.0</td>\n",
              "      <td>0</td>\n",
              "      <td>7</td>\n",
              "      <td>18</td>\n",
              "      <td>2.444444</td>\n",
              "      <td>0.318182</td>\n",
              "      <td>16</td>\n",
              "    </tr>\n",
              "    <tr>\n",
              "      <th>4</th>\n",
              "      <td>4</td>\n",
              "      <td>29050000</td>\n",
              "      <td>24000000</td>\n",
              "      <td>0.0</td>\n",
              "      <td>38</td>\n",
              "      <td>0</td>\n",
              "      <td>2</td>\n",
              "      <td>1.500000</td>\n",
              "      <td>0.000000</td>\n",
              "      <td>85</td>\n",
              "    </tr>\n",
              "  </tbody>\n",
              "</table>\n",
              "</div>"
            ],
            "text/plain": [
              "   cust_id      총구매액     최대구매액       환불금액  ...  내점일수   내점당구매건수    주말방문비율  구매주기\n",
              "0        0  68282840  11264000  6860000.0  ...    19  3.894737  0.527027    17\n",
              "1        1   2136000   2136000   300000.0  ...     2  1.500000  0.000000     1\n",
              "2        2   3197000   1639000        0.0  ...     2  2.000000  0.000000     1\n",
              "3        3  16077620   4935000        0.0  ...    18  2.444444  0.318182    16\n",
              "4        4  29050000  24000000        0.0  ...     2  1.500000  0.000000    85\n",
              "\n",
              "[5 rows x 10 columns]"
            ]
          },
          "metadata": {
            "tags": []
          },
          "execution_count": 121
        }
      ]
    },
    {
      "cell_type": "code",
      "metadata": {
        "colab": {
          "base_uri": "https://localhost:8080/",
          "height": 198
        },
        "id": "YmRrjXpPrwUB",
        "outputId": "d881072f-2c15-45e1-d358-dea40a9a4fd6"
      },
      "source": [
        "x_test_raw.head()"
      ],
      "execution_count": 122,
      "outputs": [
        {
          "output_type": "execute_result",
          "data": {
            "text/html": [
              "<div>\n",
              "<style scoped>\n",
              "    .dataframe tbody tr th:only-of-type {\n",
              "        vertical-align: middle;\n",
              "    }\n",
              "\n",
              "    .dataframe tbody tr th {\n",
              "        vertical-align: top;\n",
              "    }\n",
              "\n",
              "    .dataframe thead th {\n",
              "        text-align: right;\n",
              "    }\n",
              "</style>\n",
              "<table border=\"1\" class=\"dataframe\">\n",
              "  <thead>\n",
              "    <tr style=\"text-align: right;\">\n",
              "      <th></th>\n",
              "      <th>cust_id</th>\n",
              "      <th>총구매액</th>\n",
              "      <th>최대구매액</th>\n",
              "      <th>환불금액</th>\n",
              "      <th>주구매상품</th>\n",
              "      <th>주구매지점</th>\n",
              "      <th>내점일수</th>\n",
              "      <th>내점당구매건수</th>\n",
              "      <th>주말방문비율</th>\n",
              "      <th>구매주기</th>\n",
              "    </tr>\n",
              "  </thead>\n",
              "  <tbody>\n",
              "    <tr>\n",
              "      <th>0</th>\n",
              "      <td>3500</td>\n",
              "      <td>70900400</td>\n",
              "      <td>22000000</td>\n",
              "      <td>4050000.0</td>\n",
              "      <td>10</td>\n",
              "      <td>3</td>\n",
              "      <td>13</td>\n",
              "      <td>1.461538</td>\n",
              "      <td>0.789474</td>\n",
              "      <td>26</td>\n",
              "    </tr>\n",
              "    <tr>\n",
              "      <th>1</th>\n",
              "      <td>3501</td>\n",
              "      <td>310533100</td>\n",
              "      <td>38558000</td>\n",
              "      <td>48034700.0</td>\n",
              "      <td>2</td>\n",
              "      <td>1</td>\n",
              "      <td>90</td>\n",
              "      <td>2.433333</td>\n",
              "      <td>0.369863</td>\n",
              "      <td>3</td>\n",
              "    </tr>\n",
              "    <tr>\n",
              "      <th>2</th>\n",
              "      <td>3502</td>\n",
              "      <td>305264140</td>\n",
              "      <td>14825000</td>\n",
              "      <td>30521000.0</td>\n",
              "      <td>1</td>\n",
              "      <td>0</td>\n",
              "      <td>101</td>\n",
              "      <td>14.623762</td>\n",
              "      <td>0.083277</td>\n",
              "      <td>3</td>\n",
              "    </tr>\n",
              "    <tr>\n",
              "      <th>3</th>\n",
              "      <td>3503</td>\n",
              "      <td>7594080</td>\n",
              "      <td>5225000</td>\n",
              "      <td>0.0</td>\n",
              "      <td>22</td>\n",
              "      <td>3</td>\n",
              "      <td>5</td>\n",
              "      <td>2.000000</td>\n",
              "      <td>0.000000</td>\n",
              "      <td>47</td>\n",
              "    </tr>\n",
              "    <tr>\n",
              "      <th>4</th>\n",
              "      <td>3504</td>\n",
              "      <td>1795790</td>\n",
              "      <td>1411200</td>\n",
              "      <td>0.0</td>\n",
              "      <td>6</td>\n",
              "      <td>9</td>\n",
              "      <td>3</td>\n",
              "      <td>2.666667</td>\n",
              "      <td>0.125000</td>\n",
              "      <td>8</td>\n",
              "    </tr>\n",
              "  </tbody>\n",
              "</table>\n",
              "</div>"
            ],
            "text/plain": [
              "   cust_id       총구매액     최대구매액        환불금액  ...  내점일수    내점당구매건수    주말방문비율  구매주기\n",
              "0     3500   70900400  22000000   4050000.0  ...    13   1.461538  0.789474    26\n",
              "1     3501  310533100  38558000  48034700.0  ...    90   2.433333  0.369863     3\n",
              "2     3502  305264140  14825000  30521000.0  ...   101  14.623762  0.083277     3\n",
              "3     3503    7594080   5225000         0.0  ...     5   2.000000  0.000000    47\n",
              "4     3504    1795790   1411200         0.0  ...     3   2.666667  0.125000     8\n",
              "\n",
              "[5 rows x 10 columns]"
            ]
          },
          "metadata": {
            "tags": []
          },
          "execution_count": 122
        }
      ]
    },
    {
      "cell_type": "markdown",
      "metadata": {
        "id": "A9ylnNXZuhMT"
      },
      "source": [
        "분류가 잘 되는 데이터인지 아닌지 확인하는 작업은 생략"
      ]
    },
    {
      "cell_type": "markdown",
      "metadata": {
        "id": "Dv2z8M4aupJ7"
      },
      "source": [
        "상관계수 측정(다중공선성 확인)"
      ]
    },
    {
      "cell_type": "code",
      "metadata": {
        "colab": {
          "base_uri": "https://localhost:8080/",
          "height": 348
        },
        "id": "9ZgkqB9ww1g0",
        "outputId": "358f9bb8-3c24-4115-ec70-4a033717c7b8"
      },
      "source": [
        "tmp = pd.concat([x_train_raw, y_train_raw], axis = 1)\n",
        "tmp.drop('cust_id', axis = 1, inplace = True)\n",
        "tmp.corr()"
      ],
      "execution_count": 123,
      "outputs": [
        {
          "output_type": "execute_result",
          "data": {
            "text/html": [
              "<div>\n",
              "<style scoped>\n",
              "    .dataframe tbody tr th:only-of-type {\n",
              "        vertical-align: middle;\n",
              "    }\n",
              "\n",
              "    .dataframe tbody tr th {\n",
              "        vertical-align: top;\n",
              "    }\n",
              "\n",
              "    .dataframe thead th {\n",
              "        text-align: right;\n",
              "    }\n",
              "</style>\n",
              "<table border=\"1\" class=\"dataframe\">\n",
              "  <thead>\n",
              "    <tr style=\"text-align: right;\">\n",
              "      <th></th>\n",
              "      <th>총구매액</th>\n",
              "      <th>최대구매액</th>\n",
              "      <th>환불금액</th>\n",
              "      <th>주구매상품</th>\n",
              "      <th>주구매지점</th>\n",
              "      <th>내점일수</th>\n",
              "      <th>내점당구매건수</th>\n",
              "      <th>주말방문비율</th>\n",
              "      <th>구매주기</th>\n",
              "      <th>gender</th>\n",
              "    </tr>\n",
              "  </thead>\n",
              "  <tbody>\n",
              "    <tr>\n",
              "      <th>총구매액</th>\n",
              "      <td>1.000000</td>\n",
              "      <td>0.700080</td>\n",
              "      <td>0.467686</td>\n",
              "      <td>-0.137667</td>\n",
              "      <td>0.005441</td>\n",
              "      <td>0.659084</td>\n",
              "      <td>0.090022</td>\n",
              "      <td>0.014396</td>\n",
              "      <td>-0.212944</td>\n",
              "      <td>-0.150141</td>\n",
              "    </tr>\n",
              "    <tr>\n",
              "      <th>최대구매액</th>\n",
              "      <td>0.700080</td>\n",
              "      <td>1.000000</td>\n",
              "      <td>0.429504</td>\n",
              "      <td>-0.091331</td>\n",
              "      <td>-0.018803</td>\n",
              "      <td>0.374147</td>\n",
              "      <td>0.018980</td>\n",
              "      <td>0.022277</td>\n",
              "      <td>-0.115837</td>\n",
              "      <td>-0.114323</td>\n",
              "    </tr>\n",
              "    <tr>\n",
              "      <th>환불금액</th>\n",
              "      <td>0.467686</td>\n",
              "      <td>0.429504</td>\n",
              "      <td>1.000000</td>\n",
              "      <td>-0.062095</td>\n",
              "      <td>0.009513</td>\n",
              "      <td>0.377570</td>\n",
              "      <td>-0.003871</td>\n",
              "      <td>-0.024707</td>\n",
              "      <td>-0.137362</td>\n",
              "      <td>-0.114327</td>\n",
              "    </tr>\n",
              "    <tr>\n",
              "      <th>주구매상품</th>\n",
              "      <td>-0.137667</td>\n",
              "      <td>-0.091331</td>\n",
              "      <td>-0.062095</td>\n",
              "      <td>1.000000</td>\n",
              "      <td>-0.037408</td>\n",
              "      <td>-0.255051</td>\n",
              "      <td>-0.287413</td>\n",
              "      <td>0.039600</td>\n",
              "      <td>0.033833</td>\n",
              "      <td>0.130923</td>\n",
              "    </tr>\n",
              "    <tr>\n",
              "      <th>주구매지점</th>\n",
              "      <td>0.005441</td>\n",
              "      <td>-0.018803</td>\n",
              "      <td>0.009513</td>\n",
              "      <td>-0.037408</td>\n",
              "      <td>1.000000</td>\n",
              "      <td>0.024101</td>\n",
              "      <td>0.118926</td>\n",
              "      <td>0.023203</td>\n",
              "      <td>-0.013568</td>\n",
              "      <td>0.010559</td>\n",
              "    </tr>\n",
              "    <tr>\n",
              "      <th>내점일수</th>\n",
              "      <td>0.659084</td>\n",
              "      <td>0.374147</td>\n",
              "      <td>0.377570</td>\n",
              "      <td>-0.255051</td>\n",
              "      <td>0.024101</td>\n",
              "      <td>1.000000</td>\n",
              "      <td>0.225264</td>\n",
              "      <td>-0.010325</td>\n",
              "      <td>-0.293200</td>\n",
              "      <td>-0.155000</td>\n",
              "    </tr>\n",
              "    <tr>\n",
              "      <th>내점당구매건수</th>\n",
              "      <td>0.090022</td>\n",
              "      <td>0.018980</td>\n",
              "      <td>-0.003871</td>\n",
              "      <td>-0.287413</td>\n",
              "      <td>0.118926</td>\n",
              "      <td>0.225264</td>\n",
              "      <td>1.000000</td>\n",
              "      <td>0.007659</td>\n",
              "      <td>-0.091151</td>\n",
              "      <td>-0.043917</td>\n",
              "    </tr>\n",
              "    <tr>\n",
              "      <th>주말방문비율</th>\n",
              "      <td>0.014396</td>\n",
              "      <td>0.022277</td>\n",
              "      <td>-0.024707</td>\n",
              "      <td>0.039600</td>\n",
              "      <td>0.023203</td>\n",
              "      <td>-0.010325</td>\n",
              "      <td>0.007659</td>\n",
              "      <td>1.000000</td>\n",
              "      <td>0.003372</td>\n",
              "      <td>0.073598</td>\n",
              "    </tr>\n",
              "    <tr>\n",
              "      <th>구매주기</th>\n",
              "      <td>-0.212944</td>\n",
              "      <td>-0.115837</td>\n",
              "      <td>-0.137362</td>\n",
              "      <td>0.033833</td>\n",
              "      <td>-0.013568</td>\n",
              "      <td>-0.293200</td>\n",
              "      <td>-0.091151</td>\n",
              "      <td>0.003372</td>\n",
              "      <td>1.000000</td>\n",
              "      <td>0.041450</td>\n",
              "    </tr>\n",
              "    <tr>\n",
              "      <th>gender</th>\n",
              "      <td>-0.150141</td>\n",
              "      <td>-0.114323</td>\n",
              "      <td>-0.114327</td>\n",
              "      <td>0.130923</td>\n",
              "      <td>0.010559</td>\n",
              "      <td>-0.155000</td>\n",
              "      <td>-0.043917</td>\n",
              "      <td>0.073598</td>\n",
              "      <td>0.041450</td>\n",
              "      <td>1.000000</td>\n",
              "    </tr>\n",
              "  </tbody>\n",
              "</table>\n",
              "</div>"
            ],
            "text/plain": [
              "             총구매액     최대구매액      환불금액  ...    주말방문비율      구매주기    gender\n",
              "총구매액     1.000000  0.700080  0.467686  ...  0.014396 -0.212944 -0.150141\n",
              "최대구매액    0.700080  1.000000  0.429504  ...  0.022277 -0.115837 -0.114323\n",
              "환불금액     0.467686  0.429504  1.000000  ... -0.024707 -0.137362 -0.114327\n",
              "주구매상품   -0.137667 -0.091331 -0.062095  ...  0.039600  0.033833  0.130923\n",
              "주구매지점    0.005441 -0.018803  0.009513  ...  0.023203 -0.013568  0.010559\n",
              "내점일수     0.659084  0.374147  0.377570  ... -0.010325 -0.293200 -0.155000\n",
              "내점당구매건수  0.090022  0.018980 -0.003871  ...  0.007659 -0.091151 -0.043917\n",
              "주말방문비율   0.014396  0.022277 -0.024707  ...  1.000000  0.003372  0.073598\n",
              "구매주기    -0.212944 -0.115837 -0.137362  ...  0.003372  1.000000  0.041450\n",
              "gender  -0.150141 -0.114323 -0.114327  ...  0.073598  0.041450  1.000000\n",
              "\n",
              "[10 rows x 10 columns]"
            ]
          },
          "metadata": {
            "tags": []
          },
          "execution_count": 123
        }
      ]
    },
    {
      "cell_type": "markdown",
      "metadata": {
        "id": "6po_6s_gvhs9"
      },
      "source": [
        "총구매액, 최대구매액이 상관도가 높으나 0.9 이하는 제거하지 않기로 결정."
      ]
    },
    {
      "cell_type": "code",
      "metadata": {
        "id": "S-ajTD_u3ptW"
      },
      "source": [
        "tmp = x_train_raw.copy()\n",
        "mapper = {'총구매액': 'total_purchase', '최대구매액': 'max_purchace', '환불금액': 'refund', '주구매상품': 'main_merch', '주구매지점': 'main_office', '내점일수': 'visit', '내점당구매건수': 'purchace_per_visit', '주말방문비율': 'weekend_visit_ratio', '구매주기': 'purchace_period'}\n",
        "tmp = tmp.rename(mapper, axis = 1)"
      ],
      "execution_count": 124,
      "outputs": []
    },
    {
      "cell_type": "code",
      "metadata": {
        "colab": {
          "base_uri": "https://localhost:8080/",
          "height": 1000
        },
        "id": "XfX4vWma4ztP",
        "outputId": "60f4ab33-9a27-4d1e-a161-d4474a73bbe4"
      },
      "source": [
        "tmp.hist(figsize = (20, 20))"
      ],
      "execution_count": 125,
      "outputs": [
        {
          "output_type": "execute_result",
          "data": {
            "text/plain": [
              "array([[<matplotlib.axes._subplots.AxesSubplot object at 0x7fc93acb8c90>,\n",
              "        <matplotlib.axes._subplots.AxesSubplot object at 0x7fc9323bfb10>,\n",
              "        <matplotlib.axes._subplots.AxesSubplot object at 0x7fc93237b1d0>],\n",
              "       [<matplotlib.axes._subplots.AxesSubplot object at 0x7fc93232a850>,\n",
              "        <matplotlib.axes._subplots.AxesSubplot object at 0x7fc9322e1ed0>,\n",
              "        <matplotlib.axes._subplots.AxesSubplot object at 0x7fc9322a3590>],\n",
              "       [<matplotlib.axes._subplots.AxesSubplot object at 0x7fc932257c90>,\n",
              "        <matplotlib.axes._subplots.AxesSubplot object at 0x7fc93221b290>,\n",
              "        <matplotlib.axes._subplots.AxesSubplot object at 0x7fc93221b2d0>],\n",
              "       [<matplotlib.axes._subplots.AxesSubplot object at 0x7fc9321d0a50>,\n",
              "        <matplotlib.axes._subplots.AxesSubplot object at 0x7fc93214ea50>,\n",
              "        <matplotlib.axes._subplots.AxesSubplot object at 0x7fc932105e10>]],\n",
              "      dtype=object)"
            ]
          },
          "metadata": {
            "tags": []
          },
          "execution_count": 125
        },
        {
          "output_type": "display_data",
          "data": {
            "image/png": "[encoded data removed]",
            "text/plain": [
              "<Figure size 1440x1440 with 12 Axes>"
            ]
          },
          "metadata": {
            "tags": [],
            "needs_background": "light"
          }
        }
      ]
    },
    {
      "cell_type": "markdown",
      "metadata": {
        "id": "KEHz7auSCUw6"
      },
      "source": [
        "스케일링"
      ]
    },
    {
      "cell_type": "code",
      "metadata": {
        "colab": {
          "base_uri": "https://localhost:8080/"
        },
        "id": "3xL0Clf711Cd",
        "outputId": "e4b2b40f-dc65-49c1-f85f-70da385f661e"
      },
      "source": [
        "from sklearn.model_selection import train_test_split\n",
        "\n",
        "x = x_train_raw[x_train_raw.columns[1:]].copy()\n",
        "y = y_train_raw['gender'].copy()\n",
        "\n",
        "x_train, x_valid, y_train, y_valid = sklearn.model_selection.train_test_split(x, y, random_state = SEED, test_size = 0.1, stratify = y)\n",
        "print(x_train.shape, x_valid.shape, y_train.shape, y_valid.shape)"
      ],
      "execution_count": 151,
      "outputs": [
        {
          "output_type": "stream",
          "text": [
            "(3150, 9) (350, 9) (3150,) (350,)\n"
          ],
          "name": "stdout"
        }
      ]
    },
    {
      "cell_type": "code",
      "metadata": {
        "id": "xUcC8NngCWO7"
      },
      "source": [
        "from sklearn.preprocessing import StandardScaler\n",
        "std = StandardScaler()\n",
        "x_train = std.fit_transform(x_train)\n",
        "x_valid = std.transform(x_valid)\n",
        "\n",
        "\n",
        "x_test = std.transform(x_test_raw[x_test_raw.columns[1:]])"
      ],
      "execution_count": 152,
      "outputs": []
    },
    {
      "cell_type": "markdown",
      "metadata": {
        "id": "pYbzQ2sX11NF"
      },
      "source": [
        "knn classifier, 신경망, 랜덤 포레스트, SVM "
      ]
    },
    {
      "cell_type": "markdown",
      "metadata": {
        "id": "kErGQ-wt791g"
      },
      "source": [
        "데이터 분할"
      ]
    },
    {
      "cell_type": "markdown",
      "metadata": {
        "id": "nElRBq0b70Zn"
      },
      "source": [
        "knn classifier"
      ]
    },
    {
      "cell_type": "markdown",
      "metadata": {
        "id": "fZi6fakzAQgi"
      },
      "source": [
        "이웃 수 그리드 서칭"
      ]
    },
    {
      "cell_type": "code",
      "metadata": {
        "colab": {
          "base_uri": "https://localhost:8080/"
        },
        "id": "NS3KHy2P774E",
        "outputId": "a0d7dc76-63d6-408e-e03d-1c5af875f631"
      },
      "source": [
        "from sklearn.neighbors import KNeighborsClassifier\n",
        "best_score = 0\n",
        "for n in range(1, 200):\n",
        "    knn = KNeighborsClassifier(n_neighbors = n)\n",
        "    knn.fit(x_train, y_train.values)\n",
        "    score = knn.score(x_valid, y_valid.values)\n",
        "    if best_score < score:\n",
        "        best_score = score\n",
        "        print('best param: ', n, 'score: ', score)"
      ],
      "execution_count": 128,
      "outputs": [
        {
          "output_type": "stream",
          "text": [
            "best param:  1 score:  0.5514285714285714\n",
            "best param:  2 score:  0.6285714285714286\n",
            "best param:  4 score:  0.6428571428571429\n",
            "best param:  6 score:  0.6542857142857142\n",
            "best param:  9 score:  0.6657142857142857\n",
            "best param:  13 score:  0.6714285714285714\n"
          ],
          "name": "stdout"
        }
      ]
    },
    {
      "cell_type": "code",
      "metadata": {
        "colab": {
          "base_uri": "https://localhost:8080/"
        },
        "id": "-XTL8USZx7wv",
        "outputId": "77ecc808-dd29-4dc0-b488-52b21fc6fd94"
      },
      "source": [
        "knn = KNeighborsClassifier(n_neighbors = 13)\n",
        "knn.fit(x_train, y_train.values)\n",
        "train_score = knn.score(x_train, y_train.values)\n",
        "valid_score = knn.score(x_valid, y_valid.values)\n",
        "\n",
        "print(train_score, valid_score)"
      ],
      "execution_count": 143,
      "outputs": [
        {
          "output_type": "stream",
          "text": [
            "0.6838095238095238 0.6114285714285714\n"
          ],
          "name": "stdout"
        }
      ]
    },
    {
      "cell_type": "markdown",
      "metadata": {
        "id": "FCTKr6W5BLJO"
      },
      "source": [
        "신경망"
      ]
    },
    {
      "cell_type": "code",
      "metadata": {
        "colab": {
          "base_uri": "https://localhost:8080/"
        },
        "id": "8WoIy9qfBKKB",
        "outputId": "9e0e077e-1f98-488f-cdad-e2fdcaa583b1"
      },
      "source": [
        "from sklearn.neural_network import MLPClassifier\n",
        "\n",
        "best = 0\n",
        "for n in range(1, 100):\n",
        "    mlp = MLPClassifier(learning_rate_init = 0.01, random_state = SEED, max_iter = 1000, hidden_layer_sizes = [n, n])\n",
        "    mlp.fit(x_train, y_train)\n",
        "    train_score = mlp.score(x_train, y_train)\n",
        "    valid_score = mlp.score(x_valid, y_valid)\n",
        "\n",
        "    if valid_score > best:\n",
        "        best = valid_score\n",
        "        print(f'trainscore: {train_score}  validscore: {valid_score}  N = {n}')"
      ],
      "execution_count": 82,
      "outputs": [
        {
          "output_type": "stream",
          "text": [
            "trainscore: 0.6377777777777778  validscore: 0.6428571428571429  N = 1\n",
            "trainscore: 0.6476190476190476  validscore: 0.6485714285714286  N = 3\n",
            "trainscore: 0.6612698412698412  validscore: 0.6571428571428571  N = 5\n",
            "trainscore: 0.7676190476190476  validscore: 0.66  N = 24\n",
            "trainscore: 0.8968253968253969  validscore: 0.6714285714285714  N = 60\n",
            "trainscore: 0.9041269841269841  validscore: 0.68  N = 61\n"
          ],
          "name": "stdout"
        }
      ]
    },
    {
      "cell_type": "code",
      "metadata": {
        "colab": {
          "base_uri": "https://localhost:8080/"
        },
        "id": "4-fXxTJ4_xpp",
        "outputId": "75a4b924-eb16-4f84-9287-376e9e11995d"
      },
      "source": [
        "mlp = MLPClassifier(learning_rate_init = 0.01, random_state = SEED, max_iter = 1000, hidden_layer_sizes = [61, 61])\n",
        "mlp.fit(x_train, y_train)\n",
        "train_score = mlp.score(x_train, y_train)\n",
        "valid_score = mlp.score(x_valid, y_valid)\n",
        "\n",
        "print(f'trainscore: {train_score}  validscore: {valid_score} ')"
      ],
      "execution_count": 142,
      "outputs": [
        {
          "output_type": "stream",
          "text": [
            "trainscore: 0.626984126984127  validscore: 0.6228571428571429 \n"
          ],
          "name": "stdout"
        }
      ]
    },
    {
      "cell_type": "markdown",
      "metadata": {
        "id": "5Poc4rE5L-0l"
      },
      "source": [
        "트리"
      ]
    },
    {
      "cell_type": "code",
      "metadata": {
        "colab": {
          "base_uri": "https://localhost:8080/"
        },
        "id": "BLdI8T_w7S4P",
        "outputId": "975b11b8-654a-49ea-ffcf-3f3b35dd175e"
      },
      "source": [
        "from sklearn.ensemble import RandomForestClassifier\n",
        "forest = RandomForestClassifier(n_estimators = 1000, random_state = SEED, max_depth=20)\n",
        "forest.fit(x_train, y_train)\n",
        "train_score = forest.score(x_train, y_train)\n",
        "valid_score = forest.score(x_valid, y_valid)\n",
        "\n",
        "print(f'trainscore: {train_score}  validscore: {valid_score} ')"
      ],
      "execution_count": 146,
      "outputs": [
        {
          "output_type": "stream",
          "text": [
            "trainscore: 0.9993650793650793  validscore: 0.6657142857142857 \n"
          ],
          "name": "stdout"
        }
      ]
    },
    {
      "cell_type": "code",
      "metadata": {
        "colab": {
          "base_uri": "https://localhost:8080/"
        },
        "id": "ELvXbGU3M4aY",
        "outputId": "b203fe6f-bca7-42bb-be15-57d01f8deecc"
      },
      "source": [
        "from sklearn.ensemble import GradientBoostingClassifier\n",
        "forest = GradientBoostingClassifier(n_estimators = 20, random_state = SEED, max_depth=5, learning_rate=0.1)\n",
        "forest.fit(x_train, y_train)\n",
        "train_score = forest.score(x_train, y_train)\n",
        "valid_score = forest.score(x_valid, y_valid)\n",
        "\n",
        "print(f'trainscore: {train_score}  validscore: {valid_score} ')"
      ],
      "execution_count": 165,
      "outputs": [
        {
          "output_type": "stream",
          "text": [
            "trainscore: 0.7422222222222222  validscore: 0.6485714285714286 \n"
          ],
          "name": "stdout"
        }
      ]
    },
    {
      "cell_type": "code",
      "metadata": {
        "id": "CfAshRmEOxOV"
      },
      "source": [
        ""
      ],
      "execution_count": null,
      "outputs": []
    }
  ]
}