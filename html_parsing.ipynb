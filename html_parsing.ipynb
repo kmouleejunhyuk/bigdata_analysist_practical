{
  "nbformat": 4,
  "nbformat_minor": 0,
  "metadata": {
    "colab": {
      "name": "html parsing.ipynb",
      "provenance": [],
      "authorship_tag": "ABX9TyNSyZ196Q57u17ctiByc5F0",
      "include_colab_link": true
    },
    "kernelspec": {
      "name": "python3",
      "display_name": "Python 3"
    },
    "language_info": {
      "name": "python"
    }
  },
  "cells": [
    {
      "cell_type": "markdown",
      "metadata": {
        "id": "view-in-github",
        "colab_type": "text"
      },
      "source": [
        "<a href=\"https://colab.research.google.com/github/kmouleejunhyuk/bigdata_analysist_practical/blob/main/html_parsing.ipynb\" target=\"_parent\"><img src=\"https://colab.research.google.com/assets/colab-badge.svg\" alt=\"Open In Colab\"/></a>"
      ]
    },
    {
      "cell_type": "code",
      "metadata": {
        "colab": {
          "base_uri": "https://localhost:8080/"
        },
        "id": "-zsRlR8RD8CP",
        "outputId": "45fa414f-4a17-4e92-896e-09b5d632c5a3"
      },
      "source": [
        "from google.colab import drive\n",
        "drive.mount('/gdrive')\n",
        "\n",
        "root='/gdrive/My Drive/html/'"
      ],
      "execution_count": 1,
      "outputs": [
        {
          "output_type": "stream",
          "text": [
            "Mounted at /gdrive\n"
          ],
          "name": "stdout"
        }
      ]
    },
    {
      "cell_type": "code",
      "metadata": {
        "id": "HRU6pgMlDMsj"
      },
      "source": [
        "from bs4 import BeautifulSoup as bs\n",
        "import os\n",
        "soup = bs(open(root + '1.html'))#bs(markup, 'xml)"
      ],
      "execution_count": 2,
      "outputs": []
    },
    {
      "cell_type": "code",
      "metadata": {
        "colab": {
          "base_uri": "https://localhost:8080/"
        },
        "id": "iov8Lz6sEKz_",
        "outputId": "d953a021-4930-4b7a-8d7c-f6334bc88339"
      },
      "source": [
        "print(soup.prettify())"
      ],
      "execution_count": 6,
      "outputs": [
        {
          "output_type": "stream",
          "text": [
            "<html>\n",
            " <head>\n",
            "  <title>\n",
            "   The Dormouse's story\n",
            "  </title>\n",
            " </head>\n",
            " <body>\n",
            "  <p class=\"title\">\n",
            "   <b>\n",
            "    The Dormouse's story\n",
            "   </b>\n",
            "  </p>\n",
            "  <p class=\"story\">\n",
            "   Once upon a time there were three little sisters; and their names were\n",
            "   <a class=\"sister\" href=\"http://example.com/elsie\" id=\"link1\">\n",
            "    Elsie\n",
            "   </a>\n",
            "   ,\n",
            "   <a class=\"sister\" href=\"http://example.com/lacie\" id=\"link2\">\n",
            "    Lacie\n",
            "   </a>\n",
            "   and\n",
            "   <a class=\"sister\" href=\"http://example.com/tillie\" id=\"link3\">\n",
            "    Tillie\n",
            "   </a>\n",
            "   ;\n",
            "and they lived at the bottom of a well.\n",
            "  </p>\n",
            "  <p class=\"story\">\n",
            "   ...\n",
            "  </p>\n",
            " </body>\n",
            "</html>\n"
          ],
          "name": "stdout"
        }
      ]
    },
    {
      "cell_type": "code",
      "metadata": {
        "colab": {
          "base_uri": "https://localhost:8080/"
        },
        "id": "5dY6hktmEXUg",
        "outputId": "6c417ea1-d71c-4f42-bf84-ca40e64bd3a7"
      },
      "source": [
        "print(soup.get_text())"
      ],
      "execution_count": 17,
      "outputs": [
        {
          "output_type": "stream",
          "text": [
            "The Dormouse's story\n",
            "The Dormouse's story\n",
            "Once upon a time there were three little sisters; and their names were\n",
            "Elsie,\n",
            "Lacie and\n",
            "Tillie;\n",
            "and they lived at the bottom of a well.\n",
            "...\n",
            "\n"
          ],
          "name": "stdout"
        }
      ]
    },
    {
      "cell_type": "code",
      "metadata": {
        "colab": {
          "base_uri": "https://localhost:8080/"
        },
        "id": "m0ZCqVFWHW8e",
        "outputId": "2d1a95fd-2d39-46fd-b7bb-8f8127e04929"
      },
      "source": [
        "soup.body.find_all('a', id = 'link3')"
      ],
      "execution_count": 57,
      "outputs": [
        {
          "output_type": "execute_result",
          "data": {
            "text/plain": [
              "[<a class=\"sister\" href=\"http://example.com/tillie\" id=\"link3\">Tillie</a>]"
            ]
          },
          "metadata": {
            "tags": []
          },
          "execution_count": 57
        }
      ]
    },
    {
      "cell_type": "code",
      "metadata": {
        "colab": {
          "base_uri": "https://localhost:8080/"
        },
        "id": "ENlrpxagIOcr",
        "outputId": "fe1c2b10-204b-40a5-f185-0a391e68352a"
      },
      "source": [
        "soup.contents"
      ],
      "execution_count": 33,
      "outputs": [
        {
          "output_type": "execute_result",
          "data": {
            "text/plain": [
              "[<html><head><title>The Dormouse's story</title></head>\n",
              " <body><p class=\"title\"><b>The Dormouse's story</b></p>\n",
              " <p class=\"story\">Once upon a time there were three little sisters; and their names were\n",
              " <a class=\"sister\" href=\"http://example.com/elsie\" id=\"link1\">Elsie</a>,\n",
              " <a class=\"sister\" href=\"http://example.com/lacie\" id=\"link2\">Lacie</a> and\n",
              " <a class=\"sister\" href=\"http://example.com/tillie\" id=\"link3\">Tillie</a>;\n",
              " and they lived at the bottom of a well.</p>\n",
              " <p class=\"story\">...</p>\n",
              " </body></html>]"
            ]
          },
          "metadata": {
            "tags": []
          },
          "execution_count": 33
        }
      ]
    },
    {
      "cell_type": "code",
      "metadata": {
        "colab": {
          "base_uri": "https://localhost:8080/"
        },
        "id": "NwYmXUaHKIuc",
        "outputId": "1628dc32-c89b-4519-e878-e27cadc9f872"
      },
      "source": [
        "for x in soup.head.descendants: #이하 모두(...</head>까지)\n",
        "    print(x)"
      ],
      "execution_count": 42,
      "outputs": [
        {
          "output_type": "stream",
          "text": [
            "<title>The Dormouse's story</title>\n",
            "The Dormouse's story\n"
          ],
          "name": "stdout"
        }
      ]
    },
    {
      "cell_type": "code",
      "metadata": {
        "colab": {
          "base_uri": "https://localhost:8080/"
        },
        "id": "BTnzGlHZKaKP",
        "outputId": "05f9200f-da15-4f6c-b2ab-b8f037da5464"
      },
      "source": [
        "for x in soup.head.children:    #직계 하나\n",
        "    print(x)"
      ],
      "execution_count": 43,
      "outputs": [
        {
          "output_type": "stream",
          "text": [
            "<title>The Dormouse's story</title>\n"
          ],
          "name": "stdout"
        }
      ]
    },
    {
      "cell_type": "code",
      "metadata": {
        "colab": {
          "base_uri": "https://localhost:8080/"
        },
        "id": "ojVSQosaK3UY",
        "outputId": "041ca91d-aa46-4897-b37a-7f73865a976f"
      },
      "source": [
        "soup.head.contents"
      ],
      "execution_count": 46,
      "outputs": [
        {
          "output_type": "execute_result",
          "data": {
            "text/plain": [
              "[<title>The Dormouse's story</title>]"
            ]
          },
          "metadata": {
            "tags": []
          },
          "execution_count": 46
        }
      ]
    },
    {
      "cell_type": "code",
      "metadata": {
        "colab": {
          "base_uri": "https://localhost:8080/",
          "height": 35
        },
        "id": "IFUhDk90LHTp",
        "outputId": "e2651d94-47f4-41da-973a-8a773bb7aed9"
      },
      "source": [
        "soup.head.string"
      ],
      "execution_count": 47,
      "outputs": [
        {
          "output_type": "execute_result",
          "data": {
            "application/vnd.google.colaboratory.intrinsic+json": {
              "type": "string"
            },
            "text/plain": [
              "\"The Dormouse's story\""
            ]
          },
          "metadata": {
            "tags": []
          },
          "execution_count": 47
        }
      ]
    },
    {
      "cell_type": "code",
      "metadata": {
        "colab": {
          "base_uri": "https://localhost:8080/"
        },
        "id": "-Vgs5F9MLpW-",
        "outputId": "747ee06f-9a1d-4f73-b947-36583d591fd2"
      },
      "source": [
        "soup.title.parent"
      ],
      "execution_count": 53,
      "outputs": [
        {
          "output_type": "execute_result",
          "data": {
            "text/plain": [
              "<head><title>The Dormouse's story</title></head>"
            ]
          },
          "metadata": {
            "tags": []
          },
          "execution_count": 53
        }
      ]
    },
    {
      "cell_type": "code",
      "metadata": {
        "colab": {
          "base_uri": "https://localhost:8080/"
        },
        "id": "vpfnct2iLbKD",
        "outputId": "96968e9a-9e64-4ed0-b0f9-457bf635bce4"
      },
      "source": [
        "for x in soup.title.parents:\n",
        "    print(x)"
      ],
      "execution_count": 49,
      "outputs": [
        {
          "output_type": "stream",
          "text": [
            "<head><title>The Dormouse's story</title></head>\n",
            "<html><head><title>The Dormouse's story</title></head>\n",
            "<body><p class=\"title\"><b>The Dormouse's story</b></p>\n",
            "<p class=\"story\">Once upon a time there were three little sisters; and their names were\n",
            "<a class=\"sister\" href=\"http://example.com/elsie\" id=\"link1\">Elsie</a>,\n",
            "<a class=\"sister\" href=\"http://example.com/lacie\" id=\"link2\">Lacie</a> and\n",
            "<a class=\"sister\" href=\"http://example.com/tillie\" id=\"link3\">Tillie</a>;\n",
            "and they lived at the bottom of a well.</p>\n",
            "<p class=\"story\">...</p>\n",
            "</body></html>\n",
            "<html><head><title>The Dormouse's story</title></head>\n",
            "<body><p class=\"title\"><b>The Dormouse's story</b></p>\n",
            "<p class=\"story\">Once upon a time there were three little sisters; and their names were\n",
            "<a class=\"sister\" href=\"http://example.com/elsie\" id=\"link1\">Elsie</a>,\n",
            "<a class=\"sister\" href=\"http://example.com/lacie\" id=\"link2\">Lacie</a> and\n",
            "<a class=\"sister\" href=\"http://example.com/tillie\" id=\"link3\">Tillie</a>;\n",
            "and they lived at the bottom of a well.</p>\n",
            "<p class=\"story\">...</p>\n",
            "</body></html>\n"
          ],
          "name": "stdout"
        }
      ]
    },
    {
      "cell_type": "code",
      "metadata": {
        "colab": {
          "base_uri": "https://localhost:8080/"
        },
        "id": "UUuy_6HILhcx",
        "outputId": "60c0a1b9-bb40-47d4-bb73-23d0aa2ff9ff"
      },
      "source": [
        "print(soup.html.parent)"
      ],
      "execution_count": 56,
      "outputs": [
        {
          "output_type": "stream",
          "text": [
            "<html><head><title>The Dormouse's story</title></head>\n",
            "<body><p class=\"title\"><b>The Dormouse's story</b></p>\n",
            "<p class=\"story\">Once upon a time there were three little sisters; and their names were\n",
            "<a class=\"sister\" href=\"http://example.com/elsie\" id=\"link1\">Elsie</a>,\n",
            "<a class=\"sister\" href=\"http://example.com/lacie\" id=\"link2\">Lacie</a> and\n",
            "<a class=\"sister\" href=\"http://example.com/tillie\" id=\"link3\">Tillie</a>;\n",
            "and they lived at the bottom of a well.</p>\n",
            "<p class=\"story\">...</p>\n",
            "</body></html>\n"
          ],
          "name": "stdout"
        }
      ]
    },
    {
      "cell_type": "code",
      "metadata": {
        "id": "CloPKWm6L5gR"
      },
      "source": [
        "#next_sibling, previous_sibling, 복수형 s"
      ],
      "execution_count": null,
      "outputs": []
    }
  ]
}