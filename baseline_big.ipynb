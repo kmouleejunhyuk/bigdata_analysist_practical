{
  "nbformat": 4,
  "nbformat_minor": 0,
  "metadata": {
    "colab": {
      "name": "baseline_big.ipynb",
      "provenance": [],
      "mount_file_id": "1-rhw7pYli3g2o98gGSz1MYXuBatoRfnA",
      "authorship_tag": "ABX9TyPgwzLgVCpSd4Scb/+p8Iol",
      "include_colab_link": true
    },
    "kernelspec": {
      "name": "python3",
      "display_name": "Python 3"
    },
    "language_info": {
      "name": "python"
    }
  },
  "cells": [
    {
      "cell_type": "markdown",
      "metadata": {
        "id": "view-in-github",
        "colab_type": "text"
      },
      "source": [
        "<a href=\"https://colab.research.google.com/github/kmouleejunhyuk/bigdata_analysist_practical/blob/main/baseline_big.ipynb\" target=\"_parent\"><img src=\"https://colab.research.google.com/assets/colab-badge.svg\" alt=\"Open In Colab\"/></a>"
      ]
    },
    {
      "cell_type": "code",
      "metadata": {
        "id": "e4ZXKoSz-1W0"
      },
      "source": [
        "#x_train\n",
        "#   Column   Non-Null Count  Dtype  \n",
        "# ---  ------   --------------  -----  \n",
        "#  0   cust_id  3500 non-null   int64  \n",
        "#  1   총구매액     3500 non-null   int64  \n",
        "#  2   최대구매액    3500 non-null   int64  \n",
        "#  3   환불금액     1205 non-null   float64\n",
        "#  4   주구매상품    3500 non-null   object \n",
        "#  5   주구매지점    3500 non-null   object \n",
        "#  6   내점일수     3500 non-null   int64  \n",
        "#  7   내점당구매건수  3500 non-null   float64\n",
        "#  8   주말방문비율   3500 non-null   float64\n",
        "#  9   구매주기     3500 non-null   int64  \n",
        "\n",
        "#y_train\n",
        "# Data columns (total 2 columns):\n",
        "#  #   Column   Non-Null Count  Dtype\n",
        "# ---  ------   --------------  -----\n",
        "#  0   cust_id  3500 non-null   int64\n",
        "#  1   gender   3500 non-null   int64"
      ],
      "execution_count": null,
      "outputs": []
    },
    {
      "cell_type": "code",
      "metadata": {
        "id": "i6Uy7w7PpuP7"
      },
      "source": [
        "import time\n",
        "st = time.time()\n",
        "import pandas as pd\n",
        "import numpy as np\n",
        "\n",
        "pd.set_option('max_columns', None)\n",
        "pd.set_option('max_rows', None)\n",
        "\n",
        "ROOT = '/content/drive/MyDrive/big_2021/data/official/type2/'\n",
        "enc = 'cp949'\n",
        "x_train = pd.read_csv(ROOT + 'X_train.csv', encoding = enc)\n",
        "y_train = pd.read_csv(ROOT + 'y_train.csv', encoding = enc)\n",
        "x_test = pd.read_csv(ROOT + 'X_test.csv', encoding = enc)\n",
        "\n",
        "import sklearn \n",
        "import scipy.stats\n",
        "\n",
        "def view_df(df: pd.DataFrame, view: bool)-> None:\n",
        "\tif view == True:\n",
        "\t\tprint(df.info())\n",
        "\t\tprint(df.describe().transpose().to_string())\n",
        "\t\tprint(df.corr().to_string())\n",
        "\t\tprint(df.isnull().sum())\n",
        "\t\t\n",
        "\treturn None\n",
        "\n",
        "test_id = x_test['cust_id']\n",
        "x_train.drop(['cust_id'], axis = 1, inplace = True)\n",
        "y_train.drop(['cust_id'], axis = 1, inplace = True)\n",
        "x_test.drop(['cust_id'], axis = 1, inplace = True)\n",
        "\n",
        "raw = pd.concat([x_train, y_train], axis = 1)\n",
        "\n",
        "VIEW = False\n",
        "view_df(raw, VIEW)\n",
        "\n",
        "#환불금액 nan 0으로 치환\n",
        "raw['환불금액'].replace({np.nan: 0}, inplace = True)\n",
        "x_test['환불금액'].replace({np.nan: 0}, inplace = True)\n",
        "\n",
        "#구매금액을 5개 그룹으로 나누어라\n",
        "hist, bins = np.histogram(raw['총구매액'], bins = 5)\n",
        "\n",
        "bins[0] = -1 * np.inf\n",
        "bins[-1] = np.inf\n",
        "raw['구매금액_cut'] = pd.cut(raw['총구매액'], bins, include_lowest = True, labels = [0, 1, 2, 3, 4])\n",
        "x_test['구매금액_cut'] = pd.cut(x_test['총구매액'], bins, include_lowest = True, labels = [0, 1, 2, 3, 4])\n",
        "\n",
        "raw['구매금액_cut'] = raw['구매금액_cut'].astype(int)\n",
        "x_test['구매금액_cut'] = x_test['구매금액_cut'].astype(int)\n",
        "\n",
        "#labelencoding\n",
        "from sklearn.preprocessing import LabelEncoder\n",
        "le_m = LabelEncoder()\n",
        "le_p = LabelEncoder()\n",
        "\n",
        "cat_cols = [x for x in raw.columns if raw[x].dtype == 'object']\n",
        "tmp = pd.concat([raw[cat_cols].copy(), x_test[cat_cols].copy()], axis = 0)\n",
        "le_m.fit(tmp['주구매상품'])\n",
        "le_p.fit(tmp['주구매지점'])\n",
        "\n",
        "raw['주구매상품'] = le_m.transform(raw['주구매상품'])\n",
        "raw['주구매지점'] = le_p.transform(raw['주구매지점'])\n",
        "x_test['주구매상품'] = le_m.transform(x_test['주구매상품'])\n",
        "x_test['주구매지점'] = le_p.transform(x_test['주구매지점'])\n",
        "\n",
        "#이상치 제거(zscore)\n",
        "from scipy.stats import zscore\n",
        "num_cols = [x for x in raw.columns if raw[x].dtype != 'object']\n",
        "raw = raw[(np.abs(zscore(raw[num_cols])) < 3).all(axis = 1)]\n",
        "\n",
        "#학습\n",
        "x_train = raw[[x for x in raw.columns if x != 'gender']]\n",
        "y_train = raw['gender']\n",
        "\n",
        "from sklearn.decomposition import PCA\n",
        "from sklearn.model_selection import cross_val_score\n",
        "from sklearn.preprocessing import StandardScaler, MinMaxScaler\n",
        "from sklearn.pipeline import Pipeline\n",
        "\n",
        "from xgboost import XGBClassifier\n",
        "from sklearn.ensemble import RandomForestClassifier\n",
        "from sklearn.neighbors import KNeighborsClassifier\n",
        "\n",
        "model = RandomForestClassifier()\n",
        "scaler = StandardScaler()\n",
        "\n",
        "pipe = Pipeline(steps=[('scaler', scaler), ('model', model)])\n",
        "\n",
        "score = cross_val_score(pipe, x_train, y_train, cv = 5, scoring = 'roc_auc')\n",
        "print(score.mean())\n",
        "\n",
        "pipe.fit(x_train, y_train)\n",
        "res = pipe.predict_proba(x_test)[:, 1]\n",
        "print(res)\n",
        "\n",
        "sub = pd.DataFrame()\n",
        "sub['custid'] = test_id\n",
        "sub['gender'] = res\n",
        "\n",
        "sub.to_csv('data/002001685.csv', index = False)\n",
        "\n",
        "\n",
        "print('time: ', time.time() - st)\n"
      ],
      "execution_count": null,
      "outputs": []
    },
    {
      "cell_type": "code",
      "metadata": {
        "id": "HY5bLB3bkv2b",
        "colab": {
          "base_uri": "https://localhost:8080/"
        },
        "outputId": "5f4edd33-43a7-4795-d347-fb2e849272a5"
      },
      "source": [
        "raw_sangpoom.toarray()"
      ],
      "execution_count": null,
      "outputs": [
        {
          "output_type": "execute_result",
          "data": {
            "text/plain": [
              "array([[0., 0., 0., ..., 0., 0., 0.],\n",
              "       [0., 0., 0., ..., 0., 0., 0.],\n",
              "       [0., 0., 0., ..., 0., 0., 0.],\n",
              "       ...,\n",
              "       [0., 0., 0., ..., 0., 0., 0.],\n",
              "       [0., 0., 0., ..., 0., 0., 1.],\n",
              "       [0., 0., 0., ..., 0., 0., 0.]])"
            ]
          },
          "metadata": {
            "tags": []
          },
          "execution_count": 9
        }
      ]
    },
    {
      "cell_type": "code",
      "metadata": {
        "id": "gqplsFXd7s38"
      },
      "source": [
        ""
      ],
      "execution_count": null,
      "outputs": []
    }
  ]
}