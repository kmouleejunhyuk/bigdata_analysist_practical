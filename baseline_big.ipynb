{
  "nbformat": 4,
  "nbformat_minor": 0,
  "metadata": {
    "colab": {
      "name": "baseline_big.ipynb",
      "provenance": [],
      "mount_file_id": "1-rhw7pYli3g2o98gGSz1MYXuBatoRfnA",
      "authorship_tag": "ABX9TyP3O0fOHTEC9KWBtAYx2M7E",
      "include_colab_link": true
    },
    "kernelspec": {
      "name": "python3",
      "display_name": "Python 3"
    },
    "language_info": {
      "name": "python"
    }
  },
  "cells": [
    {
      "cell_type": "markdown",
      "metadata": {
        "id": "view-in-github",
        "colab_type": "text"
      },
      "source": [
        "<a href=\"https://colab.research.google.com/github/kmouleejunhyuk/bigdata_analysist_practical/blob/main/baseline_big.ipynb\" target=\"_parent\"><img src=\"https://colab.research.google.com/assets/colab-badge.svg\" alt=\"Open In Colab\"/></a>"
      ]
    },
    {
      "cell_type": "code",
      "metadata": {
        "id": "e4ZXKoSz-1W0"
      },
      "source": [
        "#x_train\n",
        "#   Column   Non-Null Count  Dtype  \n",
        "# ---  ------   --------------  -----  \n",
        "#  0   cust_id  3500 non-null   int64  \n",
        "#  1   총구매액     3500 non-null   int64  \n",
        "#  2   최대구매액    3500 non-null   int64  \n",
        "#  3   환불금액     1205 non-null   float64\n",
        "#  4   주구매상품    3500 non-null   object \n",
        "#  5   주구매지점    3500 non-null   object \n",
        "#  6   내점일수     3500 non-null   int64  \n",
        "#  7   내점당구매건수  3500 non-null   float64\n",
        "#  8   주말방문비율   3500 non-null   float64\n",
        "#  9   구매주기     3500 non-null   int64  \n",
        "\n",
        "#y_train\n",
        "# Data columns (total 2 columns):\n",
        "#  #   Column   Non-Null Count  Dtype\n",
        "# ---  ------   --------------  -----\n",
        "#  0   cust_id  3500 non-null   int64\n",
        "#  1   gender   3500 non-null   int64"
      ],
      "execution_count": null,
      "outputs": []
    },
    {
      "cell_type": "code",
      "metadata": {
        "colab": {
          "base_uri": "https://localhost:8080/"
        },
        "id": "i6Uy7w7PpuP7",
        "outputId": "9ec637d8-4fd1-49cd-f56c-32e8720ddb95"
      },
      "source": [
        "import time\n",
        "st = time.time()\n",
        "import pandas as pd\n",
        "import numpy as np\n",
        "\n",
        "pd.set_option('max_columns', None)\n",
        "pd.set_option('max_rows', None)\n",
        "\n",
        "ROOT = '/content/drive/MyDrive/big_2021/data/official/type2/'\n",
        "enc = 'cp949'\n",
        "x_train = pd.read_csv(ROOT + 'X_train.csv', encoding = enc)\n",
        "y_train = pd.read_csv(ROOT + 'y_train.csv', encoding = enc)\n",
        "x_test = pd.read_csv(ROOT + 'X_test.csv', encoding = enc)\n",
        "\n",
        "x_train.drop(['cust_id'], axis = 1, inplace = True)\n",
        "y_train.drop(['cust_id'], axis = 1, inplace = True)\n",
        "\n",
        "x_test_custid = x_test['cust_id'].copy()\n",
        "x_test.drop(['cust_id'], axis = 1, inplace = True)\n",
        "\n",
        "#EDA(실제 케이스와는 다르게, 최대한 간단하게. 어차피 길어지면 못봄, 시각화 불가)\n",
        "view = False\n",
        "if view == True:\n",
        "    print(x_train.info())\n",
        "    print(x_train.describe().transpose())\n",
        "    print(x_train.isnull().sum())\n",
        "    print(y_train.info())\n",
        "\n",
        "    #주구매지점, 주구매상품 확인\n",
        "    print(x_train['주구매지점'].value_counts(normalize = True))\n",
        "    print(x_train['주구매상품'].value_counts(normalize = True))\n",
        "    print(y_train['gender'].value_counts(normalize = True))\n",
        "\n",
        "#편의를 위해 x_train과 y_train 병합(병합 시 중복 컬럼 주의)\n",
        "raw = pd.concat([x_train, y_train], axis = 1)\n",
        "\n",
        "#missing 제거\n",
        "raw['환불금액'] = raw['환불금액'].replace({np.nan: 0})\n",
        "x_test['환불금액'] = x_test['환불금액'].replace({np.nan: 0})\n",
        "\n",
        "#인코딩(주구매상품, 지점)\n",
        "# hot_dummy = pd.get_dummies(raw[['주구매상품', '주구매지점']])\n",
        "# hot_dummy_test = pd.get_dummies(x_test[['주구매상품', '주구매지점']])\n",
        "\n",
        "# hot_dummy, hot_dummy_test = hot_dummy.align(hot_dummy_test, axis = 1, fill_value = 0)\n",
        "\n",
        "# raw = pd.concat([raw, hot_dummy], axis = 1)\n",
        "# x_test = pd.concat([x_test, hot_dummy_test], axis = 1)\n",
        "\n",
        "from sklearn.preprocessing import LabelEncoder\n",
        "le = LabelEncoder()\n",
        "raw[['주구매상품', '주구매지점']] = raw[['주구매상품', '주구매지점']].apply(lambda x: le.fit_transform(x))\n",
        "x_test[['주구매상품', '주구매지점']] = x_test[['주구매상품', '주구매지점']].apply(lambda x: le.fit_transform(x))\n",
        "# print(raw['주구매상품'].value_counts(normalize = True))\n",
        "# print(raw['주구매상품'].value_counts(normalize = True))\n",
        "# print(raw['주구매지점'].value_counts(normalize = True))\n",
        "\n",
        "#매핑\n",
        "sex_mean = raw.groupby('주구매상품')['gender'].mean()\n",
        "\n",
        "raw['Mean Encoding'] = raw['주구매상품'].map(sex_mean)\n",
        "x_test['Mean Encoding'] = x_test['주구매상품'].map(sex_mean)\n",
        "\n",
        "raw.drop(['주구매상품', '주구매지점'], axis = 1, inplace = True)\n",
        "x_test.drop(['주구매상품', '주구매지점'], axis = 1, inplace = True)\n",
        "\n",
        "#이상치 제거(z_score)**\n",
        "#z_score\n",
        "from scipy.stats import zscore\n",
        "raw = raw[(np.abs(zscore(raw) < 3)).all(axis = 1)]\n",
        "\n",
        "#연관관계(다중공선성 확인, 연관 0.8이상 없음)\n",
        "corr_ = raw.corr()\n",
        "thr = 0.8\n",
        "corr_list = []\n",
        "for col in corr_.columns:\n",
        "    for ind in corr_[col].index:\n",
        "        if col != ind:\n",
        "            if np.abs(corr_.loc[ind, col]) > 0.8 and [ind, col, corr_.loc[ind, col]] not in corr_list:\n",
        "                corr_list.append([ind, col, corr_.loc[ind, col]])\n",
        "\n",
        "#print(corr_list)\n",
        "\n",
        "#pipe\n",
        "import sklearn\n",
        "from sklearn.pipeline import Pipeline\n",
        "from sklearn.preprocessing import StandardScaler\n",
        "from sklearn.model_selection import GridSearchCV\n",
        "from sklearn.metrics import classification_report\n",
        "from sklearn.ensemble import RandomForestClassifier\n",
        "\n",
        "d_col = [x for x in raw.columns if x != 'gender']\n",
        "data = raw[d_col]\n",
        "target = raw['gender']\n",
        "\n",
        "param_grid_rf = {\n",
        "    'model__n_estimators': [25, 50, 80],\n",
        "    'model__max_depth': [None, 5, 10],\n",
        "    'model__min_samples_split': [0.09, 0.1, 0.11, 0.12],\n",
        "    'model__max_features': ['auto', 'sqrt']\n",
        "}\n",
        "\n",
        "param_grid_xgb = {\n",
        "    'model__learning_rate': [0.01, 0.05, 0.1],\n",
        "    'model__n_estimators': [100, 150],\n",
        "    'model__max_depth': [3, 5]\n",
        "}\n",
        "\n",
        "param_grid_KNN = {\n",
        "    'model__leaf_size': [10, 30, 50],\n",
        "    'model__n_neighbors': [5, 10, 15, 20]\n",
        "}\n",
        "\n",
        "pipe = Pipeline([('scaler', StandardScaler()), ('model', RandomForestClassifier())])\n",
        "#print(sorted(sklearn.metrics.SCORERS.keys()))\n",
        "grid = GridSearchCV(pipe, param_grid_rf, scoring = 'roc_auc')\n",
        "\n",
        "grid.fit(data, target)\n",
        "print(grid.best_score_)\n",
        "print(grid.best_params_)\n",
        "\n",
        "res = grid.predict_proba(x_test)\n",
        "submission = pd.DataFrame()\n",
        "submission['cust_id'] = x_test_custid.values\n",
        "submission['proba'] = res[:, 0]\n",
        "\n",
        "submission.to_csv(ROOT + 'submission.csv')\n",
        "\n",
        "print('time: ', time.time() - st)\n"
      ],
      "execution_count": null,
      "outputs": [
        {
          "output_type": "stream",
          "text": [
            "0.678166196628845\n",
            "{'model__max_depth': None, 'model__max_features': 'auto', 'model__min_samples_split': 0.12, 'model__n_estimators': 80}\n",
            "time:  17.155709743499756\n"
          ],
          "name": "stdout"
        }
      ]
    },
    {
      "cell_type": "code",
      "metadata": {
        "id": "9xfYjTcKZH5s"
      },
      "source": [
        "from sklearn.preprocessing import LabelEncoder\n",
        "le = LabelEncoder()\n",
        "test1 = pd.DataFrame(['apple', 'banana', 'kiwi'], columns = ['fruit'])\n",
        "test2 = pd.DataFrame(['banana', 'sausage', 'kiwi'], columns = ['fruit'])\n",
        "\n",
        "test1['enc'] = test1.apply(lambda x: le.fit_transform(x))\n",
        "test2['enc'] = test2.apply(lambda x: le.fit_transform(x))"
      ],
      "execution_count": null,
      "outputs": []
    },
    {
      "cell_type": "code",
      "metadata": {
        "colab": {
          "base_uri": "https://localhost:8080/",
          "height": 142
        },
        "id": "c6fmpuMKeQur",
        "outputId": "6e889b9d-9832-4537-9319-496d2df25b31"
      },
      "source": [
        "test1"
      ],
      "execution_count": null,
      "outputs": [
        {
          "output_type": "execute_result",
          "data": {
            "text/html": [
              "<div>\n",
              "<style scoped>\n",
              "    .dataframe tbody tr th:only-of-type {\n",
              "        vertical-align: middle;\n",
              "    }\n",
              "\n",
              "    .dataframe tbody tr th {\n",
              "        vertical-align: top;\n",
              "    }\n",
              "\n",
              "    .dataframe thead th {\n",
              "        text-align: right;\n",
              "    }\n",
              "</style>\n",
              "<table border=\"1\" class=\"dataframe\">\n",
              "  <thead>\n",
              "    <tr style=\"text-align: right;\">\n",
              "      <th></th>\n",
              "      <th>fruit</th>\n",
              "      <th>enc</th>\n",
              "    </tr>\n",
              "  </thead>\n",
              "  <tbody>\n",
              "    <tr>\n",
              "      <th>0</th>\n",
              "      <td>apple</td>\n",
              "      <td>0</td>\n",
              "    </tr>\n",
              "    <tr>\n",
              "      <th>1</th>\n",
              "      <td>banana</td>\n",
              "      <td>1</td>\n",
              "    </tr>\n",
              "    <tr>\n",
              "      <th>2</th>\n",
              "      <td>kiwi</td>\n",
              "      <td>2</td>\n",
              "    </tr>\n",
              "  </tbody>\n",
              "</table>\n",
              "</div>"
            ],
            "text/plain": [
              "    fruit  enc\n",
              "0   apple    0\n",
              "1  banana    1\n",
              "2    kiwi    2"
            ]
          },
          "metadata": {
            "tags": []
          },
          "execution_count": 104
        }
      ]
    },
    {
      "cell_type": "code",
      "metadata": {
        "colab": {
          "base_uri": "https://localhost:8080/",
          "height": 142
        },
        "id": "g60zvr31gswm",
        "outputId": "cffddf1d-e71c-4382-ff97-1e8dfb376439"
      },
      "source": [
        "test2"
      ],
      "execution_count": null,
      "outputs": [
        {
          "output_type": "execute_result",
          "data": {
            "text/html": [
              "<div>\n",
              "<style scoped>\n",
              "    .dataframe tbody tr th:only-of-type {\n",
              "        vertical-align: middle;\n",
              "    }\n",
              "\n",
              "    .dataframe tbody tr th {\n",
              "        vertical-align: top;\n",
              "    }\n",
              "\n",
              "    .dataframe thead th {\n",
              "        text-align: right;\n",
              "    }\n",
              "</style>\n",
              "<table border=\"1\" class=\"dataframe\">\n",
              "  <thead>\n",
              "    <tr style=\"text-align: right;\">\n",
              "      <th></th>\n",
              "      <th>fruit</th>\n",
              "      <th>enc</th>\n",
              "    </tr>\n",
              "  </thead>\n",
              "  <tbody>\n",
              "    <tr>\n",
              "      <th>0</th>\n",
              "      <td>banana</td>\n",
              "      <td>0</td>\n",
              "    </tr>\n",
              "    <tr>\n",
              "      <th>1</th>\n",
              "      <td>sausage</td>\n",
              "      <td>2</td>\n",
              "    </tr>\n",
              "    <tr>\n",
              "      <th>2</th>\n",
              "      <td>kiwi</td>\n",
              "      <td>1</td>\n",
              "    </tr>\n",
              "  </tbody>\n",
              "</table>\n",
              "</div>"
            ],
            "text/plain": [
              "     fruit  enc\n",
              "0   banana    0\n",
              "1  sausage    2\n",
              "2     kiwi    1"
            ]
          },
          "metadata": {
            "tags": []
          },
          "execution_count": 105
        }
      ]
    },
    {
      "cell_type": "code",
      "metadata": {
        "colab": {
          "base_uri": "https://localhost:8080/"
        },
        "id": "J3t7Hsv4i013",
        "outputId": "47e97f24-968e-4229-8269-91df9ab8f5c6"
      },
      "source": [
        "x_train = pd.read_csv(ROOT + 'X_train.csv', encoding = enc)\n",
        "y_train = pd.read_csv(ROOT + 'y_train.csv', encoding = enc)\n",
        "x_test = pd.read_csv(ROOT + 'X_test.csv', encoding = enc)\n",
        "\n",
        "x_train['주구매상품'].value_counts()"
      ],
      "execution_count": null,
      "outputs": [
        {
          "output_type": "execute_result",
          "data": {
            "text/plain": [
              "기타        595\n",
              "가공식품      546\n",
              "농산물       339\n",
              "화장품       264\n",
              "시티웨어      213\n",
              "디자이너      193\n",
              "수산품       153\n",
              "캐주얼       101\n",
              "명품        100\n",
              "섬유잡화       98\n",
              "골프         82\n",
              "스포츠        69\n",
              "일용잡화       64\n",
              "육류         57\n",
              "모피/피혁      57\n",
              "남성 캐주얼     55\n",
              "구두         54\n",
              "건강식품       47\n",
              "차/커피       44\n",
              "피혁잡화       40\n",
              "아동         40\n",
              "축산가공       35\n",
              "주방용품       32\n",
              "셔츠         30\n",
              "젓갈/반찬      29\n",
              "주방가전       26\n",
              "트래디셔널      23\n",
              "남성정장       22\n",
              "생활잡화       15\n",
              "주류         14\n",
              "가구         10\n",
              "커리어         9\n",
              "대형가전        8\n",
              "란제리/내의      8\n",
              "식기          7\n",
              "액세서리        5\n",
              "침구/수예       4\n",
              "보석          3\n",
              "통신/컴퓨터      3\n",
              "악기          2\n",
              "남성 트랜디      2\n",
              "소형가전        2\n",
              "Name: 주구매상품, dtype: int64"
            ]
          },
          "metadata": {
            "tags": []
          },
          "execution_count": 95
        }
      ]
    },
    {
      "cell_type": "code",
      "metadata": {
        "colab": {
          "base_uri": "https://localhost:8080/"
        },
        "id": "Y_zCvxA1kp2T",
        "outputId": "874967f1-d647-4790-eda6-3786af35a8f4"
      },
      "source": [
        "x_test['주구매상품'].value_counts()"
      ],
      "execution_count": null,
      "outputs": [
        {
          "output_type": "execute_result",
          "data": {
            "text/plain": [
              "기타        465\n",
              "가공식품      395\n",
              "농산물       235\n",
              "화장품       177\n",
              "시티웨어      168\n",
              "디자이너      123\n",
              "수산품        86\n",
              "섬유잡화       72\n",
              "캐주얼        65\n",
              "명품         60\n",
              "차/커피       55\n",
              "골프         47\n",
              "모피/피혁      47\n",
              "남성 캐주얼     46\n",
              "구두         44\n",
              "스포츠        43\n",
              "육류         38\n",
              "건강식품       36\n",
              "일용잡화       30\n",
              "축산가공       28\n",
              "셔츠         25\n",
              "남성정장       25\n",
              "아동         24\n",
              "주방용품       21\n",
              "젓갈/반찬      18\n",
              "피혁잡화       16\n",
              "란제리/내의     10\n",
              "주류         10\n",
              "주방가전       10\n",
              "트래디셔널       9\n",
              "식기          8\n",
              "생활잡화        8\n",
              "가구          7\n",
              "액세서리        7\n",
              "커리어         6\n",
              "대형가전        6\n",
              "남성 트랜디      4\n",
              "통신/컴퓨터      3\n",
              "침구/수예       3\n",
              "악기          1\n",
              "보석          1\n",
              "Name: 주구매상품, dtype: int64"
            ]
          },
          "metadata": {
            "tags": []
          },
          "execution_count": 96
        }
      ]
    },
    {
      "cell_type": "code",
      "metadata": {
        "id": "HY5bLB3bkv2b"
      },
      "source": [
        ""
      ],
      "execution_count": null,
      "outputs": []
    }
  ]
}