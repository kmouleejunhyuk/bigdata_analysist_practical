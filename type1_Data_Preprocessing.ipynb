{
  "nbformat": 4,
  "nbformat_minor": 0,
  "metadata": {
    "colab": {
      "name": "type1_Data_Preprocessing.ipynb",
      "provenance": [],
      "collapsed_sections": [],
      "mount_file_id": "1FCbq63UTYM1XWHW6PZ4mAAoxUGsPJhDa",
      "authorship_tag": "ABX9TyO3ie973G8Ag3lCsIq9+ZcZ",
      "include_colab_link": true
    },
    "kernelspec": {
      "name": "python3",
      "display_name": "Python 3"
    },
    "language_info": {
      "name": "python"
    }
  },
  "cells": [
    {
      "cell_type": "markdown",
      "metadata": {
        "id": "view-in-github",
        "colab_type": "text"
      },
      "source": [
        "<a href=\"https://colab.research.google.com/github/kmouleejunhyuk/bigdata_analysist_practical/blob/main/type1_Data_Preprocessing.ipynb\" target=\"_parent\"><img src=\"https://colab.research.google.com/assets/colab-badge.svg\" alt=\"Open In Colab\"/></a>"
      ]
    },
    {
      "cell_type": "code",
      "metadata": {
        "colab": {
          "base_uri": "https://localhost:8080/"
        },
        "id": "qFfZqSesbUBn",
        "outputId": "897f2a6a-9bf8-4239-fec6-857deb6ec74e"
      },
      "source": [
        "#prepare data\n",
        "from google.colab import drive\n",
        "drive.mount('/gdrive')"
      ],
      "execution_count": 1,
      "outputs": [
        {
          "output_type": "stream",
          "text": [
            "Mounted at /gdrive\n"
          ],
          "name": "stdout"
        }
      ]
    },
    {
      "cell_type": "markdown",
      "metadata": {
        "id": "v297odJnrvYk"
      },
      "source": [
        "using modules: pandas, sklearn, matplotlib.pyplot\n"
      ]
    },
    {
      "cell_type": "code",
      "metadata": {
        "id": "JdRyUzaBd24m"
      },
      "source": [
        "import os\n",
        "import pandas as pd\n",
        "import numpy as np\n",
        "import sklearn.preprocessing as preprocess\n",
        "import sklearn\n",
        "import matplotlib.pyplot as plt\n",
        "import random"
      ],
      "execution_count": 2,
      "outputs": []
    },
    {
      "cell_type": "code",
      "metadata": {
        "id": "YA2vnEhHdCh2"
      },
      "source": [
        "PATH ='/gdrive/MyDrive/big_2021/data/official'\n",
        "SEED = 49"
      ],
      "execution_count": 3,
      "outputs": []
    },
    {
      "cell_type": "code",
      "metadata": {
        "id": "O3sGVvXYtYBa"
      },
      "source": [
        "random.seed(SEED)\n",
        "np.random.seed(SEED)"
      ],
      "execution_count": 4,
      "outputs": []
    },
    {
      "cell_type": "code",
      "metadata": {
        "id": "-UUYDqpveB1Q"
      },
      "source": [
        "type1_path = os.path.join(PATH, 'type1', 'mtcars.csv')\n",
        "\n",
        "if os.path.isfile(type1_path):\n",
        "    rawdata = pd.read_csv(type1_path)\n",
        "\n",
        "else:\n",
        "    print('wrong data file')"
      ],
      "execution_count": 5,
      "outputs": []
    },
    {
      "cell_type": "code",
      "metadata": {
        "colab": {
          "base_uri": "https://localhost:8080/",
          "height": 198
        },
        "id": "Qgx1MJQyeWyG",
        "outputId": "b341ea27-3243-414f-b295-5bd470f135f4"
      },
      "source": [
        "rawdata.head()"
      ],
      "execution_count": 6,
      "outputs": [
        {
          "output_type": "execute_result",
          "data": {
            "text/html": [
              "<div>\n",
              "<style scoped>\n",
              "    .dataframe tbody tr th:only-of-type {\n",
              "        vertical-align: middle;\n",
              "    }\n",
              "\n",
              "    .dataframe tbody tr th {\n",
              "        vertical-align: top;\n",
              "    }\n",
              "\n",
              "    .dataframe thead th {\n",
              "        text-align: right;\n",
              "    }\n",
              "</style>\n",
              "<table border=\"1\" class=\"dataframe\">\n",
              "  <thead>\n",
              "    <tr style=\"text-align: right;\">\n",
              "      <th></th>\n",
              "      <th>Unnamed: 0</th>\n",
              "      <th>mpg</th>\n",
              "      <th>cyl</th>\n",
              "      <th>disp</th>\n",
              "      <th>hp</th>\n",
              "      <th>drat</th>\n",
              "      <th>wt</th>\n",
              "      <th>qsec</th>\n",
              "      <th>vs</th>\n",
              "      <th>am</th>\n",
              "      <th>gear</th>\n",
              "      <th>carb</th>\n",
              "    </tr>\n",
              "  </thead>\n",
              "  <tbody>\n",
              "    <tr>\n",
              "      <th>0</th>\n",
              "      <td>Mazda RX4</td>\n",
              "      <td>21.0</td>\n",
              "      <td>6</td>\n",
              "      <td>160.0</td>\n",
              "      <td>110</td>\n",
              "      <td>3.90</td>\n",
              "      <td>2.620</td>\n",
              "      <td>16.46</td>\n",
              "      <td>0</td>\n",
              "      <td>1</td>\n",
              "      <td>4</td>\n",
              "      <td>4</td>\n",
              "    </tr>\n",
              "    <tr>\n",
              "      <th>1</th>\n",
              "      <td>Mazda RX4 Wag</td>\n",
              "      <td>21.0</td>\n",
              "      <td>6</td>\n",
              "      <td>160.0</td>\n",
              "      <td>110</td>\n",
              "      <td>3.90</td>\n",
              "      <td>2.875</td>\n",
              "      <td>17.02</td>\n",
              "      <td>0</td>\n",
              "      <td>1</td>\n",
              "      <td>4</td>\n",
              "      <td>4</td>\n",
              "    </tr>\n",
              "    <tr>\n",
              "      <th>2</th>\n",
              "      <td>Datsun 710</td>\n",
              "      <td>22.8</td>\n",
              "      <td>4</td>\n",
              "      <td>108.0</td>\n",
              "      <td>93</td>\n",
              "      <td>3.85</td>\n",
              "      <td>2.320</td>\n",
              "      <td>18.61</td>\n",
              "      <td>1</td>\n",
              "      <td>1</td>\n",
              "      <td>4</td>\n",
              "      <td>1</td>\n",
              "    </tr>\n",
              "    <tr>\n",
              "      <th>3</th>\n",
              "      <td>Hornet 4 Drive</td>\n",
              "      <td>21.4</td>\n",
              "      <td>6</td>\n",
              "      <td>258.0</td>\n",
              "      <td>110</td>\n",
              "      <td>3.08</td>\n",
              "      <td>3.215</td>\n",
              "      <td>19.44</td>\n",
              "      <td>1</td>\n",
              "      <td>0</td>\n",
              "      <td>3</td>\n",
              "      <td>1</td>\n",
              "    </tr>\n",
              "    <tr>\n",
              "      <th>4</th>\n",
              "      <td>Hornet Sportabout</td>\n",
              "      <td>18.7</td>\n",
              "      <td>8</td>\n",
              "      <td>360.0</td>\n",
              "      <td>175</td>\n",
              "      <td>3.15</td>\n",
              "      <td>3.440</td>\n",
              "      <td>17.02</td>\n",
              "      <td>0</td>\n",
              "      <td>0</td>\n",
              "      <td>3</td>\n",
              "      <td>2</td>\n",
              "    </tr>\n",
              "  </tbody>\n",
              "</table>\n",
              "</div>"
            ],
            "text/plain": [
              "          Unnamed: 0   mpg  cyl   disp   hp  ...   qsec  vs  am  gear  carb\n",
              "0          Mazda RX4  21.0    6  160.0  110  ...  16.46   0   1     4     4\n",
              "1      Mazda RX4 Wag  21.0    6  160.0  110  ...  17.02   0   1     4     4\n",
              "2         Datsun 710  22.8    4  108.0   93  ...  18.61   1   1     4     1\n",
              "3     Hornet 4 Drive  21.4    6  258.0  110  ...  19.44   1   0     3     1\n",
              "4  Hornet Sportabout  18.7    8  360.0  175  ...  17.02   0   0     3     2\n",
              "\n",
              "[5 rows x 12 columns]"
            ]
          },
          "metadata": {
            "tags": []
          },
          "execution_count": 6
        }
      ]
    },
    {
      "cell_type": "markdown",
      "metadata": {
        "id": "mxvZr1fJjFVO"
      },
      "source": [
        "# EDA"
      ]
    },
    {
      "cell_type": "markdown",
      "metadata": {
        "id": "r7BbbNeWrDC8"
      },
      "source": [
        "data handling\n"
      ]
    },
    {
      "cell_type": "code",
      "metadata": {
        "id": "Z-3QyFHKvW6q"
      },
      "source": [
        "modified_data = rawdata.copy()"
      ],
      "execution_count": 7,
      "outputs": []
    },
    {
      "cell_type": "code",
      "metadata": {
        "id": "tnMy2xlcnScM",
        "colab": {
          "base_uri": "https://localhost:8080/",
          "height": 108
        },
        "outputId": "4f99a237-e7e1-4faf-dc37-18cca270cf75"
      },
      "source": [
        "#add\n",
        "modified_data['dummy'] = [random.randint(1, 5) for x in range(modified_data.shape[0])]\n",
        "\n",
        "#modify column name\n",
        "modified_data.rename(columns = {'Unnamed: 0': 'Car_info'}, inplace = True)\n",
        "\n",
        "#calculations\n",
        "modified_data['dummy'] = modified_data['dummy'] * -1 / -1 + 1 - 1\n",
        "\n",
        "#excetra\n",
        "##조건 추출: 비교연산 가능\n",
        "modified_data['isdummy_3'] = [True if x != 3 else False for x in modified_data['dummy']]\n",
        "modified_data[modified_data['dummy'] == 3].head(2)"
      ],
      "execution_count": 8,
      "outputs": [
        {
          "output_type": "execute_result",
          "data": {
            "text/html": [
              "<div>\n",
              "<style scoped>\n",
              "    .dataframe tbody tr th:only-of-type {\n",
              "        vertical-align: middle;\n",
              "    }\n",
              "\n",
              "    .dataframe tbody tr th {\n",
              "        vertical-align: top;\n",
              "    }\n",
              "\n",
              "    .dataframe thead th {\n",
              "        text-align: right;\n",
              "    }\n",
              "</style>\n",
              "<table border=\"1\" class=\"dataframe\">\n",
              "  <thead>\n",
              "    <tr style=\"text-align: right;\">\n",
              "      <th></th>\n",
              "      <th>Car_info</th>\n",
              "      <th>mpg</th>\n",
              "      <th>cyl</th>\n",
              "      <th>disp</th>\n",
              "      <th>hp</th>\n",
              "      <th>drat</th>\n",
              "      <th>wt</th>\n",
              "      <th>qsec</th>\n",
              "      <th>vs</th>\n",
              "      <th>am</th>\n",
              "      <th>gear</th>\n",
              "      <th>carb</th>\n",
              "      <th>dummy</th>\n",
              "      <th>isdummy_3</th>\n",
              "    </tr>\n",
              "  </thead>\n",
              "  <tbody>\n",
              "    <tr>\n",
              "      <th>1</th>\n",
              "      <td>Mazda RX4 Wag</td>\n",
              "      <td>21.0</td>\n",
              "      <td>6</td>\n",
              "      <td>160.0</td>\n",
              "      <td>110</td>\n",
              "      <td>3.90</td>\n",
              "      <td>2.875</td>\n",
              "      <td>17.02</td>\n",
              "      <td>0</td>\n",
              "      <td>1</td>\n",
              "      <td>4</td>\n",
              "      <td>4</td>\n",
              "      <td>3.0</td>\n",
              "      <td>False</td>\n",
              "    </tr>\n",
              "    <tr>\n",
              "      <th>4</th>\n",
              "      <td>Hornet Sportabout</td>\n",
              "      <td>18.7</td>\n",
              "      <td>8</td>\n",
              "      <td>360.0</td>\n",
              "      <td>175</td>\n",
              "      <td>3.15</td>\n",
              "      <td>3.440</td>\n",
              "      <td>17.02</td>\n",
              "      <td>0</td>\n",
              "      <td>0</td>\n",
              "      <td>3</td>\n",
              "      <td>2</td>\n",
              "      <td>3.0</td>\n",
              "      <td>False</td>\n",
              "    </tr>\n",
              "  </tbody>\n",
              "</table>\n",
              "</div>"
            ],
            "text/plain": [
              "            Car_info   mpg  cyl   disp   hp  ...  am  gear  carb  dummy  isdummy_3\n",
              "1      Mazda RX4 Wag  21.0    6  160.0  110  ...   1     4     4    3.0      False\n",
              "4  Hornet Sportabout  18.7    8  360.0  175  ...   0     3     2    3.0      False\n",
              "\n",
              "[2 rows x 14 columns]"
            ]
          },
          "metadata": {
            "tags": []
          },
          "execution_count": 8
        }
      ]
    },
    {
      "cell_type": "code",
      "metadata": {
        "colab": {
          "base_uri": "https://localhost:8080/",
          "height": 138
        },
        "id": "qb2FdU-tzyTr",
        "outputId": "508bc27e-aace-4c55-aa71-abf6698911c9"
      },
      "source": [
        "##sampling\n",
        "#random_state: 스테이트 고정. 반복추출 시 사용 x\n",
        "#가중치추출은 그냥 기본으로 수행(추출후 병합)\n",
        "dummydata = modified_data[['gear', 'carb', 'isdummy_3']].copy()\n",
        "dummydata.sample(n = None, frac = 0.3, random_state = SEED, replace = False).head(3)"
      ],
      "execution_count": 9,
      "outputs": [
        {
          "output_type": "execute_result",
          "data": {
            "text/html": [
              "<div>\n",
              "<style scoped>\n",
              "    .dataframe tbody tr th:only-of-type {\n",
              "        vertical-align: middle;\n",
              "    }\n",
              "\n",
              "    .dataframe tbody tr th {\n",
              "        vertical-align: top;\n",
              "    }\n",
              "\n",
              "    .dataframe thead th {\n",
              "        text-align: right;\n",
              "    }\n",
              "</style>\n",
              "<table border=\"1\" class=\"dataframe\">\n",
              "  <thead>\n",
              "    <tr style=\"text-align: right;\">\n",
              "      <th></th>\n",
              "      <th>gear</th>\n",
              "      <th>carb</th>\n",
              "      <th>isdummy_3</th>\n",
              "    </tr>\n",
              "  </thead>\n",
              "  <tbody>\n",
              "    <tr>\n",
              "      <th>30</th>\n",
              "      <td>5</td>\n",
              "      <td>8</td>\n",
              "      <td>True</td>\n",
              "    </tr>\n",
              "    <tr>\n",
              "      <th>2</th>\n",
              "      <td>4</td>\n",
              "      <td>1</td>\n",
              "      <td>True</td>\n",
              "    </tr>\n",
              "    <tr>\n",
              "      <th>15</th>\n",
              "      <td>3</td>\n",
              "      <td>4</td>\n",
              "      <td>True</td>\n",
              "    </tr>\n",
              "  </tbody>\n",
              "</table>\n",
              "</div>"
            ],
            "text/plain": [
              "    gear  carb  isdummy_3\n",
              "30     5     8       True\n",
              "2      4     1       True\n",
              "15     3     4       True"
            ]
          },
          "metadata": {
            "tags": []
          },
          "execution_count": 9
        }
      ]
    },
    {
      "cell_type": "code",
      "metadata": {
        "id": "yjMxCYNBp0wp",
        "colab": {
          "base_uri": "https://localhost:8080/",
          "height": 138
        },
        "outputId": "b9b7476d-170f-416f-edf4-82b2a4f5a722"
      },
      "source": [
        "#drop column\n",
        "modified_data.drop(['dummy', 'isdummy_3'], axis = 1, inplace = True)\n",
        "modified_data.head(3)   #isdummy_3 컬럼이 제거됨"
      ],
      "execution_count": 10,
      "outputs": [
        {
          "output_type": "execute_result",
          "data": {
            "text/html": [
              "<div>\n",
              "<style scoped>\n",
              "    .dataframe tbody tr th:only-of-type {\n",
              "        vertical-align: middle;\n",
              "    }\n",
              "\n",
              "    .dataframe tbody tr th {\n",
              "        vertical-align: top;\n",
              "    }\n",
              "\n",
              "    .dataframe thead th {\n",
              "        text-align: right;\n",
              "    }\n",
              "</style>\n",
              "<table border=\"1\" class=\"dataframe\">\n",
              "  <thead>\n",
              "    <tr style=\"text-align: right;\">\n",
              "      <th></th>\n",
              "      <th>Car_info</th>\n",
              "      <th>mpg</th>\n",
              "      <th>cyl</th>\n",
              "      <th>disp</th>\n",
              "      <th>hp</th>\n",
              "      <th>drat</th>\n",
              "      <th>wt</th>\n",
              "      <th>qsec</th>\n",
              "      <th>vs</th>\n",
              "      <th>am</th>\n",
              "      <th>gear</th>\n",
              "      <th>carb</th>\n",
              "    </tr>\n",
              "  </thead>\n",
              "  <tbody>\n",
              "    <tr>\n",
              "      <th>0</th>\n",
              "      <td>Mazda RX4</td>\n",
              "      <td>21.0</td>\n",
              "      <td>6</td>\n",
              "      <td>160.0</td>\n",
              "      <td>110</td>\n",
              "      <td>3.90</td>\n",
              "      <td>2.620</td>\n",
              "      <td>16.46</td>\n",
              "      <td>0</td>\n",
              "      <td>1</td>\n",
              "      <td>4</td>\n",
              "      <td>4</td>\n",
              "    </tr>\n",
              "    <tr>\n",
              "      <th>1</th>\n",
              "      <td>Mazda RX4 Wag</td>\n",
              "      <td>21.0</td>\n",
              "      <td>6</td>\n",
              "      <td>160.0</td>\n",
              "      <td>110</td>\n",
              "      <td>3.90</td>\n",
              "      <td>2.875</td>\n",
              "      <td>17.02</td>\n",
              "      <td>0</td>\n",
              "      <td>1</td>\n",
              "      <td>4</td>\n",
              "      <td>4</td>\n",
              "    </tr>\n",
              "    <tr>\n",
              "      <th>2</th>\n",
              "      <td>Datsun 710</td>\n",
              "      <td>22.8</td>\n",
              "      <td>4</td>\n",
              "      <td>108.0</td>\n",
              "      <td>93</td>\n",
              "      <td>3.85</td>\n",
              "      <td>2.320</td>\n",
              "      <td>18.61</td>\n",
              "      <td>1</td>\n",
              "      <td>1</td>\n",
              "      <td>4</td>\n",
              "      <td>1</td>\n",
              "    </tr>\n",
              "  </tbody>\n",
              "</table>\n",
              "</div>"
            ],
            "text/plain": [
              "        Car_info   mpg  cyl   disp   hp  drat     wt   qsec  vs  am  gear  carb\n",
              "0      Mazda RX4  21.0    6  160.0  110  3.90  2.620  16.46   0   1     4     4\n",
              "1  Mazda RX4 Wag  21.0    6  160.0  110  3.90  2.875  17.02   0   1     4     4\n",
              "2     Datsun 710  22.8    4  108.0   93  3.85  2.320  18.61   1   1     4     1"
            ]
          },
          "metadata": {
            "tags": []
          },
          "execution_count": 10
        }
      ]
    },
    {
      "cell_type": "code",
      "metadata": {
        "colab": {
          "base_uri": "https://localhost:8080/",
          "height": 198
        },
        "id": "LC6cISnMupdU",
        "outputId": "ef293ba7-61ab-4456-9793-0beee88af3c5"
      },
      "source": [
        "#sorting series, dataframe by index & value\n",
        "modified_data['hp'].value_counts().sort_index(ascending = False)\n",
        "modified_data.sort_values('disp', ascending=False).head()"
      ],
      "execution_count": 11,
      "outputs": [
        {
          "output_type": "execute_result",
          "data": {
            "text/html": [
              "<div>\n",
              "<style scoped>\n",
              "    .dataframe tbody tr th:only-of-type {\n",
              "        vertical-align: middle;\n",
              "    }\n",
              "\n",
              "    .dataframe tbody tr th {\n",
              "        vertical-align: top;\n",
              "    }\n",
              "\n",
              "    .dataframe thead th {\n",
              "        text-align: right;\n",
              "    }\n",
              "</style>\n",
              "<table border=\"1\" class=\"dataframe\">\n",
              "  <thead>\n",
              "    <tr style=\"text-align: right;\">\n",
              "      <th></th>\n",
              "      <th>Car_info</th>\n",
              "      <th>mpg</th>\n",
              "      <th>cyl</th>\n",
              "      <th>disp</th>\n",
              "      <th>hp</th>\n",
              "      <th>drat</th>\n",
              "      <th>wt</th>\n",
              "      <th>qsec</th>\n",
              "      <th>vs</th>\n",
              "      <th>am</th>\n",
              "      <th>gear</th>\n",
              "      <th>carb</th>\n",
              "    </tr>\n",
              "  </thead>\n",
              "  <tbody>\n",
              "    <tr>\n",
              "      <th>14</th>\n",
              "      <td>Cadillac Fleetwood</td>\n",
              "      <td>10.4</td>\n",
              "      <td>8</td>\n",
              "      <td>472.0</td>\n",
              "      <td>205</td>\n",
              "      <td>2.93</td>\n",
              "      <td>5.250</td>\n",
              "      <td>17.98</td>\n",
              "      <td>0</td>\n",
              "      <td>0</td>\n",
              "      <td>3</td>\n",
              "      <td>4</td>\n",
              "    </tr>\n",
              "    <tr>\n",
              "      <th>15</th>\n",
              "      <td>Lincoln Continental</td>\n",
              "      <td>10.4</td>\n",
              "      <td>8</td>\n",
              "      <td>460.0</td>\n",
              "      <td>215</td>\n",
              "      <td>3.00</td>\n",
              "      <td>5.424</td>\n",
              "      <td>17.82</td>\n",
              "      <td>0</td>\n",
              "      <td>0</td>\n",
              "      <td>3</td>\n",
              "      <td>4</td>\n",
              "    </tr>\n",
              "    <tr>\n",
              "      <th>16</th>\n",
              "      <td>Chrysler Imperial</td>\n",
              "      <td>14.7</td>\n",
              "      <td>8</td>\n",
              "      <td>440.0</td>\n",
              "      <td>230</td>\n",
              "      <td>3.23</td>\n",
              "      <td>5.345</td>\n",
              "      <td>17.42</td>\n",
              "      <td>0</td>\n",
              "      <td>0</td>\n",
              "      <td>3</td>\n",
              "      <td>4</td>\n",
              "    </tr>\n",
              "    <tr>\n",
              "      <th>24</th>\n",
              "      <td>Pontiac Firebird</td>\n",
              "      <td>19.2</td>\n",
              "      <td>8</td>\n",
              "      <td>400.0</td>\n",
              "      <td>175</td>\n",
              "      <td>3.08</td>\n",
              "      <td>3.845</td>\n",
              "      <td>17.05</td>\n",
              "      <td>0</td>\n",
              "      <td>0</td>\n",
              "      <td>3</td>\n",
              "      <td>2</td>\n",
              "    </tr>\n",
              "    <tr>\n",
              "      <th>4</th>\n",
              "      <td>Hornet Sportabout</td>\n",
              "      <td>18.7</td>\n",
              "      <td>8</td>\n",
              "      <td>360.0</td>\n",
              "      <td>175</td>\n",
              "      <td>3.15</td>\n",
              "      <td>3.440</td>\n",
              "      <td>17.02</td>\n",
              "      <td>0</td>\n",
              "      <td>0</td>\n",
              "      <td>3</td>\n",
              "      <td>2</td>\n",
              "    </tr>\n",
              "  </tbody>\n",
              "</table>\n",
              "</div>"
            ],
            "text/plain": [
              "               Car_info   mpg  cyl   disp   hp  ...   qsec  vs  am  gear  carb\n",
              "14   Cadillac Fleetwood  10.4    8  472.0  205  ...  17.98   0   0     3     4\n",
              "15  Lincoln Continental  10.4    8  460.0  215  ...  17.82   0   0     3     4\n",
              "16    Chrysler Imperial  14.7    8  440.0  230  ...  17.42   0   0     3     4\n",
              "24     Pontiac Firebird  19.2    8  400.0  175  ...  17.05   0   0     3     2\n",
              "4     Hornet Sportabout  18.7    8  360.0  175  ...  17.02   0   0     3     2\n",
              "\n",
              "[5 rows x 12 columns]"
            ]
          },
          "metadata": {
            "tags": []
          },
          "execution_count": 11
        }
      ]
    },
    {
      "cell_type": "code",
      "metadata": {
        "id": "mdSrlFkYnlA-"
      },
      "source": [
        "#연속형 변수의 범주형 변수화\n",
        "modified_data['hp'] = np.digitize(modified_data['hp'], [50, 100, 150, 200, 300])"
      ],
      "execution_count": 12,
      "outputs": []
    },
    {
      "cell_type": "code",
      "metadata": {
        "id": "6FlZkY5AwLEF"
      },
      "source": [
        "#grouping 활용법"
      ],
      "execution_count": 13,
      "outputs": []
    },
    {
      "cell_type": "markdown",
      "metadata": {
        "id": "pq4kJHyLuGGK"
      },
      "source": [
        "simple analysis"
      ]
    },
    {
      "cell_type": "code",
      "metadata": {
        "colab": {
          "base_uri": "https://localhost:8080/"
        },
        "id": "ztG-scxdxyzC",
        "outputId": "952e82b9-1882-4960-edc5-8726a13d3fd0"
      },
      "source": [
        "modified_data.info()"
      ],
      "execution_count": 14,
      "outputs": [
        {
          "output_type": "stream",
          "text": [
            "<class 'pandas.core.frame.DataFrame'>\n",
            "RangeIndex: 32 entries, 0 to 31\n",
            "Data columns (total 12 columns):\n",
            " #   Column    Non-Null Count  Dtype  \n",
            "---  ------    --------------  -----  \n",
            " 0   Car_info  32 non-null     object \n",
            " 1   mpg       32 non-null     float64\n",
            " 2   cyl       32 non-null     int64  \n",
            " 3   disp      32 non-null     float64\n",
            " 4   hp        32 non-null     int64  \n",
            " 5   drat      32 non-null     float64\n",
            " 6   wt        32 non-null     float64\n",
            " 7   qsec      32 non-null     float64\n",
            " 8   vs        32 non-null     int64  \n",
            " 9   am        32 non-null     int64  \n",
            " 10  gear      32 non-null     int64  \n",
            " 11  carb      32 non-null     int64  \n",
            "dtypes: float64(5), int64(6), object(1)\n",
            "memory usage: 3.1+ KB\n"
          ],
          "name": "stdout"
        }
      ]
    },
    {
      "cell_type": "code",
      "metadata": {
        "colab": {
          "base_uri": "https://localhost:8080/",
          "height": 198
        },
        "id": "sio1KSzWnlCd",
        "outputId": "38725b48-65e9-48a0-dc80-5e33dd70f82b"
      },
      "source": [
        "modified_data.head()"
      ],
      "execution_count": 15,
      "outputs": [
        {
          "output_type": "execute_result",
          "data": {
            "text/html": [
              "<div>\n",
              "<style scoped>\n",
              "    .dataframe tbody tr th:only-of-type {\n",
              "        vertical-align: middle;\n",
              "    }\n",
              "\n",
              "    .dataframe tbody tr th {\n",
              "        vertical-align: top;\n",
              "    }\n",
              "\n",
              "    .dataframe thead th {\n",
              "        text-align: right;\n",
              "    }\n",
              "</style>\n",
              "<table border=\"1\" class=\"dataframe\">\n",
              "  <thead>\n",
              "    <tr style=\"text-align: right;\">\n",
              "      <th></th>\n",
              "      <th>Car_info</th>\n",
              "      <th>mpg</th>\n",
              "      <th>cyl</th>\n",
              "      <th>disp</th>\n",
              "      <th>hp</th>\n",
              "      <th>drat</th>\n",
              "      <th>wt</th>\n",
              "      <th>qsec</th>\n",
              "      <th>vs</th>\n",
              "      <th>am</th>\n",
              "      <th>gear</th>\n",
              "      <th>carb</th>\n",
              "    </tr>\n",
              "  </thead>\n",
              "  <tbody>\n",
              "    <tr>\n",
              "      <th>0</th>\n",
              "      <td>Mazda RX4</td>\n",
              "      <td>21.0</td>\n",
              "      <td>6</td>\n",
              "      <td>160.0</td>\n",
              "      <td>2</td>\n",
              "      <td>3.90</td>\n",
              "      <td>2.620</td>\n",
              "      <td>16.46</td>\n",
              "      <td>0</td>\n",
              "      <td>1</td>\n",
              "      <td>4</td>\n",
              "      <td>4</td>\n",
              "    </tr>\n",
              "    <tr>\n",
              "      <th>1</th>\n",
              "      <td>Mazda RX4 Wag</td>\n",
              "      <td>21.0</td>\n",
              "      <td>6</td>\n",
              "      <td>160.0</td>\n",
              "      <td>2</td>\n",
              "      <td>3.90</td>\n",
              "      <td>2.875</td>\n",
              "      <td>17.02</td>\n",
              "      <td>0</td>\n",
              "      <td>1</td>\n",
              "      <td>4</td>\n",
              "      <td>4</td>\n",
              "    </tr>\n",
              "    <tr>\n",
              "      <th>2</th>\n",
              "      <td>Datsun 710</td>\n",
              "      <td>22.8</td>\n",
              "      <td>4</td>\n",
              "      <td>108.0</td>\n",
              "      <td>1</td>\n",
              "      <td>3.85</td>\n",
              "      <td>2.320</td>\n",
              "      <td>18.61</td>\n",
              "      <td>1</td>\n",
              "      <td>1</td>\n",
              "      <td>4</td>\n",
              "      <td>1</td>\n",
              "    </tr>\n",
              "    <tr>\n",
              "      <th>3</th>\n",
              "      <td>Hornet 4 Drive</td>\n",
              "      <td>21.4</td>\n",
              "      <td>6</td>\n",
              "      <td>258.0</td>\n",
              "      <td>2</td>\n",
              "      <td>3.08</td>\n",
              "      <td>3.215</td>\n",
              "      <td>19.44</td>\n",
              "      <td>1</td>\n",
              "      <td>0</td>\n",
              "      <td>3</td>\n",
              "      <td>1</td>\n",
              "    </tr>\n",
              "    <tr>\n",
              "      <th>4</th>\n",
              "      <td>Hornet Sportabout</td>\n",
              "      <td>18.7</td>\n",
              "      <td>8</td>\n",
              "      <td>360.0</td>\n",
              "      <td>3</td>\n",
              "      <td>3.15</td>\n",
              "      <td>3.440</td>\n",
              "      <td>17.02</td>\n",
              "      <td>0</td>\n",
              "      <td>0</td>\n",
              "      <td>3</td>\n",
              "      <td>2</td>\n",
              "    </tr>\n",
              "  </tbody>\n",
              "</table>\n",
              "</div>"
            ],
            "text/plain": [
              "            Car_info   mpg  cyl   disp  hp  ...   qsec  vs  am  gear  carb\n",
              "0          Mazda RX4  21.0    6  160.0   2  ...  16.46   0   1     4     4\n",
              "1      Mazda RX4 Wag  21.0    6  160.0   2  ...  17.02   0   1     4     4\n",
              "2         Datsun 710  22.8    4  108.0   1  ...  18.61   1   1     4     1\n",
              "3     Hornet 4 Drive  21.4    6  258.0   2  ...  19.44   1   0     3     1\n",
              "4  Hornet Sportabout  18.7    8  360.0   3  ...  17.02   0   0     3     2\n",
              "\n",
              "[5 rows x 12 columns]"
            ]
          },
          "metadata": {
            "tags": []
          },
          "execution_count": 15
        }
      ]
    },
    {
      "cell_type": "code",
      "metadata": {
        "colab": {
          "base_uri": "https://localhost:8080/",
          "height": 288
        },
        "id": "kd88IkqDwg-a",
        "outputId": "525bcbe1-9835-49af-ccf5-c3ebb79e405e"
      },
      "source": [
        "modified_data.describe()"
      ],
      "execution_count": 16,
      "outputs": [
        {
          "output_type": "execute_result",
          "data": {
            "text/html": [
              "<div>\n",
              "<style scoped>\n",
              "    .dataframe tbody tr th:only-of-type {\n",
              "        vertical-align: middle;\n",
              "    }\n",
              "\n",
              "    .dataframe tbody tr th {\n",
              "        vertical-align: top;\n",
              "    }\n",
              "\n",
              "    .dataframe thead th {\n",
              "        text-align: right;\n",
              "    }\n",
              "</style>\n",
              "<table border=\"1\" class=\"dataframe\">\n",
              "  <thead>\n",
              "    <tr style=\"text-align: right;\">\n",
              "      <th></th>\n",
              "      <th>mpg</th>\n",
              "      <th>cyl</th>\n",
              "      <th>disp</th>\n",
              "      <th>hp</th>\n",
              "      <th>drat</th>\n",
              "      <th>wt</th>\n",
              "      <th>qsec</th>\n",
              "      <th>vs</th>\n",
              "      <th>am</th>\n",
              "      <th>gear</th>\n",
              "      <th>carb</th>\n",
              "    </tr>\n",
              "  </thead>\n",
              "  <tbody>\n",
              "    <tr>\n",
              "      <th>count</th>\n",
              "      <td>32.000000</td>\n",
              "      <td>32.000000</td>\n",
              "      <td>32.000000</td>\n",
              "      <td>32.000000</td>\n",
              "      <td>32.000000</td>\n",
              "      <td>32.000000</td>\n",
              "      <td>32.000000</td>\n",
              "      <td>32.000000</td>\n",
              "      <td>32.000000</td>\n",
              "      <td>32.000000</td>\n",
              "      <td>32.0000</td>\n",
              "    </tr>\n",
              "    <tr>\n",
              "      <th>mean</th>\n",
              "      <td>20.090625</td>\n",
              "      <td>6.187500</td>\n",
              "      <td>230.721875</td>\n",
              "      <td>2.437500</td>\n",
              "      <td>3.596563</td>\n",
              "      <td>3.217250</td>\n",
              "      <td>17.848750</td>\n",
              "      <td>0.437500</td>\n",
              "      <td>0.406250</td>\n",
              "      <td>3.687500</td>\n",
              "      <td>2.8125</td>\n",
              "    </tr>\n",
              "    <tr>\n",
              "      <th>std</th>\n",
              "      <td>6.026948</td>\n",
              "      <td>1.785922</td>\n",
              "      <td>123.938694</td>\n",
              "      <td>1.189673</td>\n",
              "      <td>0.534679</td>\n",
              "      <td>0.978457</td>\n",
              "      <td>1.786943</td>\n",
              "      <td>0.504016</td>\n",
              "      <td>0.498991</td>\n",
              "      <td>0.737804</td>\n",
              "      <td>1.6152</td>\n",
              "    </tr>\n",
              "    <tr>\n",
              "      <th>min</th>\n",
              "      <td>10.400000</td>\n",
              "      <td>4.000000</td>\n",
              "      <td>71.100000</td>\n",
              "      <td>1.000000</td>\n",
              "      <td>2.760000</td>\n",
              "      <td>1.513000</td>\n",
              "      <td>14.500000</td>\n",
              "      <td>0.000000</td>\n",
              "      <td>0.000000</td>\n",
              "      <td>3.000000</td>\n",
              "      <td>1.0000</td>\n",
              "    </tr>\n",
              "    <tr>\n",
              "      <th>25%</th>\n",
              "      <td>15.425000</td>\n",
              "      <td>4.000000</td>\n",
              "      <td>120.825000</td>\n",
              "      <td>1.000000</td>\n",
              "      <td>3.080000</td>\n",
              "      <td>2.581250</td>\n",
              "      <td>16.892500</td>\n",
              "      <td>0.000000</td>\n",
              "      <td>0.000000</td>\n",
              "      <td>3.000000</td>\n",
              "      <td>2.0000</td>\n",
              "    </tr>\n",
              "    <tr>\n",
              "      <th>50%</th>\n",
              "      <td>19.200000</td>\n",
              "      <td>6.000000</td>\n",
              "      <td>196.300000</td>\n",
              "      <td>2.000000</td>\n",
              "      <td>3.695000</td>\n",
              "      <td>3.325000</td>\n",
              "      <td>17.710000</td>\n",
              "      <td>0.000000</td>\n",
              "      <td>0.000000</td>\n",
              "      <td>4.000000</td>\n",
              "      <td>2.0000</td>\n",
              "    </tr>\n",
              "    <tr>\n",
              "      <th>75%</th>\n",
              "      <td>22.800000</td>\n",
              "      <td>8.000000</td>\n",
              "      <td>326.000000</td>\n",
              "      <td>3.000000</td>\n",
              "      <td>3.920000</td>\n",
              "      <td>3.610000</td>\n",
              "      <td>18.900000</td>\n",
              "      <td>1.000000</td>\n",
              "      <td>1.000000</td>\n",
              "      <td>4.000000</td>\n",
              "      <td>4.0000</td>\n",
              "    </tr>\n",
              "    <tr>\n",
              "      <th>max</th>\n",
              "      <td>33.900000</td>\n",
              "      <td>8.000000</td>\n",
              "      <td>472.000000</td>\n",
              "      <td>5.000000</td>\n",
              "      <td>4.930000</td>\n",
              "      <td>5.424000</td>\n",
              "      <td>22.900000</td>\n",
              "      <td>1.000000</td>\n",
              "      <td>1.000000</td>\n",
              "      <td>5.000000</td>\n",
              "      <td>8.0000</td>\n",
              "    </tr>\n",
              "  </tbody>\n",
              "</table>\n",
              "</div>"
            ],
            "text/plain": [
              "             mpg        cyl        disp  ...         am       gear     carb\n",
              "count  32.000000  32.000000   32.000000  ...  32.000000  32.000000  32.0000\n",
              "mean   20.090625   6.187500  230.721875  ...   0.406250   3.687500   2.8125\n",
              "std     6.026948   1.785922  123.938694  ...   0.498991   0.737804   1.6152\n",
              "min    10.400000   4.000000   71.100000  ...   0.000000   3.000000   1.0000\n",
              "25%    15.425000   4.000000  120.825000  ...   0.000000   3.000000   2.0000\n",
              "50%    19.200000   6.000000  196.300000  ...   0.000000   4.000000   2.0000\n",
              "75%    22.800000   8.000000  326.000000  ...   1.000000   4.000000   4.0000\n",
              "max    33.900000   8.000000  472.000000  ...   1.000000   5.000000   8.0000\n",
              "\n",
              "[8 rows x 11 columns]"
            ]
          },
          "metadata": {
            "tags": []
          },
          "execution_count": 16
        }
      ]
    },
    {
      "cell_type": "code",
      "metadata": {
        "colab": {
          "base_uri": "https://localhost:8080/"
        },
        "id": "kJIafS3VuFhB",
        "outputId": "c5bd3118-127f-4b84-f777-77698afac2bb"
      },
      "source": [
        "modified_data['Car_info_dummy_0'] = [x.split(' ')[0] for x in modified_data['Car_info']]\n",
        "\n",
        "#값 카운트\n",
        "modified_data['Car_info_dummy_0'].value_counts()    #normalize = True)"
      ],
      "execution_count": 17,
      "outputs": [
        {
          "output_type": "execute_result",
          "data": {
            "text/plain": [
              "Merc        7\n",
              "Mazda       2\n",
              "Fiat        2\n",
              "Hornet      2\n",
              "Toyota      2\n",
              "Volvo       1\n",
              "Chrysler    1\n",
              "Honda       1\n",
              "Camaro      1\n",
              "Porsche     1\n",
              "Lincoln     1\n",
              "Datsun      1\n",
              "Valiant     1\n",
              "Ferrari     1\n",
              "Lotus       1\n",
              "Pontiac     1\n",
              "AMC         1\n",
              "Cadillac    1\n",
              "Duster      1\n",
              "Ford        1\n",
              "Dodge       1\n",
              "Maserati    1\n",
              "Name: Car_info_dummy_0, dtype: int64"
            ]
          },
          "metadata": {
            "tags": []
          },
          "execution_count": 17
        }
      ]
    },
    {
      "cell_type": "markdown",
      "metadata": {
        "id": "n8kZmuB_rf5E"
      },
      "source": [
        "duplicated, handling outliers, missing values, etc"
      ]
    },
    {
      "cell_type": "code",
      "metadata": {
        "id": "h7lb-HePvsJh"
      },
      "source": [
        "modified_data = rawdata.copy()"
      ],
      "execution_count": 18,
      "outputs": []
    },
    {
      "cell_type": "code",
      "metadata": {
        "colab": {
          "base_uri": "https://localhost:8080/"
        },
        "id": "aHAvR5nCNPqF",
        "outputId": "23ffa048-6eca-46db-f197-cccfc8f97587"
      },
      "source": [
        "modified_data.shape"
      ],
      "execution_count": 19,
      "outputs": [
        {
          "output_type": "execute_result",
          "data": {
            "text/plain": [
              "(32, 12)"
            ]
          },
          "metadata": {
            "tags": []
          },
          "execution_count": 19
        }
      ]
    },
    {
      "cell_type": "code",
      "metadata": {
        "colab": {
          "base_uri": "https://localhost:8080/"
        },
        "id": "rXks7I_iCdZi",
        "outputId": "e0d6897c-561a-47d5-e73d-f960e29e3fa2"
      },
      "source": [
        "modified_data.isnull().sum()"
      ],
      "execution_count": 20,
      "outputs": [
        {
          "output_type": "execute_result",
          "data": {
            "text/plain": [
              "Unnamed: 0    0\n",
              "mpg           0\n",
              "cyl           0\n",
              "disp          0\n",
              "hp            0\n",
              "drat          0\n",
              "wt            0\n",
              "qsec          0\n",
              "vs            0\n",
              "am            0\n",
              "gear          0\n",
              "carb          0\n",
              "dtype: int64"
            ]
          },
          "metadata": {
            "tags": []
          },
          "execution_count": 20
        }
      ]
    },
    {
      "cell_type": "code",
      "metadata": {
        "id": "DeDBeppgDTW0"
      },
      "source": [
        "#no nan in dataset, appending nan to dataset"
      ],
      "execution_count": 21,
      "outputs": []
    },
    {
      "cell_type": "code",
      "metadata": {
        "id": "tgDReQJJ9DHr",
        "colab": {
          "base_uri": "https://localhost:8080/",
          "height": 348
        },
        "outputId": "e2808fae-315e-4b4d-b0cd-184b7ac6ff5c"
      },
      "source": [
        "dummy = pd.DataFrame(np.random.randn(10, 12), columns = modified_data.columns)\n",
        "dummy.iloc[0:5, 2] = np.nan\n",
        "dummy.iloc[5:, 5] = -999\n",
        "dummy"
      ],
      "execution_count": 22,
      "outputs": [
        {
          "output_type": "execute_result",
          "data": {
            "text/html": [
              "<div>\n",
              "<style scoped>\n",
              "    .dataframe tbody tr th:only-of-type {\n",
              "        vertical-align: middle;\n",
              "    }\n",
              "\n",
              "    .dataframe tbody tr th {\n",
              "        vertical-align: top;\n",
              "    }\n",
              "\n",
              "    .dataframe thead th {\n",
              "        text-align: right;\n",
              "    }\n",
              "</style>\n",
              "<table border=\"1\" class=\"dataframe\">\n",
              "  <thead>\n",
              "    <tr style=\"text-align: right;\">\n",
              "      <th></th>\n",
              "      <th>Unnamed: 0</th>\n",
              "      <th>mpg</th>\n",
              "      <th>cyl</th>\n",
              "      <th>disp</th>\n",
              "      <th>hp</th>\n",
              "      <th>drat</th>\n",
              "      <th>wt</th>\n",
              "      <th>qsec</th>\n",
              "      <th>vs</th>\n",
              "      <th>am</th>\n",
              "      <th>gear</th>\n",
              "      <th>carb</th>\n",
              "    </tr>\n",
              "  </thead>\n",
              "  <tbody>\n",
              "    <tr>\n",
              "      <th>0</th>\n",
              "      <td>-1.043159</td>\n",
              "      <td>-0.820856</td>\n",
              "      <td>NaN</td>\n",
              "      <td>1.822627</td>\n",
              "      <td>-1.441583</td>\n",
              "      <td>0.233808</td>\n",
              "      <td>0.339619</td>\n",
              "      <td>0.231214</td>\n",
              "      <td>-0.009926</td>\n",
              "      <td>1.803848</td>\n",
              "      <td>1.367844</td>\n",
              "      <td>-0.261362</td>\n",
              "    </tr>\n",
              "    <tr>\n",
              "      <th>1</th>\n",
              "      <td>-0.447606</td>\n",
              "      <td>0.569842</td>\n",
              "      <td>NaN</td>\n",
              "      <td>-1.128953</td>\n",
              "      <td>1.059545</td>\n",
              "      <td>1.030441</td>\n",
              "      <td>0.142366</td>\n",
              "      <td>0.592879</td>\n",
              "      <td>-1.010637</td>\n",
              "      <td>-1.847365</td>\n",
              "      <td>-0.230004</td>\n",
              "      <td>0.376894</td>\n",
              "    </tr>\n",
              "    <tr>\n",
              "      <th>2</th>\n",
              "      <td>-0.470016</td>\n",
              "      <td>-0.218493</td>\n",
              "      <td>NaN</td>\n",
              "      <td>-0.209343</td>\n",
              "      <td>0.406882</td>\n",
              "      <td>1.019155</td>\n",
              "      <td>-1.045691</td>\n",
              "      <td>1.620748</td>\n",
              "      <td>-1.829266</td>\n",
              "      <td>1.235159</td>\n",
              "      <td>-2.234490</td>\n",
              "      <td>-0.316852</td>\n",
              "    </tr>\n",
              "    <tr>\n",
              "      <th>3</th>\n",
              "      <td>1.295810</td>\n",
              "      <td>0.172610</td>\n",
              "      <td>NaN</td>\n",
              "      <td>0.017375</td>\n",
              "      <td>1.301383</td>\n",
              "      <td>0.619268</td>\n",
              "      <td>-0.224696</td>\n",
              "      <td>-0.376552</td>\n",
              "      <td>1.119999</td>\n",
              "      <td>0.396218</td>\n",
              "      <td>0.639729</td>\n",
              "      <td>-1.551146</td>\n",
              "    </tr>\n",
              "    <tr>\n",
              "      <th>4</th>\n",
              "      <td>1.727638</td>\n",
              "      <td>0.167786</td>\n",
              "      <td>NaN</td>\n",
              "      <td>1.664477</td>\n",
              "      <td>0.085753</td>\n",
              "      <td>0.366974</td>\n",
              "      <td>1.169764</td>\n",
              "      <td>0.741385</td>\n",
              "      <td>0.560169</td>\n",
              "      <td>0.296042</td>\n",
              "      <td>-0.187046</td>\n",
              "      <td>0.011453</td>\n",
              "    </tr>\n",
              "    <tr>\n",
              "      <th>5</th>\n",
              "      <td>0.293131</td>\n",
              "      <td>1.344370</td>\n",
              "      <td>0.844489</td>\n",
              "      <td>-0.867294</td>\n",
              "      <td>0.211186</td>\n",
              "      <td>-999.000000</td>\n",
              "      <td>-0.305374</td>\n",
              "      <td>-1.636593</td>\n",
              "      <td>0.695114</td>\n",
              "      <td>0.014326</td>\n",
              "      <td>0.932437</td>\n",
              "      <td>0.129632</td>\n",
              "    </tr>\n",
              "    <tr>\n",
              "      <th>6</th>\n",
              "      <td>-0.126445</td>\n",
              "      <td>2.105335</td>\n",
              "      <td>-1.526370</td>\n",
              "      <td>-1.290889</td>\n",
              "      <td>0.936994</td>\n",
              "      <td>-999.000000</td>\n",
              "      <td>-1.487068</td>\n",
              "      <td>-1.488944</td>\n",
              "      <td>-0.666589</td>\n",
              "      <td>1.190917</td>\n",
              "      <td>0.180877</td>\n",
              "      <td>1.134281</td>\n",
              "    </tr>\n",
              "    <tr>\n",
              "      <th>7</th>\n",
              "      <td>-0.128320</td>\n",
              "      <td>0.722709</td>\n",
              "      <td>-1.675016</td>\n",
              "      <td>-0.732231</td>\n",
              "      <td>-1.921794</td>\n",
              "      <td>-999.000000</td>\n",
              "      <td>0.233942</td>\n",
              "      <td>-1.984788</td>\n",
              "      <td>-1.236846</td>\n",
              "      <td>-0.348214</td>\n",
              "      <td>0.776442</td>\n",
              "      <td>1.339436</td>\n",
              "    </tr>\n",
              "    <tr>\n",
              "      <th>8</th>\n",
              "      <td>0.442107</td>\n",
              "      <td>0.460592</td>\n",
              "      <td>-0.930037</td>\n",
              "      <td>0.331214</td>\n",
              "      <td>0.116812</td>\n",
              "      <td>-999.000000</td>\n",
              "      <td>-0.991381</td>\n",
              "      <td>-0.517704</td>\n",
              "      <td>-0.151034</td>\n",
              "      <td>1.036709</td>\n",
              "      <td>0.388437</td>\n",
              "      <td>-0.904356</td>\n",
              "    </tr>\n",
              "    <tr>\n",
              "      <th>9</th>\n",
              "      <td>0.077388</td>\n",
              "      <td>0.634318</td>\n",
              "      <td>-1.270546</td>\n",
              "      <td>-0.749916</td>\n",
              "      <td>2.799210</td>\n",
              "      <td>-999.000000</td>\n",
              "      <td>0.223888</td>\n",
              "      <td>-0.859275</td>\n",
              "      <td>-1.263837</td>\n",
              "      <td>0.573873</td>\n",
              "      <td>-2.008811</td>\n",
              "      <td>-0.752797</td>\n",
              "    </tr>\n",
              "  </tbody>\n",
              "</table>\n",
              "</div>"
            ],
            "text/plain": [
              "   Unnamed: 0       mpg       cyl  ...        am      gear      carb\n",
              "0   -1.043159 -0.820856       NaN  ...  1.803848  1.367844 -0.261362\n",
              "1   -0.447606  0.569842       NaN  ... -1.847365 -0.230004  0.376894\n",
              "2   -0.470016 -0.218493       NaN  ...  1.235159 -2.234490 -0.316852\n",
              "3    1.295810  0.172610       NaN  ...  0.396218  0.639729 -1.551146\n",
              "4    1.727638  0.167786       NaN  ...  0.296042 -0.187046  0.011453\n",
              "5    0.293131  1.344370  0.844489  ...  0.014326  0.932437  0.129632\n",
              "6   -0.126445  2.105335 -1.526370  ...  1.190917  0.180877  1.134281\n",
              "7   -0.128320  0.722709 -1.675016  ... -0.348214  0.776442  1.339436\n",
              "8    0.442107  0.460592 -0.930037  ...  1.036709  0.388437 -0.904356\n",
              "9    0.077388  0.634318 -1.270546  ...  0.573873 -2.008811 -0.752797\n",
              "\n",
              "[10 rows x 12 columns]"
            ]
          },
          "metadata": {
            "tags": []
          },
          "execution_count": 22
        }
      ]
    },
    {
      "cell_type": "code",
      "metadata": {
        "colab": {
          "base_uri": "https://localhost:8080/"
        },
        "id": "9haS4G8XNUpe",
        "outputId": "32badf6c-2195-4273-dd5b-9fb99483f025"
      },
      "source": [
        "modified_data = pd.concat([modified_data, dummy], axis = 0).sample(frac = 1, random_state = SEED).reset_index(drop = True)\n",
        "print(modified_data.shape)"
      ],
      "execution_count": 23,
      "outputs": [
        {
          "output_type": "stream",
          "text": [
            "(42, 12)\n"
          ],
          "name": "stdout"
        }
      ]
    },
    {
      "cell_type": "code",
      "metadata": {
        "id": "ysufabm7-oRC"
      },
      "source": [
        "#replace -999 to nan\n",
        "modified_data.replace({-999: np.nan}, inplace = True)"
      ],
      "execution_count": 24,
      "outputs": []
    },
    {
      "cell_type": "code",
      "metadata": {
        "colab": {
          "base_uri": "https://localhost:8080/"
        },
        "id": "Cr0lmA5dFJoq",
        "outputId": "92fa0e32-bdec-47b4-ce41-5f64bd73d3bf"
      },
      "source": [
        "modified_data.isnull().sum()"
      ],
      "execution_count": 25,
      "outputs": [
        {
          "output_type": "execute_result",
          "data": {
            "text/plain": [
              "Unnamed: 0    0\n",
              "mpg           0\n",
              "cyl           5\n",
              "disp          0\n",
              "hp            0\n",
              "drat          5\n",
              "wt            0\n",
              "qsec          0\n",
              "vs            0\n",
              "am            0\n",
              "gear          0\n",
              "carb          0\n",
              "dtype: int64"
            ]
          },
          "metadata": {
            "tags": []
          },
          "execution_count": 25
        }
      ]
    },
    {
      "cell_type": "code",
      "metadata": {
        "id": "FZmKfA_9HG3B",
        "colab": {
          "base_uri": "https://localhost:8080/"
        },
        "outputId": "56eb801c-4b87-41cc-963d-22499b850aa0"
      },
      "source": [
        "#delete missing values\n",
        "modified_data.dropna(axis = 0, inplace = True)\n",
        "modified_data.shape"
      ],
      "execution_count": 26,
      "outputs": [
        {
          "output_type": "execute_result",
          "data": {
            "text/plain": [
              "(32, 12)"
            ]
          },
          "metadata": {
            "tags": []
          },
          "execution_count": 26
        }
      ]
    },
    {
      "cell_type": "code",
      "metadata": {
        "id": "sSiBR0x8-K1C",
        "colab": {
          "base_uri": "https://localhost:8080/"
        },
        "outputId": "ca847bac-ae79-4618-cdde-9ff23324f336"
      },
      "source": [
        "#interpolate missing values\n",
        "modified_data.interpolate(method = 'values').shape"
      ],
      "execution_count": 27,
      "outputs": [
        {
          "output_type": "execute_result",
          "data": {
            "text/plain": [
              "(32, 12)"
            ]
          },
          "metadata": {
            "tags": []
          },
          "execution_count": 27
        }
      ]
    },
    {
      "cell_type": "code",
      "metadata": {
        "id": "WhpxefiR_twb",
        "colab": {
          "base_uri": "https://localhost:8080/"
        },
        "outputId": "af6ec9e5-d863-47c4-838f-d5df6e648f02"
      },
      "source": [
        "#check duplicated values\n",
        "modified_data = rawdata.copy()\n",
        "modified_data = pd.concat([modified_data, modified_data], axis = 0)\n",
        "print('raw_doubled: ', modified_data.shape)\n",
        "modified_data.duplicated().value_counts()\n",
        "modified_data = modified_data.drop_duplicates()\n",
        "print('after deleting duplicated: ', modified_data.shape)"
      ],
      "execution_count": 28,
      "outputs": [
        {
          "output_type": "stream",
          "text": [
            "raw_doubled:  (64, 12)\n",
            "after deleting duplicated:  (32, 12)\n"
          ],
          "name": "stdout"
        }
      ]
    },
    {
      "cell_type": "markdown",
      "metadata": {
        "id": "UfZMiHkaFpO8"
      },
      "source": [
        "#이상치 제거"
      ]
    },
    {
      "cell_type": "code",
      "metadata": {
        "id": "8Rcg0nCpFrK8"
      },
      "source": [
        ""
      ],
      "execution_count": null,
      "outputs": []
    },
    {
      "cell_type": "markdown",
      "metadata": {
        "id": "aOBp4rE5hk7G"
      },
      "source": [
        "# scaling\n"
      ]
    },
    {
      "cell_type": "markdown",
      "metadata": {
        "id": "NezhOYRFht9a"
      },
      "source": [
        "Q: scale qsec column of mtcars.csv to minmax scale and count which is bigger than 0.5"
      ]
    },
    {
      "cell_type": "markdown",
      "metadata": {
        "id": "BN5sFSXvi7H1"
      },
      "source": [
        "various preprocessing method\n"
      ]
    },
    {
      "cell_type": "code",
      "metadata": {
        "id": "V0gvs0QyjQgt"
      },
      "source": [
        "#minmaxscaler, standardscaler, robustscaler, normalizer"
      ],
      "execution_count": 29,
      "outputs": []
    },
    {
      "cell_type": "code",
      "metadata": {
        "id": "lJJyfCr9sRLN"
      },
      "source": [
        "#minmax\n",
        "minmaxscaler = sklearn.preprocessing.MinMaxScaler()\n",
        "modified_data['qsec_minmax'] = minmaxscaler.fit_transform(modified_data[['qsec']])"
      ],
      "execution_count": 30,
      "outputs": []
    },
    {
      "cell_type": "code",
      "metadata": {
        "id": "NGSjs-6wjjol"
      },
      "source": [
        "#mean: 0, var: 1 (normal distribution)\n",
        "stdscaler = sklearn.preprocessing.StandardScaler()\n",
        "modified_data['qsec_stdscale'] = stdscaler.fit_transform(modified_data['qsec'].values.reshape(-1, 1))"
      ],
      "execution_count": 31,
      "outputs": []
    },
    {
      "cell_type": "code",
      "metadata": {
        "id": "hmZGGzkegqMA"
      },
      "source": [
        "#use median and quantile, robust to outliers\n",
        "robustscaler = sklearn.preprocessing.RobustScaler()\n",
        "modified_data['qsec_robust'] = robustscaler.fit_transform(modified_data['qsec'].values.reshape(-1, 1))"
      ],
      "execution_count": 32,
      "outputs": []
    },
    {
      "cell_type": "code",
      "metadata": {
        "id": "GeVgNXDfkp5U"
      },
      "source": [
        "#modify datapoint vector by euclidian distance 1\n",
        "m = modified_data[modified_data.columns[1:12]].values\n",
        "norm = pd.DataFrame(sklearn.preprocessing.normalize(m, 'l2', axis = 1), columns = [x + '_norm' for x in modified_data.columns[1:12]])"
      ],
      "execution_count": 33,
      "outputs": []
    },
    {
      "cell_type": "markdown",
      "metadata": {
        "id": "d6RhYB7vrbb0"
      },
      "source": [
        "results"
      ]
    },
    {
      "cell_type": "code",
      "metadata": {
        "colab": {
          "base_uri": "https://localhost:8080/",
          "height": 138
        },
        "id": "NlMm6OGmpqek",
        "outputId": "ed700864-2abd-453d-ea8e-d9d47d819447"
      },
      "source": [
        "norm.head(3)"
      ],
      "execution_count": 34,
      "outputs": [
        {
          "output_type": "execute_result",
          "data": {
            "text/html": [
              "<div>\n",
              "<style scoped>\n",
              "    .dataframe tbody tr th:only-of-type {\n",
              "        vertical-align: middle;\n",
              "    }\n",
              "\n",
              "    .dataframe tbody tr th {\n",
              "        vertical-align: top;\n",
              "    }\n",
              "\n",
              "    .dataframe thead th {\n",
              "        text-align: right;\n",
              "    }\n",
              "</style>\n",
              "<table border=\"1\" class=\"dataframe\">\n",
              "  <thead>\n",
              "    <tr style=\"text-align: right;\">\n",
              "      <th></th>\n",
              "      <th>mpg_norm</th>\n",
              "      <th>cyl_norm</th>\n",
              "      <th>disp_norm</th>\n",
              "      <th>hp_norm</th>\n",
              "      <th>drat_norm</th>\n",
              "      <th>wt_norm</th>\n",
              "      <th>qsec_norm</th>\n",
              "      <th>vs_norm</th>\n",
              "      <th>am_norm</th>\n",
              "      <th>gear_norm</th>\n",
              "      <th>carb_norm</th>\n",
              "    </tr>\n",
              "  </thead>\n",
              "  <tbody>\n",
              "    <tr>\n",
              "      <th>0</th>\n",
              "      <td>0.107022</td>\n",
              "      <td>0.030578</td>\n",
              "      <td>0.815404</td>\n",
              "      <td>0.560590</td>\n",
              "      <td>0.019875</td>\n",
              "      <td>0.013352</td>\n",
              "      <td>0.083885</td>\n",
              "      <td>0.000000</td>\n",
              "      <td>0.005096</td>\n",
              "      <td>0.020385</td>\n",
              "      <td>0.020385</td>\n",
              "    </tr>\n",
              "    <tr>\n",
              "      <th>1</th>\n",
              "      <td>0.106994</td>\n",
              "      <td>0.030570</td>\n",
              "      <td>0.815190</td>\n",
              "      <td>0.560443</td>\n",
              "      <td>0.019870</td>\n",
              "      <td>0.014648</td>\n",
              "      <td>0.086716</td>\n",
              "      <td>0.000000</td>\n",
              "      <td>0.005095</td>\n",
              "      <td>0.020380</td>\n",
              "      <td>0.020380</td>\n",
              "    </tr>\n",
              "    <tr>\n",
              "      <th>2</th>\n",
              "      <td>0.156464</td>\n",
              "      <td>0.027450</td>\n",
              "      <td>0.741146</td>\n",
              "      <td>0.638209</td>\n",
              "      <td>0.026420</td>\n",
              "      <td>0.015921</td>\n",
              "      <td>0.127711</td>\n",
              "      <td>0.006862</td>\n",
              "      <td>0.006862</td>\n",
              "      <td>0.027450</td>\n",
              "      <td>0.006862</td>\n",
              "    </tr>\n",
              "  </tbody>\n",
              "</table>\n",
              "</div>"
            ],
            "text/plain": [
              "   mpg_norm  cyl_norm  disp_norm  ...   am_norm  gear_norm  carb_norm\n",
              "0  0.107022  0.030578   0.815404  ...  0.005096   0.020385   0.020385\n",
              "1  0.106994  0.030570   0.815190  ...  0.005095   0.020380   0.020380\n",
              "2  0.156464  0.027450   0.741146  ...  0.006862   0.027450   0.006862\n",
              "\n",
              "[3 rows x 11 columns]"
            ]
          },
          "metadata": {
            "tags": []
          },
          "execution_count": 34
        }
      ]
    },
    {
      "cell_type": "code",
      "metadata": {
        "colab": {
          "base_uri": "https://localhost:8080/",
          "height": 138
        },
        "id": "f_ZJw0tFkCuo",
        "outputId": "bfe36eb7-346e-4ab0-b3cb-6388aa0f4928"
      },
      "source": [
        "modified_data[['qsec', 'qsec_minmax', 'qsec_stdscale', 'qsec_robust']].head(3)"
      ],
      "execution_count": 35,
      "outputs": [
        {
          "output_type": "execute_result",
          "data": {
            "text/html": [
              "<div>\n",
              "<style scoped>\n",
              "    .dataframe tbody tr th:only-of-type {\n",
              "        vertical-align: middle;\n",
              "    }\n",
              "\n",
              "    .dataframe tbody tr th {\n",
              "        vertical-align: top;\n",
              "    }\n",
              "\n",
              "    .dataframe thead th {\n",
              "        text-align: right;\n",
              "    }\n",
              "</style>\n",
              "<table border=\"1\" class=\"dataframe\">\n",
              "  <thead>\n",
              "    <tr style=\"text-align: right;\">\n",
              "      <th></th>\n",
              "      <th>qsec</th>\n",
              "      <th>qsec_minmax</th>\n",
              "      <th>qsec_stdscale</th>\n",
              "      <th>qsec_robust</th>\n",
              "    </tr>\n",
              "  </thead>\n",
              "  <tbody>\n",
              "    <tr>\n",
              "      <th>0</th>\n",
              "      <td>16.46</td>\n",
              "      <td>0.233333</td>\n",
              "      <td>-0.789601</td>\n",
              "      <td>-0.622665</td>\n",
              "    </tr>\n",
              "    <tr>\n",
              "      <th>1</th>\n",
              "      <td>17.02</td>\n",
              "      <td>0.300000</td>\n",
              "      <td>-0.471202</td>\n",
              "      <td>-0.343711</td>\n",
              "    </tr>\n",
              "    <tr>\n",
              "      <th>2</th>\n",
              "      <td>18.61</td>\n",
              "      <td>0.489286</td>\n",
              "      <td>0.432823</td>\n",
              "      <td>0.448319</td>\n",
              "    </tr>\n",
              "  </tbody>\n",
              "</table>\n",
              "</div>"
            ],
            "text/plain": [
              "    qsec  qsec_minmax  qsec_stdscale  qsec_robust\n",
              "0  16.46     0.233333      -0.789601    -0.622665\n",
              "1  17.02     0.300000      -0.471202    -0.343711\n",
              "2  18.61     0.489286       0.432823     0.448319"
            ]
          },
          "metadata": {
            "tags": []
          },
          "execution_count": 35
        }
      ]
    },
    {
      "cell_type": "code",
      "metadata": {
        "colab": {
          "base_uri": "https://localhost:8080/"
        },
        "id": "xlZHbqCDkOsD",
        "outputId": "532a3237-06da-412d-c30f-361bfc37a0d0"
      },
      "source": [
        "print('bigger record number in qsec_minmax: ', modified_data[modified_data['qsec_minmax'] > 0.5].shape[0])"
      ],
      "execution_count": 36,
      "outputs": [
        {
          "output_type": "stream",
          "text": [
            "bigger record number in qsec_minmax:  9\n"
          ],
          "name": "stdout"
        }
      ]
    },
    {
      "cell_type": "markdown",
      "metadata": {
        "id": "TCa3cU9IOWuq"
      },
      "source": [
        "#PCA"
      ]
    },
    {
      "cell_type": "code",
      "metadata": {
        "id": "8E7nCpepshvR"
      },
      "source": [
        "modified_data = rawdata.copy()"
      ],
      "execution_count": 37,
      "outputs": []
    },
    {
      "cell_type": "code",
      "metadata": {
        "id": "xZoNc9EqPGeV"
      },
      "source": [
        "scaler = sklearn.preprocessing.StandardScaler()\n",
        "x = pd.DataFrame(scaler.fit_transform(modified_data[modified_data.columns[1:]]), columns = modified_data.columns[1:])"
      ],
      "execution_count": 38,
      "outputs": []
    },
    {
      "cell_type": "code",
      "metadata": {
        "colab": {
          "base_uri": "https://localhost:8080/",
          "height": 198
        },
        "id": "T2cbZNDZUwHI",
        "outputId": "6e58174e-08b0-4bf3-c6ed-80055061be5e"
      },
      "source": [
        "x.head()"
      ],
      "execution_count": 39,
      "outputs": [
        {
          "output_type": "execute_result",
          "data": {
            "text/html": [
              "<div>\n",
              "<style scoped>\n",
              "    .dataframe tbody tr th:only-of-type {\n",
              "        vertical-align: middle;\n",
              "    }\n",
              "\n",
              "    .dataframe tbody tr th {\n",
              "        vertical-align: top;\n",
              "    }\n",
              "\n",
              "    .dataframe thead th {\n",
              "        text-align: right;\n",
              "    }\n",
              "</style>\n",
              "<table border=\"1\" class=\"dataframe\">\n",
              "  <thead>\n",
              "    <tr style=\"text-align: right;\">\n",
              "      <th></th>\n",
              "      <th>mpg</th>\n",
              "      <th>cyl</th>\n",
              "      <th>disp</th>\n",
              "      <th>hp</th>\n",
              "      <th>drat</th>\n",
              "      <th>wt</th>\n",
              "      <th>qsec</th>\n",
              "      <th>vs</th>\n",
              "      <th>am</th>\n",
              "      <th>gear</th>\n",
              "      <th>carb</th>\n",
              "    </tr>\n",
              "  </thead>\n",
              "  <tbody>\n",
              "    <tr>\n",
              "      <th>0</th>\n",
              "      <td>0.153299</td>\n",
              "      <td>-0.106668</td>\n",
              "      <td>-0.579750</td>\n",
              "      <td>-0.543655</td>\n",
              "      <td>0.576594</td>\n",
              "      <td>-0.620167</td>\n",
              "      <td>-0.789601</td>\n",
              "      <td>-0.881917</td>\n",
              "      <td>1.208941</td>\n",
              "      <td>0.430331</td>\n",
              "      <td>0.746967</td>\n",
              "    </tr>\n",
              "    <tr>\n",
              "      <th>1</th>\n",
              "      <td>0.153299</td>\n",
              "      <td>-0.106668</td>\n",
              "      <td>-0.579750</td>\n",
              "      <td>-0.543655</td>\n",
              "      <td>0.576594</td>\n",
              "      <td>-0.355382</td>\n",
              "      <td>-0.471202</td>\n",
              "      <td>-0.881917</td>\n",
              "      <td>1.208941</td>\n",
              "      <td>0.430331</td>\n",
              "      <td>0.746967</td>\n",
              "    </tr>\n",
              "    <tr>\n",
              "      <th>2</th>\n",
              "      <td>0.456737</td>\n",
              "      <td>-1.244457</td>\n",
              "      <td>-1.006026</td>\n",
              "      <td>-0.795570</td>\n",
              "      <td>0.481584</td>\n",
              "      <td>-0.931678</td>\n",
              "      <td>0.432823</td>\n",
              "      <td>1.133893</td>\n",
              "      <td>1.208941</td>\n",
              "      <td>0.430331</td>\n",
              "      <td>-1.140108</td>\n",
              "    </tr>\n",
              "    <tr>\n",
              "      <th>3</th>\n",
              "      <td>0.220730</td>\n",
              "      <td>-0.106668</td>\n",
              "      <td>0.223615</td>\n",
              "      <td>-0.543655</td>\n",
              "      <td>-0.981576</td>\n",
              "      <td>-0.002336</td>\n",
              "      <td>0.904736</td>\n",
              "      <td>1.133893</td>\n",
              "      <td>-0.827170</td>\n",
              "      <td>-0.946729</td>\n",
              "      <td>-1.140108</td>\n",
              "    </tr>\n",
              "    <tr>\n",
              "      <th>4</th>\n",
              "      <td>-0.234427</td>\n",
              "      <td>1.031121</td>\n",
              "      <td>1.059772</td>\n",
              "      <td>0.419550</td>\n",
              "      <td>-0.848562</td>\n",
              "      <td>0.231297</td>\n",
              "      <td>-0.471202</td>\n",
              "      <td>-0.881917</td>\n",
              "      <td>-0.827170</td>\n",
              "      <td>-0.946729</td>\n",
              "      <td>-0.511083</td>\n",
              "    </tr>\n",
              "  </tbody>\n",
              "</table>\n",
              "</div>"
            ],
            "text/plain": [
              "        mpg       cyl      disp  ...        am      gear      carb\n",
              "0  0.153299 -0.106668 -0.579750  ...  1.208941  0.430331  0.746967\n",
              "1  0.153299 -0.106668 -0.579750  ...  1.208941  0.430331  0.746967\n",
              "2  0.456737 -1.244457 -1.006026  ...  1.208941  0.430331 -1.140108\n",
              "3  0.220730 -0.106668  0.223615  ... -0.827170 -0.946729 -1.140108\n",
              "4 -0.234427  1.031121  1.059772  ... -0.827170 -0.946729 -0.511083\n",
              "\n",
              "[5 rows x 11 columns]"
            ]
          },
          "metadata": {
            "tags": []
          },
          "execution_count": 39
        }
      ]
    },
    {
      "cell_type": "code",
      "metadata": {
        "id": "4Oc14-XyU7XV",
        "colab": {
          "base_uri": "https://localhost:8080/"
        },
        "outputId": "4aff3c98-5004-42ee-9f8f-ead796115799"
      },
      "source": [
        "from sklearn.decomposition import PCA\n",
        "pca = PCA(n_components = 2)\n",
        "x = pca.fit_transform(x)\n",
        "x = pd.DataFrame(x, columns = ['p1', 'p2'])\n",
        "\n",
        "#각 주성분의 설명력\n",
        "print(pca.explained_variance_)\n",
        "print('전체 분산의 설명력: ', sum(pca.explained_variance_ratio_))"
      ],
      "execution_count": 40,
      "outputs": [
        {
          "output_type": "stream",
          "text": [
            "[6.82157445 2.73596686]\n",
            "전체 분산의 설명력:  0.8417152859657501\n"
          ],
          "name": "stdout"
        }
      ]
    },
    {
      "cell_type": "code",
      "metadata": {
        "id": "0RoTwpPJj7-N"
      },
      "source": [
        "x['U'] = [x.split(' ')[0] for x in modified_data['Unnamed: 0']]\n",
        "x['carname'] = modified_data['Unnamed: 0'].values"
      ],
      "execution_count": 41,
      "outputs": []
    },
    {
      "cell_type": "code",
      "metadata": {
        "colab": {
          "base_uri": "https://localhost:8080/",
          "height": 1000
        },
        "id": "TkBk97pbj-wl",
        "outputId": "35d83011-65d0-4566-e774-e5c771c6df25"
      },
      "source": [
        "x"
      ],
      "execution_count": 42,
      "outputs": [
        {
          "output_type": "execute_result",
          "data": {
            "text/html": [
              "<div>\n",
              "<style scoped>\n",
              "    .dataframe tbody tr th:only-of-type {\n",
              "        vertical-align: middle;\n",
              "    }\n",
              "\n",
              "    .dataframe tbody tr th {\n",
              "        vertical-align: top;\n",
              "    }\n",
              "\n",
              "    .dataframe thead th {\n",
              "        text-align: right;\n",
              "    }\n",
              "</style>\n",
              "<table border=\"1\" class=\"dataframe\">\n",
              "  <thead>\n",
              "    <tr style=\"text-align: right;\">\n",
              "      <th></th>\n",
              "      <th>p1</th>\n",
              "      <th>p2</th>\n",
              "      <th>U</th>\n",
              "      <th>carname</th>\n",
              "    </tr>\n",
              "  </thead>\n",
              "  <tbody>\n",
              "    <tr>\n",
              "      <th>0</th>\n",
              "      <td>0.657213</td>\n",
              "      <td>1.735446</td>\n",
              "      <td>Mazda</td>\n",
              "      <td>Mazda RX4</td>\n",
              "    </tr>\n",
              "    <tr>\n",
              "      <th>1</th>\n",
              "      <td>0.629396</td>\n",
              "      <td>1.550033</td>\n",
              "      <td>Mazda</td>\n",
              "      <td>Mazda RX4 Wag</td>\n",
              "    </tr>\n",
              "    <tr>\n",
              "      <th>2</th>\n",
              "      <td>2.779397</td>\n",
              "      <td>-0.146457</td>\n",
              "      <td>Datsun</td>\n",
              "      <td>Datsun 710</td>\n",
              "    </tr>\n",
              "    <tr>\n",
              "      <th>3</th>\n",
              "      <td>0.311771</td>\n",
              "      <td>-2.363019</td>\n",
              "      <td>Hornet</td>\n",
              "      <td>Hornet 4 Drive</td>\n",
              "    </tr>\n",
              "    <tr>\n",
              "      <th>4</th>\n",
              "      <td>-1.974489</td>\n",
              "      <td>-0.754402</td>\n",
              "      <td>Hornet</td>\n",
              "      <td>Hornet Sportabout</td>\n",
              "    </tr>\n",
              "    <tr>\n",
              "      <th>5</th>\n",
              "      <td>0.056138</td>\n",
              "      <td>-2.786000</td>\n",
              "      <td>Valiant</td>\n",
              "      <td>Valiant</td>\n",
              "    </tr>\n",
              "    <tr>\n",
              "      <th>6</th>\n",
              "      <td>-3.002674</td>\n",
              "      <td>0.334887</td>\n",
              "      <td>Duster</td>\n",
              "      <td>Duster 360</td>\n",
              "    </tr>\n",
              "    <tr>\n",
              "      <th>7</th>\n",
              "      <td>2.055329</td>\n",
              "      <td>-1.465181</td>\n",
              "      <td>Merc</td>\n",
              "      <td>Merc 240D</td>\n",
              "    </tr>\n",
              "    <tr>\n",
              "      <th>8</th>\n",
              "      <td>2.287408</td>\n",
              "      <td>-1.983526</td>\n",
              "      <td>Merc</td>\n",
              "      <td>Merc 230</td>\n",
              "    </tr>\n",
              "    <tr>\n",
              "      <th>9</th>\n",
              "      <td>0.526381</td>\n",
              "      <td>-0.162013</td>\n",
              "      <td>Merc</td>\n",
              "      <td>Merc 280</td>\n",
              "    </tr>\n",
              "    <tr>\n",
              "      <th>10</th>\n",
              "      <td>0.509205</td>\n",
              "      <td>-0.323894</td>\n",
              "      <td>Merc</td>\n",
              "      <td>Merc 280C</td>\n",
              "    </tr>\n",
              "    <tr>\n",
              "      <th>11</th>\n",
              "      <td>-2.247810</td>\n",
              "      <td>-0.683474</td>\n",
              "      <td>Merc</td>\n",
              "      <td>Merc 450SE</td>\n",
              "    </tr>\n",
              "    <tr>\n",
              "      <th>12</th>\n",
              "      <td>-2.047823</td>\n",
              "      <td>-0.683221</td>\n",
              "      <td>Merc</td>\n",
              "      <td>Merc 450SL</td>\n",
              "    </tr>\n",
              "    <tr>\n",
              "      <th>13</th>\n",
              "      <td>-2.148542</td>\n",
              "      <td>-0.801739</td>\n",
              "      <td>Merc</td>\n",
              "      <td>Merc 450SLC</td>\n",
              "    </tr>\n",
              "    <tr>\n",
              "      <th>14</th>\n",
              "      <td>-3.899790</td>\n",
              "      <td>-0.827948</td>\n",
              "      <td>Cadillac</td>\n",
              "      <td>Cadillac Fleetwood</td>\n",
              "    </tr>\n",
              "    <tr>\n",
              "      <th>15</th>\n",
              "      <td>-3.954123</td>\n",
              "      <td>-0.733381</td>\n",
              "      <td>Lincoln</td>\n",
              "      <td>Lincoln Continental</td>\n",
              "    </tr>\n",
              "    <tr>\n",
              "      <th>16</th>\n",
              "      <td>-3.592972</td>\n",
              "      <td>-0.421135</td>\n",
              "      <td>Chrysler</td>\n",
              "      <td>Chrysler Imperial</td>\n",
              "    </tr>\n",
              "    <tr>\n",
              "      <th>17</th>\n",
              "      <td>3.856284</td>\n",
              "      <td>-0.296752</td>\n",
              "      <td>Fiat</td>\n",
              "      <td>Fiat 128</td>\n",
              "    </tr>\n",
              "    <tr>\n",
              "      <th>18</th>\n",
              "      <td>4.254033</td>\n",
              "      <td>0.688414</td>\n",
              "      <td>Honda</td>\n",
              "      <td>Honda Civic</td>\n",
              "    </tr>\n",
              "    <tr>\n",
              "      <th>19</th>\n",
              "      <td>4.234221</td>\n",
              "      <td>-0.279287</td>\n",
              "      <td>Toyota</td>\n",
              "      <td>Toyota Corolla</td>\n",
              "    </tr>\n",
              "    <tr>\n",
              "      <th>20</th>\n",
              "      <td>1.904168</td>\n",
              "      <td>-2.119838</td>\n",
              "      <td>Toyota</td>\n",
              "      <td>Toyota Corona</td>\n",
              "    </tr>\n",
              "    <tr>\n",
              "      <th>21</th>\n",
              "      <td>-2.184851</td>\n",
              "      <td>-1.014217</td>\n",
              "      <td>Dodge</td>\n",
              "      <td>Dodge Challenger</td>\n",
              "    </tr>\n",
              "    <tr>\n",
              "      <th>22</th>\n",
              "      <td>-1.863383</td>\n",
              "      <td>-0.906465</td>\n",
              "      <td>AMC</td>\n",
              "      <td>AMC Javelin</td>\n",
              "    </tr>\n",
              "    <tr>\n",
              "      <th>23</th>\n",
              "      <td>-2.888995</td>\n",
              "      <td>0.680826</td>\n",
              "      <td>Camaro</td>\n",
              "      <td>Camaro Z28</td>\n",
              "    </tr>\n",
              "    <tr>\n",
              "      <th>24</th>\n",
              "      <td>-2.245919</td>\n",
              "      <td>-0.873812</td>\n",
              "      <td>Pontiac</td>\n",
              "      <td>Pontiac Firebird</td>\n",
              "    </tr>\n",
              "    <tr>\n",
              "      <th>25</th>\n",
              "      <td>3.573968</td>\n",
              "      <td>-0.121204</td>\n",
              "      <td>Fiat</td>\n",
              "      <td>Fiat X1-9</td>\n",
              "    </tr>\n",
              "    <tr>\n",
              "      <th>26</th>\n",
              "      <td>2.651255</td>\n",
              "      <td>2.046371</td>\n",
              "      <td>Porsche</td>\n",
              "      <td>Porsche 914-2</td>\n",
              "    </tr>\n",
              "    <tr>\n",
              "      <th>27</th>\n",
              "      <td>3.385706</td>\n",
              "      <td>1.378599</td>\n",
              "      <td>Lotus</td>\n",
              "      <td>Lotus Europa</td>\n",
              "    </tr>\n",
              "    <tr>\n",
              "      <th>28</th>\n",
              "      <td>-1.372957</td>\n",
              "      <td>3.500000</td>\n",
              "      <td>Ford</td>\n",
              "      <td>Ford Pantera L</td>\n",
              "    </tr>\n",
              "    <tr>\n",
              "      <th>29</th>\n",
              "      <td>0.000990</td>\n",
              "      <td>3.219072</td>\n",
              "      <td>Ferrari</td>\n",
              "      <td>Ferrari Dino</td>\n",
              "    </tr>\n",
              "    <tr>\n",
              "      <th>30</th>\n",
              "      <td>-2.669126</td>\n",
              "      <td>4.379677</td>\n",
              "      <td>Maserati</td>\n",
              "      <td>Maserati Bora</td>\n",
              "    </tr>\n",
              "    <tr>\n",
              "      <th>31</th>\n",
              "      <td>2.420593</td>\n",
              "      <td>0.233640</td>\n",
              "      <td>Volvo</td>\n",
              "      <td>Volvo 142E</td>\n",
              "    </tr>\n",
              "  </tbody>\n",
              "</table>\n",
              "</div>"
            ],
            "text/plain": [
              "          p1        p2         U              carname\n",
              "0   0.657213  1.735446     Mazda            Mazda RX4\n",
              "1   0.629396  1.550033     Mazda        Mazda RX4 Wag\n",
              "2   2.779397 -0.146457    Datsun           Datsun 710\n",
              "3   0.311771 -2.363019    Hornet       Hornet 4 Drive\n",
              "4  -1.974489 -0.754402    Hornet    Hornet Sportabout\n",
              "5   0.056138 -2.786000   Valiant              Valiant\n",
              "6  -3.002674  0.334887    Duster           Duster 360\n",
              "7   2.055329 -1.465181      Merc            Merc 240D\n",
              "8   2.287408 -1.983526      Merc             Merc 230\n",
              "9   0.526381 -0.162013      Merc             Merc 280\n",
              "10  0.509205 -0.323894      Merc            Merc 280C\n",
              "11 -2.247810 -0.683474      Merc           Merc 450SE\n",
              "12 -2.047823 -0.683221      Merc           Merc 450SL\n",
              "13 -2.148542 -0.801739      Merc          Merc 450SLC\n",
              "14 -3.899790 -0.827948  Cadillac   Cadillac Fleetwood\n",
              "15 -3.954123 -0.733381   Lincoln  Lincoln Continental\n",
              "16 -3.592972 -0.421135  Chrysler    Chrysler Imperial\n",
              "17  3.856284 -0.296752      Fiat             Fiat 128\n",
              "18  4.254033  0.688414     Honda          Honda Civic\n",
              "19  4.234221 -0.279287    Toyota       Toyota Corolla\n",
              "20  1.904168 -2.119838    Toyota        Toyota Corona\n",
              "21 -2.184851 -1.014217     Dodge     Dodge Challenger\n",
              "22 -1.863383 -0.906465       AMC          AMC Javelin\n",
              "23 -2.888995  0.680826    Camaro           Camaro Z28\n",
              "24 -2.245919 -0.873812   Pontiac     Pontiac Firebird\n",
              "25  3.573968 -0.121204      Fiat            Fiat X1-9\n",
              "26  2.651255  2.046371   Porsche        Porsche 914-2\n",
              "27  3.385706  1.378599     Lotus         Lotus Europa\n",
              "28 -1.372957  3.500000      Ford       Ford Pantera L\n",
              "29  0.000990  3.219072   Ferrari         Ferrari Dino\n",
              "30 -2.669126  4.379677  Maserati        Maserati Bora\n",
              "31  2.420593  0.233640     Volvo           Volvo 142E"
            ]
          },
          "metadata": {
            "tags": []
          },
          "execution_count": 42
        }
      ]
    },
    {
      "cell_type": "code",
      "metadata": {
        "colab": {
          "base_uri": "https://localhost:8080/",
          "height": 471
        },
        "id": "5Yma35dygW0u",
        "outputId": "df0af5ae-9d3c-429f-ec1f-1089b21b2ce2"
      },
      "source": [
        "groups = x.groupby('U')\n",
        "\n",
        "fig, ax = plt.subplots()\n",
        "\n",
        "for name, group in groups:\n",
        "    ax.plot(group.p1, \n",
        "            group.p2, \n",
        "            marker='o', \n",
        "            linestyle='',\n",
        "            label=name)\n",
        "\n",
        "ax.legend(fontsize=12, bbox_to_anchor=(1, 1.5)) # legend position\n",
        "\n",
        "plt.title('scatter of pca')\n",
        "plt.xlabel('1st primary component')\n",
        "plt.ylabel('2nd primary component')"
      ],
      "execution_count": 43,
      "outputs": [
        {
          "output_type": "execute_result",
          "data": {
            "text/plain": [
              "Text(0, 0.5, '2nd primary component')"
            ]
          },
          "metadata": {
            "tags": []
          },
          "execution_count": 43
        },
        {
          "output_type": "display_data",
          "data": {
            "image/png": "[encoded data removed]",
            "text/plain": [
              "<Figure size 432x288 with 1 Axes>"
            ]
          },
          "metadata": {
            "tags": [],
            "needs_background": "light"
          }
        }
      ]
    },
    {
      "cell_type": "code",
      "metadata": {
        "colab": {
          "base_uri": "https://localhost:8080/",
          "height": 1000
        },
        "id": "1ZO0XD61n8y3",
        "outputId": "c96853bd-d062-4c0a-bf5e-3adff693ba85"
      },
      "source": [
        "plt.figure(figsize = (20, 20))\n",
        "plt.xlim(x['p1'].min() - 1, x['p1'].max() + 1)\n",
        "plt.ylim(x['p2'].min() - 1, x['p2'].max() + 1)\n",
        "\n",
        "for i in range(x.shape[0]):\n",
        "    plt.text(x.iloc[i, 0], x.iloc[i, 1], x['carname'][i])\n",
        "\n",
        "plt.title('scatter of pca')\n",
        "plt.xlabel('1st primary component')\n",
        "plt.ylabel('2nd primary component')"
      ],
      "execution_count": 44,
      "outputs": [
        {
          "output_type": "execute_result",
          "data": {
            "text/plain": [
              "Text(0, 0.5, '2nd primary component')"
            ]
          },
          "metadata": {
            "tags": []
          },
          "execution_count": 44
        },
        {
          "output_type": "display_data",
          "data": {
            "image/png": "[encoded data removed]",
            "text/plain": [
              "<Figure size 1440x1440 with 1 Axes>"
            ]
          },
          "metadata": {
            "tags": [],
            "needs_background": "light"
          }
        }
      ]
    },
    {
      "cell_type": "code",
      "metadata": {
        "id": "8fRHHItZcia-"
      },
      "source": [
        "#차원 축소로 각 브랜드의 비슷한 차종끼리 군집된 것을 알 수 있다. 하지만 차종 정보는 확신할 수 없다"
      ],
      "execution_count": 45,
      "outputs": []
    },
    {
      "cell_type": "markdown",
      "metadata": {
        "id": "O4ig758Za7qs"
      },
      "source": [
        "#변수간 연관 확인"
      ]
    },
    {
      "cell_type": "code",
      "metadata": {
        "id": "Ohxg7IEja7NE",
        "colab": {
          "base_uri": "https://localhost:8080/",
          "height": 270
        },
        "outputId": "d1f1566e-cbb1-4976-87eb-44ce5bc24c53"
      },
      "source": [
        "modified_data = rawdata.copy()\n",
        "modified_data.corr(method = 'pearson').style.background_gradient(cmap='Accent')\n"
      ],
      "execution_count": 51,
      "outputs": [
        {
          "output_type": "execute_result",
          "data": {
            "text/html": [
              "<style  type=\"text/css\" >\n",
              "#T_0f036df0_ab6a_11eb_bd5a_0242ac1c0002row0_col0,#T_0f036df0_ab6a_11eb_bd5a_0242ac1c0002row1_col1,#T_0f036df0_ab6a_11eb_bd5a_0242ac1c0002row1_col2,#T_0f036df0_ab6a_11eb_bd5a_0242ac1c0002row1_col3,#T_0f036df0_ab6a_11eb_bd5a_0242ac1c0002row1_col5,#T_0f036df0_ab6a_11eb_bd5a_0242ac1c0002row2_col1,#T_0f036df0_ab6a_11eb_bd5a_0242ac1c0002row2_col2,#T_0f036df0_ab6a_11eb_bd5a_0242ac1c0002row2_col3,#T_0f036df0_ab6a_11eb_bd5a_0242ac1c0002row2_col5,#T_0f036df0_ab6a_11eb_bd5a_0242ac1c0002row3_col1,#T_0f036df0_ab6a_11eb_bd5a_0242ac1c0002row3_col2,#T_0f036df0_ab6a_11eb_bd5a_0242ac1c0002row3_col3,#T_0f036df0_ab6a_11eb_bd5a_0242ac1c0002row4_col4,#T_0f036df0_ab6a_11eb_bd5a_0242ac1c0002row5_col1,#T_0f036df0_ab6a_11eb_bd5a_0242ac1c0002row5_col2,#T_0f036df0_ab6a_11eb_bd5a_0242ac1c0002row5_col5,#T_0f036df0_ab6a_11eb_bd5a_0242ac1c0002row6_col6,#T_0f036df0_ab6a_11eb_bd5a_0242ac1c0002row7_col7,#T_0f036df0_ab6a_11eb_bd5a_0242ac1c0002row8_col8,#T_0f036df0_ab6a_11eb_bd5a_0242ac1c0002row9_col8,#T_0f036df0_ab6a_11eb_bd5a_0242ac1c0002row9_col9,#T_0f036df0_ab6a_11eb_bd5a_0242ac1c0002row10_col10{\n",
              "            background-color:  #666666;\n",
              "            color:  #f1f1f1;\n",
              "        }#T_0f036df0_ab6a_11eb_bd5a_0242ac1c0002row0_col1,#T_0f036df0_ab6a_11eb_bd5a_0242ac1c0002row0_col2,#T_0f036df0_ab6a_11eb_bd5a_0242ac1c0002row0_col3,#T_0f036df0_ab6a_11eb_bd5a_0242ac1c0002row0_col5,#T_0f036df0_ab6a_11eb_bd5a_0242ac1c0002row0_col10,#T_0f036df0_ab6a_11eb_bd5a_0242ac1c0002row1_col0,#T_0f036df0_ab6a_11eb_bd5a_0242ac1c0002row1_col4,#T_0f036df0_ab6a_11eb_bd5a_0242ac1c0002row1_col6,#T_0f036df0_ab6a_11eb_bd5a_0242ac1c0002row1_col7,#T_0f036df0_ab6a_11eb_bd5a_0242ac1c0002row1_col8,#T_0f036df0_ab6a_11eb_bd5a_0242ac1c0002row1_col9,#T_0f036df0_ab6a_11eb_bd5a_0242ac1c0002row2_col0,#T_0f036df0_ab6a_11eb_bd5a_0242ac1c0002row2_col4,#T_0f036df0_ab6a_11eb_bd5a_0242ac1c0002row2_col7,#T_0f036df0_ab6a_11eb_bd5a_0242ac1c0002row2_col8,#T_0f036df0_ab6a_11eb_bd5a_0242ac1c0002row2_col9,#T_0f036df0_ab6a_11eb_bd5a_0242ac1c0002row3_col0,#T_0f036df0_ab6a_11eb_bd5a_0242ac1c0002row3_col6,#T_0f036df0_ab6a_11eb_bd5a_0242ac1c0002row3_col7,#T_0f036df0_ab6a_11eb_bd5a_0242ac1c0002row4_col1,#T_0f036df0_ab6a_11eb_bd5a_0242ac1c0002row4_col2,#T_0f036df0_ab6a_11eb_bd5a_0242ac1c0002row4_col5,#T_0f036df0_ab6a_11eb_bd5a_0242ac1c0002row5_col0,#T_0f036df0_ab6a_11eb_bd5a_0242ac1c0002row5_col4,#T_0f036df0_ab6a_11eb_bd5a_0242ac1c0002row5_col8,#T_0f036df0_ab6a_11eb_bd5a_0242ac1c0002row5_col9,#T_0f036df0_ab6a_11eb_bd5a_0242ac1c0002row6_col3,#T_0f036df0_ab6a_11eb_bd5a_0242ac1c0002row6_col10,#T_0f036df0_ab6a_11eb_bd5a_0242ac1c0002row7_col1,#T_0f036df0_ab6a_11eb_bd5a_0242ac1c0002row7_col2,#T_0f036df0_ab6a_11eb_bd5a_0242ac1c0002row7_col3,#T_0f036df0_ab6a_11eb_bd5a_0242ac1c0002row7_col10,#T_0f036df0_ab6a_11eb_bd5a_0242ac1c0002row8_col5,#T_0f036df0_ab6a_11eb_bd5a_0242ac1c0002row10_col6{\n",
              "            background-color:  #7fc97f;\n",
              "            color:  #000000;\n",
              "        }#T_0f036df0_ab6a_11eb_bd5a_0242ac1c0002row0_col4,#T_0f036df0_ab6a_11eb_bd5a_0242ac1c0002row0_col7,#T_0f036df0_ab6a_11eb_bd5a_0242ac1c0002row0_col8,#T_0f036df0_ab6a_11eb_bd5a_0242ac1c0002row3_col5,#T_0f036df0_ab6a_11eb_bd5a_0242ac1c0002row3_col10,#T_0f036df0_ab6a_11eb_bd5a_0242ac1c0002row4_col0,#T_0f036df0_ab6a_11eb_bd5a_0242ac1c0002row4_col8,#T_0f036df0_ab6a_11eb_bd5a_0242ac1c0002row4_col9,#T_0f036df0_ab6a_11eb_bd5a_0242ac1c0002row5_col3,#T_0f036df0_ab6a_11eb_bd5a_0242ac1c0002row6_col7,#T_0f036df0_ab6a_11eb_bd5a_0242ac1c0002row7_col0,#T_0f036df0_ab6a_11eb_bd5a_0242ac1c0002row7_col6,#T_0f036df0_ab6a_11eb_bd5a_0242ac1c0002row8_col0,#T_0f036df0_ab6a_11eb_bd5a_0242ac1c0002row8_col4,#T_0f036df0_ab6a_11eb_bd5a_0242ac1c0002row8_col9,#T_0f036df0_ab6a_11eb_bd5a_0242ac1c0002row9_col4,#T_0f036df0_ab6a_11eb_bd5a_0242ac1c0002row10_col3{\n",
              "            background-color:  #bf5b17;\n",
              "            color:  #000000;\n",
              "        }#T_0f036df0_ab6a_11eb_bd5a_0242ac1c0002row0_col6,#T_0f036df0_ab6a_11eb_bd5a_0242ac1c0002row0_col9,#T_0f036df0_ab6a_11eb_bd5a_0242ac1c0002row1_col10,#T_0f036df0_ab6a_11eb_bd5a_0242ac1c0002row2_col10,#T_0f036df0_ab6a_11eb_bd5a_0242ac1c0002row4_col7,#T_0f036df0_ab6a_11eb_bd5a_0242ac1c0002row5_col10,#T_0f036df0_ab6a_11eb_bd5a_0242ac1c0002row6_col0,#T_0f036df0_ab6a_11eb_bd5a_0242ac1c0002row7_col4,#T_0f036df0_ab6a_11eb_bd5a_0242ac1c0002row9_col0,#T_0f036df0_ab6a_11eb_bd5a_0242ac1c0002row10_col1,#T_0f036df0_ab6a_11eb_bd5a_0242ac1c0002row10_col2,#T_0f036df0_ab6a_11eb_bd5a_0242ac1c0002row10_col5{\n",
              "            background-color:  #f0027f;\n",
              "            color:  #f1f1f1;\n",
              "        }#T_0f036df0_ab6a_11eb_bd5a_0242ac1c0002row2_col6,#T_0f036df0_ab6a_11eb_bd5a_0242ac1c0002row3_col4,#T_0f036df0_ab6a_11eb_bd5a_0242ac1c0002row4_col3,#T_0f036df0_ab6a_11eb_bd5a_0242ac1c0002row5_col7,#T_0f036df0_ab6a_11eb_bd5a_0242ac1c0002row6_col1,#T_0f036df0_ab6a_11eb_bd5a_0242ac1c0002row6_col2,#T_0f036df0_ab6a_11eb_bd5a_0242ac1c0002row6_col9,#T_0f036df0_ab6a_11eb_bd5a_0242ac1c0002row7_col5,#T_0f036df0_ab6a_11eb_bd5a_0242ac1c0002row8_col1,#T_0f036df0_ab6a_11eb_bd5a_0242ac1c0002row8_col2,#T_0f036df0_ab6a_11eb_bd5a_0242ac1c0002row9_col1,#T_0f036df0_ab6a_11eb_bd5a_0242ac1c0002row9_col2,#T_0f036df0_ab6a_11eb_bd5a_0242ac1c0002row9_col5,#T_0f036df0_ab6a_11eb_bd5a_0242ac1c0002row10_col0,#T_0f036df0_ab6a_11eb_bd5a_0242ac1c0002row10_col7{\n",
              "            background-color:  #beaed4;\n",
              "            color:  #000000;\n",
              "        }#T_0f036df0_ab6a_11eb_bd5a_0242ac1c0002row3_col8,#T_0f036df0_ab6a_11eb_bd5a_0242ac1c0002row3_col9,#T_0f036df0_ab6a_11eb_bd5a_0242ac1c0002row4_col10,#T_0f036df0_ab6a_11eb_bd5a_0242ac1c0002row5_col6,#T_0f036df0_ab6a_11eb_bd5a_0242ac1c0002row6_col5,#T_0f036df0_ab6a_11eb_bd5a_0242ac1c0002row6_col8,#T_0f036df0_ab6a_11eb_bd5a_0242ac1c0002row8_col3,#T_0f036df0_ab6a_11eb_bd5a_0242ac1c0002row8_col6,#T_0f036df0_ab6a_11eb_bd5a_0242ac1c0002row9_col3,#T_0f036df0_ab6a_11eb_bd5a_0242ac1c0002row9_col6,#T_0f036df0_ab6a_11eb_bd5a_0242ac1c0002row10_col4{\n",
              "            background-color:  #fdc086;\n",
              "            color:  #000000;\n",
              "        }#T_0f036df0_ab6a_11eb_bd5a_0242ac1c0002row4_col6,#T_0f036df0_ab6a_11eb_bd5a_0242ac1c0002row6_col4,#T_0f036df0_ab6a_11eb_bd5a_0242ac1c0002row7_col9,#T_0f036df0_ab6a_11eb_bd5a_0242ac1c0002row8_col10,#T_0f036df0_ab6a_11eb_bd5a_0242ac1c0002row10_col8{\n",
              "            background-color:  #ffff99;\n",
              "            color:  #000000;\n",
              "        }#T_0f036df0_ab6a_11eb_bd5a_0242ac1c0002row7_col8,#T_0f036df0_ab6a_11eb_bd5a_0242ac1c0002row8_col7,#T_0f036df0_ab6a_11eb_bd5a_0242ac1c0002row9_col7,#T_0f036df0_ab6a_11eb_bd5a_0242ac1c0002row9_col10,#T_0f036df0_ab6a_11eb_bd5a_0242ac1c0002row10_col9{\n",
              "            background-color:  #386cb0;\n",
              "            color:  #f1f1f1;\n",
              "        }</style><table id=\"T_0f036df0_ab6a_11eb_bd5a_0242ac1c0002\" ><thead>    <tr>        <th class=\"blank level0\" ></th>        <th class=\"col_heading level0 col0\" >mpg</th>        <th class=\"col_heading level0 col1\" >cyl</th>        <th class=\"col_heading level0 col2\" >disp</th>        <th class=\"col_heading level0 col3\" >hp</th>        <th class=\"col_heading level0 col4\" >drat</th>        <th class=\"col_heading level0 col5\" >wt</th>        <th class=\"col_heading level0 col6\" >qsec</th>        <th class=\"col_heading level0 col7\" >vs</th>        <th class=\"col_heading level0 col8\" >am</th>        <th class=\"col_heading level0 col9\" >gear</th>        <th class=\"col_heading level0 col10\" >carb</th>    </tr></thead><tbody>\n",
              "                <tr>\n",
              "                        <th id=\"T_0f036df0_ab6a_11eb_bd5a_0242ac1c0002level0_row0\" class=\"row_heading level0 row0\" >mpg</th>\n",
              "                        <td id=\"T_0f036df0_ab6a_11eb_bd5a_0242ac1c0002row0_col0\" class=\"data row0 col0\" >1.000000</td>\n",
              "                        <td id=\"T_0f036df0_ab6a_11eb_bd5a_0242ac1c0002row0_col1\" class=\"data row0 col1\" >-0.852162</td>\n",
              "                        <td id=\"T_0f036df0_ab6a_11eb_bd5a_0242ac1c0002row0_col2\" class=\"data row0 col2\" >-0.847551</td>\n",
              "                        <td id=\"T_0f036df0_ab6a_11eb_bd5a_0242ac1c0002row0_col3\" class=\"data row0 col3\" >-0.776168</td>\n",
              "                        <td id=\"T_0f036df0_ab6a_11eb_bd5a_0242ac1c0002row0_col4\" class=\"data row0 col4\" >0.681172</td>\n",
              "                        <td id=\"T_0f036df0_ab6a_11eb_bd5a_0242ac1c0002row0_col5\" class=\"data row0 col5\" >-0.867659</td>\n",
              "                        <td id=\"T_0f036df0_ab6a_11eb_bd5a_0242ac1c0002row0_col6\" class=\"data row0 col6\" >0.418684</td>\n",
              "                        <td id=\"T_0f036df0_ab6a_11eb_bd5a_0242ac1c0002row0_col7\" class=\"data row0 col7\" >0.664039</td>\n",
              "                        <td id=\"T_0f036df0_ab6a_11eb_bd5a_0242ac1c0002row0_col8\" class=\"data row0 col8\" >0.599832</td>\n",
              "                        <td id=\"T_0f036df0_ab6a_11eb_bd5a_0242ac1c0002row0_col9\" class=\"data row0 col9\" >0.480285</td>\n",
              "                        <td id=\"T_0f036df0_ab6a_11eb_bd5a_0242ac1c0002row0_col10\" class=\"data row0 col10\" >-0.550925</td>\n",
              "            </tr>\n",
              "            <tr>\n",
              "                        <th id=\"T_0f036df0_ab6a_11eb_bd5a_0242ac1c0002level0_row1\" class=\"row_heading level0 row1\" >cyl</th>\n",
              "                        <td id=\"T_0f036df0_ab6a_11eb_bd5a_0242ac1c0002row1_col0\" class=\"data row1 col0\" >-0.852162</td>\n",
              "                        <td id=\"T_0f036df0_ab6a_11eb_bd5a_0242ac1c0002row1_col1\" class=\"data row1 col1\" >1.000000</td>\n",
              "                        <td id=\"T_0f036df0_ab6a_11eb_bd5a_0242ac1c0002row1_col2\" class=\"data row1 col2\" >0.902033</td>\n",
              "                        <td id=\"T_0f036df0_ab6a_11eb_bd5a_0242ac1c0002row1_col3\" class=\"data row1 col3\" >0.832447</td>\n",
              "                        <td id=\"T_0f036df0_ab6a_11eb_bd5a_0242ac1c0002row1_col4\" class=\"data row1 col4\" >-0.699938</td>\n",
              "                        <td id=\"T_0f036df0_ab6a_11eb_bd5a_0242ac1c0002row1_col5\" class=\"data row1 col5\" >0.782496</td>\n",
              "                        <td id=\"T_0f036df0_ab6a_11eb_bd5a_0242ac1c0002row1_col6\" class=\"data row1 col6\" >-0.591242</td>\n",
              "                        <td id=\"T_0f036df0_ab6a_11eb_bd5a_0242ac1c0002row1_col7\" class=\"data row1 col7\" >-0.810812</td>\n",
              "                        <td id=\"T_0f036df0_ab6a_11eb_bd5a_0242ac1c0002row1_col8\" class=\"data row1 col8\" >-0.522607</td>\n",
              "                        <td id=\"T_0f036df0_ab6a_11eb_bd5a_0242ac1c0002row1_col9\" class=\"data row1 col9\" >-0.492687</td>\n",
              "                        <td id=\"T_0f036df0_ab6a_11eb_bd5a_0242ac1c0002row1_col10\" class=\"data row1 col10\" >0.526988</td>\n",
              "            </tr>\n",
              "            <tr>\n",
              "                        <th id=\"T_0f036df0_ab6a_11eb_bd5a_0242ac1c0002level0_row2\" class=\"row_heading level0 row2\" >disp</th>\n",
              "                        <td id=\"T_0f036df0_ab6a_11eb_bd5a_0242ac1c0002row2_col0\" class=\"data row2 col0\" >-0.847551</td>\n",
              "                        <td id=\"T_0f036df0_ab6a_11eb_bd5a_0242ac1c0002row2_col1\" class=\"data row2 col1\" >0.902033</td>\n",
              "                        <td id=\"T_0f036df0_ab6a_11eb_bd5a_0242ac1c0002row2_col2\" class=\"data row2 col2\" >1.000000</td>\n",
              "                        <td id=\"T_0f036df0_ab6a_11eb_bd5a_0242ac1c0002row2_col3\" class=\"data row2 col3\" >0.790949</td>\n",
              "                        <td id=\"T_0f036df0_ab6a_11eb_bd5a_0242ac1c0002row2_col4\" class=\"data row2 col4\" >-0.710214</td>\n",
              "                        <td id=\"T_0f036df0_ab6a_11eb_bd5a_0242ac1c0002row2_col5\" class=\"data row2 col5\" >0.887980</td>\n",
              "                        <td id=\"T_0f036df0_ab6a_11eb_bd5a_0242ac1c0002row2_col6\" class=\"data row2 col6\" >-0.433698</td>\n",
              "                        <td id=\"T_0f036df0_ab6a_11eb_bd5a_0242ac1c0002row2_col7\" class=\"data row2 col7\" >-0.710416</td>\n",
              "                        <td id=\"T_0f036df0_ab6a_11eb_bd5a_0242ac1c0002row2_col8\" class=\"data row2 col8\" >-0.591227</td>\n",
              "                        <td id=\"T_0f036df0_ab6a_11eb_bd5a_0242ac1c0002row2_col9\" class=\"data row2 col9\" >-0.555569</td>\n",
              "                        <td id=\"T_0f036df0_ab6a_11eb_bd5a_0242ac1c0002row2_col10\" class=\"data row2 col10\" >0.394977</td>\n",
              "            </tr>\n",
              "            <tr>\n",
              "                        <th id=\"T_0f036df0_ab6a_11eb_bd5a_0242ac1c0002level0_row3\" class=\"row_heading level0 row3\" >hp</th>\n",
              "                        <td id=\"T_0f036df0_ab6a_11eb_bd5a_0242ac1c0002row3_col0\" class=\"data row3 col0\" >-0.776168</td>\n",
              "                        <td id=\"T_0f036df0_ab6a_11eb_bd5a_0242ac1c0002row3_col1\" class=\"data row3 col1\" >0.832447</td>\n",
              "                        <td id=\"T_0f036df0_ab6a_11eb_bd5a_0242ac1c0002row3_col2\" class=\"data row3 col2\" >0.790949</td>\n",
              "                        <td id=\"T_0f036df0_ab6a_11eb_bd5a_0242ac1c0002row3_col3\" class=\"data row3 col3\" >1.000000</td>\n",
              "                        <td id=\"T_0f036df0_ab6a_11eb_bd5a_0242ac1c0002row3_col4\" class=\"data row3 col4\" >-0.448759</td>\n",
              "                        <td id=\"T_0f036df0_ab6a_11eb_bd5a_0242ac1c0002row3_col5\" class=\"data row3 col5\" >0.658748</td>\n",
              "                        <td id=\"T_0f036df0_ab6a_11eb_bd5a_0242ac1c0002row3_col6\" class=\"data row3 col6\" >-0.708223</td>\n",
              "                        <td id=\"T_0f036df0_ab6a_11eb_bd5a_0242ac1c0002row3_col7\" class=\"data row3 col7\" >-0.723097</td>\n",
              "                        <td id=\"T_0f036df0_ab6a_11eb_bd5a_0242ac1c0002row3_col8\" class=\"data row3 col8\" >-0.243204</td>\n",
              "                        <td id=\"T_0f036df0_ab6a_11eb_bd5a_0242ac1c0002row3_col9\" class=\"data row3 col9\" >-0.125704</td>\n",
              "                        <td id=\"T_0f036df0_ab6a_11eb_bd5a_0242ac1c0002row3_col10\" class=\"data row3 col10\" >0.749812</td>\n",
              "            </tr>\n",
              "            <tr>\n",
              "                        <th id=\"T_0f036df0_ab6a_11eb_bd5a_0242ac1c0002level0_row4\" class=\"row_heading level0 row4\" >drat</th>\n",
              "                        <td id=\"T_0f036df0_ab6a_11eb_bd5a_0242ac1c0002row4_col0\" class=\"data row4 col0\" >0.681172</td>\n",
              "                        <td id=\"T_0f036df0_ab6a_11eb_bd5a_0242ac1c0002row4_col1\" class=\"data row4 col1\" >-0.699938</td>\n",
              "                        <td id=\"T_0f036df0_ab6a_11eb_bd5a_0242ac1c0002row4_col2\" class=\"data row4 col2\" >-0.710214</td>\n",
              "                        <td id=\"T_0f036df0_ab6a_11eb_bd5a_0242ac1c0002row4_col3\" class=\"data row4 col3\" >-0.448759</td>\n",
              "                        <td id=\"T_0f036df0_ab6a_11eb_bd5a_0242ac1c0002row4_col4\" class=\"data row4 col4\" >1.000000</td>\n",
              "                        <td id=\"T_0f036df0_ab6a_11eb_bd5a_0242ac1c0002row4_col5\" class=\"data row4 col5\" >-0.712441</td>\n",
              "                        <td id=\"T_0f036df0_ab6a_11eb_bd5a_0242ac1c0002row4_col6\" class=\"data row4 col6\" >0.091205</td>\n",
              "                        <td id=\"T_0f036df0_ab6a_11eb_bd5a_0242ac1c0002row4_col7\" class=\"data row4 col7\" >0.440278</td>\n",
              "                        <td id=\"T_0f036df0_ab6a_11eb_bd5a_0242ac1c0002row4_col8\" class=\"data row4 col8\" >0.712711</td>\n",
              "                        <td id=\"T_0f036df0_ab6a_11eb_bd5a_0242ac1c0002row4_col9\" class=\"data row4 col9\" >0.699610</td>\n",
              "                        <td id=\"T_0f036df0_ab6a_11eb_bd5a_0242ac1c0002row4_col10\" class=\"data row4 col10\" >-0.090790</td>\n",
              "            </tr>\n",
              "            <tr>\n",
              "                        <th id=\"T_0f036df0_ab6a_11eb_bd5a_0242ac1c0002level0_row5\" class=\"row_heading level0 row5\" >wt</th>\n",
              "                        <td id=\"T_0f036df0_ab6a_11eb_bd5a_0242ac1c0002row5_col0\" class=\"data row5 col0\" >-0.867659</td>\n",
              "                        <td id=\"T_0f036df0_ab6a_11eb_bd5a_0242ac1c0002row5_col1\" class=\"data row5 col1\" >0.782496</td>\n",
              "                        <td id=\"T_0f036df0_ab6a_11eb_bd5a_0242ac1c0002row5_col2\" class=\"data row5 col2\" >0.887980</td>\n",
              "                        <td id=\"T_0f036df0_ab6a_11eb_bd5a_0242ac1c0002row5_col3\" class=\"data row5 col3\" >0.658748</td>\n",
              "                        <td id=\"T_0f036df0_ab6a_11eb_bd5a_0242ac1c0002row5_col4\" class=\"data row5 col4\" >-0.712441</td>\n",
              "                        <td id=\"T_0f036df0_ab6a_11eb_bd5a_0242ac1c0002row5_col5\" class=\"data row5 col5\" >1.000000</td>\n",
              "                        <td id=\"T_0f036df0_ab6a_11eb_bd5a_0242ac1c0002row5_col6\" class=\"data row5 col6\" >-0.174716</td>\n",
              "                        <td id=\"T_0f036df0_ab6a_11eb_bd5a_0242ac1c0002row5_col7\" class=\"data row5 col7\" >-0.554916</td>\n",
              "                        <td id=\"T_0f036df0_ab6a_11eb_bd5a_0242ac1c0002row5_col8\" class=\"data row5 col8\" >-0.692495</td>\n",
              "                        <td id=\"T_0f036df0_ab6a_11eb_bd5a_0242ac1c0002row5_col9\" class=\"data row5 col9\" >-0.583287</td>\n",
              "                        <td id=\"T_0f036df0_ab6a_11eb_bd5a_0242ac1c0002row5_col10\" class=\"data row5 col10\" >0.427606</td>\n",
              "            </tr>\n",
              "            <tr>\n",
              "                        <th id=\"T_0f036df0_ab6a_11eb_bd5a_0242ac1c0002level0_row6\" class=\"row_heading level0 row6\" >qsec</th>\n",
              "                        <td id=\"T_0f036df0_ab6a_11eb_bd5a_0242ac1c0002row6_col0\" class=\"data row6 col0\" >0.418684</td>\n",
              "                        <td id=\"T_0f036df0_ab6a_11eb_bd5a_0242ac1c0002row6_col1\" class=\"data row6 col1\" >-0.591242</td>\n",
              "                        <td id=\"T_0f036df0_ab6a_11eb_bd5a_0242ac1c0002row6_col2\" class=\"data row6 col2\" >-0.433698</td>\n",
              "                        <td id=\"T_0f036df0_ab6a_11eb_bd5a_0242ac1c0002row6_col3\" class=\"data row6 col3\" >-0.708223</td>\n",
              "                        <td id=\"T_0f036df0_ab6a_11eb_bd5a_0242ac1c0002row6_col4\" class=\"data row6 col4\" >0.091205</td>\n",
              "                        <td id=\"T_0f036df0_ab6a_11eb_bd5a_0242ac1c0002row6_col5\" class=\"data row6 col5\" >-0.174716</td>\n",
              "                        <td id=\"T_0f036df0_ab6a_11eb_bd5a_0242ac1c0002row6_col6\" class=\"data row6 col6\" >1.000000</td>\n",
              "                        <td id=\"T_0f036df0_ab6a_11eb_bd5a_0242ac1c0002row6_col7\" class=\"data row6 col7\" >0.744535</td>\n",
              "                        <td id=\"T_0f036df0_ab6a_11eb_bd5a_0242ac1c0002row6_col8\" class=\"data row6 col8\" >-0.229861</td>\n",
              "                        <td id=\"T_0f036df0_ab6a_11eb_bd5a_0242ac1c0002row6_col9\" class=\"data row6 col9\" >-0.212682</td>\n",
              "                        <td id=\"T_0f036df0_ab6a_11eb_bd5a_0242ac1c0002row6_col10\" class=\"data row6 col10\" >-0.656249</td>\n",
              "            </tr>\n",
              "            <tr>\n",
              "                        <th id=\"T_0f036df0_ab6a_11eb_bd5a_0242ac1c0002level0_row7\" class=\"row_heading level0 row7\" >vs</th>\n",
              "                        <td id=\"T_0f036df0_ab6a_11eb_bd5a_0242ac1c0002row7_col0\" class=\"data row7 col0\" >0.664039</td>\n",
              "                        <td id=\"T_0f036df0_ab6a_11eb_bd5a_0242ac1c0002row7_col1\" class=\"data row7 col1\" >-0.810812</td>\n",
              "                        <td id=\"T_0f036df0_ab6a_11eb_bd5a_0242ac1c0002row7_col2\" class=\"data row7 col2\" >-0.710416</td>\n",
              "                        <td id=\"T_0f036df0_ab6a_11eb_bd5a_0242ac1c0002row7_col3\" class=\"data row7 col3\" >-0.723097</td>\n",
              "                        <td id=\"T_0f036df0_ab6a_11eb_bd5a_0242ac1c0002row7_col4\" class=\"data row7 col4\" >0.440278</td>\n",
              "                        <td id=\"T_0f036df0_ab6a_11eb_bd5a_0242ac1c0002row7_col5\" class=\"data row7 col5\" >-0.554916</td>\n",
              "                        <td id=\"T_0f036df0_ab6a_11eb_bd5a_0242ac1c0002row7_col6\" class=\"data row7 col6\" >0.744535</td>\n",
              "                        <td id=\"T_0f036df0_ab6a_11eb_bd5a_0242ac1c0002row7_col7\" class=\"data row7 col7\" >1.000000</td>\n",
              "                        <td id=\"T_0f036df0_ab6a_11eb_bd5a_0242ac1c0002row7_col8\" class=\"data row7 col8\" >0.168345</td>\n",
              "                        <td id=\"T_0f036df0_ab6a_11eb_bd5a_0242ac1c0002row7_col9\" class=\"data row7 col9\" >0.206023</td>\n",
              "                        <td id=\"T_0f036df0_ab6a_11eb_bd5a_0242ac1c0002row7_col10\" class=\"data row7 col10\" >-0.569607</td>\n",
              "            </tr>\n",
              "            <tr>\n",
              "                        <th id=\"T_0f036df0_ab6a_11eb_bd5a_0242ac1c0002level0_row8\" class=\"row_heading level0 row8\" >am</th>\n",
              "                        <td id=\"T_0f036df0_ab6a_11eb_bd5a_0242ac1c0002row8_col0\" class=\"data row8 col0\" >0.599832</td>\n",
              "                        <td id=\"T_0f036df0_ab6a_11eb_bd5a_0242ac1c0002row8_col1\" class=\"data row8 col1\" >-0.522607</td>\n",
              "                        <td id=\"T_0f036df0_ab6a_11eb_bd5a_0242ac1c0002row8_col2\" class=\"data row8 col2\" >-0.591227</td>\n",
              "                        <td id=\"T_0f036df0_ab6a_11eb_bd5a_0242ac1c0002row8_col3\" class=\"data row8 col3\" >-0.243204</td>\n",
              "                        <td id=\"T_0f036df0_ab6a_11eb_bd5a_0242ac1c0002row8_col4\" class=\"data row8 col4\" >0.712711</td>\n",
              "                        <td id=\"T_0f036df0_ab6a_11eb_bd5a_0242ac1c0002row8_col5\" class=\"data row8 col5\" >-0.692495</td>\n",
              "                        <td id=\"T_0f036df0_ab6a_11eb_bd5a_0242ac1c0002row8_col6\" class=\"data row8 col6\" >-0.229861</td>\n",
              "                        <td id=\"T_0f036df0_ab6a_11eb_bd5a_0242ac1c0002row8_col7\" class=\"data row8 col7\" >0.168345</td>\n",
              "                        <td id=\"T_0f036df0_ab6a_11eb_bd5a_0242ac1c0002row8_col8\" class=\"data row8 col8\" >1.000000</td>\n",
              "                        <td id=\"T_0f036df0_ab6a_11eb_bd5a_0242ac1c0002row8_col9\" class=\"data row8 col9\" >0.794059</td>\n",
              "                        <td id=\"T_0f036df0_ab6a_11eb_bd5a_0242ac1c0002row8_col10\" class=\"data row8 col10\" >0.057534</td>\n",
              "            </tr>\n",
              "            <tr>\n",
              "                        <th id=\"T_0f036df0_ab6a_11eb_bd5a_0242ac1c0002level0_row9\" class=\"row_heading level0 row9\" >gear</th>\n",
              "                        <td id=\"T_0f036df0_ab6a_11eb_bd5a_0242ac1c0002row9_col0\" class=\"data row9 col0\" >0.480285</td>\n",
              "                        <td id=\"T_0f036df0_ab6a_11eb_bd5a_0242ac1c0002row9_col1\" class=\"data row9 col1\" >-0.492687</td>\n",
              "                        <td id=\"T_0f036df0_ab6a_11eb_bd5a_0242ac1c0002row9_col2\" class=\"data row9 col2\" >-0.555569</td>\n",
              "                        <td id=\"T_0f036df0_ab6a_11eb_bd5a_0242ac1c0002row9_col3\" class=\"data row9 col3\" >-0.125704</td>\n",
              "                        <td id=\"T_0f036df0_ab6a_11eb_bd5a_0242ac1c0002row9_col4\" class=\"data row9 col4\" >0.699610</td>\n",
              "                        <td id=\"T_0f036df0_ab6a_11eb_bd5a_0242ac1c0002row9_col5\" class=\"data row9 col5\" >-0.583287</td>\n",
              "                        <td id=\"T_0f036df0_ab6a_11eb_bd5a_0242ac1c0002row9_col6\" class=\"data row9 col6\" >-0.212682</td>\n",
              "                        <td id=\"T_0f036df0_ab6a_11eb_bd5a_0242ac1c0002row9_col7\" class=\"data row9 col7\" >0.206023</td>\n",
              "                        <td id=\"T_0f036df0_ab6a_11eb_bd5a_0242ac1c0002row9_col8\" class=\"data row9 col8\" >0.794059</td>\n",
              "                        <td id=\"T_0f036df0_ab6a_11eb_bd5a_0242ac1c0002row9_col9\" class=\"data row9 col9\" >1.000000</td>\n",
              "                        <td id=\"T_0f036df0_ab6a_11eb_bd5a_0242ac1c0002row9_col10\" class=\"data row9 col10\" >0.274073</td>\n",
              "            </tr>\n",
              "            <tr>\n",
              "                        <th id=\"T_0f036df0_ab6a_11eb_bd5a_0242ac1c0002level0_row10\" class=\"row_heading level0 row10\" >carb</th>\n",
              "                        <td id=\"T_0f036df0_ab6a_11eb_bd5a_0242ac1c0002row10_col0\" class=\"data row10 col0\" >-0.550925</td>\n",
              "                        <td id=\"T_0f036df0_ab6a_11eb_bd5a_0242ac1c0002row10_col1\" class=\"data row10 col1\" >0.526988</td>\n",
              "                        <td id=\"T_0f036df0_ab6a_11eb_bd5a_0242ac1c0002row10_col2\" class=\"data row10 col2\" >0.394977</td>\n",
              "                        <td id=\"T_0f036df0_ab6a_11eb_bd5a_0242ac1c0002row10_col3\" class=\"data row10 col3\" >0.749812</td>\n",
              "                        <td id=\"T_0f036df0_ab6a_11eb_bd5a_0242ac1c0002row10_col4\" class=\"data row10 col4\" >-0.090790</td>\n",
              "                        <td id=\"T_0f036df0_ab6a_11eb_bd5a_0242ac1c0002row10_col5\" class=\"data row10 col5\" >0.427606</td>\n",
              "                        <td id=\"T_0f036df0_ab6a_11eb_bd5a_0242ac1c0002row10_col6\" class=\"data row10 col6\" >-0.656249</td>\n",
              "                        <td id=\"T_0f036df0_ab6a_11eb_bd5a_0242ac1c0002row10_col7\" class=\"data row10 col7\" >-0.569607</td>\n",
              "                        <td id=\"T_0f036df0_ab6a_11eb_bd5a_0242ac1c0002row10_col8\" class=\"data row10 col8\" >0.057534</td>\n",
              "                        <td id=\"T_0f036df0_ab6a_11eb_bd5a_0242ac1c0002row10_col9\" class=\"data row10 col9\" >0.274073</td>\n",
              "                        <td id=\"T_0f036df0_ab6a_11eb_bd5a_0242ac1c0002row10_col10\" class=\"data row10 col10\" >1.000000</td>\n",
              "            </tr>\n",
              "    </tbody></table>"
            ],
            "text/plain": [
              "<pandas.io.formats.style.Styler at 0x7f5554aaa910>"
            ]
          },
          "metadata": {
            "tags": []
          },
          "execution_count": 51
        }
      ]
    }
  ]
}