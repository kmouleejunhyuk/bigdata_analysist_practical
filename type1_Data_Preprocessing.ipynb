{
  "nbformat": 4,
  "nbformat_minor": 0,
  "metadata": {
    "colab": {
      "name": "type1_Data_Preprocessing.ipynb",
      "provenance": [],
      "mount_file_id": "1FCbq63UTYM1XWHW6PZ4mAAoxUGsPJhDa",
      "authorship_tag": "ABX9TyOphkTVj+NszaOQdN0NBMhf",
      "include_colab_link": true
    },
    "kernelspec": {
      "name": "python3",
      "display_name": "Python 3"
    },
    "language_info": {
      "name": "python"
    }
  },
  "cells": [
    {
      "cell_type": "markdown",
      "metadata": {
        "id": "view-in-github",
        "colab_type": "text"
      },
      "source": [
        "<a href=\"https://colab.research.google.com/github/kmouleejunhyuk/bigdata_analysist_practical/blob/main/type1_Data_Preprocessing.ipynb\" target=\"_parent\"><img src=\"https://colab.research.google.com/assets/colab-badge.svg\" alt=\"Open In Colab\"/></a>"
      ]
    },
    {
      "cell_type": "code",
      "metadata": {
        "colab": {
          "base_uri": "https://localhost:8080/"
        },
        "id": "qFfZqSesbUBn",
        "outputId": "e6e923a5-fcac-4401-991c-10b90004e427"
      },
      "source": [
        "#prepare data\n",
        "from google.colab import drive\n",
        "drive.mount('/gdrive')"
      ],
      "execution_count": 1,
      "outputs": [
        {
          "output_type": "stream",
          "text": [
            "Mounted at /gdrive\n"
          ],
          "name": "stdout"
        }
      ]
    },
    {
      "cell_type": "markdown",
      "metadata": {
        "id": "v297odJnrvYk"
      },
      "source": [
        "using modules: pandas, sklearn, matplotlib.pyplot\n"
      ]
    },
    {
      "cell_type": "code",
      "metadata": {
        "id": "JdRyUzaBd24m"
      },
      "source": [
        "import os\n",
        "import pandas as pd\n",
        "import numpy as np\n",
        "import sklearn.preprocessing as preprocess\n",
        "import sklearn\n",
        "import matplotlib.pyplot as plt\n",
        "import random"
      ],
      "execution_count": 2,
      "outputs": []
    },
    {
      "cell_type": "code",
      "metadata": {
        "id": "YA2vnEhHdCh2"
      },
      "source": [
        "PATH ='/gdrive/MyDrive/big_2021/data/official'\n",
        "SEED = 49"
      ],
      "execution_count": 3,
      "outputs": []
    },
    {
      "cell_type": "code",
      "metadata": {
        "id": "O3sGVvXYtYBa"
      },
      "source": [
        "random.seed(SEED)\n",
        "np.random.seed(SEED)"
      ],
      "execution_count": 4,
      "outputs": []
    },
    {
      "cell_type": "code",
      "metadata": {
        "id": "-UUYDqpveB1Q"
      },
      "source": [
        "type1_path = os.path.join(PATH, 'type1', 'mtcars.csv')\n",
        "\n",
        "if os.path.isfile(type1_path):\n",
        "    rawdata = pd.read_csv(type1_path)\n",
        "\n",
        "else:\n",
        "    print('wrong data file')"
      ],
      "execution_count": 5,
      "outputs": []
    },
    {
      "cell_type": "code",
      "metadata": {
        "colab": {
          "base_uri": "https://localhost:8080/",
          "height": 198
        },
        "id": "Qgx1MJQyeWyG",
        "outputId": "8e0cdc68-9850-4f4c-9a25-06806a190ed1"
      },
      "source": [
        "rawdata.head()"
      ],
      "execution_count": 6,
      "outputs": [
        {
          "output_type": "execute_result",
          "data": {
            "text/html": [
              "<div>\n",
              "<style scoped>\n",
              "    .dataframe tbody tr th:only-of-type {\n",
              "        vertical-align: middle;\n",
              "    }\n",
              "\n",
              "    .dataframe tbody tr th {\n",
              "        vertical-align: top;\n",
              "    }\n",
              "\n",
              "    .dataframe thead th {\n",
              "        text-align: right;\n",
              "    }\n",
              "</style>\n",
              "<table border=\"1\" class=\"dataframe\">\n",
              "  <thead>\n",
              "    <tr style=\"text-align: right;\">\n",
              "      <th></th>\n",
              "      <th>Unnamed: 0</th>\n",
              "      <th>mpg</th>\n",
              "      <th>cyl</th>\n",
              "      <th>disp</th>\n",
              "      <th>hp</th>\n",
              "      <th>drat</th>\n",
              "      <th>wt</th>\n",
              "      <th>qsec</th>\n",
              "      <th>vs</th>\n",
              "      <th>am</th>\n",
              "      <th>gear</th>\n",
              "      <th>carb</th>\n",
              "    </tr>\n",
              "  </thead>\n",
              "  <tbody>\n",
              "    <tr>\n",
              "      <th>0</th>\n",
              "      <td>Mazda RX4</td>\n",
              "      <td>21.0</td>\n",
              "      <td>6</td>\n",
              "      <td>160.0</td>\n",
              "      <td>110</td>\n",
              "      <td>3.90</td>\n",
              "      <td>2.620</td>\n",
              "      <td>16.46</td>\n",
              "      <td>0</td>\n",
              "      <td>1</td>\n",
              "      <td>4</td>\n",
              "      <td>4</td>\n",
              "    </tr>\n",
              "    <tr>\n",
              "      <th>1</th>\n",
              "      <td>Mazda RX4 Wag</td>\n",
              "      <td>21.0</td>\n",
              "      <td>6</td>\n",
              "      <td>160.0</td>\n",
              "      <td>110</td>\n",
              "      <td>3.90</td>\n",
              "      <td>2.875</td>\n",
              "      <td>17.02</td>\n",
              "      <td>0</td>\n",
              "      <td>1</td>\n",
              "      <td>4</td>\n",
              "      <td>4</td>\n",
              "    </tr>\n",
              "    <tr>\n",
              "      <th>2</th>\n",
              "      <td>Datsun 710</td>\n",
              "      <td>22.8</td>\n",
              "      <td>4</td>\n",
              "      <td>108.0</td>\n",
              "      <td>93</td>\n",
              "      <td>3.85</td>\n",
              "      <td>2.320</td>\n",
              "      <td>18.61</td>\n",
              "      <td>1</td>\n",
              "      <td>1</td>\n",
              "      <td>4</td>\n",
              "      <td>1</td>\n",
              "    </tr>\n",
              "    <tr>\n",
              "      <th>3</th>\n",
              "      <td>Hornet 4 Drive</td>\n",
              "      <td>21.4</td>\n",
              "      <td>6</td>\n",
              "      <td>258.0</td>\n",
              "      <td>110</td>\n",
              "      <td>3.08</td>\n",
              "      <td>3.215</td>\n",
              "      <td>19.44</td>\n",
              "      <td>1</td>\n",
              "      <td>0</td>\n",
              "      <td>3</td>\n",
              "      <td>1</td>\n",
              "    </tr>\n",
              "    <tr>\n",
              "      <th>4</th>\n",
              "      <td>Hornet Sportabout</td>\n",
              "      <td>18.7</td>\n",
              "      <td>8</td>\n",
              "      <td>360.0</td>\n",
              "      <td>175</td>\n",
              "      <td>3.15</td>\n",
              "      <td>3.440</td>\n",
              "      <td>17.02</td>\n",
              "      <td>0</td>\n",
              "      <td>0</td>\n",
              "      <td>3</td>\n",
              "      <td>2</td>\n",
              "    </tr>\n",
              "  </tbody>\n",
              "</table>\n",
              "</div>"
            ],
            "text/plain": [
              "          Unnamed: 0   mpg  cyl   disp   hp  ...   qsec  vs  am  gear  carb\n",
              "0          Mazda RX4  21.0    6  160.0  110  ...  16.46   0   1     4     4\n",
              "1      Mazda RX4 Wag  21.0    6  160.0  110  ...  17.02   0   1     4     4\n",
              "2         Datsun 710  22.8    4  108.0   93  ...  18.61   1   1     4     1\n",
              "3     Hornet 4 Drive  21.4    6  258.0  110  ...  19.44   1   0     3     1\n",
              "4  Hornet Sportabout  18.7    8  360.0  175  ...  17.02   0   0     3     2\n",
              "\n",
              "[5 rows x 12 columns]"
            ]
          },
          "metadata": {
            "tags": []
          },
          "execution_count": 6
        }
      ]
    },
    {
      "cell_type": "markdown",
      "metadata": {
        "id": "mxvZr1fJjFVO"
      },
      "source": [
        "# EDA"
      ]
    },
    {
      "cell_type": "markdown",
      "metadata": {
        "id": "r7BbbNeWrDC8"
      },
      "source": [
        "data handling\n"
      ]
    },
    {
      "cell_type": "code",
      "metadata": {
        "id": "Z-3QyFHKvW6q"
      },
      "source": [
        "modified_data = rawdata.copy()"
      ],
      "execution_count": 7,
      "outputs": []
    },
    {
      "cell_type": "code",
      "metadata": {
        "id": "tnMy2xlcnScM",
        "colab": {
          "base_uri": "https://localhost:8080/",
          "height": 108
        },
        "outputId": "b80e925e-4a88-4ba5-dad8-36ba5a5c5bac"
      },
      "source": [
        "#add\n",
        "modified_data['dummy'] = [random.randint(1, 5) for x in range(modified_data.shape[0])]\n",
        "\n",
        "#modify column name\n",
        "modified_data.rename(columns = {'Unnamed: 0': 'Car_info'}, inplace = True)\n",
        "\n",
        "#calculations\n",
        "modified_data['dummy'] = modified_data['dummy'] * -1 / -1 + 1 - 1\n",
        "\n",
        "#excetra\n",
        "##조건 추출: 비교연산 가능\n",
        "modified_data['isdummy_3'] = [True if x != 3 else False for x in modified_data['dummy']]\n",
        "modified_data[modified_data['dummy'] == 3].head(2)"
      ],
      "execution_count": 8,
      "outputs": [
        {
          "output_type": "execute_result",
          "data": {
            "text/html": [
              "<div>\n",
              "<style scoped>\n",
              "    .dataframe tbody tr th:only-of-type {\n",
              "        vertical-align: middle;\n",
              "    }\n",
              "\n",
              "    .dataframe tbody tr th {\n",
              "        vertical-align: top;\n",
              "    }\n",
              "\n",
              "    .dataframe thead th {\n",
              "        text-align: right;\n",
              "    }\n",
              "</style>\n",
              "<table border=\"1\" class=\"dataframe\">\n",
              "  <thead>\n",
              "    <tr style=\"text-align: right;\">\n",
              "      <th></th>\n",
              "      <th>Car_info</th>\n",
              "      <th>mpg</th>\n",
              "      <th>cyl</th>\n",
              "      <th>disp</th>\n",
              "      <th>hp</th>\n",
              "      <th>drat</th>\n",
              "      <th>wt</th>\n",
              "      <th>qsec</th>\n",
              "      <th>vs</th>\n",
              "      <th>am</th>\n",
              "      <th>gear</th>\n",
              "      <th>carb</th>\n",
              "      <th>dummy</th>\n",
              "      <th>isdummy_3</th>\n",
              "    </tr>\n",
              "  </thead>\n",
              "  <tbody>\n",
              "    <tr>\n",
              "      <th>1</th>\n",
              "      <td>Mazda RX4 Wag</td>\n",
              "      <td>21.0</td>\n",
              "      <td>6</td>\n",
              "      <td>160.0</td>\n",
              "      <td>110</td>\n",
              "      <td>3.90</td>\n",
              "      <td>2.875</td>\n",
              "      <td>17.02</td>\n",
              "      <td>0</td>\n",
              "      <td>1</td>\n",
              "      <td>4</td>\n",
              "      <td>4</td>\n",
              "      <td>3.0</td>\n",
              "      <td>False</td>\n",
              "    </tr>\n",
              "    <tr>\n",
              "      <th>4</th>\n",
              "      <td>Hornet Sportabout</td>\n",
              "      <td>18.7</td>\n",
              "      <td>8</td>\n",
              "      <td>360.0</td>\n",
              "      <td>175</td>\n",
              "      <td>3.15</td>\n",
              "      <td>3.440</td>\n",
              "      <td>17.02</td>\n",
              "      <td>0</td>\n",
              "      <td>0</td>\n",
              "      <td>3</td>\n",
              "      <td>2</td>\n",
              "      <td>3.0</td>\n",
              "      <td>False</td>\n",
              "    </tr>\n",
              "  </tbody>\n",
              "</table>\n",
              "</div>"
            ],
            "text/plain": [
              "            Car_info   mpg  cyl   disp   hp  ...  am  gear  carb  dummy  isdummy_3\n",
              "1      Mazda RX4 Wag  21.0    6  160.0  110  ...   1     4     4    3.0      False\n",
              "4  Hornet Sportabout  18.7    8  360.0  175  ...   0     3     2    3.0      False\n",
              "\n",
              "[2 rows x 14 columns]"
            ]
          },
          "metadata": {
            "tags": []
          },
          "execution_count": 8
        }
      ]
    },
    {
      "cell_type": "code",
      "metadata": {
        "colab": {
          "base_uri": "https://localhost:8080/",
          "height": 348
        },
        "id": "qb2FdU-tzyTr",
        "outputId": "d7d3fd0d-e234-4e5b-ff72-7165a01cfce0"
      },
      "source": [
        "##sampling\n",
        "#random_state: 스테이트 고정. 반복추출 시 사용 x\n",
        "#가중치추출은 그냥 기본으로 수행(추출후 병합)\n",
        "dummydata = modified_data[['gear', 'carb', 'isdummy_3']].copy()\n",
        "dummydata.sample(n = None, frac = 0.3, random_state = SEED, replace = False)"
      ],
      "execution_count": 9,
      "outputs": [
        {
          "output_type": "execute_result",
          "data": {
            "text/html": [
              "<div>\n",
              "<style scoped>\n",
              "    .dataframe tbody tr th:only-of-type {\n",
              "        vertical-align: middle;\n",
              "    }\n",
              "\n",
              "    .dataframe tbody tr th {\n",
              "        vertical-align: top;\n",
              "    }\n",
              "\n",
              "    .dataframe thead th {\n",
              "        text-align: right;\n",
              "    }\n",
              "</style>\n",
              "<table border=\"1\" class=\"dataframe\">\n",
              "  <thead>\n",
              "    <tr style=\"text-align: right;\">\n",
              "      <th></th>\n",
              "      <th>gear</th>\n",
              "      <th>carb</th>\n",
              "      <th>isdummy_3</th>\n",
              "    </tr>\n",
              "  </thead>\n",
              "  <tbody>\n",
              "    <tr>\n",
              "      <th>30</th>\n",
              "      <td>5</td>\n",
              "      <td>8</td>\n",
              "      <td>True</td>\n",
              "    </tr>\n",
              "    <tr>\n",
              "      <th>2</th>\n",
              "      <td>4</td>\n",
              "      <td>1</td>\n",
              "      <td>True</td>\n",
              "    </tr>\n",
              "    <tr>\n",
              "      <th>15</th>\n",
              "      <td>3</td>\n",
              "      <td>4</td>\n",
              "      <td>True</td>\n",
              "    </tr>\n",
              "    <tr>\n",
              "      <th>7</th>\n",
              "      <td>4</td>\n",
              "      <td>2</td>\n",
              "      <td>True</td>\n",
              "    </tr>\n",
              "    <tr>\n",
              "      <th>9</th>\n",
              "      <td>4</td>\n",
              "      <td>4</td>\n",
              "      <td>False</td>\n",
              "    </tr>\n",
              "    <tr>\n",
              "      <th>26</th>\n",
              "      <td>5</td>\n",
              "      <td>2</td>\n",
              "      <td>True</td>\n",
              "    </tr>\n",
              "    <tr>\n",
              "      <th>27</th>\n",
              "      <td>5</td>\n",
              "      <td>2</td>\n",
              "      <td>False</td>\n",
              "    </tr>\n",
              "    <tr>\n",
              "      <th>28</th>\n",
              "      <td>5</td>\n",
              "      <td>4</td>\n",
              "      <td>False</td>\n",
              "    </tr>\n",
              "    <tr>\n",
              "      <th>16</th>\n",
              "      <td>3</td>\n",
              "      <td>4</td>\n",
              "      <td>True</td>\n",
              "    </tr>\n",
              "    <tr>\n",
              "      <th>29</th>\n",
              "      <td>5</td>\n",
              "      <td>6</td>\n",
              "      <td>False</td>\n",
              "    </tr>\n",
              "  </tbody>\n",
              "</table>\n",
              "</div>"
            ],
            "text/plain": [
              "    gear  carb  isdummy_3\n",
              "30     5     8       True\n",
              "2      4     1       True\n",
              "15     3     4       True\n",
              "7      4     2       True\n",
              "9      4     4      False\n",
              "26     5     2       True\n",
              "27     5     2      False\n",
              "28     5     4      False\n",
              "16     3     4       True\n",
              "29     5     6      False"
            ]
          },
          "metadata": {
            "tags": []
          },
          "execution_count": 9
        }
      ]
    },
    {
      "cell_type": "code",
      "metadata": {
        "id": "yjMxCYNBp0wp"
      },
      "source": [
        "#drop column\n",
        "modified_data.drop(['dummy', 'isdummy_3'], axis = 1, inplace = True)"
      ],
      "execution_count": 10,
      "outputs": []
    },
    {
      "cell_type": "markdown",
      "metadata": {
        "id": "pq4kJHyLuGGK"
      },
      "source": [
        "simple analysis"
      ]
    },
    {
      "cell_type": "code",
      "metadata": {
        "colab": {
          "base_uri": "https://localhost:8080/"
        },
        "id": "ztG-scxdxyzC",
        "outputId": "d52b8668-73d3-4ef3-fec3-3966baf7f2b3"
      },
      "source": [
        "modified_data.info()"
      ],
      "execution_count": 11,
      "outputs": [
        {
          "output_type": "stream",
          "text": [
            "<class 'pandas.core.frame.DataFrame'>\n",
            "RangeIndex: 32 entries, 0 to 31\n",
            "Data columns (total 12 columns):\n",
            " #   Column    Non-Null Count  Dtype  \n",
            "---  ------    --------------  -----  \n",
            " 0   Car_info  32 non-null     object \n",
            " 1   mpg       32 non-null     float64\n",
            " 2   cyl       32 non-null     int64  \n",
            " 3   disp      32 non-null     float64\n",
            " 4   hp        32 non-null     int64  \n",
            " 5   drat      32 non-null     float64\n",
            " 6   wt        32 non-null     float64\n",
            " 7   qsec      32 non-null     float64\n",
            " 8   vs        32 non-null     int64  \n",
            " 9   am        32 non-null     int64  \n",
            " 10  gear      32 non-null     int64  \n",
            " 11  carb      32 non-null     int64  \n",
            "dtypes: float64(5), int64(6), object(1)\n",
            "memory usage: 3.1+ KB\n"
          ],
          "name": "stdout"
        }
      ]
    },
    {
      "cell_type": "code",
      "metadata": {
        "colab": {
          "base_uri": "https://localhost:8080/",
          "height": 198
        },
        "id": "sio1KSzWnlCd",
        "outputId": "90db2737-031e-45e3-f975-7954dc2be5d1"
      },
      "source": [
        "modified_data.head()"
      ],
      "execution_count": 12,
      "outputs": [
        {
          "output_type": "execute_result",
          "data": {
            "text/html": [
              "<div>\n",
              "<style scoped>\n",
              "    .dataframe tbody tr th:only-of-type {\n",
              "        vertical-align: middle;\n",
              "    }\n",
              "\n",
              "    .dataframe tbody tr th {\n",
              "        vertical-align: top;\n",
              "    }\n",
              "\n",
              "    .dataframe thead th {\n",
              "        text-align: right;\n",
              "    }\n",
              "</style>\n",
              "<table border=\"1\" class=\"dataframe\">\n",
              "  <thead>\n",
              "    <tr style=\"text-align: right;\">\n",
              "      <th></th>\n",
              "      <th>Car_info</th>\n",
              "      <th>mpg</th>\n",
              "      <th>cyl</th>\n",
              "      <th>disp</th>\n",
              "      <th>hp</th>\n",
              "      <th>drat</th>\n",
              "      <th>wt</th>\n",
              "      <th>qsec</th>\n",
              "      <th>vs</th>\n",
              "      <th>am</th>\n",
              "      <th>gear</th>\n",
              "      <th>carb</th>\n",
              "    </tr>\n",
              "  </thead>\n",
              "  <tbody>\n",
              "    <tr>\n",
              "      <th>0</th>\n",
              "      <td>Mazda RX4</td>\n",
              "      <td>21.0</td>\n",
              "      <td>6</td>\n",
              "      <td>160.0</td>\n",
              "      <td>110</td>\n",
              "      <td>3.90</td>\n",
              "      <td>2.620</td>\n",
              "      <td>16.46</td>\n",
              "      <td>0</td>\n",
              "      <td>1</td>\n",
              "      <td>4</td>\n",
              "      <td>4</td>\n",
              "    </tr>\n",
              "    <tr>\n",
              "      <th>1</th>\n",
              "      <td>Mazda RX4 Wag</td>\n",
              "      <td>21.0</td>\n",
              "      <td>6</td>\n",
              "      <td>160.0</td>\n",
              "      <td>110</td>\n",
              "      <td>3.90</td>\n",
              "      <td>2.875</td>\n",
              "      <td>17.02</td>\n",
              "      <td>0</td>\n",
              "      <td>1</td>\n",
              "      <td>4</td>\n",
              "      <td>4</td>\n",
              "    </tr>\n",
              "    <tr>\n",
              "      <th>2</th>\n",
              "      <td>Datsun 710</td>\n",
              "      <td>22.8</td>\n",
              "      <td>4</td>\n",
              "      <td>108.0</td>\n",
              "      <td>93</td>\n",
              "      <td>3.85</td>\n",
              "      <td>2.320</td>\n",
              "      <td>18.61</td>\n",
              "      <td>1</td>\n",
              "      <td>1</td>\n",
              "      <td>4</td>\n",
              "      <td>1</td>\n",
              "    </tr>\n",
              "    <tr>\n",
              "      <th>3</th>\n",
              "      <td>Hornet 4 Drive</td>\n",
              "      <td>21.4</td>\n",
              "      <td>6</td>\n",
              "      <td>258.0</td>\n",
              "      <td>110</td>\n",
              "      <td>3.08</td>\n",
              "      <td>3.215</td>\n",
              "      <td>19.44</td>\n",
              "      <td>1</td>\n",
              "      <td>0</td>\n",
              "      <td>3</td>\n",
              "      <td>1</td>\n",
              "    </tr>\n",
              "    <tr>\n",
              "      <th>4</th>\n",
              "      <td>Hornet Sportabout</td>\n",
              "      <td>18.7</td>\n",
              "      <td>8</td>\n",
              "      <td>360.0</td>\n",
              "      <td>175</td>\n",
              "      <td>3.15</td>\n",
              "      <td>3.440</td>\n",
              "      <td>17.02</td>\n",
              "      <td>0</td>\n",
              "      <td>0</td>\n",
              "      <td>3</td>\n",
              "      <td>2</td>\n",
              "    </tr>\n",
              "  </tbody>\n",
              "</table>\n",
              "</div>"
            ],
            "text/plain": [
              "            Car_info   mpg  cyl   disp   hp  ...   qsec  vs  am  gear  carb\n",
              "0          Mazda RX4  21.0    6  160.0  110  ...  16.46   0   1     4     4\n",
              "1      Mazda RX4 Wag  21.0    6  160.0  110  ...  17.02   0   1     4     4\n",
              "2         Datsun 710  22.8    4  108.0   93  ...  18.61   1   1     4     1\n",
              "3     Hornet 4 Drive  21.4    6  258.0  110  ...  19.44   1   0     3     1\n",
              "4  Hornet Sportabout  18.7    8  360.0  175  ...  17.02   0   0     3     2\n",
              "\n",
              "[5 rows x 12 columns]"
            ]
          },
          "metadata": {
            "tags": []
          },
          "execution_count": 12
        }
      ]
    },
    {
      "cell_type": "code",
      "metadata": {
        "colab": {
          "base_uri": "https://localhost:8080/",
          "height": 288
        },
        "id": "kd88IkqDwg-a",
        "outputId": "9aec3746-d8b5-4326-bced-3cc809c2c830"
      },
      "source": [
        "modified_data.describe()"
      ],
      "execution_count": 13,
      "outputs": [
        {
          "output_type": "execute_result",
          "data": {
            "text/html": [
              "<div>\n",
              "<style scoped>\n",
              "    .dataframe tbody tr th:only-of-type {\n",
              "        vertical-align: middle;\n",
              "    }\n",
              "\n",
              "    .dataframe tbody tr th {\n",
              "        vertical-align: top;\n",
              "    }\n",
              "\n",
              "    .dataframe thead th {\n",
              "        text-align: right;\n",
              "    }\n",
              "</style>\n",
              "<table border=\"1\" class=\"dataframe\">\n",
              "  <thead>\n",
              "    <tr style=\"text-align: right;\">\n",
              "      <th></th>\n",
              "      <th>mpg</th>\n",
              "      <th>cyl</th>\n",
              "      <th>disp</th>\n",
              "      <th>hp</th>\n",
              "      <th>drat</th>\n",
              "      <th>wt</th>\n",
              "      <th>qsec</th>\n",
              "      <th>vs</th>\n",
              "      <th>am</th>\n",
              "      <th>gear</th>\n",
              "      <th>carb</th>\n",
              "    </tr>\n",
              "  </thead>\n",
              "  <tbody>\n",
              "    <tr>\n",
              "      <th>count</th>\n",
              "      <td>32.000000</td>\n",
              "      <td>32.000000</td>\n",
              "      <td>32.000000</td>\n",
              "      <td>32.000000</td>\n",
              "      <td>32.000000</td>\n",
              "      <td>32.000000</td>\n",
              "      <td>32.000000</td>\n",
              "      <td>32.000000</td>\n",
              "      <td>32.000000</td>\n",
              "      <td>32.000000</td>\n",
              "      <td>32.0000</td>\n",
              "    </tr>\n",
              "    <tr>\n",
              "      <th>mean</th>\n",
              "      <td>20.090625</td>\n",
              "      <td>6.187500</td>\n",
              "      <td>230.721875</td>\n",
              "      <td>146.687500</td>\n",
              "      <td>3.596563</td>\n",
              "      <td>3.217250</td>\n",
              "      <td>17.848750</td>\n",
              "      <td>0.437500</td>\n",
              "      <td>0.406250</td>\n",
              "      <td>3.687500</td>\n",
              "      <td>2.8125</td>\n",
              "    </tr>\n",
              "    <tr>\n",
              "      <th>std</th>\n",
              "      <td>6.026948</td>\n",
              "      <td>1.785922</td>\n",
              "      <td>123.938694</td>\n",
              "      <td>68.562868</td>\n",
              "      <td>0.534679</td>\n",
              "      <td>0.978457</td>\n",
              "      <td>1.786943</td>\n",
              "      <td>0.504016</td>\n",
              "      <td>0.498991</td>\n",
              "      <td>0.737804</td>\n",
              "      <td>1.6152</td>\n",
              "    </tr>\n",
              "    <tr>\n",
              "      <th>min</th>\n",
              "      <td>10.400000</td>\n",
              "      <td>4.000000</td>\n",
              "      <td>71.100000</td>\n",
              "      <td>52.000000</td>\n",
              "      <td>2.760000</td>\n",
              "      <td>1.513000</td>\n",
              "      <td>14.500000</td>\n",
              "      <td>0.000000</td>\n",
              "      <td>0.000000</td>\n",
              "      <td>3.000000</td>\n",
              "      <td>1.0000</td>\n",
              "    </tr>\n",
              "    <tr>\n",
              "      <th>25%</th>\n",
              "      <td>15.425000</td>\n",
              "      <td>4.000000</td>\n",
              "      <td>120.825000</td>\n",
              "      <td>96.500000</td>\n",
              "      <td>3.080000</td>\n",
              "      <td>2.581250</td>\n",
              "      <td>16.892500</td>\n",
              "      <td>0.000000</td>\n",
              "      <td>0.000000</td>\n",
              "      <td>3.000000</td>\n",
              "      <td>2.0000</td>\n",
              "    </tr>\n",
              "    <tr>\n",
              "      <th>50%</th>\n",
              "      <td>19.200000</td>\n",
              "      <td>6.000000</td>\n",
              "      <td>196.300000</td>\n",
              "      <td>123.000000</td>\n",
              "      <td>3.695000</td>\n",
              "      <td>3.325000</td>\n",
              "      <td>17.710000</td>\n",
              "      <td>0.000000</td>\n",
              "      <td>0.000000</td>\n",
              "      <td>4.000000</td>\n",
              "      <td>2.0000</td>\n",
              "    </tr>\n",
              "    <tr>\n",
              "      <th>75%</th>\n",
              "      <td>22.800000</td>\n",
              "      <td>8.000000</td>\n",
              "      <td>326.000000</td>\n",
              "      <td>180.000000</td>\n",
              "      <td>3.920000</td>\n",
              "      <td>3.610000</td>\n",
              "      <td>18.900000</td>\n",
              "      <td>1.000000</td>\n",
              "      <td>1.000000</td>\n",
              "      <td>4.000000</td>\n",
              "      <td>4.0000</td>\n",
              "    </tr>\n",
              "    <tr>\n",
              "      <th>max</th>\n",
              "      <td>33.900000</td>\n",
              "      <td>8.000000</td>\n",
              "      <td>472.000000</td>\n",
              "      <td>335.000000</td>\n",
              "      <td>4.930000</td>\n",
              "      <td>5.424000</td>\n",
              "      <td>22.900000</td>\n",
              "      <td>1.000000</td>\n",
              "      <td>1.000000</td>\n",
              "      <td>5.000000</td>\n",
              "      <td>8.0000</td>\n",
              "    </tr>\n",
              "  </tbody>\n",
              "</table>\n",
              "</div>"
            ],
            "text/plain": [
              "             mpg        cyl        disp  ...         am       gear     carb\n",
              "count  32.000000  32.000000   32.000000  ...  32.000000  32.000000  32.0000\n",
              "mean   20.090625   6.187500  230.721875  ...   0.406250   3.687500   2.8125\n",
              "std     6.026948   1.785922  123.938694  ...   0.498991   0.737804   1.6152\n",
              "min    10.400000   4.000000   71.100000  ...   0.000000   3.000000   1.0000\n",
              "25%    15.425000   4.000000  120.825000  ...   0.000000   3.000000   2.0000\n",
              "50%    19.200000   6.000000  196.300000  ...   0.000000   4.000000   2.0000\n",
              "75%    22.800000   8.000000  326.000000  ...   1.000000   4.000000   4.0000\n",
              "max    33.900000   8.000000  472.000000  ...   1.000000   5.000000   8.0000\n",
              "\n",
              "[8 rows x 11 columns]"
            ]
          },
          "metadata": {
            "tags": []
          },
          "execution_count": 13
        }
      ]
    },
    {
      "cell_type": "code",
      "metadata": {
        "colab": {
          "base_uri": "https://localhost:8080/"
        },
        "id": "kJIafS3VuFhB",
        "outputId": "f569f22c-30f7-4399-cfff-657277426756"
      },
      "source": [
        "modified_data['Car_info_dummy_0'] = [x.split(' ')[0] for x in modified_data['Car_info']]\n",
        "\n",
        "modified_data['Car_info_dummy_0'].value_counts()    #normalize = True)"
      ],
      "execution_count": 14,
      "outputs": [
        {
          "output_type": "execute_result",
          "data": {
            "text/plain": [
              "Merc        7\n",
              "Toyota      2\n",
              "Mazda       2\n",
              "Fiat        2\n",
              "Hornet      2\n",
              "Cadillac    1\n",
              "Chrysler    1\n",
              "Pontiac     1\n",
              "Valiant     1\n",
              "Ferrari     1\n",
              "Honda       1\n",
              "Maserati    1\n",
              "Camaro      1\n",
              "AMC         1\n",
              "Dodge       1\n",
              "Datsun      1\n",
              "Lotus       1\n",
              "Volvo       1\n",
              "Ford        1\n",
              "Duster      1\n",
              "Lincoln     1\n",
              "Porsche     1\n",
              "Name: Car_info_dummy_0, dtype: int64"
            ]
          },
          "metadata": {
            "tags": []
          },
          "execution_count": 14
        }
      ]
    },
    {
      "cell_type": "markdown",
      "metadata": {
        "id": "n8kZmuB_rf5E"
      },
      "source": [
        "handling outliers, missing values, etc"
      ]
    },
    {
      "cell_type": "code",
      "metadata": {
        "id": "h7lb-HePvsJh"
      },
      "source": [
        ""
      ],
      "execution_count": null,
      "outputs": []
    },
    {
      "cell_type": "code",
      "metadata": {
        "id": "FZmKfA_9HG3B"
      },
      "source": [
        ""
      ],
      "execution_count": null,
      "outputs": []
    },
    {
      "cell_type": "markdown",
      "metadata": {
        "id": "aOBp4rE5hk7G"
      },
      "source": [
        "# scaling\n"
      ]
    },
    {
      "cell_type": "markdown",
      "metadata": {
        "id": "NezhOYRFht9a"
      },
      "source": [
        "Q: scale qsec column of mtcars.csv to minmax scale and count which is bigger than 0.5"
      ]
    },
    {
      "cell_type": "markdown",
      "metadata": {
        "id": "BN5sFSXvi7H1"
      },
      "source": [
        "various preprocessing method\n"
      ]
    },
    {
      "cell_type": "code",
      "metadata": {
        "id": "V0gvs0QyjQgt"
      },
      "source": [
        "#minmaxscaler, standardscaler, robustscaler, normalizer"
      ],
      "execution_count": 15,
      "outputs": []
    },
    {
      "cell_type": "code",
      "metadata": {
        "id": "lJJyfCr9sRLN"
      },
      "source": [
        "#minmax\n",
        "minmaxscaler = sklearn.preprocessing.MinMaxScaler()\n",
        "modified_data['qsec_minmax'] = minmaxscaler.fit_transform(modified_data['qsec'].values.reshape(-1, 1))"
      ],
      "execution_count": 16,
      "outputs": []
    },
    {
      "cell_type": "code",
      "metadata": {
        "id": "NGSjs-6wjjol"
      },
      "source": [
        "#mean: 0, var: 1 (normal distribution)\n",
        "stdscaler = sklearn.preprocessing.StandardScaler()\n",
        "modified_data['qsec_stdscale'] = stdscaler.fit_transform(modified_data['qsec'].values.reshape(-1, 1))"
      ],
      "execution_count": 17,
      "outputs": []
    },
    {
      "cell_type": "code",
      "metadata": {
        "id": "hmZGGzkegqMA"
      },
      "source": [
        "#use median and quantile, robust to outliers\n",
        "robustscaler = sklearn.preprocessing.RobustScaler()\n",
        "modified_data['qsec_robust'] = robustscaler.fit_transform(modified_data['qsec'].values.reshape(-1, 1))"
      ],
      "execution_count": 18,
      "outputs": []
    },
    {
      "cell_type": "code",
      "metadata": {
        "id": "GeVgNXDfkp5U"
      },
      "source": [
        "#modify datapoint vector by euclidian distance 1\n",
        "m = modified_data[modified_data.columns[1:12]].values\n",
        "norm = pd.DataFrame(sklearn.preprocessing.normalize(m, 'l2', axis = 1), columns = [x + '_norm' for x in modified_data.columns[1:12]])"
      ],
      "execution_count": 19,
      "outputs": []
    },
    {
      "cell_type": "markdown",
      "metadata": {
        "id": "d6RhYB7vrbb0"
      },
      "source": [
        "results"
      ]
    },
    {
      "cell_type": "code",
      "metadata": {
        "colab": {
          "base_uri": "https://localhost:8080/",
          "height": 138
        },
        "id": "NlMm6OGmpqek",
        "outputId": "b9397de0-2d90-43c8-f091-e6cbd04e84af"
      },
      "source": [
        "norm.head(3)"
      ],
      "execution_count": 20,
      "outputs": [
        {
          "output_type": "execute_result",
          "data": {
            "text/html": [
              "<div>\n",
              "<style scoped>\n",
              "    .dataframe tbody tr th:only-of-type {\n",
              "        vertical-align: middle;\n",
              "    }\n",
              "\n",
              "    .dataframe tbody tr th {\n",
              "        vertical-align: top;\n",
              "    }\n",
              "\n",
              "    .dataframe thead th {\n",
              "        text-align: right;\n",
              "    }\n",
              "</style>\n",
              "<table border=\"1\" class=\"dataframe\">\n",
              "  <thead>\n",
              "    <tr style=\"text-align: right;\">\n",
              "      <th></th>\n",
              "      <th>mpg_norm</th>\n",
              "      <th>cyl_norm</th>\n",
              "      <th>disp_norm</th>\n",
              "      <th>hp_norm</th>\n",
              "      <th>drat_norm</th>\n",
              "      <th>wt_norm</th>\n",
              "      <th>qsec_norm</th>\n",
              "      <th>vs_norm</th>\n",
              "      <th>am_norm</th>\n",
              "      <th>gear_norm</th>\n",
              "      <th>carb_norm</th>\n",
              "    </tr>\n",
              "  </thead>\n",
              "  <tbody>\n",
              "    <tr>\n",
              "      <th>0</th>\n",
              "      <td>0.107022</td>\n",
              "      <td>0.030578</td>\n",
              "      <td>0.815404</td>\n",
              "      <td>0.560590</td>\n",
              "      <td>0.019875</td>\n",
              "      <td>0.013352</td>\n",
              "      <td>0.083885</td>\n",
              "      <td>0.000000</td>\n",
              "      <td>0.005096</td>\n",
              "      <td>0.020385</td>\n",
              "      <td>0.020385</td>\n",
              "    </tr>\n",
              "    <tr>\n",
              "      <th>1</th>\n",
              "      <td>0.106994</td>\n",
              "      <td>0.030570</td>\n",
              "      <td>0.815190</td>\n",
              "      <td>0.560443</td>\n",
              "      <td>0.019870</td>\n",
              "      <td>0.014648</td>\n",
              "      <td>0.086716</td>\n",
              "      <td>0.000000</td>\n",
              "      <td>0.005095</td>\n",
              "      <td>0.020380</td>\n",
              "      <td>0.020380</td>\n",
              "    </tr>\n",
              "    <tr>\n",
              "      <th>2</th>\n",
              "      <td>0.156464</td>\n",
              "      <td>0.027450</td>\n",
              "      <td>0.741146</td>\n",
              "      <td>0.638209</td>\n",
              "      <td>0.026420</td>\n",
              "      <td>0.015921</td>\n",
              "      <td>0.127711</td>\n",
              "      <td>0.006862</td>\n",
              "      <td>0.006862</td>\n",
              "      <td>0.027450</td>\n",
              "      <td>0.006862</td>\n",
              "    </tr>\n",
              "  </tbody>\n",
              "</table>\n",
              "</div>"
            ],
            "text/plain": [
              "   mpg_norm  cyl_norm  disp_norm  ...   am_norm  gear_norm  carb_norm\n",
              "0  0.107022  0.030578   0.815404  ...  0.005096   0.020385   0.020385\n",
              "1  0.106994  0.030570   0.815190  ...  0.005095   0.020380   0.020380\n",
              "2  0.156464  0.027450   0.741146  ...  0.006862   0.027450   0.006862\n",
              "\n",
              "[3 rows x 11 columns]"
            ]
          },
          "metadata": {
            "tags": []
          },
          "execution_count": 20
        }
      ]
    },
    {
      "cell_type": "code",
      "metadata": {
        "colab": {
          "base_uri": "https://localhost:8080/",
          "height": 138
        },
        "id": "f_ZJw0tFkCuo",
        "outputId": "b2f1eda7-b7cb-4b08-f856-ffcd38eee426"
      },
      "source": [
        "modified_data[['qsec', 'qsec_minmax', 'qsec_stdscale', 'qsec_robust']].head(3)"
      ],
      "execution_count": 21,
      "outputs": [
        {
          "output_type": "execute_result",
          "data": {
            "text/html": [
              "<div>\n",
              "<style scoped>\n",
              "    .dataframe tbody tr th:only-of-type {\n",
              "        vertical-align: middle;\n",
              "    }\n",
              "\n",
              "    .dataframe tbody tr th {\n",
              "        vertical-align: top;\n",
              "    }\n",
              "\n",
              "    .dataframe thead th {\n",
              "        text-align: right;\n",
              "    }\n",
              "</style>\n",
              "<table border=\"1\" class=\"dataframe\">\n",
              "  <thead>\n",
              "    <tr style=\"text-align: right;\">\n",
              "      <th></th>\n",
              "      <th>qsec</th>\n",
              "      <th>qsec_minmax</th>\n",
              "      <th>qsec_stdscale</th>\n",
              "      <th>qsec_robust</th>\n",
              "    </tr>\n",
              "  </thead>\n",
              "  <tbody>\n",
              "    <tr>\n",
              "      <th>0</th>\n",
              "      <td>16.46</td>\n",
              "      <td>0.233333</td>\n",
              "      <td>-0.789601</td>\n",
              "      <td>-0.622665</td>\n",
              "    </tr>\n",
              "    <tr>\n",
              "      <th>1</th>\n",
              "      <td>17.02</td>\n",
              "      <td>0.300000</td>\n",
              "      <td>-0.471202</td>\n",
              "      <td>-0.343711</td>\n",
              "    </tr>\n",
              "    <tr>\n",
              "      <th>2</th>\n",
              "      <td>18.61</td>\n",
              "      <td>0.489286</td>\n",
              "      <td>0.432823</td>\n",
              "      <td>0.448319</td>\n",
              "    </tr>\n",
              "  </tbody>\n",
              "</table>\n",
              "</div>"
            ],
            "text/plain": [
              "    qsec  qsec_minmax  qsec_stdscale  qsec_robust\n",
              "0  16.46     0.233333      -0.789601    -0.622665\n",
              "1  17.02     0.300000      -0.471202    -0.343711\n",
              "2  18.61     0.489286       0.432823     0.448319"
            ]
          },
          "metadata": {
            "tags": []
          },
          "execution_count": 21
        }
      ]
    },
    {
      "cell_type": "code",
      "metadata": {
        "colab": {
          "base_uri": "https://localhost:8080/"
        },
        "id": "xlZHbqCDkOsD",
        "outputId": "39fc4051-cd91-4e9d-b58d-0341efe7015a"
      },
      "source": [
        "print('bigger record number in qsec_minmax: ', modified_data[modified_data['qsec_minmax'] > 0.5].shape[0])"
      ],
      "execution_count": 22,
      "outputs": [
        {
          "output_type": "stream",
          "text": [
            "bigger record number in qsec_minmax:  9\n"
          ],
          "name": "stdout"
        }
      ]
    },
    {
      "cell_type": "markdown",
      "metadata": {
        "id": "TCa3cU9IOWuq"
      },
      "source": [
        "#PCA"
      ]
    },
    {
      "cell_type": "code",
      "metadata": {
        "id": "8E7nCpepshvR"
      },
      "source": [
        "modified_data = rawdata.copy()"
      ],
      "execution_count": 97,
      "outputs": []
    },
    {
      "cell_type": "code",
      "metadata": {
        "id": "xZoNc9EqPGeV"
      },
      "source": [
        "scaler = sklearn.preprocessing.StandardScaler()\n",
        "x = pd.DataFrame(scaler.fit_transform(modified_data[modified_data.columns[1:]]), columns = modified_data.columns[1:])"
      ],
      "execution_count": 98,
      "outputs": []
    },
    {
      "cell_type": "code",
      "metadata": {
        "colab": {
          "base_uri": "https://localhost:8080/",
          "height": 198
        },
        "id": "T2cbZNDZUwHI",
        "outputId": "7f512560-b294-456d-fbfe-d1462a0b8b4e"
      },
      "source": [
        "x.head()"
      ],
      "execution_count": 99,
      "outputs": [
        {
          "output_type": "execute_result",
          "data": {
            "text/html": [
              "<div>\n",
              "<style scoped>\n",
              "    .dataframe tbody tr th:only-of-type {\n",
              "        vertical-align: middle;\n",
              "    }\n",
              "\n",
              "    .dataframe tbody tr th {\n",
              "        vertical-align: top;\n",
              "    }\n",
              "\n",
              "    .dataframe thead th {\n",
              "        text-align: right;\n",
              "    }\n",
              "</style>\n",
              "<table border=\"1\" class=\"dataframe\">\n",
              "  <thead>\n",
              "    <tr style=\"text-align: right;\">\n",
              "      <th></th>\n",
              "      <th>mpg</th>\n",
              "      <th>cyl</th>\n",
              "      <th>disp</th>\n",
              "      <th>hp</th>\n",
              "      <th>drat</th>\n",
              "      <th>wt</th>\n",
              "      <th>qsec</th>\n",
              "      <th>vs</th>\n",
              "      <th>am</th>\n",
              "      <th>gear</th>\n",
              "      <th>carb</th>\n",
              "    </tr>\n",
              "  </thead>\n",
              "  <tbody>\n",
              "    <tr>\n",
              "      <th>0</th>\n",
              "      <td>0.153299</td>\n",
              "      <td>-0.106668</td>\n",
              "      <td>-0.579750</td>\n",
              "      <td>-0.543655</td>\n",
              "      <td>0.576594</td>\n",
              "      <td>-0.620167</td>\n",
              "      <td>-0.789601</td>\n",
              "      <td>-0.881917</td>\n",
              "      <td>1.208941</td>\n",
              "      <td>0.430331</td>\n",
              "      <td>0.746967</td>\n",
              "    </tr>\n",
              "    <tr>\n",
              "      <th>1</th>\n",
              "      <td>0.153299</td>\n",
              "      <td>-0.106668</td>\n",
              "      <td>-0.579750</td>\n",
              "      <td>-0.543655</td>\n",
              "      <td>0.576594</td>\n",
              "      <td>-0.355382</td>\n",
              "      <td>-0.471202</td>\n",
              "      <td>-0.881917</td>\n",
              "      <td>1.208941</td>\n",
              "      <td>0.430331</td>\n",
              "      <td>0.746967</td>\n",
              "    </tr>\n",
              "    <tr>\n",
              "      <th>2</th>\n",
              "      <td>0.456737</td>\n",
              "      <td>-1.244457</td>\n",
              "      <td>-1.006026</td>\n",
              "      <td>-0.795570</td>\n",
              "      <td>0.481584</td>\n",
              "      <td>-0.931678</td>\n",
              "      <td>0.432823</td>\n",
              "      <td>1.133893</td>\n",
              "      <td>1.208941</td>\n",
              "      <td>0.430331</td>\n",
              "      <td>-1.140108</td>\n",
              "    </tr>\n",
              "    <tr>\n",
              "      <th>3</th>\n",
              "      <td>0.220730</td>\n",
              "      <td>-0.106668</td>\n",
              "      <td>0.223615</td>\n",
              "      <td>-0.543655</td>\n",
              "      <td>-0.981576</td>\n",
              "      <td>-0.002336</td>\n",
              "      <td>0.904736</td>\n",
              "      <td>1.133893</td>\n",
              "      <td>-0.827170</td>\n",
              "      <td>-0.946729</td>\n",
              "      <td>-1.140108</td>\n",
              "    </tr>\n",
              "    <tr>\n",
              "      <th>4</th>\n",
              "      <td>-0.234427</td>\n",
              "      <td>1.031121</td>\n",
              "      <td>1.059772</td>\n",
              "      <td>0.419550</td>\n",
              "      <td>-0.848562</td>\n",
              "      <td>0.231297</td>\n",
              "      <td>-0.471202</td>\n",
              "      <td>-0.881917</td>\n",
              "      <td>-0.827170</td>\n",
              "      <td>-0.946729</td>\n",
              "      <td>-0.511083</td>\n",
              "    </tr>\n",
              "  </tbody>\n",
              "</table>\n",
              "</div>"
            ],
            "text/plain": [
              "        mpg       cyl      disp  ...        am      gear      carb\n",
              "0  0.153299 -0.106668 -0.579750  ...  1.208941  0.430331  0.746967\n",
              "1  0.153299 -0.106668 -0.579750  ...  1.208941  0.430331  0.746967\n",
              "2  0.456737 -1.244457 -1.006026  ...  1.208941  0.430331 -1.140108\n",
              "3  0.220730 -0.106668  0.223615  ... -0.827170 -0.946729 -1.140108\n",
              "4 -0.234427  1.031121  1.059772  ... -0.827170 -0.946729 -0.511083\n",
              "\n",
              "[5 rows x 11 columns]"
            ]
          },
          "metadata": {
            "tags": []
          },
          "execution_count": 99
        }
      ]
    },
    {
      "cell_type": "code",
      "metadata": {
        "id": "4Oc14-XyU7XV"
      },
      "source": [
        "from sklearn.decomposition import PCA\n",
        "pca = PCA(n_components = 2)\n",
        "x = pca.fit_transform(x)\n",
        "x = pd.DataFrame(x, columns = ['p1', 'p2'])\n",
        "x['U'] = [x.split(' ')[0] for x in modified_data['Unnamed: 0']]\n"
      ],
      "execution_count": 100,
      "outputs": []
    },
    {
      "cell_type": "code",
      "metadata": {
        "id": "0RoTwpPJj7-N"
      },
      "source": [
        "x['carname'] = modified_data['Unnamed: 0'].values"
      ],
      "execution_count": 101,
      "outputs": []
    },
    {
      "cell_type": "code",
      "metadata": {
        "colab": {
          "base_uri": "https://localhost:8080/",
          "height": 1000
        },
        "id": "TkBk97pbj-wl",
        "outputId": "da012c73-a7ab-44b3-f5c0-a03e4e31c6af"
      },
      "source": [
        "x"
      ],
      "execution_count": 102,
      "outputs": [
        {
          "output_type": "execute_result",
          "data": {
            "text/html": [
              "<div>\n",
              "<style scoped>\n",
              "    .dataframe tbody tr th:only-of-type {\n",
              "        vertical-align: middle;\n",
              "    }\n",
              "\n",
              "    .dataframe tbody tr th {\n",
              "        vertical-align: top;\n",
              "    }\n",
              "\n",
              "    .dataframe thead th {\n",
              "        text-align: right;\n",
              "    }\n",
              "</style>\n",
              "<table border=\"1\" class=\"dataframe\">\n",
              "  <thead>\n",
              "    <tr style=\"text-align: right;\">\n",
              "      <th></th>\n",
              "      <th>p1</th>\n",
              "      <th>p2</th>\n",
              "      <th>U</th>\n",
              "      <th>carname</th>\n",
              "    </tr>\n",
              "  </thead>\n",
              "  <tbody>\n",
              "    <tr>\n",
              "      <th>0</th>\n",
              "      <td>0.657213</td>\n",
              "      <td>1.735446</td>\n",
              "      <td>Mazda</td>\n",
              "      <td>Mazda RX4</td>\n",
              "    </tr>\n",
              "    <tr>\n",
              "      <th>1</th>\n",
              "      <td>0.629396</td>\n",
              "      <td>1.550033</td>\n",
              "      <td>Mazda</td>\n",
              "      <td>Mazda RX4 Wag</td>\n",
              "    </tr>\n",
              "    <tr>\n",
              "      <th>2</th>\n",
              "      <td>2.779397</td>\n",
              "      <td>-0.146457</td>\n",
              "      <td>Datsun</td>\n",
              "      <td>Datsun 710</td>\n",
              "    </tr>\n",
              "    <tr>\n",
              "      <th>3</th>\n",
              "      <td>0.311771</td>\n",
              "      <td>-2.363019</td>\n",
              "      <td>Hornet</td>\n",
              "      <td>Hornet 4 Drive</td>\n",
              "    </tr>\n",
              "    <tr>\n",
              "      <th>4</th>\n",
              "      <td>-1.974489</td>\n",
              "      <td>-0.754402</td>\n",
              "      <td>Hornet</td>\n",
              "      <td>Hornet Sportabout</td>\n",
              "    </tr>\n",
              "    <tr>\n",
              "      <th>5</th>\n",
              "      <td>0.056138</td>\n",
              "      <td>-2.786000</td>\n",
              "      <td>Valiant</td>\n",
              "      <td>Valiant</td>\n",
              "    </tr>\n",
              "    <tr>\n",
              "      <th>6</th>\n",
              "      <td>-3.002674</td>\n",
              "      <td>0.334887</td>\n",
              "      <td>Duster</td>\n",
              "      <td>Duster 360</td>\n",
              "    </tr>\n",
              "    <tr>\n",
              "      <th>7</th>\n",
              "      <td>2.055329</td>\n",
              "      <td>-1.465181</td>\n",
              "      <td>Merc</td>\n",
              "      <td>Merc 240D</td>\n",
              "    </tr>\n",
              "    <tr>\n",
              "      <th>8</th>\n",
              "      <td>2.287408</td>\n",
              "      <td>-1.983526</td>\n",
              "      <td>Merc</td>\n",
              "      <td>Merc 230</td>\n",
              "    </tr>\n",
              "    <tr>\n",
              "      <th>9</th>\n",
              "      <td>0.526381</td>\n",
              "      <td>-0.162013</td>\n",
              "      <td>Merc</td>\n",
              "      <td>Merc 280</td>\n",
              "    </tr>\n",
              "    <tr>\n",
              "      <th>10</th>\n",
              "      <td>0.509205</td>\n",
              "      <td>-0.323894</td>\n",
              "      <td>Merc</td>\n",
              "      <td>Merc 280C</td>\n",
              "    </tr>\n",
              "    <tr>\n",
              "      <th>11</th>\n",
              "      <td>-2.247810</td>\n",
              "      <td>-0.683474</td>\n",
              "      <td>Merc</td>\n",
              "      <td>Merc 450SE</td>\n",
              "    </tr>\n",
              "    <tr>\n",
              "      <th>12</th>\n",
              "      <td>-2.047823</td>\n",
              "      <td>-0.683221</td>\n",
              "      <td>Merc</td>\n",
              "      <td>Merc 450SL</td>\n",
              "    </tr>\n",
              "    <tr>\n",
              "      <th>13</th>\n",
              "      <td>-2.148542</td>\n",
              "      <td>-0.801739</td>\n",
              "      <td>Merc</td>\n",
              "      <td>Merc 450SLC</td>\n",
              "    </tr>\n",
              "    <tr>\n",
              "      <th>14</th>\n",
              "      <td>-3.899790</td>\n",
              "      <td>-0.827948</td>\n",
              "      <td>Cadillac</td>\n",
              "      <td>Cadillac Fleetwood</td>\n",
              "    </tr>\n",
              "    <tr>\n",
              "      <th>15</th>\n",
              "      <td>-3.954123</td>\n",
              "      <td>-0.733381</td>\n",
              "      <td>Lincoln</td>\n",
              "      <td>Lincoln Continental</td>\n",
              "    </tr>\n",
              "    <tr>\n",
              "      <th>16</th>\n",
              "      <td>-3.592972</td>\n",
              "      <td>-0.421135</td>\n",
              "      <td>Chrysler</td>\n",
              "      <td>Chrysler Imperial</td>\n",
              "    </tr>\n",
              "    <tr>\n",
              "      <th>17</th>\n",
              "      <td>3.856284</td>\n",
              "      <td>-0.296752</td>\n",
              "      <td>Fiat</td>\n",
              "      <td>Fiat 128</td>\n",
              "    </tr>\n",
              "    <tr>\n",
              "      <th>18</th>\n",
              "      <td>4.254033</td>\n",
              "      <td>0.688414</td>\n",
              "      <td>Honda</td>\n",
              "      <td>Honda Civic</td>\n",
              "    </tr>\n",
              "    <tr>\n",
              "      <th>19</th>\n",
              "      <td>4.234221</td>\n",
              "      <td>-0.279287</td>\n",
              "      <td>Toyota</td>\n",
              "      <td>Toyota Corolla</td>\n",
              "    </tr>\n",
              "    <tr>\n",
              "      <th>20</th>\n",
              "      <td>1.904168</td>\n",
              "      <td>-2.119838</td>\n",
              "      <td>Toyota</td>\n",
              "      <td>Toyota Corona</td>\n",
              "    </tr>\n",
              "    <tr>\n",
              "      <th>21</th>\n",
              "      <td>-2.184851</td>\n",
              "      <td>-1.014217</td>\n",
              "      <td>Dodge</td>\n",
              "      <td>Dodge Challenger</td>\n",
              "    </tr>\n",
              "    <tr>\n",
              "      <th>22</th>\n",
              "      <td>-1.863383</td>\n",
              "      <td>-0.906465</td>\n",
              "      <td>AMC</td>\n",
              "      <td>AMC Javelin</td>\n",
              "    </tr>\n",
              "    <tr>\n",
              "      <th>23</th>\n",
              "      <td>-2.888995</td>\n",
              "      <td>0.680826</td>\n",
              "      <td>Camaro</td>\n",
              "      <td>Camaro Z28</td>\n",
              "    </tr>\n",
              "    <tr>\n",
              "      <th>24</th>\n",
              "      <td>-2.245919</td>\n",
              "      <td>-0.873812</td>\n",
              "      <td>Pontiac</td>\n",
              "      <td>Pontiac Firebird</td>\n",
              "    </tr>\n",
              "    <tr>\n",
              "      <th>25</th>\n",
              "      <td>3.573968</td>\n",
              "      <td>-0.121204</td>\n",
              "      <td>Fiat</td>\n",
              "      <td>Fiat X1-9</td>\n",
              "    </tr>\n",
              "    <tr>\n",
              "      <th>26</th>\n",
              "      <td>2.651255</td>\n",
              "      <td>2.046371</td>\n",
              "      <td>Porsche</td>\n",
              "      <td>Porsche 914-2</td>\n",
              "    </tr>\n",
              "    <tr>\n",
              "      <th>27</th>\n",
              "      <td>3.385706</td>\n",
              "      <td>1.378599</td>\n",
              "      <td>Lotus</td>\n",
              "      <td>Lotus Europa</td>\n",
              "    </tr>\n",
              "    <tr>\n",
              "      <th>28</th>\n",
              "      <td>-1.372957</td>\n",
              "      <td>3.500000</td>\n",
              "      <td>Ford</td>\n",
              "      <td>Ford Pantera L</td>\n",
              "    </tr>\n",
              "    <tr>\n",
              "      <th>29</th>\n",
              "      <td>0.000990</td>\n",
              "      <td>3.219072</td>\n",
              "      <td>Ferrari</td>\n",
              "      <td>Ferrari Dino</td>\n",
              "    </tr>\n",
              "    <tr>\n",
              "      <th>30</th>\n",
              "      <td>-2.669126</td>\n",
              "      <td>4.379677</td>\n",
              "      <td>Maserati</td>\n",
              "      <td>Maserati Bora</td>\n",
              "    </tr>\n",
              "    <tr>\n",
              "      <th>31</th>\n",
              "      <td>2.420593</td>\n",
              "      <td>0.233640</td>\n",
              "      <td>Volvo</td>\n",
              "      <td>Volvo 142E</td>\n",
              "    </tr>\n",
              "  </tbody>\n",
              "</table>\n",
              "</div>"
            ],
            "text/plain": [
              "          p1        p2         U              carname\n",
              "0   0.657213  1.735446     Mazda            Mazda RX4\n",
              "1   0.629396  1.550033     Mazda        Mazda RX4 Wag\n",
              "2   2.779397 -0.146457    Datsun           Datsun 710\n",
              "3   0.311771 -2.363019    Hornet       Hornet 4 Drive\n",
              "4  -1.974489 -0.754402    Hornet    Hornet Sportabout\n",
              "5   0.056138 -2.786000   Valiant              Valiant\n",
              "6  -3.002674  0.334887    Duster           Duster 360\n",
              "7   2.055329 -1.465181      Merc            Merc 240D\n",
              "8   2.287408 -1.983526      Merc             Merc 230\n",
              "9   0.526381 -0.162013      Merc             Merc 280\n",
              "10  0.509205 -0.323894      Merc            Merc 280C\n",
              "11 -2.247810 -0.683474      Merc           Merc 450SE\n",
              "12 -2.047823 -0.683221      Merc           Merc 450SL\n",
              "13 -2.148542 -0.801739      Merc          Merc 450SLC\n",
              "14 -3.899790 -0.827948  Cadillac   Cadillac Fleetwood\n",
              "15 -3.954123 -0.733381   Lincoln  Lincoln Continental\n",
              "16 -3.592972 -0.421135  Chrysler    Chrysler Imperial\n",
              "17  3.856284 -0.296752      Fiat             Fiat 128\n",
              "18  4.254033  0.688414     Honda          Honda Civic\n",
              "19  4.234221 -0.279287    Toyota       Toyota Corolla\n",
              "20  1.904168 -2.119838    Toyota        Toyota Corona\n",
              "21 -2.184851 -1.014217     Dodge     Dodge Challenger\n",
              "22 -1.863383 -0.906465       AMC          AMC Javelin\n",
              "23 -2.888995  0.680826    Camaro           Camaro Z28\n",
              "24 -2.245919 -0.873812   Pontiac     Pontiac Firebird\n",
              "25  3.573968 -0.121204      Fiat            Fiat X1-9\n",
              "26  2.651255  2.046371   Porsche        Porsche 914-2\n",
              "27  3.385706  1.378599     Lotus         Lotus Europa\n",
              "28 -1.372957  3.500000      Ford       Ford Pantera L\n",
              "29  0.000990  3.219072   Ferrari         Ferrari Dino\n",
              "30 -2.669126  4.379677  Maserati        Maserati Bora\n",
              "31  2.420593  0.233640     Volvo           Volvo 142E"
            ]
          },
          "metadata": {
            "tags": []
          },
          "execution_count": 102
        }
      ]
    },
    {
      "cell_type": "code",
      "metadata": {
        "colab": {
          "base_uri": "https://localhost:8080/",
          "height": 471
        },
        "id": "5Yma35dygW0u",
        "outputId": "eef44fd5-4bb3-4aca-8912-bc8549f3c24f"
      },
      "source": [
        "groups = x.groupby('U')\n",
        "\n",
        "fig, ax = plt.subplots()\n",
        "\n",
        "for name, group in groups:\n",
        "    ax.plot(group.p1, \n",
        "            group.p2, \n",
        "            marker='o', \n",
        "            linestyle='',\n",
        "            label=name)\n",
        "\n",
        "ax.legend(fontsize=12, bbox_to_anchor=(1, 1.5)) # legend position\n",
        "\n",
        "plt.title('scatter of pca')\n",
        "plt.xlabel('1st primary component')\n",
        "plt.ylabel('2nd primary component')"
      ],
      "execution_count": 103,
      "outputs": [
        {
          "output_type": "execute_result",
          "data": {
            "text/plain": [
              "Text(0, 0.5, '2nd primary component')"
            ]
          },
          "metadata": {
            "tags": []
          },
          "execution_count": 103
        },
        {
          "output_type": "display_data",
          "data": {
            "image/png": "[encoded data removed]",
            "text/plain": [
              "<Figure size 432x288 with 1 Axes>"
            ]
          },
          "metadata": {
            "tags": [],
            "needs_background": "light"
          }
        }
      ]
    },
    {
      "cell_type": "code",
      "metadata": {
        "colab": {
          "base_uri": "https://localhost:8080/",
          "height": 531
        },
        "id": "1ZO0XD61n8y3",
        "outputId": "5072c468-a207-4319-a648-f139da748d79"
      },
      "source": [
        "plt.figure(figsize = (8, 8))\n",
        "plt.xlim(x['p1'].min(), x['p1'].max())\n",
        "plt.ylim(x['p2'].min(), x['p2'].max())\n",
        "\n",
        "for i in range(x.shape[0]):\n",
        "    plt.text(x.iloc[i, 0], x.iloc[i, 1], x['carname'][i])\n",
        "    \n",
        "plt.title('scatter of pca')\n",
        "plt.xlabel('1st primary component')\n",
        "plt.ylabel('2nd primary component')"
      ],
      "execution_count": 112,
      "outputs": [
        {
          "output_type": "execute_result",
          "data": {
            "text/plain": [
              "Text(0, 0.5, '2nd primary component')"
            ]
          },
          "metadata": {
            "tags": []
          },
          "execution_count": 112
        },
        {
          "output_type": "display_data",
          "data": {
            "image/png": "[encoded data removed]",
            "text/plain": [
              "<Figure size 576x576 with 1 Axes>"
            ]
          },
          "metadata": {
            "tags": [],
            "needs_background": "light"
          }
        }
      ]
    },
    {
      "cell_type": "code",
      "metadata": {
        "id": "8fRHHItZcia-"
      },
      "source": [
        "#차원 축소로 각 브랜드의 비슷한 차종끼리 군집된 것을 알 수 있다. 하지만 차종 정보는 확신할 수 없다"
      ],
      "execution_count": 96,
      "outputs": []
    },
    {
      "cell_type": "markdown",
      "metadata": {
        "id": "O4ig758Za7qs"
      },
      "source": [
        "#변수간 연관 확인"
      ]
    },
    {
      "cell_type": "code",
      "metadata": {
        "id": "Ohxg7IEja7NE"
      },
      "source": [
        ""
      ],
      "execution_count": null,
      "outputs": []
    }
  ]
}