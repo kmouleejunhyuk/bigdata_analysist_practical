{
  "nbformat": 4,
  "nbformat_minor": 0,
  "metadata": {
    "colab": {
      "name": "type1_Data_Preprocessing.ipynb",
      "provenance": [],
      "mount_file_id": "1FCbq63UTYM1XWHW6PZ4mAAoxUGsPJhDa",
      "authorship_tag": "ABX9TyOSSuJhg0xlJTHvZAwpv7bC",
      "include_colab_link": true
    },
    "kernelspec": {
      "name": "python3",
      "display_name": "Python 3"
    },
    "language_info": {
      "name": "python"
    }
  },
  "cells": [
    {
      "cell_type": "markdown",
      "metadata": {
        "id": "view-in-github",
        "colab_type": "text"
      },
      "source": [
        "<a href=\"https://colab.research.google.com/github/kmouleejunhyuk/bigdata_analysist_practical/blob/main/type1_Data_Preprocessing.ipynb\" target=\"_parent\"><img src=\"https://colab.research.google.com/assets/colab-badge.svg\" alt=\"Open In Colab\"/></a>"
      ]
    },
    {
      "cell_type": "code",
      "metadata": {
        "colab": {
          "base_uri": "https://localhost:8080/"
        },
        "id": "qFfZqSesbUBn",
        "outputId": "1f7ffa2a-bdb8-4b0e-a706-7cb8bafb2525"
      },
      "source": [
        "#prepare data\n",
        "from google.colab import drive\n",
        "drive.mount('/gdrive')"
      ],
      "execution_count": 3,
      "outputs": [
        {
          "output_type": "stream",
          "text": [
            "Mounted at /gdrive\n"
          ],
          "name": "stdout"
        }
      ]
    },
    {
      "cell_type": "markdown",
      "metadata": {
        "id": "v297odJnrvYk"
      },
      "source": [
        "using modules: pandas, sklearn, matplotlib.pyplot\n"
      ]
    },
    {
      "cell_type": "code",
      "metadata": {
        "id": "JdRyUzaBd24m"
      },
      "source": [
        "import os\n",
        "import pandas as pd\n",
        "import numpy as np\n",
        "import sklearn.preprocessing as preprocess\n",
        "import sklearn\n",
        "import matplotlib.pyplot as plt\n"
      ],
      "execution_count": 84,
      "outputs": []
    },
    {
      "cell_type": "code",
      "metadata": {
        "id": "YA2vnEhHdCh2"
      },
      "source": [
        "PATH ='/gdrive/MyDrive/big_2021/data/official'"
      ],
      "execution_count": 4,
      "outputs": []
    },
    {
      "cell_type": "code",
      "metadata": {
        "id": "j4LC7gCgdJo3"
      },
      "source": [
        "type1_path = os.path.join(PATH, 'type1', 'mtcars.csv')"
      ],
      "execution_count": 6,
      "outputs": []
    },
    {
      "cell_type": "code",
      "metadata": {
        "id": "-UUYDqpveB1Q"
      },
      "source": [
        "if os.path.isfile(type1_path):\n",
        "    rawdata = pd.read_csv(type1_path)\n",
        "\n",
        "else:\n",
        "    print('wrong data file')"
      ],
      "execution_count": 23,
      "outputs": []
    },
    {
      "cell_type": "code",
      "metadata": {
        "colab": {
          "base_uri": "https://localhost:8080/",
          "height": 198
        },
        "id": "Qgx1MJQyeWyG",
        "outputId": "83a44b10-9ce7-418c-c743-ed2cfd6b8ddb"
      },
      "source": [
        "rawdata.head()"
      ],
      "execution_count": 89,
      "outputs": [
        {
          "output_type": "execute_result",
          "data": {
            "text/html": [
              "<div>\n",
              "<style scoped>\n",
              "    .dataframe tbody tr th:only-of-type {\n",
              "        vertical-align: middle;\n",
              "    }\n",
              "\n",
              "    .dataframe tbody tr th {\n",
              "        vertical-align: top;\n",
              "    }\n",
              "\n",
              "    .dataframe thead th {\n",
              "        text-align: right;\n",
              "    }\n",
              "</style>\n",
              "<table border=\"1\" class=\"dataframe\">\n",
              "  <thead>\n",
              "    <tr style=\"text-align: right;\">\n",
              "      <th></th>\n",
              "      <th>Unnamed: 0</th>\n",
              "      <th>mpg</th>\n",
              "      <th>cyl</th>\n",
              "      <th>disp</th>\n",
              "      <th>hp</th>\n",
              "      <th>drat</th>\n",
              "      <th>wt</th>\n",
              "      <th>qsec</th>\n",
              "      <th>vs</th>\n",
              "      <th>am</th>\n",
              "      <th>gear</th>\n",
              "      <th>carb</th>\n",
              "    </tr>\n",
              "  </thead>\n",
              "  <tbody>\n",
              "    <tr>\n",
              "      <th>0</th>\n",
              "      <td>Mazda RX4</td>\n",
              "      <td>21.0</td>\n",
              "      <td>6</td>\n",
              "      <td>160.0</td>\n",
              "      <td>110</td>\n",
              "      <td>3.90</td>\n",
              "      <td>2.620</td>\n",
              "      <td>16.46</td>\n",
              "      <td>0</td>\n",
              "      <td>1</td>\n",
              "      <td>4</td>\n",
              "      <td>4</td>\n",
              "    </tr>\n",
              "    <tr>\n",
              "      <th>1</th>\n",
              "      <td>Mazda RX4 Wag</td>\n",
              "      <td>21.0</td>\n",
              "      <td>6</td>\n",
              "      <td>160.0</td>\n",
              "      <td>110</td>\n",
              "      <td>3.90</td>\n",
              "      <td>2.875</td>\n",
              "      <td>17.02</td>\n",
              "      <td>0</td>\n",
              "      <td>1</td>\n",
              "      <td>4</td>\n",
              "      <td>4</td>\n",
              "    </tr>\n",
              "    <tr>\n",
              "      <th>2</th>\n",
              "      <td>Datsun 710</td>\n",
              "      <td>22.8</td>\n",
              "      <td>4</td>\n",
              "      <td>108.0</td>\n",
              "      <td>93</td>\n",
              "      <td>3.85</td>\n",
              "      <td>2.320</td>\n",
              "      <td>18.61</td>\n",
              "      <td>1</td>\n",
              "      <td>1</td>\n",
              "      <td>4</td>\n",
              "      <td>1</td>\n",
              "    </tr>\n",
              "    <tr>\n",
              "      <th>3</th>\n",
              "      <td>Hornet 4 Drive</td>\n",
              "      <td>21.4</td>\n",
              "      <td>6</td>\n",
              "      <td>258.0</td>\n",
              "      <td>110</td>\n",
              "      <td>3.08</td>\n",
              "      <td>3.215</td>\n",
              "      <td>19.44</td>\n",
              "      <td>1</td>\n",
              "      <td>0</td>\n",
              "      <td>3</td>\n",
              "      <td>1</td>\n",
              "    </tr>\n",
              "    <tr>\n",
              "      <th>4</th>\n",
              "      <td>Hornet Sportabout</td>\n",
              "      <td>18.7</td>\n",
              "      <td>8</td>\n",
              "      <td>360.0</td>\n",
              "      <td>175</td>\n",
              "      <td>3.15</td>\n",
              "      <td>3.440</td>\n",
              "      <td>17.02</td>\n",
              "      <td>0</td>\n",
              "      <td>0</td>\n",
              "      <td>3</td>\n",
              "      <td>2</td>\n",
              "    </tr>\n",
              "  </tbody>\n",
              "</table>\n",
              "</div>"
            ],
            "text/plain": [
              "          Unnamed: 0   mpg  cyl   disp   hp  ...   qsec  vs  am  gear  carb\n",
              "0          Mazda RX4  21.0    6  160.0  110  ...  16.46   0   1     4     4\n",
              "1      Mazda RX4 Wag  21.0    6  160.0  110  ...  17.02   0   1     4     4\n",
              "2         Datsun 710  22.8    4  108.0   93  ...  18.61   1   1     4     1\n",
              "3     Hornet 4 Drive  21.4    6  258.0  110  ...  19.44   1   0     3     1\n",
              "4  Hornet Sportabout  18.7    8  360.0  175  ...  17.02   0   0     3     2\n",
              "\n",
              "[5 rows x 12 columns]"
            ]
          },
          "metadata": {
            "tags": []
          },
          "execution_count": 89
        }
      ]
    },
    {
      "cell_type": "markdown",
      "metadata": {
        "id": "mxvZr1fJjFVO"
      },
      "source": [
        "# EDA"
      ]
    },
    {
      "cell_type": "markdown",
      "metadata": {
        "id": "r7BbbNeWrDC8"
      },
      "source": [
        "data handling\n"
      ]
    },
    {
      "cell_type": "code",
      "metadata": {
        "id": "tnMy2xlcnScM"
      },
      "source": [
        "modified_data['dummy'] = [0 for x in range(modified_data.shape[0])]\n",
        "modified_data.drop('dummy', axis = 1, inplace = True)"
      ],
      "execution_count": 61,
      "outputs": []
    },
    {
      "cell_type": "code",
      "metadata": {
        "colab": {
          "base_uri": "https://localhost:8080/",
          "height": 198
        },
        "id": "sio1KSzWnlCd",
        "outputId": "ce9234e1-32ed-428c-c99c-1221ce6da888"
      },
      "source": [
        "modified_data.head()"
      ],
      "execution_count": 88,
      "outputs": [
        {
          "output_type": "execute_result",
          "data": {
            "text/html": [
              "<div>\n",
              "<style scoped>\n",
              "    .dataframe tbody tr th:only-of-type {\n",
              "        vertical-align: middle;\n",
              "    }\n",
              "\n",
              "    .dataframe tbody tr th {\n",
              "        vertical-align: top;\n",
              "    }\n",
              "\n",
              "    .dataframe thead th {\n",
              "        text-align: right;\n",
              "    }\n",
              "</style>\n",
              "<table border=\"1\" class=\"dataframe\">\n",
              "  <thead>\n",
              "    <tr style=\"text-align: right;\">\n",
              "      <th></th>\n",
              "      <th>Unnamed: 0</th>\n",
              "      <th>mpg</th>\n",
              "      <th>cyl</th>\n",
              "      <th>disp</th>\n",
              "      <th>hp</th>\n",
              "      <th>drat</th>\n",
              "      <th>wt</th>\n",
              "      <th>qsec</th>\n",
              "      <th>vs</th>\n",
              "      <th>am</th>\n",
              "      <th>gear</th>\n",
              "      <th>carb</th>\n",
              "      <th>qsec_minmax</th>\n",
              "      <th>qsec_stdscale</th>\n",
              "      <th>qsec_robust</th>\n",
              "    </tr>\n",
              "  </thead>\n",
              "  <tbody>\n",
              "    <tr>\n",
              "      <th>0</th>\n",
              "      <td>Mazda RX4</td>\n",
              "      <td>21.0</td>\n",
              "      <td>6</td>\n",
              "      <td>160.0</td>\n",
              "      <td>110</td>\n",
              "      <td>3.90</td>\n",
              "      <td>2.620</td>\n",
              "      <td>16.46</td>\n",
              "      <td>0</td>\n",
              "      <td>1</td>\n",
              "      <td>4</td>\n",
              "      <td>4</td>\n",
              "      <td>0.233333</td>\n",
              "      <td>-0.789601</td>\n",
              "      <td>-0.622665</td>\n",
              "    </tr>\n",
              "    <tr>\n",
              "      <th>1</th>\n",
              "      <td>Mazda RX4 Wag</td>\n",
              "      <td>21.0</td>\n",
              "      <td>6</td>\n",
              "      <td>160.0</td>\n",
              "      <td>110</td>\n",
              "      <td>3.90</td>\n",
              "      <td>2.875</td>\n",
              "      <td>17.02</td>\n",
              "      <td>0</td>\n",
              "      <td>1</td>\n",
              "      <td>4</td>\n",
              "      <td>4</td>\n",
              "      <td>0.300000</td>\n",
              "      <td>-0.471202</td>\n",
              "      <td>-0.343711</td>\n",
              "    </tr>\n",
              "    <tr>\n",
              "      <th>2</th>\n",
              "      <td>Datsun 710</td>\n",
              "      <td>22.8</td>\n",
              "      <td>4</td>\n",
              "      <td>108.0</td>\n",
              "      <td>93</td>\n",
              "      <td>3.85</td>\n",
              "      <td>2.320</td>\n",
              "      <td>18.61</td>\n",
              "      <td>1</td>\n",
              "      <td>1</td>\n",
              "      <td>4</td>\n",
              "      <td>1</td>\n",
              "      <td>0.489286</td>\n",
              "      <td>0.432823</td>\n",
              "      <td>0.448319</td>\n",
              "    </tr>\n",
              "    <tr>\n",
              "      <th>3</th>\n",
              "      <td>Hornet 4 Drive</td>\n",
              "      <td>21.4</td>\n",
              "      <td>6</td>\n",
              "      <td>258.0</td>\n",
              "      <td>110</td>\n",
              "      <td>3.08</td>\n",
              "      <td>3.215</td>\n",
              "      <td>19.44</td>\n",
              "      <td>1</td>\n",
              "      <td>0</td>\n",
              "      <td>3</td>\n",
              "      <td>1</td>\n",
              "      <td>0.588095</td>\n",
              "      <td>0.904736</td>\n",
              "      <td>0.861768</td>\n",
              "    </tr>\n",
              "    <tr>\n",
              "      <th>4</th>\n",
              "      <td>Hornet Sportabout</td>\n",
              "      <td>18.7</td>\n",
              "      <td>8</td>\n",
              "      <td>360.0</td>\n",
              "      <td>175</td>\n",
              "      <td>3.15</td>\n",
              "      <td>3.440</td>\n",
              "      <td>17.02</td>\n",
              "      <td>0</td>\n",
              "      <td>0</td>\n",
              "      <td>3</td>\n",
              "      <td>2</td>\n",
              "      <td>0.300000</td>\n",
              "      <td>-0.471202</td>\n",
              "      <td>-0.343711</td>\n",
              "    </tr>\n",
              "  </tbody>\n",
              "</table>\n",
              "</div>"
            ],
            "text/plain": [
              "          Unnamed: 0   mpg  cyl  ...  qsec_minmax  qsec_stdscale  qsec_robust\n",
              "0          Mazda RX4  21.0    6  ...     0.233333      -0.789601    -0.622665\n",
              "1      Mazda RX4 Wag  21.0    6  ...     0.300000      -0.471202    -0.343711\n",
              "2         Datsun 710  22.8    4  ...     0.489286       0.432823     0.448319\n",
              "3     Hornet 4 Drive  21.4    6  ...     0.588095       0.904736     0.861768\n",
              "4  Hornet Sportabout  18.7    8  ...     0.300000      -0.471202    -0.343711\n",
              "\n",
              "[5 rows x 15 columns]"
            ]
          },
          "metadata": {
            "tags": []
          },
          "execution_count": 88
        }
      ]
    },
    {
      "cell_type": "markdown",
      "metadata": {
        "id": "n8kZmuB_rf5E"
      },
      "source": [
        "handling outliers, missing values, etc"
      ]
    },
    {
      "cell_type": "markdown",
      "metadata": {
        "id": "aOBp4rE5hk7G"
      },
      "source": [
        "# scaling\n"
      ]
    },
    {
      "cell_type": "markdown",
      "metadata": {
        "id": "NezhOYRFht9a"
      },
      "source": [
        "Q: scale qsec column of mtcars.csv to minmax scale and count which is bigger than 0.5"
      ]
    },
    {
      "cell_type": "code",
      "metadata": {
        "id": "wYa5IEyhebqD"
      },
      "source": [
        "modified_data = rawdata.copy()"
      ],
      "execution_count": 90,
      "outputs": []
    },
    {
      "cell_type": "markdown",
      "metadata": {
        "id": "BN5sFSXvi7H1"
      },
      "source": [
        "various preprocessing method\n"
      ]
    },
    {
      "cell_type": "code",
      "metadata": {
        "id": "V0gvs0QyjQgt"
      },
      "source": [
        "#minmaxscaler, standardscaler, robustscaler, normalizer"
      ],
      "execution_count": 91,
      "outputs": []
    },
    {
      "cell_type": "code",
      "metadata": {
        "id": "lJJyfCr9sRLN"
      },
      "source": [
        "#minmax\n",
        "minmaxscaler = sklearn.preprocessing.MinMaxScaler()\n",
        "modified_data['qsec_minmax'] = minmaxscaler.fit_transform(modified_data['qsec'].values.reshape(-1, 1))"
      ],
      "execution_count": 92,
      "outputs": []
    },
    {
      "cell_type": "code",
      "metadata": {
        "id": "NGSjs-6wjjol"
      },
      "source": [
        "#mean: 0, var: 1 (normal distribution)\n",
        "stdscaler = sklearn.preprocessing.StandardScaler()\n",
        "modified_data['qsec_stdscale'] = stdscaler.fit_transform(modified_data['qsec'].values.reshape(-1, 1))"
      ],
      "execution_count": 93,
      "outputs": []
    },
    {
      "cell_type": "code",
      "metadata": {
        "id": "hmZGGzkegqMA"
      },
      "source": [
        "#use median and quantile, robust to outliers\n",
        "robustscaler = sklearn.preprocessing.RobustScaler()\n",
        "modified_data['qsec_robust'] = robustscaler.fit_transform(modified_data['qsec'].values.reshape(-1, 1))"
      ],
      "execution_count": 94,
      "outputs": []
    },
    {
      "cell_type": "code",
      "metadata": {
        "id": "GeVgNXDfkp5U"
      },
      "source": [
        "#modify datapoint vector by euclidian distance(1) \n",
        "m = modified_data[modified_data.columns[1:12]].values\n",
        "norm = pd.DataFrame(sklearn.preprocessing.normalize(m, 'l2', axis = 1), columns = [x + '_norm' for x in modified_data.columns[1:12]])"
      ],
      "execution_count": 95,
      "outputs": []
    },
    {
      "cell_type": "markdown",
      "metadata": {
        "id": "d6RhYB7vrbb0"
      },
      "source": [
        "results"
      ]
    },
    {
      "cell_type": "code",
      "metadata": {
        "colab": {
          "base_uri": "https://localhost:8080/",
          "height": 138
        },
        "id": "NlMm6OGmpqek",
        "outputId": "68fc177c-dc1c-4490-ce2c-2b19eec7cb3e"
      },
      "source": [
        "norm.head(3)"
      ],
      "execution_count": 98,
      "outputs": [
        {
          "output_type": "execute_result",
          "data": {
            "text/html": [
              "<div>\n",
              "<style scoped>\n",
              "    .dataframe tbody tr th:only-of-type {\n",
              "        vertical-align: middle;\n",
              "    }\n",
              "\n",
              "    .dataframe tbody tr th {\n",
              "        vertical-align: top;\n",
              "    }\n",
              "\n",
              "    .dataframe thead th {\n",
              "        text-align: right;\n",
              "    }\n",
              "</style>\n",
              "<table border=\"1\" class=\"dataframe\">\n",
              "  <thead>\n",
              "    <tr style=\"text-align: right;\">\n",
              "      <th></th>\n",
              "      <th>mpg_norm</th>\n",
              "      <th>cyl_norm</th>\n",
              "      <th>disp_norm</th>\n",
              "      <th>hp_norm</th>\n",
              "      <th>drat_norm</th>\n",
              "      <th>wt_norm</th>\n",
              "      <th>qsec_norm</th>\n",
              "      <th>vs_norm</th>\n",
              "      <th>am_norm</th>\n",
              "      <th>gear_norm</th>\n",
              "      <th>carb_norm</th>\n",
              "    </tr>\n",
              "  </thead>\n",
              "  <tbody>\n",
              "    <tr>\n",
              "      <th>0</th>\n",
              "      <td>0.107022</td>\n",
              "      <td>0.030578</td>\n",
              "      <td>0.815404</td>\n",
              "      <td>0.560590</td>\n",
              "      <td>0.019875</td>\n",
              "      <td>0.013352</td>\n",
              "      <td>0.083885</td>\n",
              "      <td>0.000000</td>\n",
              "      <td>0.005096</td>\n",
              "      <td>0.020385</td>\n",
              "      <td>0.020385</td>\n",
              "    </tr>\n",
              "    <tr>\n",
              "      <th>1</th>\n",
              "      <td>0.106994</td>\n",
              "      <td>0.030570</td>\n",
              "      <td>0.815190</td>\n",
              "      <td>0.560443</td>\n",
              "      <td>0.019870</td>\n",
              "      <td>0.014648</td>\n",
              "      <td>0.086716</td>\n",
              "      <td>0.000000</td>\n",
              "      <td>0.005095</td>\n",
              "      <td>0.020380</td>\n",
              "      <td>0.020380</td>\n",
              "    </tr>\n",
              "    <tr>\n",
              "      <th>2</th>\n",
              "      <td>0.156464</td>\n",
              "      <td>0.027450</td>\n",
              "      <td>0.741146</td>\n",
              "      <td>0.638209</td>\n",
              "      <td>0.026420</td>\n",
              "      <td>0.015921</td>\n",
              "      <td>0.127711</td>\n",
              "      <td>0.006862</td>\n",
              "      <td>0.006862</td>\n",
              "      <td>0.027450</td>\n",
              "      <td>0.006862</td>\n",
              "    </tr>\n",
              "  </tbody>\n",
              "</table>\n",
              "</div>"
            ],
            "text/plain": [
              "   mpg_norm  cyl_norm  disp_norm  ...   am_norm  gear_norm  carb_norm\n",
              "0  0.107022  0.030578   0.815404  ...  0.005096   0.020385   0.020385\n",
              "1  0.106994  0.030570   0.815190  ...  0.005095   0.020380   0.020380\n",
              "2  0.156464  0.027450   0.741146  ...  0.006862   0.027450   0.006862\n",
              "\n",
              "[3 rows x 11 columns]"
            ]
          },
          "metadata": {
            "tags": []
          },
          "execution_count": 98
        }
      ]
    },
    {
      "cell_type": "code",
      "metadata": {
        "colab": {
          "base_uri": "https://localhost:8080/",
          "height": 138
        },
        "id": "f_ZJw0tFkCuo",
        "outputId": "556629c2-1a5a-4935-f8ec-e54d77ade3e6"
      },
      "source": [
        "modified_data[['qsec', 'qsec_minmax', 'qsec_stdscale', 'qsec_robust']].head(3)"
      ],
      "execution_count": 99,
      "outputs": [
        {
          "output_type": "execute_result",
          "data": {
            "text/html": [
              "<div>\n",
              "<style scoped>\n",
              "    .dataframe tbody tr th:only-of-type {\n",
              "        vertical-align: middle;\n",
              "    }\n",
              "\n",
              "    .dataframe tbody tr th {\n",
              "        vertical-align: top;\n",
              "    }\n",
              "\n",
              "    .dataframe thead th {\n",
              "        text-align: right;\n",
              "    }\n",
              "</style>\n",
              "<table border=\"1\" class=\"dataframe\">\n",
              "  <thead>\n",
              "    <tr style=\"text-align: right;\">\n",
              "      <th></th>\n",
              "      <th>qsec</th>\n",
              "      <th>qsec_minmax</th>\n",
              "      <th>qsec_stdscale</th>\n",
              "      <th>qsec_robust</th>\n",
              "    </tr>\n",
              "  </thead>\n",
              "  <tbody>\n",
              "    <tr>\n",
              "      <th>0</th>\n",
              "      <td>16.46</td>\n",
              "      <td>0.233333</td>\n",
              "      <td>-0.789601</td>\n",
              "      <td>-0.622665</td>\n",
              "    </tr>\n",
              "    <tr>\n",
              "      <th>1</th>\n",
              "      <td>17.02</td>\n",
              "      <td>0.300000</td>\n",
              "      <td>-0.471202</td>\n",
              "      <td>-0.343711</td>\n",
              "    </tr>\n",
              "    <tr>\n",
              "      <th>2</th>\n",
              "      <td>18.61</td>\n",
              "      <td>0.489286</td>\n",
              "      <td>0.432823</td>\n",
              "      <td>0.448319</td>\n",
              "    </tr>\n",
              "  </tbody>\n",
              "</table>\n",
              "</div>"
            ],
            "text/plain": [
              "    qsec  qsec_minmax  qsec_stdscale  qsec_robust\n",
              "0  16.46     0.233333      -0.789601    -0.622665\n",
              "1  17.02     0.300000      -0.471202    -0.343711\n",
              "2  18.61     0.489286       0.432823     0.448319"
            ]
          },
          "metadata": {
            "tags": []
          },
          "execution_count": 99
        }
      ]
    },
    {
      "cell_type": "code",
      "metadata": {
        "colab": {
          "base_uri": "https://localhost:8080/"
        },
        "id": "xlZHbqCDkOsD",
        "outputId": "af57d80b-f628-4e59-d03b-a30c00799146"
      },
      "source": [
        "print('bigger record number in qsec_minmax: ', modified_data[modified_data['qsec_minmax'] > 0.5].shape[0])"
      ],
      "execution_count": 100,
      "outputs": [
        {
          "output_type": "stream",
          "text": [
            "bigger record number in qsec_minmax:  9\n"
          ],
          "name": "stdout"
        }
      ]
    },
    {
      "cell_type": "code",
      "metadata": {
        "id": "8E7nCpepshvR"
      },
      "source": [
        ""
      ],
      "execution_count": null,
      "outputs": []
    }
  ]
}