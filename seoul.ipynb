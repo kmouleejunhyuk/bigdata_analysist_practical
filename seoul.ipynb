{
  "nbformat": 4,
  "nbformat_minor": 0,
  "metadata": {
    "colab": {
      "name": "seoul.ipynb",
      "provenance": [],
      "collapsed_sections": [],
      "authorship_tag": "ABX9TyP8IjkyyDk7tapHsRK7shIO",
      "include_colab_link": true
    },
    "kernelspec": {
      "name": "python3",
      "display_name": "Python 3"
    },
    "language_info": {
      "name": "python"
    }
  },
  "cells": [
    {
      "cell_type": "markdown",
      "metadata": {
        "id": "view-in-github",
        "colab_type": "text"
      },
      "source": [
        "<a href=\"https://colab.research.google.com/github/kmouleejunhyuk/bigdata_analysist_practical/blob/main/seoul.ipynb\" target=\"_parent\"><img src=\"https://colab.research.google.com/assets/colab-badge.svg\" alt=\"Open In Colab\"/></a>"
      ]
    },
    {
      "cell_type": "code",
      "metadata": {
        "colab": {
          "base_uri": "https://localhost:8080/",
          "height": 198
        },
        "id": "Z0d8wmh0YJJy",
        "outputId": "d4f446f2-c755-4a9a-c32c-e31ef1aa8275"
      },
      "source": [
        "#데이터 다운로드\n",
        "import pandas as pd\n",
        "import numpy as np\n",
        "rawdata = pd.read_csv('https://raw.githubusercontent.com/kmouleejunhyuk/bigdata_analysist_practical/main/seoul.csv', encoding = 'cp949')\n",
        "\n",
        "#data 살펴보기\n",
        "rawdata.head()"
      ],
      "execution_count": 95,
      "outputs": [
        {
          "output_type": "execute_result",
          "data": {
            "text/html": [
              "<div>\n",
              "<style scoped>\n",
              "    .dataframe tbody tr th:only-of-type {\n",
              "        vertical-align: middle;\n",
              "    }\n",
              "\n",
              "    .dataframe tbody tr th {\n",
              "        vertical-align: top;\n",
              "    }\n",
              "\n",
              "    .dataframe thead th {\n",
              "        text-align: right;\n",
              "    }\n",
              "</style>\n",
              "<table border=\"1\" class=\"dataframe\">\n",
              "  <thead>\n",
              "    <tr style=\"text-align: right;\">\n",
              "      <th></th>\n",
              "      <th>날짜</th>\n",
              "      <th>지점</th>\n",
              "      <th>평균기온(℃)</th>\n",
              "      <th>최저기온(℃)</th>\n",
              "      <th>최고기온(℃)</th>\n",
              "    </tr>\n",
              "  </thead>\n",
              "  <tbody>\n",
              "    <tr>\n",
              "      <th>0</th>\n",
              "      <td>1907-10-01</td>\n",
              "      <td>108</td>\n",
              "      <td>13.5</td>\n",
              "      <td>7.9</td>\n",
              "      <td>20.7</td>\n",
              "    </tr>\n",
              "    <tr>\n",
              "      <th>1</th>\n",
              "      <td>1907-10-02</td>\n",
              "      <td>108</td>\n",
              "      <td>16.2</td>\n",
              "      <td>7.9</td>\n",
              "      <td>22.0</td>\n",
              "    </tr>\n",
              "    <tr>\n",
              "      <th>2</th>\n",
              "      <td>1907-10-03</td>\n",
              "      <td>108</td>\n",
              "      <td>16.2</td>\n",
              "      <td>13.1</td>\n",
              "      <td>21.3</td>\n",
              "    </tr>\n",
              "    <tr>\n",
              "      <th>3</th>\n",
              "      <td>1907-10-04</td>\n",
              "      <td>108</td>\n",
              "      <td>16.5</td>\n",
              "      <td>11.2</td>\n",
              "      <td>22.0</td>\n",
              "    </tr>\n",
              "    <tr>\n",
              "      <th>4</th>\n",
              "      <td>1907-10-05</td>\n",
              "      <td>108</td>\n",
              "      <td>17.6</td>\n",
              "      <td>10.9</td>\n",
              "      <td>25.4</td>\n",
              "    </tr>\n",
              "  </tbody>\n",
              "</table>\n",
              "</div>"
            ],
            "text/plain": [
              "           날짜   지점  평균기온(℃)  최저기온(℃)  최고기온(℃)\n",
              "0  1907-10-01  108     13.5      7.9     20.7\n",
              "1  1907-10-02  108     16.2      7.9     22.0\n",
              "2  1907-10-03  108     16.2     13.1     21.3\n",
              "3  1907-10-04  108     16.5     11.2     22.0\n",
              "4  1907-10-05  108     17.6     10.9     25.4"
            ]
          },
          "metadata": {
            "tags": []
          },
          "execution_count": 95
        }
      ]
    },
    {
      "cell_type": "code",
      "metadata": {
        "colab": {
          "base_uri": "https://localhost:8080/",
          "height": 288
        },
        "id": "SDi5j2aH0X8X",
        "outputId": "c1638312-ccdc-422e-b92c-b2e9c3327d1f"
      },
      "source": [
        "rawdata.describe()"
      ],
      "execution_count": 105,
      "outputs": [
        {
          "output_type": "execute_result",
          "data": {
            "text/html": [
              "<div>\n",
              "<style scoped>\n",
              "    .dataframe tbody tr th:only-of-type {\n",
              "        vertical-align: middle;\n",
              "    }\n",
              "\n",
              "    .dataframe tbody tr th {\n",
              "        vertical-align: top;\n",
              "    }\n",
              "\n",
              "    .dataframe thead th {\n",
              "        text-align: right;\n",
              "    }\n",
              "</style>\n",
              "<table border=\"1\" class=\"dataframe\">\n",
              "  <thead>\n",
              "    <tr style=\"text-align: right;\">\n",
              "      <th></th>\n",
              "      <th>평균기온(℃)</th>\n",
              "      <th>최저기온(℃)</th>\n",
              "      <th>최고기온(℃)</th>\n",
              "    </tr>\n",
              "  </thead>\n",
              "  <tbody>\n",
              "    <tr>\n",
              "      <th>count</th>\n",
              "      <td>38992.000000</td>\n",
              "      <td>38991.000000</td>\n",
              "      <td>38991.000000</td>\n",
              "    </tr>\n",
              "    <tr>\n",
              "      <th>mean</th>\n",
              "      <td>11.709681</td>\n",
              "      <td>7.410428</td>\n",
              "      <td>16.722446</td>\n",
              "    </tr>\n",
              "    <tr>\n",
              "      <th>std</th>\n",
              "      <td>10.659353</td>\n",
              "      <td>10.885431</td>\n",
              "      <td>10.990800</td>\n",
              "    </tr>\n",
              "    <tr>\n",
              "      <th>min</th>\n",
              "      <td>-19.200000</td>\n",
              "      <td>-23.100000</td>\n",
              "      <td>-16.300000</td>\n",
              "    </tr>\n",
              "    <tr>\n",
              "      <th>25%</th>\n",
              "      <td>2.700000</td>\n",
              "      <td>-1.500000</td>\n",
              "      <td>7.200000</td>\n",
              "    </tr>\n",
              "    <tr>\n",
              "      <th>50%</th>\n",
              "      <td>12.900000</td>\n",
              "      <td>8.000000</td>\n",
              "      <td>18.600000</td>\n",
              "    </tr>\n",
              "    <tr>\n",
              "      <th>75%</th>\n",
              "      <td>21.200000</td>\n",
              "      <td>17.000000</td>\n",
              "      <td>26.200000</td>\n",
              "    </tr>\n",
              "    <tr>\n",
              "      <th>max</th>\n",
              "      <td>33.100000</td>\n",
              "      <td>28.800000</td>\n",
              "      <td>38.400000</td>\n",
              "    </tr>\n",
              "  </tbody>\n",
              "</table>\n",
              "</div>"
            ],
            "text/plain": [
              "            평균기온(℃)       최저기온(℃)       최고기온(℃)\n",
              "count  38992.000000  38991.000000  38991.000000\n",
              "mean      11.709681      7.410428     16.722446\n",
              "std       10.659353     10.885431     10.990800\n",
              "min      -19.200000    -23.100000    -16.300000\n",
              "25%        2.700000     -1.500000      7.200000\n",
              "50%       12.900000      8.000000     18.600000\n",
              "75%       21.200000     17.000000     26.200000\n",
              "max       33.100000     28.800000     38.400000"
            ]
          },
          "metadata": {
            "tags": []
          },
          "execution_count": 105
        }
      ]
    },
    {
      "cell_type": "code",
      "metadata": {
        "colab": {
          "base_uri": "https://localhost:8080/"
        },
        "id": "A6bp7C_gdPag",
        "outputId": "dfec1843-ba4c-4262-aac7-4a95469be91b"
      },
      "source": [
        "#결측치, 중복 여부 검사 및 제거\n",
        "rawdata.isnull().sum()"
      ],
      "execution_count": 96,
      "outputs": [
        {
          "output_type": "execute_result",
          "data": {
            "text/plain": [
              "날짜           0\n",
              "지점           0\n",
              "평균기온(℃)    756\n",
              "최저기온(℃)    757\n",
              "최고기온(℃)    757\n",
              "dtype: int64"
            ]
          },
          "metadata": {
            "tags": []
          },
          "execution_count": 96
        }
      ]
    },
    {
      "cell_type": "code",
      "metadata": {
        "colab": {
          "base_uri": "https://localhost:8080/"
        },
        "id": "K-Z5XNpzdpqX",
        "outputId": "5636e55a-0c85-402a-bfb9-59e442c734e5"
      },
      "source": [
        "rawdata.duplicated().sum()"
      ],
      "execution_count": 97,
      "outputs": [
        {
          "output_type": "execute_result",
          "data": {
            "text/plain": [
              "0"
            ]
          },
          "metadata": {
            "tags": []
          },
          "execution_count": 97
        }
      ]
    },
    {
      "cell_type": "code",
      "metadata": {
        "id": "WMQzdKKydr8g"
      },
      "source": [
        "#rawdata.replace({-999: np.nan}, inplace = True)\n",
        "#rawdata.dropna(inplace= True)"
      ],
      "execution_count": 98,
      "outputs": []
    },
    {
      "cell_type": "code",
      "metadata": {
        "id": "6xQz5Kf8dTQX"
      },
      "source": [
        "#날짜 파생변수 생성(날짜 --> 년, 월, 일)\n",
        "rawdata['년'] = rawdata['날짜'].map(lambda x: x.split('-')[0])\n",
        "rawdata['월'] = rawdata['날짜'].map(lambda x: x.split('-')[1])\n",
        "rawdata['일'] = rawdata['날짜'].map(lambda x: x.split('-')[2])"
      ],
      "execution_count": 99,
      "outputs": []
    },
    {
      "cell_type": "code",
      "metadata": {
        "id": "fZkr5nL_dVin"
      },
      "source": [
        "#지점, 날짜 컬럼 제거\n",
        "rawdata.drop(['지점', '날짜'], axis = 1, inplace = True)"
      ],
      "execution_count": 100,
      "outputs": []
    },
    {
      "cell_type": "code",
      "metadata": {
        "id": "q5M9mIEPdWiv"
      },
      "source": [
        "#년-월별 컬럼별 평균 확인\n",
        "group = rawdata.groupby(by = ['월', '년']).mean()"
      ],
      "execution_count": 101,
      "outputs": []
    },
    {
      "cell_type": "code",
      "metadata": {
        "colab": {
          "base_uri": "https://localhost:8080/",
          "height": 437
        },
        "id": "SaHtGbMfrqUg",
        "outputId": "692f7524-c539-4a16-f225-00fbc657856e"
      },
      "source": [
        "group"
      ],
      "execution_count": 102,
      "outputs": [
        {
          "output_type": "execute_result",
          "data": {
            "text/html": [
              "<div>\n",
              "<style scoped>\n",
              "    .dataframe tbody tr th:only-of-type {\n",
              "        vertical-align: middle;\n",
              "    }\n",
              "\n",
              "    .dataframe tbody tr th {\n",
              "        vertical-align: top;\n",
              "    }\n",
              "\n",
              "    .dataframe thead th {\n",
              "        text-align: right;\n",
              "    }\n",
              "</style>\n",
              "<table border=\"1\" class=\"dataframe\">\n",
              "  <thead>\n",
              "    <tr style=\"text-align: right;\">\n",
              "      <th></th>\n",
              "      <th></th>\n",
              "      <th>평균기온(℃)</th>\n",
              "      <th>최저기온(℃)</th>\n",
              "      <th>최고기온(℃)</th>\n",
              "    </tr>\n",
              "    <tr>\n",
              "      <th>월</th>\n",
              "      <th>년</th>\n",
              "      <th></th>\n",
              "      <th></th>\n",
              "      <th></th>\n",
              "    </tr>\n",
              "  </thead>\n",
              "  <tbody>\n",
              "    <tr>\n",
              "      <th rowspan=\"5\" valign=\"top\">01</th>\n",
              "      <th>1908</th>\n",
              "      <td>-3.464516</td>\n",
              "      <td>-7.506452</td>\n",
              "      <td>0.138710</td>\n",
              "    </tr>\n",
              "    <tr>\n",
              "      <th>1909</th>\n",
              "      <td>-2.509677</td>\n",
              "      <td>-7.261290</td>\n",
              "      <td>2.006452</td>\n",
              "    </tr>\n",
              "    <tr>\n",
              "      <th>1910</th>\n",
              "      <td>-2.258065</td>\n",
              "      <td>-5.606452</td>\n",
              "      <td>1.864516</td>\n",
              "    </tr>\n",
              "    <tr>\n",
              "      <th>1911</th>\n",
              "      <td>-4.961290</td>\n",
              "      <td>-9.970968</td>\n",
              "      <td>-0.038710</td>\n",
              "    </tr>\n",
              "    <tr>\n",
              "      <th>1912</th>\n",
              "      <td>-4.687097</td>\n",
              "      <td>-10.106452</td>\n",
              "      <td>0.422581</td>\n",
              "    </tr>\n",
              "    <tr>\n",
              "      <th>...</th>\n",
              "      <th>...</th>\n",
              "      <td>...</td>\n",
              "      <td>...</td>\n",
              "      <td>...</td>\n",
              "    </tr>\n",
              "    <tr>\n",
              "      <th rowspan=\"5\" valign=\"top\">12</th>\n",
              "      <th>2012</th>\n",
              "      <td>-4.119355</td>\n",
              "      <td>-7.390323</td>\n",
              "      <td>-0.519355</td>\n",
              "    </tr>\n",
              "    <tr>\n",
              "      <th>2013</th>\n",
              "      <td>-0.183871</td>\n",
              "      <td>-3.496774</td>\n",
              "      <td>3.525806</td>\n",
              "    </tr>\n",
              "    <tr>\n",
              "      <th>2014</th>\n",
              "      <td>-2.919355</td>\n",
              "      <td>-6.722581</td>\n",
              "      <td>1.496774</td>\n",
              "    </tr>\n",
              "    <tr>\n",
              "      <th>2015</th>\n",
              "      <td>1.593548</td>\n",
              "      <td>-2.119355</td>\n",
              "      <td>5.996774</td>\n",
              "    </tr>\n",
              "    <tr>\n",
              "      <th>2016</th>\n",
              "      <td>1.245161</td>\n",
              "      <td>-2.670968</td>\n",
              "      <td>5.800000</td>\n",
              "    </tr>\n",
              "  </tbody>\n",
              "</table>\n",
              "<p>1307 rows × 3 columns</p>\n",
              "</div>"
            ],
            "text/plain": [
              "          평균기온(℃)    최저기온(℃)   최고기온(℃)\n",
              "월  년                                  \n",
              "01 1908 -3.464516  -7.506452  0.138710\n",
              "   1909 -2.509677  -7.261290  2.006452\n",
              "   1910 -2.258065  -5.606452  1.864516\n",
              "   1911 -4.961290  -9.970968 -0.038710\n",
              "   1912 -4.687097 -10.106452  0.422581\n",
              "...           ...        ...       ...\n",
              "12 2012 -4.119355  -7.390323 -0.519355\n",
              "   2013 -0.183871  -3.496774  3.525806\n",
              "   2014 -2.919355  -6.722581  1.496774\n",
              "   2015  1.593548  -2.119355  5.996774\n",
              "   2016  1.245161  -2.670968  5.800000\n",
              "\n",
              "[1307 rows x 3 columns]"
            ]
          },
          "metadata": {
            "tags": []
          },
          "execution_count": 102
        }
      ]
    },
    {
      "cell_type": "code",
      "metadata": {
        "colab": {
          "base_uri": "https://localhost:8080/"
        },
        "id": "CFiWqanydXeP",
        "outputId": "fc4a2ab4-dfe0-48ef-e6db-0ad87e3b8fb9"
      },
      "source": [
        "#2000년 1월의 가장 높은 최저기온\n",
        "rawdata.groupby(['년', '월']).max().loc['2000', '최저기온(℃)'].loc['01']"
      ],
      "execution_count": 104,
      "outputs": [
        {
          "output_type": "execute_result",
          "data": {
            "text/plain": [
              "2.6"
            ]
          },
          "metadata": {
            "tags": []
          },
          "execution_count": 104
        }
      ]
    },
    {
      "cell_type": "code",
      "metadata": {
        "id": "Updqt9P4d4eD",
        "colab": {
          "base_uri": "https://localhost:8080/",
          "height": 375
        },
        "outputId": "1274a75d-7cda-4a2a-dc86-e76f4fa4abac"
      },
      "source": [
        "group.loc['05', '평균기온(℃)'].plot.line()    #각 년도의 01월 평균 기온 변화 추이"
      ],
      "execution_count": 93,
      "outputs": [
        {
          "output_type": "execute_result",
          "data": {
            "text/plain": [
              "<matplotlib.axes._subplots.AxesSubplot at 0x7fc543974d50>"
            ]
          },
          "metadata": {
            "tags": []
          },
          "execution_count": 93
        },
        {
          "output_type": "stream",
          "text": [
            "/usr/local/lib/python3.7/dist-packages/matplotlib/backends/backend_agg.py:214: RuntimeWarning: Glyph 45380 missing from current font.\n",
            "  font.set_text(s, 0.0, flags=flags)\n",
            "/usr/local/lib/python3.7/dist-packages/matplotlib/backends/backend_agg.py:183: RuntimeWarning: Glyph 45380 missing from current font.\n",
            "  font.set_text(s, 0, flags=flags)\n"
          ],
          "name": "stderr"
        },
        {
          "output_type": "display_data",
          "data": {
            "image/png": "[encoded data removed]",
            "text/plain": [
              "<Figure size 432x288 with 1 Axes>"
            ]
          },
          "metadata": {
            "tags": [],
            "needs_background": "light"
          }
        }
      ]
    },
    {
      "cell_type": "code",
      "metadata": {
        "id": "Hg00UV5wrkKo"
      },
      "source": [
        ""
      ],
      "execution_count": null,
      "outputs": []
    }
  ]
}