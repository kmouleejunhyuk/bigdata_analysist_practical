{
  "nbformat": 4,
  "nbformat_minor": 0,
  "metadata": {
    "colab": {
      "name": "seoul.ipynb",
      "provenance": [],
      "collapsed_sections": [],
      "authorship_tag": "ABX9TyN2eqvxFwWlZo7CUraGX7T5",
      "include_colab_link": true
    },
    "kernelspec": {
      "name": "python3",
      "display_name": "Python 3"
    },
    "language_info": {
      "name": "python"
    }
  },
  "cells": [
    {
      "cell_type": "markdown",
      "metadata": {
        "id": "view-in-github",
        "colab_type": "text"
      },
      "source": [
        "<a href=\"https://colab.research.google.com/github/kmouleejunhyuk/bigdata_analysist_practical/blob/main/seoul.ipynb\" target=\"_parent\"><img src=\"https://colab.research.google.com/assets/colab-badge.svg\" alt=\"Open In Colab\"/></a>"
      ]
    },
    {
      "cell_type": "code",
      "metadata": {
        "colab": {
          "base_uri": "https://localhost:8080/",
          "height": 198
        },
        "id": "Z0d8wmh0YJJy",
        "outputId": "e801d24a-def0-4b3c-a667-ba0e53e2fa75"
      },
      "source": [
        "#데이터 다운로드\n",
        "import pandas as pd\n",
        "rawdata = pd.read_csv('https://raw.githubusercontent.com/kmouleejunhyuk/bigdata_analysist_practical/main/seoul.csv', encoding = 'cp949')\n",
        "\n",
        "#data 살펴보기\n",
        "rawdata.head()"
      ],
      "execution_count": null,
      "outputs": [
        {
          "output_type": "execute_result",
          "data": {
            "text/html": [
              "<div>\n",
              "<style scoped>\n",
              "    .dataframe tbody tr th:only-of-type {\n",
              "        vertical-align: middle;\n",
              "    }\n",
              "\n",
              "    .dataframe tbody tr th {\n",
              "        vertical-align: top;\n",
              "    }\n",
              "\n",
              "    .dataframe thead th {\n",
              "        text-align: right;\n",
              "    }\n",
              "</style>\n",
              "<table border=\"1\" class=\"dataframe\">\n",
              "  <thead>\n",
              "    <tr style=\"text-align: right;\">\n",
              "      <th></th>\n",
              "      <th>날짜</th>\n",
              "      <th>지점</th>\n",
              "      <th>평균기온(℃)</th>\n",
              "      <th>최저기온(℃)</th>\n",
              "      <th>최고기온(℃)</th>\n",
              "    </tr>\n",
              "  </thead>\n",
              "  <tbody>\n",
              "    <tr>\n",
              "      <th>0</th>\n",
              "      <td>1907-10-01</td>\n",
              "      <td>108</td>\n",
              "      <td>13.5</td>\n",
              "      <td>7.9</td>\n",
              "      <td>20.7</td>\n",
              "    </tr>\n",
              "    <tr>\n",
              "      <th>1</th>\n",
              "      <td>1907-10-02</td>\n",
              "      <td>108</td>\n",
              "      <td>16.2</td>\n",
              "      <td>7.9</td>\n",
              "      <td>22.0</td>\n",
              "    </tr>\n",
              "    <tr>\n",
              "      <th>2</th>\n",
              "      <td>1907-10-03</td>\n",
              "      <td>108</td>\n",
              "      <td>16.2</td>\n",
              "      <td>13.1</td>\n",
              "      <td>21.3</td>\n",
              "    </tr>\n",
              "    <tr>\n",
              "      <th>3</th>\n",
              "      <td>1907-10-04</td>\n",
              "      <td>108</td>\n",
              "      <td>16.5</td>\n",
              "      <td>11.2</td>\n",
              "      <td>22.0</td>\n",
              "    </tr>\n",
              "    <tr>\n",
              "      <th>4</th>\n",
              "      <td>1907-10-05</td>\n",
              "      <td>108</td>\n",
              "      <td>17.6</td>\n",
              "      <td>10.9</td>\n",
              "      <td>25.4</td>\n",
              "    </tr>\n",
              "  </tbody>\n",
              "</table>\n",
              "</div>"
            ],
            "text/plain": [
              "           날짜   지점  평균기온(℃)  최저기온(℃)  최고기온(℃)\n",
              "0  1907-10-01  108     13.5      7.9     20.7\n",
              "1  1907-10-02  108     16.2      7.9     22.0\n",
              "2  1907-10-03  108     16.2     13.1     21.3\n",
              "3  1907-10-04  108     16.5     11.2     22.0\n",
              "4  1907-10-05  108     17.6     10.9     25.4"
            ]
          },
          "metadata": {
            "tags": []
          },
          "execution_count": 27
        }
      ]
    },
    {
      "cell_type": "code",
      "metadata": {
        "colab": {
          "base_uri": "https://localhost:8080/"
        },
        "id": "A6bp7C_gdPag",
        "outputId": "ffa3f2a7-923d-49b3-80b3-6bec67dc57c7"
      },
      "source": [
        "#결측치, 중복 여부 검사 및 제거\n",
        "rawdata.isnull().sum()"
      ],
      "execution_count": null,
      "outputs": [
        {
          "output_type": "execute_result",
          "data": {
            "text/plain": [
              "날짜           0\n",
              "지점           0\n",
              "평균기온(℃)    756\n",
              "최저기온(℃)    757\n",
              "최고기온(℃)    757\n",
              "dtype: int64"
            ]
          },
          "metadata": {
            "tags": []
          },
          "execution_count": 28
        }
      ]
    },
    {
      "cell_type": "code",
      "metadata": {
        "colab": {
          "base_uri": "https://localhost:8080/"
        },
        "id": "K-Z5XNpzdpqX",
        "outputId": "9078a80a-2a3f-4d26-987b-56ba44f47de8"
      },
      "source": [
        "rawdata.duplicated().sum()"
      ],
      "execution_count": null,
      "outputs": [
        {
          "output_type": "execute_result",
          "data": {
            "text/plain": [
              "0"
            ]
          },
          "metadata": {
            "tags": []
          },
          "execution_count": 29
        }
      ]
    },
    {
      "cell_type": "code",
      "metadata": {
        "id": "WMQzdKKydr8g"
      },
      "source": [
        "rawdata.dropna(inplace= True)"
      ],
      "execution_count": null,
      "outputs": []
    },
    {
      "cell_type": "code",
      "metadata": {
        "id": "6xQz5Kf8dTQX"
      },
      "source": [
        "#날짜 파생변수 생성(날짜 --> 년, 월, 일)\n",
        "rawdata['년'] = rawdata['날짜'].map(lambda x: x.split('-')[0])\n",
        "rawdata['월'] = rawdata['날짜'].map(lambda x: x.split('-')[1])\n",
        "rawdata['일'] = rawdata['날짜'].map(lambda x: x.split('-')[2])"
      ],
      "execution_count": null,
      "outputs": []
    },
    {
      "cell_type": "code",
      "metadata": {
        "id": "fZkr5nL_dVin"
      },
      "source": [
        "#지점, 날짜 컬럼 제거\n",
        "rawdata.drop(['지점', '날짜'], axis = 1, inplace = True)"
      ],
      "execution_count": null,
      "outputs": []
    },
    {
      "cell_type": "code",
      "metadata": {
        "colab": {
          "base_uri": "https://localhost:8080/",
          "height": 437
        },
        "id": "q5M9mIEPdWiv",
        "outputId": "36739c09-4b30-4f79-ac19-073947e70f6f"
      },
      "source": [
        "#년-월별 컬럼별 평균 확인\n",
        "rawdata.groupby(by = ['년', '월']).mean()"
      ],
      "execution_count": null,
      "outputs": [
        {
          "output_type": "execute_result",
          "data": {
            "text/html": [
              "<div>\n",
              "<style scoped>\n",
              "    .dataframe tbody tr th:only-of-type {\n",
              "        vertical-align: middle;\n",
              "    }\n",
              "\n",
              "    .dataframe tbody tr th {\n",
              "        vertical-align: top;\n",
              "    }\n",
              "\n",
              "    .dataframe thead th {\n",
              "        text-align: right;\n",
              "    }\n",
              "</style>\n",
              "<table border=\"1\" class=\"dataframe\">\n",
              "  <thead>\n",
              "    <tr style=\"text-align: right;\">\n",
              "      <th></th>\n",
              "      <th></th>\n",
              "      <th>평균기온(℃)</th>\n",
              "      <th>최저기온(℃)</th>\n",
              "      <th>최고기온(℃)</th>\n",
              "    </tr>\n",
              "    <tr>\n",
              "      <th>년</th>\n",
              "      <th>월</th>\n",
              "      <th></th>\n",
              "      <th></th>\n",
              "      <th></th>\n",
              "    </tr>\n",
              "  </thead>\n",
              "  <tbody>\n",
              "    <tr>\n",
              "      <th rowspan=\"3\" valign=\"top\">1907</th>\n",
              "      <th>10</th>\n",
              "      <td>13.896774</td>\n",
              "      <td>8.309677</td>\n",
              "      <td>20.216129</td>\n",
              "    </tr>\n",
              "    <tr>\n",
              "      <th>11</th>\n",
              "      <td>5.310000</td>\n",
              "      <td>0.643333</td>\n",
              "      <td>10.246667</td>\n",
              "    </tr>\n",
              "    <tr>\n",
              "      <th>12</th>\n",
              "      <td>-3.890323</td>\n",
              "      <td>-8.732258</td>\n",
              "      <td>0.780645</td>\n",
              "    </tr>\n",
              "    <tr>\n",
              "      <th rowspan=\"2\" valign=\"top\">1908</th>\n",
              "      <th>01</th>\n",
              "      <td>-3.464516</td>\n",
              "      <td>-7.506452</td>\n",
              "      <td>0.138710</td>\n",
              "    </tr>\n",
              "    <tr>\n",
              "      <th>02</th>\n",
              "      <td>-4.058621</td>\n",
              "      <td>-8.768966</td>\n",
              "      <td>0.810345</td>\n",
              "    </tr>\n",
              "    <tr>\n",
              "      <th>...</th>\n",
              "      <th>...</th>\n",
              "      <td>...</td>\n",
              "      <td>...</td>\n",
              "      <td>...</td>\n",
              "    </tr>\n",
              "    <tr>\n",
              "      <th rowspan=\"5\" valign=\"top\">2017</th>\n",
              "      <th>06</th>\n",
              "      <td>23.273333</td>\n",
              "      <td>18.706667</td>\n",
              "      <td>28.750000</td>\n",
              "    </tr>\n",
              "    <tr>\n",
              "      <th>07</th>\n",
              "      <td>26.922581</td>\n",
              "      <td>24.309677</td>\n",
              "      <td>30.393548</td>\n",
              "    </tr>\n",
              "    <tr>\n",
              "      <th>08</th>\n",
              "      <td>25.916129</td>\n",
              "      <td>22.893548</td>\n",
              "      <td>29.654839</td>\n",
              "    </tr>\n",
              "    <tr>\n",
              "      <th>09</th>\n",
              "      <td>22.103333</td>\n",
              "      <td>17.483333</td>\n",
              "      <td>27.433333</td>\n",
              "    </tr>\n",
              "    <tr>\n",
              "      <th>10</th>\n",
              "      <td>18.200000</td>\n",
              "      <td>15.500000</td>\n",
              "      <td>21.200000</td>\n",
              "    </tr>\n",
              "  </tbody>\n",
              "</table>\n",
              "<p>1282 rows × 3 columns</p>\n",
              "</div>"
            ],
            "text/plain": [
              "           평균기온(℃)    최저기온(℃)    최고기온(℃)\n",
              "년    월                                  \n",
              "1907 10  13.896774   8.309677  20.216129\n",
              "     11   5.310000   0.643333  10.246667\n",
              "     12  -3.890323  -8.732258   0.780645\n",
              "1908 01  -3.464516  -7.506452   0.138710\n",
              "     02  -4.058621  -8.768966   0.810345\n",
              "...            ...        ...        ...\n",
              "2017 06  23.273333  18.706667  28.750000\n",
              "     07  26.922581  24.309677  30.393548\n",
              "     08  25.916129  22.893548  29.654839\n",
              "     09  22.103333  17.483333  27.433333\n",
              "     10  18.200000  15.500000  21.200000\n",
              "\n",
              "[1282 rows x 3 columns]"
            ]
          },
          "metadata": {
            "tags": []
          },
          "execution_count": 33
        }
      ]
    },
    {
      "cell_type": "code",
      "metadata": {
        "colab": {
          "base_uri": "https://localhost:8080/"
        },
        "id": "CFiWqanydXeP",
        "outputId": "ade989a3-9ed4-4140-a285-396c46e9dc38"
      },
      "source": [
        "#2000년 1월의 가장 높은 최저기온\n",
        "rawdata.groupby(['년', '월']).max().loc['2000']['최저기온(℃)'].loc['01']"
      ],
      "execution_count": null,
      "outputs": [
        {
          "output_type": "execute_result",
          "data": {
            "text/plain": [
              "2.6"
            ]
          },
          "metadata": {
            "tags": []
          },
          "execution_count": 34
        }
      ]
    },
    {
      "cell_type": "code",
      "metadata": {
        "id": "Updqt9P4d4eD"
      },
      "source": [
        ""
      ],
      "execution_count": null,
      "outputs": []
    }
  ]
}