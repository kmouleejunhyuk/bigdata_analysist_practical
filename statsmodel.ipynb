{
  "nbformat": 4,
  "nbformat_minor": 0,
  "metadata": {
    "colab": {
      "name": "statsmodel.ipynb",
      "provenance": [],
      "authorship_tag": "ABX9TyNWz0Itmsy3vWxVGQU59YZZ",
      "include_colab_link": true
    },
    "kernelspec": {
      "name": "python3",
      "display_name": "Python 3"
    },
    "language_info": {
      "name": "python"
    }
  },
  "cells": [
    {
      "cell_type": "markdown",
      "metadata": {
        "id": "view-in-github",
        "colab_type": "text"
      },
      "source": [
        "<a href=\"https://colab.research.google.com/github/kmouleejunhyuk/bigdata_analysist_practical/blob/main/statsmodel.ipynb\" target=\"_parent\"><img src=\"https://colab.research.google.com/assets/colab-badge.svg\" alt=\"Open In Colab\"/></a>"
      ]
    },
    {
      "cell_type": "code",
      "metadata": {
        "colab": {
          "base_uri": "https://localhost:8080/"
        },
        "id": "DcuVQttNZVaz",
        "outputId": "f26cc5a9-8cb0-4111-db8d-e0527a49317a"
      },
      "source": [
        "#prepare data\n",
        "from google.colab import drive\n",
        "drive.mount('/gdrive')"
      ],
      "execution_count": 1,
      "outputs": [
        {
          "output_type": "stream",
          "text": [
            "Mounted at /gdrive\n"
          ],
          "name": "stdout"
        }
      ]
    },
    {
      "cell_type": "code",
      "metadata": {
        "id": "mVqum2cULtUQ"
      },
      "source": [
        "#@title  { display-mode: \"both\" }\n",
        "# 단계 1: 폰트 설치\n",
        "import matplotlib.font_manager as fm\n",
        "\n",
        "!apt-get -qq -y install fonts-nanum > /dev/null\n",
        "fontpath = '/usr/share/fonts/truetype/nanum/NanumBarunGothic.ttf'\n",
        "font = fm.FontProperties(fname=fontpath, size=9)\n",
        "fm._rebuild() "
      ],
      "execution_count": 2,
      "outputs": []
    },
    {
      "cell_type": "code",
      "metadata": {
        "id": "AF1HZ27cLy2g"
      },
      "source": [
        "#@title\n",
        "# 단계 2: 런타임 재시작\n",
        "import os\n",
        "os.kill(os.getpid(), 9)"
      ],
      "execution_count": null,
      "outputs": []
    },
    {
      "cell_type": "code",
      "metadata": {
        "id": "RHBDLIlFL3_o"
      },
      "source": [
        "#@title\n",
        "# 단계 3: 한글 폰트 설정\n",
        "import matplotlib.pyplot as plt\n",
        "import matplotlib as mpl\n",
        "import matplotlib.font_manager as fm\n",
        "\n",
        "# 마이너스 표시 문제\n",
        "mpl.rcParams['axes.unicode_minus'] = False\n",
        "\t\n",
        "# 한글 폰트 설정\n",
        "path = '/usr/share/fonts/truetype/nanum/NanumGothicBold.ttf'\n",
        "font_name = fm.FontProperties(fname=path, size=18).get_name()\n",
        "plt.rc('font', family=font_name)\n",
        "fm._rebuild() "
      ],
      "execution_count": 1,
      "outputs": []
    },
    {
      "cell_type": "code",
      "metadata": {
        "id": "r84PjdNPZxC9"
      },
      "source": [
        "PATH ='/gdrive/MyDrive/big_2021/data/ADP'\n",
        "SEED = 49"
      ],
      "execution_count": 2,
      "outputs": []
    },
    {
      "cell_type": "code",
      "metadata": {
        "id": "plS9BbcYZ-I9"
      },
      "source": [
        "import pandas as pd\n",
        "import numpy as np\n",
        "import collections\n",
        "import sklearn\n",
        "import statsmodels.api as stats"
      ],
      "execution_count": 25,
      "outputs": []
    },
    {
      "cell_type": "code",
      "metadata": {
        "id": "0fKjPRUoZ4tD"
      },
      "source": [
        "rawdata = pd.read_csv(PATH + '/PART 05 실습용 데이터/credit_final.csv', encoding = 'cp949')"
      ],
      "execution_count": 4,
      "outputs": []
    },
    {
      "cell_type": "code",
      "metadata": {
        "colab": {
          "base_uri": "https://localhost:8080/",
          "height": 218
        },
        "id": "hNDPDobBKC5g",
        "outputId": "060f42ff-7565-4b79-aa6e-89f18dffdf04"
      },
      "source": [
        "rawdata.head()"
      ],
      "execution_count": 65,
      "outputs": [
        {
          "output_type": "execute_result",
          "data": {
            "text/html": [
              "<div>\n",
              "<style scoped>\n",
              "    .dataframe tbody tr th:only-of-type {\n",
              "        vertical-align: middle;\n",
              "    }\n",
              "\n",
              "    .dataframe tbody tr th {\n",
              "        vertical-align: top;\n",
              "    }\n",
              "\n",
              "    .dataframe thead th {\n",
              "        text-align: right;\n",
              "    }\n",
              "</style>\n",
              "<table border=\"1\" class=\"dataframe\">\n",
              "  <thead>\n",
              "    <tr style=\"text-align: right;\">\n",
              "      <th></th>\n",
              "      <th>credit.rating</th>\n",
              "      <th>account.balance</th>\n",
              "      <th>credit.duration.months</th>\n",
              "      <th>previous.credit.payment.status</th>\n",
              "      <th>credit.purpose</th>\n",
              "      <th>credit.amount</th>\n",
              "      <th>savings</th>\n",
              "      <th>employment.duration</th>\n",
              "      <th>installment.rate</th>\n",
              "      <th>marital.status</th>\n",
              "      <th>guarantor</th>\n",
              "      <th>residence.duration</th>\n",
              "      <th>current.assets</th>\n",
              "      <th>age</th>\n",
              "      <th>other.credits</th>\n",
              "      <th>apartment.type</th>\n",
              "      <th>bank.credits</th>\n",
              "      <th>occupation</th>\n",
              "      <th>dependents</th>\n",
              "      <th>telephone</th>\n",
              "      <th>foreign.worker</th>\n",
              "    </tr>\n",
              "  </thead>\n",
              "  <tbody>\n",
              "    <tr>\n",
              "      <th>0</th>\n",
              "      <td>1</td>\n",
              "      <td>1</td>\n",
              "      <td>18</td>\n",
              "      <td>3</td>\n",
              "      <td>2</td>\n",
              "      <td>1049</td>\n",
              "      <td>1</td>\n",
              "      <td>1</td>\n",
              "      <td>4</td>\n",
              "      <td>1</td>\n",
              "      <td>1</td>\n",
              "      <td>4</td>\n",
              "      <td>2</td>\n",
              "      <td>21</td>\n",
              "      <td>2</td>\n",
              "      <td>1</td>\n",
              "      <td>1</td>\n",
              "      <td>3</td>\n",
              "      <td>1</td>\n",
              "      <td>1</td>\n",
              "      <td>1</td>\n",
              "    </tr>\n",
              "    <tr>\n",
              "      <th>1</th>\n",
              "      <td>1</td>\n",
              "      <td>1</td>\n",
              "      <td>9</td>\n",
              "      <td>3</td>\n",
              "      <td>4</td>\n",
              "      <td>2799</td>\n",
              "      <td>1</td>\n",
              "      <td>2</td>\n",
              "      <td>2</td>\n",
              "      <td>3</td>\n",
              "      <td>1</td>\n",
              "      <td>2</td>\n",
              "      <td>1</td>\n",
              "      <td>36</td>\n",
              "      <td>2</td>\n",
              "      <td>1</td>\n",
              "      <td>2</td>\n",
              "      <td>3</td>\n",
              "      <td>2</td>\n",
              "      <td>1</td>\n",
              "      <td>1</td>\n",
              "    </tr>\n",
              "    <tr>\n",
              "      <th>2</th>\n",
              "      <td>1</td>\n",
              "      <td>2</td>\n",
              "      <td>12</td>\n",
              "      <td>2</td>\n",
              "      <td>4</td>\n",
              "      <td>841</td>\n",
              "      <td>2</td>\n",
              "      <td>3</td>\n",
              "      <td>2</td>\n",
              "      <td>1</td>\n",
              "      <td>1</td>\n",
              "      <td>4</td>\n",
              "      <td>1</td>\n",
              "      <td>23</td>\n",
              "      <td>2</td>\n",
              "      <td>1</td>\n",
              "      <td>1</td>\n",
              "      <td>2</td>\n",
              "      <td>1</td>\n",
              "      <td>1</td>\n",
              "      <td>1</td>\n",
              "    </tr>\n",
              "    <tr>\n",
              "      <th>3</th>\n",
              "      <td>1</td>\n",
              "      <td>1</td>\n",
              "      <td>12</td>\n",
              "      <td>3</td>\n",
              "      <td>4</td>\n",
              "      <td>2122</td>\n",
              "      <td>1</td>\n",
              "      <td>2</td>\n",
              "      <td>3</td>\n",
              "      <td>3</td>\n",
              "      <td>1</td>\n",
              "      <td>2</td>\n",
              "      <td>1</td>\n",
              "      <td>39</td>\n",
              "      <td>2</td>\n",
              "      <td>1</td>\n",
              "      <td>2</td>\n",
              "      <td>2</td>\n",
              "      <td>2</td>\n",
              "      <td>1</td>\n",
              "      <td>2</td>\n",
              "    </tr>\n",
              "    <tr>\n",
              "      <th>4</th>\n",
              "      <td>1</td>\n",
              "      <td>1</td>\n",
              "      <td>12</td>\n",
              "      <td>3</td>\n",
              "      <td>4</td>\n",
              "      <td>2171</td>\n",
              "      <td>1</td>\n",
              "      <td>2</td>\n",
              "      <td>4</td>\n",
              "      <td>3</td>\n",
              "      <td>1</td>\n",
              "      <td>4</td>\n",
              "      <td>2</td>\n",
              "      <td>38</td>\n",
              "      <td>1</td>\n",
              "      <td>2</td>\n",
              "      <td>2</td>\n",
              "      <td>2</td>\n",
              "      <td>1</td>\n",
              "      <td>1</td>\n",
              "      <td>2</td>\n",
              "    </tr>\n",
              "  </tbody>\n",
              "</table>\n",
              "</div>"
            ],
            "text/plain": [
              "   credit.rating  account.balance  ...  telephone  foreign.worker\n",
              "0              1                1  ...          1               1\n",
              "1              1                1  ...          1               1\n",
              "2              1                2  ...          1               1\n",
              "3              1                1  ...          1               2\n",
              "4              1                1  ...          1               2\n",
              "\n",
              "[5 rows x 21 columns]"
            ]
          },
          "metadata": {
            "tags": []
          },
          "execution_count": 65
        }
      ]
    },
    {
      "cell_type": "markdown",
      "metadata": {
        "id": "_mtDRRBqTgAK"
      },
      "source": [
        "회귀분석"
      ]
    },
    {
      "cell_type": "code",
      "metadata": {
        "id": "4YU-_R0YXHl8"
      },
      "source": [
        "col = [(s, s.replace('.', '_')) for s in rawdata.columns]"
      ],
      "execution_count": 64,
      "outputs": []
    },
    {
      "cell_type": "code",
      "metadata": {
        "id": "kfQeIl7JXpaa"
      },
      "source": [
        "r_modified = rawdata.rename(dict(col), axis = 1)"
      ],
      "execution_count": 62,
      "outputs": []
    },
    {
      "cell_type": "code",
      "metadata": {
        "id": "jNR3r-JrLfj8"
      },
      "source": [
        "from sklearn.model_selection import train_test_split\n",
        "train, test = train_test_split(r_modified, random_state = SEED, test_size = 0.2, shuffle = True)"
      ],
      "execution_count": 66,
      "outputs": []
    },
    {
      "cell_type": "code",
      "metadata": {
        "colab": {
          "base_uri": "https://localhost:8080/"
        },
        "id": "yclcNPy_M5xn",
        "outputId": "e9d8a6df-0931-4c05-e01b-947723625991"
      },
      "source": [
        "train.shape, test.shape"
      ],
      "execution_count": 67,
      "outputs": [
        {
          "output_type": "execute_result",
          "data": {
            "text/plain": [
              "((800, 21), (200, 21))"
            ]
          },
          "metadata": {
            "tags": []
          },
          "execution_count": 67
        }
      ]
    },
    {
      "cell_type": "code",
      "metadata": {
        "id": "ZmRXCS3BVO9p"
      },
      "source": [
        "x_var = \" + \".join(train.columns[1:])"
      ],
      "execution_count": 69,
      "outputs": []
    },
    {
      "cell_type": "code",
      "metadata": {
        "colab": {
          "base_uri": "https://localhost:8080/"
        },
        "id": "XxeiOdmJTfmh",
        "outputId": "0c852dc8-5d98-4ef5-dc43-9febe19ed210"
      },
      "source": [
        "reg = stats.OLS.from_formula(\"credit_rating ~ \" + x_var, data = train)\n",
        "print(reg.fit().summary())"
      ],
      "execution_count": 71,
      "outputs": [
        {
          "output_type": "stream",
          "text": [
            "                            OLS Regression Results                            \n",
            "==============================================================================\n",
            "Dep. Variable:          credit_rating   R-squared:                       0.269\n",
            "Model:                            OLS   Adj. R-squared:                  0.250\n",
            "Method:                 Least Squares   F-statistic:                     14.34\n",
            "Date:                Sun, 09 May 2021   Prob (F-statistic):           4.81e-41\n",
            "Time:                        09:10:01   Log-Likelihood:                -387.41\n",
            "No. Observations:                 800   AIC:                             816.8\n",
            "Df Residuals:                     779   BIC:                             915.2\n",
            "Df Model:                          20                                         \n",
            "Covariance Type:            nonrobust                                         \n",
            "==================================================================================================\n",
            "                                     coef    std err          t      P>|t|      [0.025      0.975]\n",
            "--------------------------------------------------------------------------------------------------\n",
            "Intercept                          0.1234      0.180      0.686      0.493      -0.230       0.477\n",
            "account_balance                    0.1556      0.018      8.755      0.000       0.121       0.190\n",
            "credit_duration_months            -0.0047      0.002     -2.787      0.005      -0.008      -0.001\n",
            "previous_credit_payment_status     0.1101      0.027      4.078      0.000       0.057       0.163\n",
            "credit_purpose                    -0.0559      0.015     -3.769      0.000      -0.085      -0.027\n",
            "credit_amount                  -1.408e-05   7.94e-06     -1.774      0.076   -2.97e-05     1.5e-06\n",
            "savings                            0.0461      0.012      3.705      0.000       0.022       0.071\n",
            "employment_duration                0.0286      0.014      1.984      0.048       0.000       0.057\n",
            "installment_rate                  -0.0505      0.015     -3.481      0.001      -0.079      -0.022\n",
            "marital_status                     0.0299      0.014      2.110      0.035       0.002       0.058\n",
            "guarantor                          0.0105      0.052      0.202      0.840      -0.091       0.112\n",
            "residence_duration                -0.0148      0.014     -1.062      0.289      -0.042       0.013\n",
            "current_assets                    -0.0328      0.016     -2.066      0.039      -0.064      -0.002\n",
            "age                                0.0017      0.001      1.218      0.224      -0.001       0.005\n",
            "other_credits                      0.0724      0.038      1.889      0.059      -0.003       0.148\n",
            "apartment_type                     0.0565      0.030      1.870      0.062      -0.003       0.116\n",
            "bank_credits                      -0.0556      0.034     -1.641      0.101      -0.122       0.011\n",
            "occupation                        -0.0230      0.026     -0.902      0.367      -0.073       0.027\n",
            "dependents                        -0.0368      0.041     -0.902      0.367      -0.117       0.043\n",
            "telephone                          0.0559      0.032      1.733      0.083      -0.007       0.119\n",
            "foreign_worker                     0.1238      0.074      1.662      0.097      -0.022       0.270\n",
            "==============================================================================\n",
            "Omnibus:                       57.262   Durbin-Watson:                   1.982\n",
            "Prob(Omnibus):                  0.000   Jarque-Bera (JB):               53.385\n",
            "Skew:                          -0.570   Prob(JB):                     2.56e-12\n",
            "Kurtosis:                       2.452   Cond. No.                     5.52e+04\n",
            "==============================================================================\n",
            "\n",
            "Warnings:\n",
            "[1] Standard Errors assume that the covariance matrix of the errors is correctly specified.\n",
            "[2] The condition number is large, 5.52e+04. This might indicate that there are\n",
            "strong multicollinearity or other numerical problems.\n"
          ],
          "name": "stdout"
        }
      ]
    },
    {
      "cell_type": "markdown",
      "metadata": {
        "id": "gROUPDZhTkKJ"
      },
      "source": [
        "로지스틱회귀분석"
      ]
    },
    {
      "cell_type": "code",
      "metadata": {
        "id": "MfPLEePBYuN4"
      },
      "source": [
        "from sklearn.model_selection import train_test_split\n",
        "train, test = train_test_split(rawdata, random_state = SEED, test_size = 0.2, shuffle = True)"
      ],
      "execution_count": 111,
      "outputs": []
    },
    {
      "cell_type": "code",
      "metadata": {
        "colab": {
          "base_uri": "https://localhost:8080/"
        },
        "id": "gHap_tfVYuN5",
        "outputId": "af7e3e16-1130-4115-ab6f-4da18ada9c68"
      },
      "source": [
        "train.shape, test.shape"
      ],
      "execution_count": 112,
      "outputs": [
        {
          "output_type": "execute_result",
          "data": {
            "text/plain": [
              "((800, 21), (200, 21))"
            ]
          },
          "metadata": {
            "tags": []
          },
          "execution_count": 112
        }
      ]
    },
    {
      "cell_type": "code",
      "metadata": {
        "id": "BVWxEqsHeei8"
      },
      "source": [
        "y_train = train['credit.rating']\n",
        "x_train = train.loc[:, train.columns != 'credit.rating']"
      ],
      "execution_count": 113,
      "outputs": []
    },
    {
      "cell_type": "code",
      "metadata": {
        "colab": {
          "base_uri": "https://localhost:8080/"
        },
        "id": "TIKoBNMzMnUo",
        "outputId": "69a319bb-45a6-4ec0-e3d5-06dd1c6443ef"
      },
      "source": [
        "log_reg = stats.Logit(y_train, x_train).fit()"
      ],
      "execution_count": 114,
      "outputs": [
        {
          "output_type": "stream",
          "text": [
            "Optimization terminated successfully.\n",
            "         Current function value: 0.465654\n",
            "         Iterations 6\n"
          ],
          "name": "stdout"
        }
      ]
    },
    {
      "cell_type": "code",
      "metadata": {
        "colab": {
          "base_uri": "https://localhost:8080/"
        },
        "id": "cDT5WK6oOvcF",
        "outputId": "4b31b007-b5d7-4fd4-9f98-646570afcd2b"
      },
      "source": [
        "print(log_reg.summary2())"
      ],
      "execution_count": 129,
      "outputs": [
        {
          "output_type": "stream",
          "text": [
            "                                Results: Logit\n",
            "==============================================================================\n",
            "Model:                   Logit                Pseudo R-squared:     0.240     \n",
            "Dependent Variable:      credit.rating        AIC:                  785.0460  \n",
            "Date:                    2021-05-09 10:18     BIC:                  878.7383  \n",
            "No. Observations:        800                  Log-Likelihood:       -372.52   \n",
            "Df Model:                19                   LL-Null:              -490.37   \n",
            "Df Residuals:            780                  LLR p-value:          2.3979e-39\n",
            "Converged:               1.0000               Scale:                1.0000    \n",
            "No. Iterations:          6.0000                                               \n",
            "------------------------------------------------------------------------------\n",
            "                                Coef.  Std.Err.    z    P>|z|   [0.025  0.975]\n",
            "------------------------------------------------------------------------------\n",
            "account.balance                 0.8516   0.1115  7.6398 0.0000  0.6331  1.0701\n",
            "credit.duration.months         -0.0287   0.0101 -2.8488 0.0044 -0.0485 -0.0090\n",
            "previous.credit.payment.status  0.5827   0.1703  3.4222 0.0006  0.2490  0.9165\n",
            "credit.purpose                 -0.4238   0.0967 -4.3823 0.0000 -0.6133 -0.2342\n",
            "credit.amount                  -0.0001   0.0000 -1.8034 0.0713 -0.0002  0.0000\n",
            "savings                         0.3234   0.0882  3.6683 0.0002  0.1506  0.4962\n",
            "employment.duration             0.1733   0.0930  1.8625 0.0625 -0.0091  0.3557\n",
            "installment.rate               -0.3692   0.0944 -3.9131 0.0001 -0.5541 -0.1843\n",
            "marital.status                  0.2014   0.0916  2.1976 0.0280  0.0218  0.3810\n",
            "guarantor                      -0.2506   0.2970 -0.8439 0.3987 -0.8327  0.3315\n",
            "residence.duration             -0.1188   0.0888 -1.3375 0.1811 -0.2928  0.0553\n",
            "current.assets                 -0.2049   0.1037 -1.9750 0.0483 -0.4083 -0.0016\n",
            "age                             0.0125   0.0094  1.3329 0.1826 -0.0059  0.0309\n",
            "other.credits                   0.2715   0.2158  1.2584 0.2083 -0.1514  0.6944\n",
            "apartment.type                  0.2616   0.1896  1.3800 0.1676 -0.1099  0.6331\n",
            "bank.credits                   -0.3495   0.2170 -1.6104 0.1073 -0.7749  0.0759\n",
            "occupation                     -0.2745   0.1559 -1.7605 0.0783 -0.5801  0.0311\n",
            "dependents                     -0.3638   0.2542 -1.4314 0.1523 -0.8620  0.1343\n",
            "telephone                       0.3230   0.2133  1.5141 0.1300 -0.0951  0.7412\n",
            "foreign.worker                  0.5675   0.4959  1.1445 0.2524 -0.4044  1.5394\n",
            "==============================================================================\n",
            "\n"
          ],
          "name": "stdout"
        }
      ]
    },
    {
      "cell_type": "code",
      "metadata": {
        "id": "PRVmo8u8hOfV"
      },
      "source": [
        "y_test = test['credit.rating']\n",
        "x_test = test.loc[:, test.columns != 'credit.rating']"
      ],
      "execution_count": 116,
      "outputs": []
    },
    {
      "cell_type": "code",
      "metadata": {
        "colab": {
          "base_uri": "https://localhost:8080/"
        },
        "id": "gZ5yzBQ1QCor",
        "outputId": "9d4f0358-29fa-41f0-d350-e713dd138b2d"
      },
      "source": [
        "from sklearn.metrics import roc_auc_score\n",
        "y_hat = log_reg.predict(x_test)\n",
        "p = [1 if x > 0.7 else 0 for x in log_reg_sel.predict(x_test[selected]).values]\n",
        "print(roc_auc_score(y_test, p))"
      ],
      "execution_count": 125,
      "outputs": [
        {
          "output_type": "stream",
          "text": [
            "0.6934191355026712\n"
          ],
          "name": "stdout"
        }
      ]
    },
    {
      "cell_type": "markdown",
      "metadata": {
        "id": "74XqHPGchnzi"
      },
      "source": [
        "로지스틱_변수 제외"
      ]
    },
    {
      "cell_type": "code",
      "metadata": {
        "id": "HlzkXsTChZY-"
      },
      "source": [
        "selected = [x for x in train.columns if x not in ['credit.rating', 'credit_amount', 'employment.duration', 'guarantor', 'residence.duration', 'age', 'other.credits', 'apartment.type', 'bank_credits', 'occupation', 'dependents', 'telephone', 'foreign.worker']]\n",
        "y_train = train['credit.rating']\n",
        "x_train = train[selected]"
      ],
      "execution_count": 126,
      "outputs": []
    },
    {
      "cell_type": "code",
      "metadata": {
        "colab": {
          "base_uri": "https://localhost:8080/"
        },
        "id": "tvCh--G2ijju",
        "outputId": "6001d1cf-4d7d-483f-9d66-98a971d1d64c"
      },
      "source": [
        "log_reg_sel = stats.Logit(y_train, x_train).fit()\n",
        "print(log_reg_sel.summary())\n",
        "y_hat = log_reg_sel.predict(x_test[selected])\n",
        "p = [1 if x > 0.7 else 0 for x in log_reg_sel.predict(x_test[selected]).values]\n",
        "print(roc_auc_score(y_test, p))"
      ],
      "execution_count": 132,
      "outputs": [
        {
          "output_type": "stream",
          "text": [
            "Optimization terminated successfully.\n",
            "         Current function value: 0.477132\n",
            "         Iterations 6\n",
            "                           Logit Regression Results                           \n",
            "==============================================================================\n",
            "Dep. Variable:          credit.rating   No. Observations:                  800\n",
            "Model:                          Logit   Df Residuals:                      790\n",
            "Method:                           MLE   Df Model:                            9\n",
            "Date:                Sun, 09 May 2021   Pseudo R-squ.:                  0.2216\n",
            "Time:                        10:19:25   Log-Likelihood:                -381.71\n",
            "converged:                       True   LL-Null:                       -490.37\n",
            "Covariance Type:            nonrobust   LLR p-value:                 7.598e-42\n",
            "==================================================================================================\n",
            "                                     coef    std err          z      P>|z|      [0.025      0.975]\n",
            "--------------------------------------------------------------------------------------------------\n",
            "account.balance                    0.8751      0.108      8.121      0.000       0.664       1.086\n",
            "credit.duration.months            -0.0298      0.010     -3.013      0.003      -0.049      -0.010\n",
            "previous.credit.payment.status     0.7209      0.151      4.778      0.000       0.425       1.017\n",
            "credit.purpose                    -0.3537      0.087     -4.064      0.000      -0.524      -0.183\n",
            "credit.amount                  -7.698e-05   4.52e-05     -1.703      0.089      -0.000    1.16e-05\n",
            "savings                            0.3530      0.085      4.145      0.000       0.186       0.520\n",
            "installment.rate                  -0.3160      0.086     -3.661      0.000      -0.485      -0.147\n",
            "marital.status                     0.2435      0.084      2.894      0.004       0.079       0.408\n",
            "current.assets                    -0.1531      0.088     -1.732      0.083      -0.326       0.020\n",
            "bank.credits                      -0.3352      0.211     -1.591      0.112      -0.748       0.078\n",
            "==================================================================================================\n",
            "0.6934191355026712\n"
          ],
          "name": "stdout"
        }
      ]
    },
    {
      "cell_type": "code",
      "metadata": {
        "id": "1nOSmOrMkAhl"
      },
      "source": [
        ""
      ],
      "execution_count": null,
      "outputs": []
    }
  ]
}