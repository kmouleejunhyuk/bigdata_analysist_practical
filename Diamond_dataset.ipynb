{
  "nbformat": 4,
  "nbformat_minor": 0,
  "metadata": {
    "colab": {
      "name": "Diamond dataset.ipynb",
      "provenance": [],
      "authorship_tag": "ABX9TyP8qvWOHwTh08HT8OiwA6Fv",
      "include_colab_link": true
    },
    "kernelspec": {
      "name": "python3",
      "display_name": "Python 3"
    },
    "language_info": {
      "name": "python"
    }
  },
  "cells": [
    {
      "cell_type": "markdown",
      "metadata": {
        "id": "view-in-github",
        "colab_type": "text"
      },
      "source": [
        "<a href=\"https://colab.research.google.com/github/kmouleejunhyuk/bigdata_analysist_practical/blob/main/Diamond_dataset.ipynb\" target=\"_parent\"><img src=\"https://colab.research.google.com/assets/colab-badge.svg\" alt=\"Open In Colab\"/></a>"
      ]
    },
    {
      "cell_type": "code",
      "metadata": {
        "id": "2S3UdBG7X1ZV"
      },
      "source": [
        "import pandas as pd\n",
        "import statsmodels\n",
        "import scipy"
      ],
      "execution_count": null,
      "outputs": []
    },
    {
      "cell_type": "code",
      "metadata": {
        "id": "nJzR_c6YXu9H"
      },
      "source": [
        "df = pd.read_csv('https://raw.githubusercontent.com/Datamanim/dataq/main/diamonds.csv',index_col=0)"
      ],
      "execution_count": null,
      "outputs": []
    },
    {
      "cell_type": "markdown",
      "metadata": {
        "id": "HjVwGt3EmBsc"
      },
      "source": [
        "#EDA"
      ]
    },
    {
      "cell_type": "code",
      "metadata": {
        "colab": {
          "base_uri": "https://localhost:8080/",
          "height": 198
        },
        "id": "IPxObXATYSX9",
        "outputId": "28554d1b-d613-4f4f-c21f-fe2b41d3ee7a"
      },
      "source": [
        "df.head()"
      ],
      "execution_count": null,
      "outputs": [
        {
          "output_type": "execute_result",
          "data": {
            "text/html": [
              "<div>\n",
              "<style scoped>\n",
              "    .dataframe tbody tr th:only-of-type {\n",
              "        vertical-align: middle;\n",
              "    }\n",
              "\n",
              "    .dataframe tbody tr th {\n",
              "        vertical-align: top;\n",
              "    }\n",
              "\n",
              "    .dataframe thead th {\n",
              "        text-align: right;\n",
              "    }\n",
              "</style>\n",
              "<table border=\"1\" class=\"dataframe\">\n",
              "  <thead>\n",
              "    <tr style=\"text-align: right;\">\n",
              "      <th></th>\n",
              "      <th>carat</th>\n",
              "      <th>cut</th>\n",
              "      <th>color</th>\n",
              "      <th>clarity</th>\n",
              "      <th>depth</th>\n",
              "      <th>table</th>\n",
              "      <th>price</th>\n",
              "      <th>x</th>\n",
              "      <th>y</th>\n",
              "      <th>z</th>\n",
              "    </tr>\n",
              "  </thead>\n",
              "  <tbody>\n",
              "    <tr>\n",
              "      <th>1</th>\n",
              "      <td>0.23</td>\n",
              "      <td>Ideal</td>\n",
              "      <td>E</td>\n",
              "      <td>SI2</td>\n",
              "      <td>61.5</td>\n",
              "      <td>55.0</td>\n",
              "      <td>326</td>\n",
              "      <td>3.95</td>\n",
              "      <td>3.98</td>\n",
              "      <td>2.43</td>\n",
              "    </tr>\n",
              "    <tr>\n",
              "      <th>2</th>\n",
              "      <td>0.21</td>\n",
              "      <td>Premium</td>\n",
              "      <td>E</td>\n",
              "      <td>SI1</td>\n",
              "      <td>59.8</td>\n",
              "      <td>61.0</td>\n",
              "      <td>326</td>\n",
              "      <td>3.89</td>\n",
              "      <td>3.84</td>\n",
              "      <td>2.31</td>\n",
              "    </tr>\n",
              "    <tr>\n",
              "      <th>3</th>\n",
              "      <td>0.23</td>\n",
              "      <td>Good</td>\n",
              "      <td>E</td>\n",
              "      <td>VS1</td>\n",
              "      <td>56.9</td>\n",
              "      <td>65.0</td>\n",
              "      <td>327</td>\n",
              "      <td>4.05</td>\n",
              "      <td>4.07</td>\n",
              "      <td>2.31</td>\n",
              "    </tr>\n",
              "    <tr>\n",
              "      <th>4</th>\n",
              "      <td>0.29</td>\n",
              "      <td>Premium</td>\n",
              "      <td>I</td>\n",
              "      <td>VS2</td>\n",
              "      <td>62.4</td>\n",
              "      <td>58.0</td>\n",
              "      <td>334</td>\n",
              "      <td>4.20</td>\n",
              "      <td>4.23</td>\n",
              "      <td>2.63</td>\n",
              "    </tr>\n",
              "    <tr>\n",
              "      <th>5</th>\n",
              "      <td>0.31</td>\n",
              "      <td>Good</td>\n",
              "      <td>J</td>\n",
              "      <td>SI2</td>\n",
              "      <td>63.3</td>\n",
              "      <td>58.0</td>\n",
              "      <td>335</td>\n",
              "      <td>4.34</td>\n",
              "      <td>4.35</td>\n",
              "      <td>2.75</td>\n",
              "    </tr>\n",
              "  </tbody>\n",
              "</table>\n",
              "</div>"
            ],
            "text/plain": [
              "   carat      cut color clarity  depth  table  price     x     y     z\n",
              "1   0.23    Ideal     E     SI2   61.5   55.0    326  3.95  3.98  2.43\n",
              "2   0.21  Premium     E     SI1   59.8   61.0    326  3.89  3.84  2.31\n",
              "3   0.23     Good     E     VS1   56.9   65.0    327  4.05  4.07  2.31\n",
              "4   0.29  Premium     I     VS2   62.4   58.0    334  4.20  4.23  2.63\n",
              "5   0.31     Good     J     SI2   63.3   58.0    335  4.34  4.35  2.75"
            ]
          },
          "metadata": {
            "tags": []
          },
          "execution_count": 9
        }
      ]
    },
    {
      "cell_type": "code",
      "metadata": {
        "colab": {
          "base_uri": "https://localhost:8080/",
          "height": 297
        },
        "id": "pRa3Wb5AXxuv",
        "outputId": "2cce1d0d-ebb0-4dab-84ff-37d6c94789fe"
      },
      "source": [
        "df.plot.scatter(x = 'carat', y = 'price')"
      ],
      "execution_count": null,
      "outputs": [
        {
          "output_type": "execute_result",
          "data": {
            "text/plain": [
              "<matplotlib.axes._subplots.AxesSubplot at 0x7fe9bbc7ce10>"
            ]
          },
          "metadata": {
            "tags": []
          },
          "execution_count": 10
        },
        {
          "output_type": "display_data",
          "data": {
            "image/png": "[encoded data removed]",
            "text/plain": [
              "<Figure size 432x288 with 1 Axes>"
            ]
          },
          "metadata": {
            "tags": [],
            "needs_background": "light"
          }
        }
      ]
    },
    {
      "cell_type": "markdown",
      "metadata": {
        "id": "RUNLCsZqi5w6"
      },
      "source": [
        "#carat과 price사이의 상관계수와 상관계수의 p-value값은?\n",
        "\n"
      ]
    },
    {
      "cell_type": "code",
      "metadata": {
        "colab": {
          "base_uri": "https://localhost:8080/"
        },
        "id": "JpRjEncOYGtL",
        "outputId": "fa3f44f8-1f85-447d-8862-e08939ba8b18"
      },
      "source": [
        "df.corr().loc['carat', 'price']"
      ],
      "execution_count": null,
      "outputs": [
        {
          "output_type": "execute_result",
          "data": {
            "text/plain": [
              "0.9215913011935697"
            ]
          },
          "metadata": {
            "tags": []
          },
          "execution_count": 12
        }
      ]
    },
    {
      "cell_type": "code",
      "metadata": {
        "id": "AtSaWsqGYnGZ"
      },
      "source": [
        "from scipy import stats"
      ],
      "execution_count": null,
      "outputs": []
    },
    {
      "cell_type": "code",
      "metadata": {
        "colab": {
          "base_uri": "https://localhost:8080/"
        },
        "id": "MZfd_niRY-J2",
        "outputId": "9532f31c-51c7-47d7-d49d-769c59bd74a8"
      },
      "source": [
        "correlation, pvalue = stats.pearsonr(df['carat'], df['price'])\n",
        "print(f'corr : {correlation}, pv : {pvalue}')"
      ],
      "execution_count": null,
      "outputs": [
        {
          "output_type": "stream",
          "text": [
            "corr : 0.9215913011934771, pv : 0.0\n"
          ],
          "name": "stdout"
        }
      ]
    },
    {
      "cell_type": "code",
      "metadata": {
        "id": "tYQzTnw-qT6-"
      },
      "source": [
        "#즉 캐럿과 가격의 상관계수는 0.92이며\n",
        "#귀무가설: 상관계수는 유의미하지 않다(무의미하다)\n",
        "#대립가설: 유의미하다\n",
        "#에서 귀무가설을 pv에 의해 기각한다. 즉 상관계수 0.92는 통계적으로 유의미하다"
      ],
      "execution_count": null,
      "outputs": []
    },
    {
      "cell_type": "markdown",
      "metadata": {
        "id": "DgzGnxgglamk"
      },
      "source": [
        "#Diamond의 평균가격은 3932로 알려져있다. ‘H’ color를 가지는 다이아몬드 집단의 평균에 대한 일표본 t검정을 시행하려한다. 통계량과 pvalue값을 구하시오. 유의수준 0.05에서 귀무가설 채택여부를 boolean 값으로 표현할 변수(hypo) 만들고 출력하시오"
      ]
    },
    {
      "cell_type": "code",
      "metadata": {
        "id": "BXT_dPdTuLjA"
      },
      "source": [
        "#귀무가설: 평균가격은 3932가 아니다\n",
        "#대립가설: 3932이다"
      ],
      "execution_count": null,
      "outputs": []
    },
    {
      "cell_type": "code",
      "metadata": {
        "colab": {
          "base_uri": "https://localhost:8080/"
        },
        "id": "sghW8_7-ZKZ4",
        "outputId": "18587f99-67b0-4653-dcad-25aed3ece9de"
      },
      "source": [
        "H_prop = df[df['color'] == 'H']\n",
        "stat, pval = stats.ttest_1samp(H_prop['price'], 3932)\n",
        "\n",
        "if pval<0.05:\n",
        "    null_hypo = False\n",
        "else:\n",
        "    null_hypo = True\n",
        "\n",
        "print(f'stat : {stat}, pval : {pval}, hypo : {null_hypo}')"
      ],
      "execution_count": null,
      "outputs": [
        {
          "output_type": "stream",
          "text": [
            "stat : 11.988997411117696, pval : 7.569973305218302e-33, hypo : False\n"
          ],
          "name": "stdout"
        }
      ]
    },
    {
      "cell_type": "markdown",
      "metadata": {
        "id": "llypW5ANlBKE"
      },
      "source": [
        "#그래프상에서 ‘F’와 ‘G’는 평균이 유사해보인다.이를 확인하기 위해 집단간 등분산(levene,fligner,bartlett) 검정을 시행 후 결과를 출력하고 조건에 맞는 독립표본 t검정을 시행하라"
      ]
    },
    {
      "cell_type": "code",
      "metadata": {
        "id": "lBytI84IdmHt"
      },
      "source": [
        "F_prop = df[df['color'] == 'F']\n",
        "G_prop = df[df['color'] == 'G']"
      ],
      "execution_count": null,
      "outputs": []
    },
    {
      "cell_type": "code",
      "metadata": {
        "colab": {
          "base_uri": "https://localhost:8080/"
        },
        "id": "K93jB7ope4h_",
        "outputId": "5c730e9c-582c-4470-abe4-8d16b1adab01"
      },
      "source": [
        "s, pvalue = stats.levene(F_prop['price'], G_prop['price'])\n",
        "print(f'levene \\nstats : {s}, pv : {pvalue}')"
      ],
      "execution_count": null,
      "outputs": [
        {
          "output_type": "stream",
          "text": [
            "levene \n",
            "stats : 53.627886257416655, pv : 2.511093007074788e-13\n"
          ],
          "name": "stdout"
        }
      ]
    },
    {
      "cell_type": "code",
      "metadata": {
        "colab": {
          "base_uri": "https://localhost:8080/"
        },
        "id": "AJpYoG9kgN29",
        "outputId": "a662c784-cf6d-4c0f-861c-2d95bc34a736"
      },
      "source": [
        "correlation, pvalue = stats.fligner(F_prop['price'], G_prop['price'])\n",
        "print(f'fligner\\nstats : {s}, pval : {pvalue}')"
      ],
      "execution_count": null,
      "outputs": [
        {
          "output_type": "stream",
          "text": [
            "fligner\n",
            "stats : 53.627886257416655, pval : 1.155244880009172e-09\n"
          ],
          "name": "stdout"
        }
      ]
    },
    {
      "cell_type": "code",
      "metadata": {
        "colab": {
          "base_uri": "https://localhost:8080/"
        },
        "id": "wRQm13RVgsop",
        "outputId": "96b17f09-ff96-4108-aec9-afc7a5f8a914"
      },
      "source": [
        "correlation, pvalue = stats.bartlett(F_prop['price'], G_prop['price'])\n",
        "print(f'bartlett\\nstats : {s}, pval : {pvalue}')"
      ],
      "execution_count": null,
      "outputs": [
        {
          "output_type": "stream",
          "text": [
            "bartlett\n",
            "stats : 53.627886257416655, pval : 5.424264079418252e-12\n"
          ],
          "name": "stdout"
        }
      ]
    },
    {
      "cell_type": "code",
      "metadata": {
        "id": "94M31rMhviYg"
      },
      "source": [
        "#즉 3개 등분산 검정에서 집단 간 분산의 차이는 유의미하다(차이가 있다)"
      ],
      "execution_count": null,
      "outputs": []
    },
    {
      "cell_type": "code",
      "metadata": {
        "id": "TCR1JDRjxtKx"
      },
      "source": [
        "#평균에 대한 독립표본 t검정(귀무: 평균에 차이가 없다, 대립: 평균에 차이가 있다)"
      ],
      "execution_count": null,
      "outputs": []
    },
    {
      "cell_type": "code",
      "metadata": {
        "colab": {
          "base_uri": "https://localhost:8080/"
        },
        "id": "ZpT_7gF7valg",
        "outputId": "35b07858-eece-4548-bca8-1acc30e0d768"
      },
      "source": [
        "stats.ttest_ind(G_prop['price'], F_prop['price'], equal_var = False)"
      ],
      "execution_count": null,
      "outputs": [
        {
          "output_type": "execute_result",
          "data": {
            "text/plain": [
              "Ttest_indResult(statistic=5.045279980436125, pvalue=4.5670321227041464e-07)"
            ]
          },
          "metadata": {
            "tags": []
          },
          "execution_count": 92
        }
      ]
    },
    {
      "cell_type": "code",
      "metadata": {
        "id": "MpoNIx6UiS7d"
      },
      "source": [
        "#즉 색이 G인 그룹이 평균이 유의미하게 높다(5.04)"
      ],
      "execution_count": null,
      "outputs": []
    },
    {
      "cell_type": "markdown",
      "metadata": {
        "id": "h90Lvn5Py26b"
      },
      "source": [
        "#color ‘F’,’G’,’D’ 세집단의 price값들에 대해 anova분석을 시행하라."
      ]
    },
    {
      "cell_type": "code",
      "metadata": {
        "id": "BNg-mhgYixNg"
      },
      "source": [
        "D_prop = df[df['color'] == 'D']"
      ],
      "execution_count": null,
      "outputs": []
    },
    {
      "cell_type": "code",
      "metadata": {
        "colab": {
          "base_uri": "https://localhost:8080/"
        },
        "id": "VFQ2wkHG4Ggt",
        "outputId": "b9d23cb4-a0eb-4b22-bdc6-e2bdd6e9b029"
      },
      "source": [
        "#등분산검정\n",
        "print(stats.levene(F_prop['price'], D_prop['price'], G_prop['price']))\n",
        "print(stats.fligner(F_prop['price'], D_prop['price'], G_prop['price']))\n",
        "print(stats.bartlett(F_prop['price'], D_prop['price'], G_prop['price']))\n",
        "\n",
        "#분산에 차이가 있다"
      ],
      "execution_count": null,
      "outputs": [
        {
          "output_type": "stream",
          "text": [
            "LeveneResult(statistic=118.97521469312785, pvalue=3.557425577381817e-52)\n",
            "FlignerResult(statistic=494.64591695585733, pvalue=3.881538382653518e-108)\n",
            "BartlettResult(statistic=289.14364432535103, pvalue=1.634012581050329e-63)\n"
          ],
          "name": "stdout"
        }
      ]
    },
    {
      "cell_type": "code",
      "metadata": {
        "colab": {
          "base_uri": "https://localhost:8080/"
        },
        "id": "BnkRZ3gz4SYC",
        "outputId": "f973738d-9a14-4bdf-dcc9-29cc2cfae17e"
      },
      "source": [
        "#정규성검정 다시\n",
        "print(stats.kstest(F_prop['price'], 't', (2,)))"
      ],
      "execution_count": null,
      "outputs": [
        {
          "output_type": "stream",
          "text": [
            "KstestResult(statistic=0.9999957252352188, pvalue=0.0)\n"
          ],
          "name": "stdout"
        }
      ]
    },
    {
      "cell_type": "code",
      "metadata": {
        "colab": {
          "base_uri": "https://localhost:8080/"
        },
        "id": "mpxl7EZU5G-B",
        "outputId": "ba53df39-2531-4a26-cd62-87ae5fc58e7f"
      },
      "source": [
        "#분산분석\n",
        "print(stats.f_oneway(F_prop['price'], D_prop['price'], G_prop['price']))\n",
        "\n",
        "#분산분석 결과 귀무가설 기각, 유의수준 하에서 세 집단 중 어느 두 집단의 분산은 같지 않다"
      ],
      "execution_count": null,
      "outputs": [
        {
          "output_type": "stream",
          "text": [
            "F_onewayResult(statistic=101.1811790316069, pvalue=1.6513790091285713e-44)\n"
          ],
          "name": "stdout"
        }
      ]
    },
    {
      "cell_type": "markdown",
      "metadata": {
        "id": "ykE0h3rV9vXn"
      },
      "source": [
        "#연속형 변수(carat,depth,table,price,x,y,z) 각각의 이상치(1,3분위값에서 IQR*1.5 외의 값) 갯수를 데이터 프레임(변수명 ratio_df, 비율의 내림차순 정렬)으로 아래와 같이 나타내어라."
      ]
    },
    {
      "cell_type": "code",
      "metadata": {
        "id": "UDQiA9e78uEH"
      },
      "source": [
        "ratio_df = pd.DataFrame()\n",
        "column = []\n",
        "ratio = []\n",
        "for col in ['carat','depth','table','price','x','y','z']:\n",
        "    cutoff = (df[col].quantile(0.75) - df[col].quantile(0.25) ) * 1.5\n",
        "    lower, upper = df[col].quantile(0.25) - cutoff, df[col].quantile(0.75) + cutoff\n",
        "    c = df[(df[col] < lower) | (df[col] > upper)][col].count()\n",
        "    column.append(col)\n",
        "    ratio.append(c)\n",
        "\n",
        "ratio_df['column'] = column\n",
        "ratio_df['ratio'] = ratio"
      ],
      "execution_count": null,
      "outputs": []
    },
    {
      "cell_type": "code",
      "metadata": {
        "colab": {
          "base_uri": "https://localhost:8080/",
          "height": 258
        },
        "id": "dBs_99UCA4dQ",
        "outputId": "7aa5c8c1-b8e1-473a-ed29-a83c4c423a74"
      },
      "source": [
        "ratio_df.sort_values(by = 'ratio', ascending = False)"
      ],
      "execution_count": null,
      "outputs": [
        {
          "output_type": "execute_result",
          "data": {
            "text/html": [
              "<div>\n",
              "<style scoped>\n",
              "    .dataframe tbody tr th:only-of-type {\n",
              "        vertical-align: middle;\n",
              "    }\n",
              "\n",
              "    .dataframe tbody tr th {\n",
              "        vertical-align: top;\n",
              "    }\n",
              "\n",
              "    .dataframe thead th {\n",
              "        text-align: right;\n",
              "    }\n",
              "</style>\n",
              "<table border=\"1\" class=\"dataframe\">\n",
              "  <thead>\n",
              "    <tr style=\"text-align: right;\">\n",
              "      <th></th>\n",
              "      <th>column</th>\n",
              "      <th>ratio</th>\n",
              "    </tr>\n",
              "  </thead>\n",
              "  <tbody>\n",
              "    <tr>\n",
              "      <th>3</th>\n",
              "      <td>price</td>\n",
              "      <td>3540</td>\n",
              "    </tr>\n",
              "    <tr>\n",
              "      <th>1</th>\n",
              "      <td>depth</td>\n",
              "      <td>2545</td>\n",
              "    </tr>\n",
              "    <tr>\n",
              "      <th>0</th>\n",
              "      <td>carat</td>\n",
              "      <td>1889</td>\n",
              "    </tr>\n",
              "    <tr>\n",
              "      <th>2</th>\n",
              "      <td>table</td>\n",
              "      <td>605</td>\n",
              "    </tr>\n",
              "    <tr>\n",
              "      <th>6</th>\n",
              "      <td>z</td>\n",
              "      <td>49</td>\n",
              "    </tr>\n",
              "    <tr>\n",
              "      <th>4</th>\n",
              "      <td>x</td>\n",
              "      <td>32</td>\n",
              "    </tr>\n",
              "    <tr>\n",
              "      <th>5</th>\n",
              "      <td>y</td>\n",
              "      <td>29</td>\n",
              "    </tr>\n",
              "  </tbody>\n",
              "</table>\n",
              "</div>"
            ],
            "text/plain": [
              "  column  ratio\n",
              "3  price   3540\n",
              "1  depth   2545\n",
              "0  carat   1889\n",
              "2  table    605\n",
              "6      z     49\n",
              "4      x     32\n",
              "5      y     29"
            ]
          },
          "metadata": {
            "tags": []
          },
          "execution_count": 143
        }
      ]
    },
    {
      "cell_type": "markdown",
      "metadata": {
        "id": "MxcFTmX1O0QX"
      },
      "source": [
        "#color에 따른 price의 max, min, 평균값을 colorDf 변수에 저장하고 아래와 같이 출력하는 코드를 작성하라"
      ]
    },
    {
      "cell_type": "code",
      "metadata": {
        "id": "x1D8Vz_2LC42"
      },
      "source": [
        "colordf = pd.DataFrame()\n",
        "\n",
        "colordf['max'] = df.groupby(by='color').max().loc[:, 'price'].values\n",
        "colordf['min'] = df.groupby(by='color').min().loc[:, 'price'].values\n",
        "colordf['mean'] = df.groupby(by='color').mean().loc[:, 'price'].values\n",
        "\n",
        "colordf.index = df.groupby(by='color').max().index"
      ],
      "execution_count": null,
      "outputs": []
    },
    {
      "cell_type": "code",
      "metadata": {
        "colab": {
          "base_uri": "https://localhost:8080/",
          "height": 288
        },
        "id": "LQxvISCHO9ex",
        "outputId": "08af04d9-7267-44af-bc58-ef464976306e"
      },
      "source": [
        "colordf"
      ],
      "execution_count": null,
      "outputs": [
        {
          "output_type": "execute_result",
          "data": {
            "text/html": [
              "<div>\n",
              "<style scoped>\n",
              "    .dataframe tbody tr th:only-of-type {\n",
              "        vertical-align: middle;\n",
              "    }\n",
              "\n",
              "    .dataframe tbody tr th {\n",
              "        vertical-align: top;\n",
              "    }\n",
              "\n",
              "    .dataframe thead th {\n",
              "        text-align: right;\n",
              "    }\n",
              "</style>\n",
              "<table border=\"1\" class=\"dataframe\">\n",
              "  <thead>\n",
              "    <tr style=\"text-align: right;\">\n",
              "      <th></th>\n",
              "      <th>max</th>\n",
              "      <th>min</th>\n",
              "      <th>mean</th>\n",
              "    </tr>\n",
              "    <tr>\n",
              "      <th>color</th>\n",
              "      <th></th>\n",
              "      <th></th>\n",
              "      <th></th>\n",
              "    </tr>\n",
              "  </thead>\n",
              "  <tbody>\n",
              "    <tr>\n",
              "      <th>D</th>\n",
              "      <td>18693</td>\n",
              "      <td>357</td>\n",
              "      <td>3169.954096</td>\n",
              "    </tr>\n",
              "    <tr>\n",
              "      <th>E</th>\n",
              "      <td>18731</td>\n",
              "      <td>326</td>\n",
              "      <td>3076.752475</td>\n",
              "    </tr>\n",
              "    <tr>\n",
              "      <th>F</th>\n",
              "      <td>18791</td>\n",
              "      <td>342</td>\n",
              "      <td>3724.886397</td>\n",
              "    </tr>\n",
              "    <tr>\n",
              "      <th>G</th>\n",
              "      <td>18818</td>\n",
              "      <td>354</td>\n",
              "      <td>3999.135671</td>\n",
              "    </tr>\n",
              "    <tr>\n",
              "      <th>H</th>\n",
              "      <td>18803</td>\n",
              "      <td>337</td>\n",
              "      <td>4486.669196</td>\n",
              "    </tr>\n",
              "    <tr>\n",
              "      <th>I</th>\n",
              "      <td>18823</td>\n",
              "      <td>334</td>\n",
              "      <td>5091.874954</td>\n",
              "    </tr>\n",
              "    <tr>\n",
              "      <th>J</th>\n",
              "      <td>18710</td>\n",
              "      <td>335</td>\n",
              "      <td>5323.818020</td>\n",
              "    </tr>\n",
              "  </tbody>\n",
              "</table>\n",
              "</div>"
            ],
            "text/plain": [
              "         max  min         mean\n",
              "color                         \n",
              "D      18693  357  3169.954096\n",
              "E      18731  326  3076.752475\n",
              "F      18791  342  3724.886397\n",
              "G      18818  354  3999.135671\n",
              "H      18803  337  4486.669196\n",
              "I      18823  334  5091.874954\n",
              "J      18710  335  5323.818020"
            ]
          },
          "metadata": {
            "tags": []
          },
          "execution_count": 154
        }
      ]
    },
    {
      "cell_type": "markdown",
      "metadata": {
        "id": "i2I7H2-KPwYv"
      },
      "source": [
        "#전체 데이터중 color의 발생빈도수에 따라 labelEncoding(빈도수 적은것 : 1, 빈도수 증가할수록 1씩증가)을 하고 colorLabel 컬럼에 저장하고 cut에 따른 colorLabel의 평균값을 구하여라\n"
      ]
    },
    {
      "cell_type": "code",
      "metadata": {
        "colab": {
          "base_uri": "https://localhost:8080/"
        },
        "id": "I7j6mTNiPa5H",
        "outputId": "ce66efbf-feb3-452a-fbd5-16c25a388a1e"
      },
      "source": [
        "index = dict()\n",
        "for c, idx in zip(df['color'].value_counts(ascending = True).index, enumerate(df['color'].value_counts(ascending = True).values, start = 1)):\n",
        "    index[c] = index.get(c, 0) + idx[0] \n",
        "index\n",
        "#sorted(index, key = lambda x: x[1], reverse = False)"
      ],
      "execution_count": null,
      "outputs": [
        {
          "output_type": "execute_result",
          "data": {
            "text/plain": [
              "{'D': 3, 'E': 6, 'F': 5, 'G': 7, 'H': 4, 'I': 2, 'J': 1}"
            ]
          },
          "metadata": {
            "tags": []
          },
          "execution_count": 179
        }
      ]
    },
    {
      "cell_type": "code",
      "metadata": {
        "id": "WvBYoCRnR44Q"
      },
      "source": [
        "colorlabel = []\n",
        "for _ in range(df.shape[0]):\n",
        "    color = df.loc[_ + 1, 'color']\n",
        "    colorlabel.append(index[color])"
      ],
      "execution_count": null,
      "outputs": []
    },
    {
      "cell_type": "code",
      "metadata": {
        "id": "Ps-XdQUXT_vx"
      },
      "source": [
        "df['colorlabel'] = colorlabel"
      ],
      "execution_count": null,
      "outputs": []
    },
    {
      "cell_type": "code",
      "metadata": {
        "colab": {
          "base_uri": "https://localhost:8080/"
        },
        "id": "61SdaPwjQA1n",
        "outputId": "a644d2b3-d79d-4eaf-cfae-7233ced438f3"
      },
      "source": [
        "df.groupby(by = 'cut').mean().loc[:, 'colorlabel']"
      ],
      "execution_count": null,
      "outputs": [
        {
          "output_type": "execute_result",
          "data": {
            "text/plain": [
              "cut\n",
              "Fair         4.516770\n",
              "Good         4.562780\n",
              "Ideal        4.769152\n",
              "Premium      4.644913\n",
              "Very Good    4.654362\n",
              "Name: colorlabel, dtype: float64"
            ]
          },
          "metadata": {
            "tags": []
          },
          "execution_count": 204
        }
      ]
    },
    {
      "cell_type": "markdown",
      "metadata": {
        "id": "p5NdDDYCWD1b"
      },
      "source": [
        "#price의 값에 따른 구간을 1000단위로 나누고 priceLabel 컬럼에 저장하라. 저장시 숫자 순으로 label하고(0 ~ 999 : 0,1000 ~ 1999 :1 …) 최종적으로 구간별 갯수(변수명:labelCount)를 출력하라"
      ]
    },
    {
      "cell_type": "code",
      "metadata": {
        "id": "Vs-9NJqKWnER"
      },
      "source": [
        "bins = list(range(0, 19001, 1000))"
      ],
      "execution_count": null,
      "outputs": []
    },
    {
      "cell_type": "code",
      "metadata": {
        "colab": {
          "base_uri": "https://localhost:8080/"
        },
        "id": "jka3luCBX6Ks",
        "outputId": "bf55d835-7a34-4d9c-e75f-af21c59f54e1"
      },
      "source": [
        "bins_label = [i for i, _ in enumerate(bins)]\n",
        "bins_label"
      ],
      "execution_count": null,
      "outputs": [
        {
          "output_type": "execute_result",
          "data": {
            "text/plain": [
              "[0, 1, 2, 3, 4, 5, 6, 7, 8, 9, 10, 11, 12, 13, 14, 15, 16, 17, 18, 19]"
            ]
          },
          "metadata": {
            "tags": []
          },
          "execution_count": 233
        }
      ]
    },
    {
      "cell_type": "code",
      "metadata": {
        "id": "nY9bVNP0XBzz"
      },
      "source": [
        "df['bin'] = pd.cut(df['price'], bins, right = False, labels = bins_label[:-1])"
      ],
      "execution_count": null,
      "outputs": []
    },
    {
      "cell_type": "code",
      "metadata": {
        "id": "UBXlrDnAXogO"
      },
      "source": [
        "labelcount = pd.DataFrame()\n",
        "labelcount['binsection'] = [x for x in df['bin'].value_counts().index]\n",
        "labelcount['value_counts'] = df['bin'].value_counts().values"
      ],
      "execution_count": null,
      "outputs": []
    },
    {
      "cell_type": "code",
      "metadata": {
        "colab": {
          "base_uri": "https://localhost:8080/",
          "height": 618
        },
        "id": "Fv81eKb3XpZo",
        "outputId": "95257e4b-6b98-4624-d4c2-587acba00d18"
      },
      "source": [
        "labelcount"
      ],
      "execution_count": null,
      "outputs": [
        {
          "output_type": "execute_result",
          "data": {
            "text/html": [
              "<div>\n",
              "<style scoped>\n",
              "    .dataframe tbody tr th:only-of-type {\n",
              "        vertical-align: middle;\n",
              "    }\n",
              "\n",
              "    .dataframe tbody tr th {\n",
              "        vertical-align: top;\n",
              "    }\n",
              "\n",
              "    .dataframe thead th {\n",
              "        text-align: right;\n",
              "    }\n",
              "</style>\n",
              "<table border=\"1\" class=\"dataframe\">\n",
              "  <thead>\n",
              "    <tr style=\"text-align: right;\">\n",
              "      <th></th>\n",
              "      <th>binsection</th>\n",
              "      <th>value_counts</th>\n",
              "    </tr>\n",
              "  </thead>\n",
              "  <tbody>\n",
              "    <tr>\n",
              "      <th>0</th>\n",
              "      <td>0</td>\n",
              "      <td>14499</td>\n",
              "    </tr>\n",
              "    <tr>\n",
              "      <th>1</th>\n",
              "      <td>1</td>\n",
              "      <td>9704</td>\n",
              "    </tr>\n",
              "    <tr>\n",
              "      <th>2</th>\n",
              "      <td>2</td>\n",
              "      <td>6131</td>\n",
              "    </tr>\n",
              "    <tr>\n",
              "      <th>3</th>\n",
              "      <td>4</td>\n",
              "      <td>4653</td>\n",
              "    </tr>\n",
              "    <tr>\n",
              "      <th>4</th>\n",
              "      <td>3</td>\n",
              "      <td>4226</td>\n",
              "    </tr>\n",
              "    <tr>\n",
              "      <th>5</th>\n",
              "      <td>5</td>\n",
              "      <td>3174</td>\n",
              "    </tr>\n",
              "    <tr>\n",
              "      <th>6</th>\n",
              "      <td>6</td>\n",
              "      <td>2278</td>\n",
              "    </tr>\n",
              "    <tr>\n",
              "      <th>7</th>\n",
              "      <td>7</td>\n",
              "      <td>1669</td>\n",
              "    </tr>\n",
              "    <tr>\n",
              "      <th>8</th>\n",
              "      <td>8</td>\n",
              "      <td>1307</td>\n",
              "    </tr>\n",
              "    <tr>\n",
              "      <th>9</th>\n",
              "      <td>9</td>\n",
              "      <td>1076</td>\n",
              "    </tr>\n",
              "    <tr>\n",
              "      <th>10</th>\n",
              "      <td>10</td>\n",
              "      <td>935</td>\n",
              "    </tr>\n",
              "    <tr>\n",
              "      <th>11</th>\n",
              "      <td>11</td>\n",
              "      <td>824</td>\n",
              "    </tr>\n",
              "    <tr>\n",
              "      <th>12</th>\n",
              "      <td>12</td>\n",
              "      <td>702</td>\n",
              "    </tr>\n",
              "    <tr>\n",
              "      <th>13</th>\n",
              "      <td>13</td>\n",
              "      <td>603</td>\n",
              "    </tr>\n",
              "    <tr>\n",
              "      <th>14</th>\n",
              "      <td>15</td>\n",
              "      <td>514</td>\n",
              "    </tr>\n",
              "    <tr>\n",
              "      <th>15</th>\n",
              "      <td>14</td>\n",
              "      <td>503</td>\n",
              "    </tr>\n",
              "    <tr>\n",
              "      <th>16</th>\n",
              "      <td>16</td>\n",
              "      <td>424</td>\n",
              "    </tr>\n",
              "    <tr>\n",
              "      <th>17</th>\n",
              "      <td>17</td>\n",
              "      <td>406</td>\n",
              "    </tr>\n",
              "    <tr>\n",
              "      <th>18</th>\n",
              "      <td>18</td>\n",
              "      <td>312</td>\n",
              "    </tr>\n",
              "  </tbody>\n",
              "</table>\n",
              "</div>"
            ],
            "text/plain": [
              "    binsection  value_counts\n",
              "0            0         14499\n",
              "1            1          9704\n",
              "2            2          6131\n",
              "3            4          4653\n",
              "4            3          4226\n",
              "5            5          3174\n",
              "6            6          2278\n",
              "7            7          1669\n",
              "8            8          1307\n",
              "9            9          1076\n",
              "10          10           935\n",
              "11          11           824\n",
              "12          12           702\n",
              "13          13           603\n",
              "14          15           514\n",
              "15          14           503\n",
              "16          16           424\n",
              "17          17           406\n",
              "18          18           312"
            ]
          },
          "metadata": {
            "tags": []
          },
          "execution_count": 249
        }
      ]
    },
    {
      "cell_type": "code",
      "metadata": {
        "id": "qv7xHn7HaVuc"
      },
      "source": [
        ""
      ],
      "execution_count": null,
      "outputs": []
    }
  ]
}