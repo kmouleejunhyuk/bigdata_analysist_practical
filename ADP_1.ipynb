{
  "nbformat": 4,
  "nbformat_minor": 0,
  "metadata": {
    "colab": {
      "name": "ADP_1.ipynb",
      "provenance": [],
      "collapsed_sections": [],
      "mount_file_id": "1SX5iPcHk2dbT_mXWY-q0XXdLvufIPlG0",
      "authorship_tag": "ABX9TyNYbfIYCp/I4QMH8ROKqkhV",
      "include_colab_link": true
    },
    "kernelspec": {
      "name": "python3",
      "display_name": "Python 3"
    },
    "language_info": {
      "name": "python"
    }
  },
  "cells": [
    {
      "cell_type": "markdown",
      "metadata": {
        "id": "view-in-github",
        "colab_type": "text"
      },
      "source": [
        "<a href=\"https://colab.research.google.com/github/kmouleejunhyuk/bigdata_analysist_practical/blob/main/ADP_1.ipynb\" target=\"_parent\"><img src=\"https://colab.research.google.com/assets/colab-badge.svg\" alt=\"Open In Colab\"/></a>"
      ]
    },
    {
      "cell_type": "code",
      "metadata": {
        "id": "MHIoILbkUj6-"
      },
      "source": [
        "import pandas as pd\n",
        "import sklearn\n",
        "import scipy"
      ],
      "execution_count": null,
      "outputs": []
    },
    {
      "cell_type": "code",
      "metadata": {
        "id": "1eS7ZeKNc7v5"
      },
      "source": [
        "rawdata = pd.read_csv('/content/drive/MyDrive/big_2021/data/ADP/모의고사 R코드 및 데이터/모의고사 1회/FIFA.csv', encoding = 'cp949')"
      ],
      "execution_count": null,
      "outputs": []
    },
    {
      "cell_type": "code",
      "metadata": {
        "colab": {
          "base_uri": "https://localhost:8080/",
          "height": 357
        },
        "id": "y4bPHy51deld",
        "outputId": "ca88adc6-fae7-4dfd-9bdd-f194e1660dd3"
      },
      "source": [
        "rawdata.describe().transpose()"
      ],
      "execution_count": null,
      "outputs": [
        {
          "output_type": "execute_result",
          "data": {
            "text/html": [
              "<div>\n",
              "<style scoped>\n",
              "    .dataframe tbody tr th:only-of-type {\n",
              "        vertical-align: middle;\n",
              "    }\n",
              "\n",
              "    .dataframe tbody tr th {\n",
              "        vertical-align: top;\n",
              "    }\n",
              "\n",
              "    .dataframe thead th {\n",
              "        text-align: right;\n",
              "    }\n",
              "</style>\n",
              "<table border=\"1\" class=\"dataframe\">\n",
              "  <thead>\n",
              "    <tr style=\"text-align: right;\">\n",
              "      <th></th>\n",
              "      <th>count</th>\n",
              "      <th>mean</th>\n",
              "      <th>std</th>\n",
              "      <th>min</th>\n",
              "      <th>25%</th>\n",
              "      <th>50%</th>\n",
              "      <th>75%</th>\n",
              "      <th>max</th>\n",
              "    </tr>\n",
              "  </thead>\n",
              "  <tbody>\n",
              "    <tr>\n",
              "      <th>ID</th>\n",
              "      <td>16642.0</td>\n",
              "      <td>213846.073849</td>\n",
              "      <td>30546.895337</td>\n",
              "      <td>16.0</td>\n",
              "      <td>199571.25</td>\n",
              "      <td>221497.5</td>\n",
              "      <td>236803.0</td>\n",
              "      <td>246620.0</td>\n",
              "    </tr>\n",
              "    <tr>\n",
              "      <th>Age</th>\n",
              "      <td>16642.0</td>\n",
              "      <td>25.225754</td>\n",
              "      <td>4.716345</td>\n",
              "      <td>16.0</td>\n",
              "      <td>21.00</td>\n",
              "      <td>25.0</td>\n",
              "      <td>29.0</td>\n",
              "      <td>45.0</td>\n",
              "    </tr>\n",
              "    <tr>\n",
              "      <th>Overall</th>\n",
              "      <td>16642.0</td>\n",
              "      <td>66.162180</td>\n",
              "      <td>7.008032</td>\n",
              "      <td>46.0</td>\n",
              "      <td>62.00</td>\n",
              "      <td>66.0</td>\n",
              "      <td>71.0</td>\n",
              "      <td>94.0</td>\n",
              "    </tr>\n",
              "    <tr>\n",
              "      <th>Jersey_Number</th>\n",
              "      <td>16642.0</td>\n",
              "      <td>19.657794</td>\n",
              "      <td>16.055119</td>\n",
              "      <td>1.0</td>\n",
              "      <td>8.00</td>\n",
              "      <td>17.0</td>\n",
              "      <td>26.0</td>\n",
              "      <td>99.0</td>\n",
              "    </tr>\n",
              "    <tr>\n",
              "      <th>Contract_Valid_Until</th>\n",
              "      <td>16642.0</td>\n",
              "      <td>2020.241257</td>\n",
              "      <td>1.290654</td>\n",
              "      <td>2018.0</td>\n",
              "      <td>2019.00</td>\n",
              "      <td>2020.0</td>\n",
              "      <td>2021.0</td>\n",
              "      <td>2026.0</td>\n",
              "    </tr>\n",
              "    <tr>\n",
              "      <th>Weight_lb</th>\n",
              "      <td>16642.0</td>\n",
              "      <td>165.988162</td>\n",
              "      <td>15.575286</td>\n",
              "      <td>110.0</td>\n",
              "      <td>154.00</td>\n",
              "      <td>165.0</td>\n",
              "      <td>176.0</td>\n",
              "      <td>243.0</td>\n",
              "    </tr>\n",
              "    <tr>\n",
              "      <th>Release_Clause</th>\n",
              "      <td>16642.0</td>\n",
              "      <td>4584.939911</td>\n",
              "      <td>11119.040864</td>\n",
              "      <td>13.0</td>\n",
              "      <td>525.00</td>\n",
              "      <td>1100.0</td>\n",
              "      <td>3500.0</td>\n",
              "      <td>228100.0</td>\n",
              "    </tr>\n",
              "    <tr>\n",
              "      <th>Value</th>\n",
              "      <td>16642.0</td>\n",
              "      <td>2442.530946</td>\n",
              "      <td>5720.773674</td>\n",
              "      <td>10.0</td>\n",
              "      <td>300.00</td>\n",
              "      <td>675.0</td>\n",
              "      <td>2000.0</td>\n",
              "      <td>118500.0</td>\n",
              "    </tr>\n",
              "    <tr>\n",
              "      <th>Wage</th>\n",
              "      <td>16642.0</td>\n",
              "      <td>9.618375</td>\n",
              "      <td>22.264145</td>\n",
              "      <td>1.0</td>\n",
              "      <td>1.00</td>\n",
              "      <td>3.0</td>\n",
              "      <td>8.0</td>\n",
              "      <td>565.0</td>\n",
              "    </tr>\n",
              "    <tr>\n",
              "      <th>Height_cm</th>\n",
              "      <td>16642.0</td>\n",
              "      <td>178.393973</td>\n",
              "      <td>6.606026</td>\n",
              "      <td>152.5</td>\n",
              "      <td>172.50</td>\n",
              "      <td>177.5</td>\n",
              "      <td>182.5</td>\n",
              "      <td>202.5</td>\n",
              "    </tr>\n",
              "  </tbody>\n",
              "</table>\n",
              "</div>"
            ],
            "text/plain": [
              "                        count           mean  ...       75%       max\n",
              "ID                    16642.0  213846.073849  ...  236803.0  246620.0\n",
              "Age                   16642.0      25.225754  ...      29.0      45.0\n",
              "Overall               16642.0      66.162180  ...      71.0      94.0\n",
              "Jersey_Number         16642.0      19.657794  ...      26.0      99.0\n",
              "Contract_Valid_Until  16642.0    2020.241257  ...    2021.0    2026.0\n",
              "Weight_lb             16642.0     165.988162  ...     176.0     243.0\n",
              "Release_Clause        16642.0    4584.939911  ...    3500.0  228100.0\n",
              "Value                 16642.0    2442.530946  ...    2000.0  118500.0\n",
              "Wage                  16642.0       9.618375  ...       8.0     565.0\n",
              "Height_cm             16642.0     178.393973  ...     182.5     202.5\n",
              "\n",
              "[10 rows x 8 columns]"
            ]
          },
          "metadata": {
            "tags": []
          },
          "execution_count": 114
        }
      ]
    },
    {
      "cell_type": "code",
      "metadata": {
        "colab": {
          "base_uri": "https://localhost:8080/",
          "height": 307
        },
        "id": "cp57t9S2e-We",
        "outputId": "e43368e6-73db-4e4e-c7e1-558d7d14cb92"
      },
      "source": [
        "rawdata.head()"
      ],
      "execution_count": null,
      "outputs": [
        {
          "output_type": "execute_result",
          "data": {
            "text/html": [
              "<div>\n",
              "<style scoped>\n",
              "    .dataframe tbody tr th:only-of-type {\n",
              "        vertical-align: middle;\n",
              "    }\n",
              "\n",
              "    .dataframe tbody tr th {\n",
              "        vertical-align: top;\n",
              "    }\n",
              "\n",
              "    .dataframe thead th {\n",
              "        text-align: right;\n",
              "    }\n",
              "</style>\n",
              "<table border=\"1\" class=\"dataframe\">\n",
              "  <thead>\n",
              "    <tr style=\"text-align: right;\">\n",
              "      <th></th>\n",
              "      <th>ID</th>\n",
              "      <th>Name</th>\n",
              "      <th>Age</th>\n",
              "      <th>Nationality</th>\n",
              "      <th>Overall</th>\n",
              "      <th>Club</th>\n",
              "      <th>Preferred_Foot</th>\n",
              "      <th>Work_Rate</th>\n",
              "      <th>Position</th>\n",
              "      <th>Jersey_Number</th>\n",
              "      <th>Contract_Valid_Until</th>\n",
              "      <th>Height</th>\n",
              "      <th>Weight_lb</th>\n",
              "      <th>Release_Clause</th>\n",
              "      <th>Value</th>\n",
              "      <th>Wage</th>\n",
              "    </tr>\n",
              "  </thead>\n",
              "  <tbody>\n",
              "    <tr>\n",
              "      <th>0</th>\n",
              "      <td>158023</td>\n",
              "      <td>L. Messi</td>\n",
              "      <td>31</td>\n",
              "      <td>Argentina</td>\n",
              "      <td>94</td>\n",
              "      <td>FC Barcelona</td>\n",
              "      <td>Left</td>\n",
              "      <td>Medium/ Medium</td>\n",
              "      <td>RF</td>\n",
              "      <td>10</td>\n",
              "      <td>2021</td>\n",
              "      <td>5'7</td>\n",
              "      <td>159</td>\n",
              "      <td>226500</td>\n",
              "      <td>110500</td>\n",
              "      <td>565</td>\n",
              "    </tr>\n",
              "    <tr>\n",
              "      <th>1</th>\n",
              "      <td>20801</td>\n",
              "      <td>Cristiano Ronaldo</td>\n",
              "      <td>33</td>\n",
              "      <td>Portugal</td>\n",
              "      <td>94</td>\n",
              "      <td>Juventus</td>\n",
              "      <td>Right</td>\n",
              "      <td>High/ Low</td>\n",
              "      <td>ST</td>\n",
              "      <td>7</td>\n",
              "      <td>2022</td>\n",
              "      <td>6'2</td>\n",
              "      <td>183</td>\n",
              "      <td>127100</td>\n",
              "      <td>77000</td>\n",
              "      <td>405</td>\n",
              "    </tr>\n",
              "    <tr>\n",
              "      <th>2</th>\n",
              "      <td>190871</td>\n",
              "      <td>Neymar Jr</td>\n",
              "      <td>26</td>\n",
              "      <td>Brazil</td>\n",
              "      <td>92</td>\n",
              "      <td>Paris Saint-Germain</td>\n",
              "      <td>Right</td>\n",
              "      <td>High/ Medium</td>\n",
              "      <td>LW</td>\n",
              "      <td>10</td>\n",
              "      <td>2022</td>\n",
              "      <td>5'9</td>\n",
              "      <td>150</td>\n",
              "      <td>228100</td>\n",
              "      <td>118500</td>\n",
              "      <td>290</td>\n",
              "    </tr>\n",
              "    <tr>\n",
              "      <th>3</th>\n",
              "      <td>193080</td>\n",
              "      <td>De Gea</td>\n",
              "      <td>27</td>\n",
              "      <td>Spain</td>\n",
              "      <td>91</td>\n",
              "      <td>Manchester United</td>\n",
              "      <td>Right</td>\n",
              "      <td>Medium/ Medium</td>\n",
              "      <td>GK</td>\n",
              "      <td>1</td>\n",
              "      <td>2020</td>\n",
              "      <td>6'4</td>\n",
              "      <td>168</td>\n",
              "      <td>138600</td>\n",
              "      <td>72000</td>\n",
              "      <td>260</td>\n",
              "    </tr>\n",
              "    <tr>\n",
              "      <th>4</th>\n",
              "      <td>192985</td>\n",
              "      <td>K. De Bruyne</td>\n",
              "      <td>27</td>\n",
              "      <td>Belgium</td>\n",
              "      <td>91</td>\n",
              "      <td>Manchester City</td>\n",
              "      <td>Right</td>\n",
              "      <td>High/ High</td>\n",
              "      <td>RCM</td>\n",
              "      <td>7</td>\n",
              "      <td>2023</td>\n",
              "      <td>5'11</td>\n",
              "      <td>154</td>\n",
              "      <td>196400</td>\n",
              "      <td>102000</td>\n",
              "      <td>355</td>\n",
              "    </tr>\n",
              "  </tbody>\n",
              "</table>\n",
              "</div>"
            ],
            "text/plain": [
              "       ID               Name  Age  ... Release_Clause   Value Wage\n",
              "0  158023           L. Messi   31  ...         226500  110500  565\n",
              "1   20801  Cristiano Ronaldo   33  ...         127100   77000  405\n",
              "2  190871          Neymar Jr   26  ...         228100  118500  290\n",
              "3  193080             De Gea   27  ...         138600   72000  260\n",
              "4  192985       K. De Bruyne   27  ...         196400  102000  355\n",
              "\n",
              "[5 rows x 16 columns]"
            ]
          },
          "metadata": {
            "tags": []
          },
          "execution_count": 4
        }
      ]
    },
    {
      "cell_type": "markdown",
      "metadata": {
        "id": "5hxo2n8zhi8H"
      },
      "source": [
        "#ORIGINAL"
      ]
    },
    {
      "cell_type": "code",
      "metadata": {
        "colab": {
          "base_uri": "https://localhost:8080/",
          "height": 282
        },
        "id": "Gfv1iIVisY6M",
        "outputId": "f1f22c3a-3f40-4f86-cd8f-469612646884"
      },
      "source": [
        "rawdata['Age'].hist(bins = 28)"
      ],
      "execution_count": null,
      "outputs": [
        {
          "output_type": "execute_result",
          "data": {
            "text/plain": [
              "<matplotlib.axes._subplots.AxesSubplot at 0x7f5ea019fe90>"
            ]
          },
          "metadata": {
            "tags": []
          },
          "execution_count": 110
        },
        {
          "output_type": "display_data",
          "data": {
            "image/png": "[encoded data removed]",
            "text/plain": [
              "<Figure size 432x288 with 1 Axes>"
            ]
          },
          "metadata": {
            "tags": [],
            "needs_background": "light"
          }
        }
      ]
    },
    {
      "cell_type": "markdown",
      "metadata": {
        "id": "h9sS8pRShPMO"
      },
      "source": [
        "AGE와 OVERALL의 correlation과 pvalue"
      ]
    },
    {
      "cell_type": "code",
      "metadata": {
        "colab": {
          "base_uri": "https://localhost:8080/"
        },
        "id": "DoxDmQXfhgsW",
        "outputId": "9760d05f-0160-4a05-dee7-697231196a3d"
      },
      "source": [
        "scipy.stats.pearsonr(rawdata['Age'], rawdata['Overall'])"
      ],
      "execution_count": null,
      "outputs": [
        {
          "output_type": "execute_result",
          "data": {
            "text/plain": [
              "(0.4649034580646554, 0.0)"
            ]
          },
          "metadata": {
            "tags": []
          },
          "execution_count": 5
        }
      ]
    },
    {
      "cell_type": "code",
      "metadata": {
        "id": "dv_isP3Gh8HO"
      },
      "source": [
        "#연관계수 0.46, pvalue 0.0 => 상관계수가 통계적으로 유의"
      ],
      "execution_count": null,
      "outputs": []
    },
    {
      "cell_type": "markdown",
      "metadata": {
        "id": "eaddTB4SoNxD"
      },
      "source": [
        "단일표본 t검정"
      ]
    },
    {
      "cell_type": "code",
      "metadata": {
        "id": "pjk27aqbsl00"
      },
      "source": [
        "mean = rawdata['Age'].mean()"
      ],
      "execution_count": null,
      "outputs": []
    },
    {
      "cell_type": "code",
      "metadata": {
        "colab": {
          "base_uri": "https://localhost:8080/"
        },
        "id": "9lp5BzWnoMXD",
        "outputId": "27094297-44d2-42bf-f958-bb2983c47182"
      },
      "source": [
        "#귀무가설: 모평균과 10% 표본의 평균은 같다 -->기각할 수 없음\n",
        "s = rawdata['Age'].sample(frac = 0.1)\n",
        "scipy.stats.ttest_1samp(s, mean)"
      ],
      "execution_count": null,
      "outputs": [
        {
          "output_type": "execute_result",
          "data": {
            "text/plain": [
              "Ttest_1sampResult(statistic=-0.11098256887466211, pvalue=0.911643561544982)"
            ]
          },
          "metadata": {
            "tags": []
          },
          "execution_count": 126
        }
      ]
    },
    {
      "cell_type": "code",
      "metadata": {
        "colab": {
          "base_uri": "https://localhost:8080/",
          "height": 282
        },
        "id": "RTOPkqEhs2AM",
        "outputId": "7fd1f0f1-c560-446a-a0db-5fc54f86b0ce"
      },
      "source": [
        "s.hist(bins = 15)\n",
        "s.mean() - mean"
      ],
      "execution_count": null,
      "outputs": [
        {
          "output_type": "execute_result",
          "data": {
            "text/plain": [
              "-0.013013731476434032"
            ]
          },
          "metadata": {
            "tags": []
          },
          "execution_count": 130
        },
        {
          "output_type": "display_data",
          "data": {
            "image/png": "[encoded data removed]",
            "text/plain": [
              "<Figure size 432x288 with 1 Axes>"
            ]
          },
          "metadata": {
            "tags": [],
            "needs_background": "light"
          }
        }
      ]
    },
    {
      "cell_type": "markdown",
      "metadata": {
        "id": "mv9Y922fomPi"
      },
      "source": [
        "독립표본 t검정"
      ]
    },
    {
      "cell_type": "code",
      "metadata": {
        "colab": {
          "base_uri": "https://localhost:8080/"
        },
        "id": "N9Ur3_jEomCj",
        "outputId": "79a527c9-1987-4ca4-c9c9-07464f1fb172"
      },
      "source": [
        "#귀무가설: 몸값이 평균 미만인 그룹과 몸값이 평균 이상인 그룹 간 나이의 평균은 같다 --> 기각\n",
        "first = rawdata.loc[rawdata['Value']<2442, 'Age']\n",
        "\n",
        "second = rawdata.loc[rawdata['Value']>=2442, 'Age']\n",
        "\n",
        "scipy.stats.ttest_ind(first, second)"
      ],
      "execution_count": null,
      "outputs": [
        {
          "output_type": "execute_result",
          "data": {
            "text/plain": [
              "Ttest_indResult(statistic=-16.35809353882334, pvalue=1.1129596813311718e-59)"
            ]
          },
          "metadata": {
            "tags": []
          },
          "execution_count": 131
        }
      ]
    },
    {
      "cell_type": "code",
      "metadata": {
        "id": "0MQQSbalpnlk"
      },
      "source": [
        "#chi2_contingency, binom_test, zscore, kruskal 등 추가"
      ],
      "execution_count": null,
      "outputs": []
    },
    {
      "cell_type": "markdown",
      "metadata": {
        "id": "FHaaTsvRhlWX"
      },
      "source": [
        "#ADP"
      ]
    },
    {
      "cell_type": "markdown",
      "metadata": {
        "id": "eCaghifQeKiH"
      },
      "source": [
        "height변수의 단위를 cm으로 변환하여 새로운 변수 height_cm을 생성하시오\n",
        "(height: ft'inch, 1ft = 30cm, 1inch = 2.5cm)\n"
      ]
    },
    {
      "cell_type": "code",
      "metadata": {
        "id": "8IkcIilPd33g"
      },
      "source": [
        "rawdata['Height_cm'] = [int(x.split(\"'\")[0]) * 30 + int(x.split(\"'\")[1]) * 2.5 for x in rawdata['Height']]"
      ],
      "execution_count": null,
      "outputs": []
    },
    {
      "cell_type": "code",
      "metadata": {
        "colab": {
          "base_uri": "https://localhost:8080/"
        },
        "id": "duDLm1UvgFbV",
        "outputId": "db02fa9a-8668-41e8-8bd7-3143a103f7ef"
      },
      "source": [
        "rawdata['Height_cm'].head()"
      ],
      "execution_count": null,
      "outputs": [
        {
          "output_type": "execute_result",
          "data": {
            "text/plain": [
              "0    167.5\n",
              "1    185.0\n",
              "2    172.5\n",
              "3    190.0\n",
              "4    177.5\n",
              "Name: Height_cm, dtype: float64"
            ]
          },
          "metadata": {
            "tags": []
          },
          "execution_count": 8
        }
      ]
    },
    {
      "cell_type": "markdown",
      "metadata": {
        "id": "MzGZHlIwg2ke"
      },
      "source": [
        "Position 재범주화"
      ]
    },
    {
      "cell_type": "code",
      "metadata": {
        "id": "bxaZNYhFgsyr"
      },
      "source": [
        "Fow = ['LS', 'ST', 'RS', 'LW', 'LF', 'CF', 'RF', 'RW']\n",
        "Mid = ['LAM', 'CAM', 'RAM', 'LM', 'LCM', 'CM', 'RCM', 'RM']\n",
        "Def = ['LWB', 'LDM', 'CDM', 'RDM', 'RWB', 'LB', 'LCB', 'CB', 'RCB', 'RB']\n",
        "Goal = ['GK']\n",
        "\n",
        "Position_Class = []\n",
        "for idx, row in rawdata.iterrows():\n",
        "    position = row['Position']\n",
        "\n",
        "    if position in Fow:\n",
        "        Position_Class.append('Foward')\n",
        "    elif position in Mid:\n",
        "        Position_Class.append('Midfielder')\n",
        "    elif position in Def:\n",
        "        Position_Class.append('Defender')\n",
        "    elif position in Goal:\n",
        "        Position_Class.append('GoalKeeper')\n",
        "\n",
        "rawdata['Position_Class'] = Position_Class"
      ],
      "execution_count": null,
      "outputs": []
    },
    {
      "cell_type": "code",
      "metadata": {
        "colab": {
          "base_uri": "https://localhost:8080/",
          "height": 605
        },
        "id": "D3c7rgMf0jg9",
        "outputId": "50dd1612-dc73-4e5c-af98-90314394843d"
      },
      "source": [
        "rawdata"
      ],
      "execution_count": null,
      "outputs": [
        {
          "output_type": "execute_result",
          "data": {
            "text/html": [
              "<div>\n",
              "<style scoped>\n",
              "    .dataframe tbody tr th:only-of-type {\n",
              "        vertical-align: middle;\n",
              "    }\n",
              "\n",
              "    .dataframe tbody tr th {\n",
              "        vertical-align: top;\n",
              "    }\n",
              "\n",
              "    .dataframe thead th {\n",
              "        text-align: right;\n",
              "    }\n",
              "</style>\n",
              "<table border=\"1\" class=\"dataframe\">\n",
              "  <thead>\n",
              "    <tr style=\"text-align: right;\">\n",
              "      <th></th>\n",
              "      <th>ID</th>\n",
              "      <th>Name</th>\n",
              "      <th>Age</th>\n",
              "      <th>Nationality</th>\n",
              "      <th>Overall</th>\n",
              "      <th>Club</th>\n",
              "      <th>Preferred_Foot</th>\n",
              "      <th>Work_Rate</th>\n",
              "      <th>Position</th>\n",
              "      <th>Jersey_Number</th>\n",
              "      <th>Contract_Valid_Until</th>\n",
              "      <th>Height</th>\n",
              "      <th>Weight_lb</th>\n",
              "      <th>Release_Clause</th>\n",
              "      <th>Value</th>\n",
              "      <th>Wage</th>\n",
              "      <th>Height_cm</th>\n",
              "      <th>Position_Class</th>\n",
              "    </tr>\n",
              "  </thead>\n",
              "  <tbody>\n",
              "    <tr>\n",
              "      <th>0</th>\n",
              "      <td>158023</td>\n",
              "      <td>L. Messi</td>\n",
              "      <td>31</td>\n",
              "      <td>Argentina</td>\n",
              "      <td>94</td>\n",
              "      <td>FC Barcelona</td>\n",
              "      <td>Left</td>\n",
              "      <td>Medium/ Medium</td>\n",
              "      <td>RF</td>\n",
              "      <td>10</td>\n",
              "      <td>2021</td>\n",
              "      <td>5'7</td>\n",
              "      <td>159</td>\n",
              "      <td>226500</td>\n",
              "      <td>110500</td>\n",
              "      <td>565</td>\n",
              "      <td>167.5</td>\n",
              "      <td>Foward</td>\n",
              "    </tr>\n",
              "    <tr>\n",
              "      <th>1</th>\n",
              "      <td>20801</td>\n",
              "      <td>Cristiano Ronaldo</td>\n",
              "      <td>33</td>\n",
              "      <td>Portugal</td>\n",
              "      <td>94</td>\n",
              "      <td>Juventus</td>\n",
              "      <td>Right</td>\n",
              "      <td>High/ Low</td>\n",
              "      <td>ST</td>\n",
              "      <td>7</td>\n",
              "      <td>2022</td>\n",
              "      <td>6'2</td>\n",
              "      <td>183</td>\n",
              "      <td>127100</td>\n",
              "      <td>77000</td>\n",
              "      <td>405</td>\n",
              "      <td>185.0</td>\n",
              "      <td>Foward</td>\n",
              "    </tr>\n",
              "    <tr>\n",
              "      <th>2</th>\n",
              "      <td>190871</td>\n",
              "      <td>Neymar Jr</td>\n",
              "      <td>26</td>\n",
              "      <td>Brazil</td>\n",
              "      <td>92</td>\n",
              "      <td>Paris Saint-Germain</td>\n",
              "      <td>Right</td>\n",
              "      <td>High/ Medium</td>\n",
              "      <td>LW</td>\n",
              "      <td>10</td>\n",
              "      <td>2022</td>\n",
              "      <td>5'9</td>\n",
              "      <td>150</td>\n",
              "      <td>228100</td>\n",
              "      <td>118500</td>\n",
              "      <td>290</td>\n",
              "      <td>172.5</td>\n",
              "      <td>Foward</td>\n",
              "    </tr>\n",
              "    <tr>\n",
              "      <th>3</th>\n",
              "      <td>193080</td>\n",
              "      <td>De Gea</td>\n",
              "      <td>27</td>\n",
              "      <td>Spain</td>\n",
              "      <td>91</td>\n",
              "      <td>Manchester United</td>\n",
              "      <td>Right</td>\n",
              "      <td>Medium/ Medium</td>\n",
              "      <td>GK</td>\n",
              "      <td>1</td>\n",
              "      <td>2020</td>\n",
              "      <td>6'4</td>\n",
              "      <td>168</td>\n",
              "      <td>138600</td>\n",
              "      <td>72000</td>\n",
              "      <td>260</td>\n",
              "      <td>190.0</td>\n",
              "      <td>GoalKeeper</td>\n",
              "    </tr>\n",
              "    <tr>\n",
              "      <th>4</th>\n",
              "      <td>192985</td>\n",
              "      <td>K. De Bruyne</td>\n",
              "      <td>27</td>\n",
              "      <td>Belgium</td>\n",
              "      <td>91</td>\n",
              "      <td>Manchester City</td>\n",
              "      <td>Right</td>\n",
              "      <td>High/ High</td>\n",
              "      <td>RCM</td>\n",
              "      <td>7</td>\n",
              "      <td>2023</td>\n",
              "      <td>5'11</td>\n",
              "      <td>154</td>\n",
              "      <td>196400</td>\n",
              "      <td>102000</td>\n",
              "      <td>355</td>\n",
              "      <td>177.5</td>\n",
              "      <td>Midfielder</td>\n",
              "    </tr>\n",
              "    <tr>\n",
              "      <th>...</th>\n",
              "      <td>...</td>\n",
              "      <td>...</td>\n",
              "      <td>...</td>\n",
              "      <td>...</td>\n",
              "      <td>...</td>\n",
              "      <td>...</td>\n",
              "      <td>...</td>\n",
              "      <td>...</td>\n",
              "      <td>...</td>\n",
              "      <td>...</td>\n",
              "      <td>...</td>\n",
              "      <td>...</td>\n",
              "      <td>...</td>\n",
              "      <td>...</td>\n",
              "      <td>...</td>\n",
              "      <td>...</td>\n",
              "      <td>...</td>\n",
              "      <td>...</td>\n",
              "    </tr>\n",
              "    <tr>\n",
              "      <th>16637</th>\n",
              "      <td>238813</td>\n",
              "      <td>J. Lundstram</td>\n",
              "      <td>19</td>\n",
              "      <td>England</td>\n",
              "      <td>47</td>\n",
              "      <td>Crewe Alexandra</td>\n",
              "      <td>Right</td>\n",
              "      <td>Medium/ Medium</td>\n",
              "      <td>CM</td>\n",
              "      <td>22</td>\n",
              "      <td>2019</td>\n",
              "      <td>5'9</td>\n",
              "      <td>134</td>\n",
              "      <td>143</td>\n",
              "      <td>60</td>\n",
              "      <td>1</td>\n",
              "      <td>172.5</td>\n",
              "      <td>Midfielder</td>\n",
              "    </tr>\n",
              "    <tr>\n",
              "      <th>16638</th>\n",
              "      <td>243165</td>\n",
              "      <td>N. Christoffersson</td>\n",
              "      <td>19</td>\n",
              "      <td>Sweden</td>\n",
              "      <td>47</td>\n",
              "      <td>Trelleborgs FF</td>\n",
              "      <td>Right</td>\n",
              "      <td>Medium/ Medium</td>\n",
              "      <td>ST</td>\n",
              "      <td>21</td>\n",
              "      <td>2020</td>\n",
              "      <td>6'3</td>\n",
              "      <td>170</td>\n",
              "      <td>113</td>\n",
              "      <td>60</td>\n",
              "      <td>1</td>\n",
              "      <td>187.5</td>\n",
              "      <td>Foward</td>\n",
              "    </tr>\n",
              "    <tr>\n",
              "      <th>16639</th>\n",
              "      <td>241638</td>\n",
              "      <td>B. Worman</td>\n",
              "      <td>16</td>\n",
              "      <td>England</td>\n",
              "      <td>47</td>\n",
              "      <td>Cambridge United</td>\n",
              "      <td>Right</td>\n",
              "      <td>Medium/ Medium</td>\n",
              "      <td>ST</td>\n",
              "      <td>33</td>\n",
              "      <td>2021</td>\n",
              "      <td>5'8</td>\n",
              "      <td>148</td>\n",
              "      <td>165</td>\n",
              "      <td>60</td>\n",
              "      <td>1</td>\n",
              "      <td>170.0</td>\n",
              "      <td>Foward</td>\n",
              "    </tr>\n",
              "    <tr>\n",
              "      <th>16640</th>\n",
              "      <td>246268</td>\n",
              "      <td>D. Walker-Rice</td>\n",
              "      <td>17</td>\n",
              "      <td>England</td>\n",
              "      <td>47</td>\n",
              "      <td>Tranmere Rovers</td>\n",
              "      <td>Right</td>\n",
              "      <td>Medium/ Medium</td>\n",
              "      <td>RW</td>\n",
              "      <td>34</td>\n",
              "      <td>2019</td>\n",
              "      <td>5'10</td>\n",
              "      <td>154</td>\n",
              "      <td>143</td>\n",
              "      <td>60</td>\n",
              "      <td>1</td>\n",
              "      <td>175.0</td>\n",
              "      <td>Foward</td>\n",
              "    </tr>\n",
              "    <tr>\n",
              "      <th>16641</th>\n",
              "      <td>246269</td>\n",
              "      <td>G. Nugent</td>\n",
              "      <td>16</td>\n",
              "      <td>England</td>\n",
              "      <td>46</td>\n",
              "      <td>Tranmere Rovers</td>\n",
              "      <td>Right</td>\n",
              "      <td>Medium/ Medium</td>\n",
              "      <td>CM</td>\n",
              "      <td>33</td>\n",
              "      <td>2019</td>\n",
              "      <td>5'10</td>\n",
              "      <td>176</td>\n",
              "      <td>165</td>\n",
              "      <td>60</td>\n",
              "      <td>1</td>\n",
              "      <td>175.0</td>\n",
              "      <td>Midfielder</td>\n",
              "    </tr>\n",
              "  </tbody>\n",
              "</table>\n",
              "<p>16642 rows × 18 columns</p>\n",
              "</div>"
            ],
            "text/plain": [
              "           ID                Name  Age  ... Wage  Height_cm Position_Class\n",
              "0      158023            L. Messi   31  ...  565      167.5         Foward\n",
              "1       20801   Cristiano Ronaldo   33  ...  405      185.0         Foward\n",
              "2      190871           Neymar Jr   26  ...  290      172.5         Foward\n",
              "3      193080              De Gea   27  ...  260      190.0     GoalKeeper\n",
              "4      192985        K. De Bruyne   27  ...  355      177.5     Midfielder\n",
              "...       ...                 ...  ...  ...  ...        ...            ...\n",
              "16637  238813        J. Lundstram   19  ...    1      172.5     Midfielder\n",
              "16638  243165  N. Christoffersson   19  ...    1      187.5         Foward\n",
              "16639  241638           B. Worman   16  ...    1      170.0         Foward\n",
              "16640  246268      D. Walker-Rice   17  ...    1      175.0         Foward\n",
              "16641  246269           G. Nugent   16  ...    1      175.0     Midfielder\n",
              "\n",
              "[16642 rows x 18 columns]"
            ]
          },
          "metadata": {
            "tags": []
          },
          "execution_count": 10
        }
      ]
    },
    {
      "cell_type": "markdown",
      "metadata": {
        "id": "1p-9GqYFi7Du"
      },
      "source": [
        "Position_Class변수의 각 범주에 따른 Value(시장가치)의 평균 차이를 비교하는 일원배치 분산분석을 수행하고 결과를 해석하시오. 유의하다면 사후검정을 수행하고 설명하시오\n"
      ]
    },
    {
      "cell_type": "code",
      "metadata": {
        "id": "oQK-ZZNyi7Um",
        "colab": {
          "base_uri": "https://localhost:8080/"
        },
        "outputId": "3d69b7a2-c05d-42d1-dd60-35f596eb099a"
      },
      "source": [
        "from scipy.stats import f_oneway\n",
        "\n",
        "alpha = 0.05\n",
        "stat, pval = f_oneway(rawdata.loc[rawdata['Position_Class'] == 'Foward', 'Value'].values,\n",
        "                       rawdata.loc[rawdata['Position_Class'] == 'Midfielder', 'Value'].values,\n",
        "                       rawdata.loc[rawdata['Position_Class'] == 'Defender', 'Value'].values,\n",
        "                       rawdata.loc[rawdata['Position_Class'] == 'GoalKeeper', 'Value'].values\n",
        "                       )\n",
        "\n",
        "if pval < alpha:\n",
        "    print(f'significant difference shown. diff: {stat}, pval: {pval}')\n",
        "\n",
        "else:\n",
        "    print('no significant difference shown')"
      ],
      "execution_count": null,
      "outputs": [
        {
          "output_type": "stream",
          "text": [
            "significant difference shown. diff: 41.87390580849466, pval: 5.988667429906719e-27\n"
          ],
          "name": "stdout"
        }
      ]
    },
    {
      "cell_type": "markdown",
      "metadata": {
        "id": "5_cFiei10yPi"
      },
      "source": [
        "Age가 value에 영향을 미치는지 알아보는 회귀분석을 수행하고 결과를 해석하시오\n"
      ]
    },
    {
      "cell_type": "code",
      "metadata": {
        "id": "2L0pNGt80nFA"
      },
      "source": [
        "#단계적선택법은 statsmodel, scipy에서는 힘듬\n",
        "#다중회귀분석 불가능, age~value만\n",
        "from scipy.stats import linregress"
      ],
      "execution_count": null,
      "outputs": []
    },
    {
      "cell_type": "code",
      "metadata": {
        "id": "PpbOpzDG2-zM"
      },
      "source": [
        "x = rawdata[['Age', 'Value']]\n",
        "#y = rawdata[['Value']]"
      ],
      "execution_count": null,
      "outputs": []
    },
    {
      "cell_type": "code",
      "metadata": {
        "colab": {
          "base_uri": "https://localhost:8080/"
        },
        "id": "zAVQentelmbj",
        "outputId": "fd20069a-cc10-479e-c6d3-bf5bf2af1107"
      },
      "source": [
        "x.shape"
      ],
      "execution_count": null,
      "outputs": [
        {
          "output_type": "execute_result",
          "data": {
            "text/plain": [
              "(16642, 2)"
            ]
          },
          "metadata": {
            "tags": []
          },
          "execution_count": 35
        }
      ]
    },
    {
      "cell_type": "code",
      "metadata": {
        "id": "YAKJGoIa26HL"
      },
      "source": [
        "slope, intercept, r, p, se = linregress(x.values.reshape(-1, 2))"
      ],
      "execution_count": null,
      "outputs": []
    },
    {
      "cell_type": "code",
      "metadata": {
        "colab": {
          "base_uri": "https://localhost:8080/"
        },
        "id": "vO_SNbCjnixj",
        "outputId": "bcff3bd5-d368-4acc-eff7-df7db8a419f3"
      },
      "source": [
        "slope"
      ],
      "execution_count": null,
      "outputs": [
        {
          "output_type": "execute_result",
          "data": {
            "text/plain": [
              "92.72181809141009"
            ]
          },
          "metadata": {
            "tags": []
          },
          "execution_count": 37
        }
      ]
    },
    {
      "cell_type": "code",
      "metadata": {
        "id": "CMpObTrK3dOm",
        "colab": {
          "base_uri": "https://localhost:8080/"
        },
        "outputId": "b8831ef9-3cae-44df-e7ee-58ff120623f9"
      },
      "source": [
        "intercept"
      ],
      "execution_count": null,
      "outputs": [
        {
          "output_type": "execute_result",
          "data": {
            "text/plain": [
              "103.55316142887887"
            ]
          },
          "metadata": {
            "tags": []
          },
          "execution_count": 38
        }
      ]
    },
    {
      "cell_type": "code",
      "metadata": {
        "id": "7yiUfDCy7YJk",
        "colab": {
          "base_uri": "https://localhost:8080/"
        },
        "outputId": "3fd92126-6bfd-4511-a820-7d4ce09a5c78"
      },
      "source": [
        "r"
      ],
      "execution_count": null,
      "outputs": [
        {
          "output_type": "execute_result",
          "data": {
            "text/plain": [
              "0.07644211577370887"
            ]
          },
          "metadata": {
            "tags": []
          },
          "execution_count": 39
        }
      ]
    },
    {
      "cell_type": "code",
      "metadata": {
        "colab": {
          "base_uri": "https://localhost:8080/"
        },
        "id": "VdP3__ZEnp5b",
        "outputId": "827e2d05-d746-4442-df84-78fbc134833a"
      },
      "source": [
        "p"
      ],
      "execution_count": null,
      "outputs": [
        {
          "output_type": "execute_result",
          "data": {
            "text/plain": [
              "5.341208556904889e-23"
            ]
          },
          "metadata": {
            "tags": []
          },
          "execution_count": 40
        }
      ]
    },
    {
      "cell_type": "code",
      "metadata": {
        "colab": {
          "base_uri": "https://localhost:8080/"
        },
        "id": "PvewEmr8nrMH",
        "outputId": "e0bb750b-f8d6-4c2c-b568-6c94e6e087fb"
      },
      "source": [
        "se"
      ],
      "execution_count": null,
      "outputs": [
        {
          "output_type": "execute_result",
          "data": {
            "text/plain": [
              "9.37561962414408"
            ]
          },
          "metadata": {
            "tags": []
          },
          "execution_count": 41
        }
      ]
    },
    {
      "cell_type": "code",
      "metadata": {
        "id": "zqMSiokNnsYA"
      },
      "source": [
        ""
      ],
      "execution_count": null,
      "outputs": []
    }
  ]
}