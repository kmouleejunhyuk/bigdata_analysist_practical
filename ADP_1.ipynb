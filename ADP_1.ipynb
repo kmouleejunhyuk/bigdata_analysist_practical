{
  "nbformat": 4,
  "nbformat_minor": 0,
  "metadata": {
    "colab": {
      "name": "ADP_1.ipynb",
      "provenance": [],
      "mount_file_id": "1SX5iPcHk2dbT_mXWY-q0XXdLvufIPlG0",
      "authorship_tag": "ABX9TyNASRmyk7NxRb1FO180rWfB",
      "include_colab_link": true
    },
    "kernelspec": {
      "name": "python3",
      "display_name": "Python 3"
    },
    "language_info": {
      "name": "python"
    }
  },
  "cells": [
    {
      "cell_type": "markdown",
      "metadata": {
        "id": "view-in-github",
        "colab_type": "text"
      },
      "source": [
        "<a href=\"https://colab.research.google.com/github/kmouleejunhyuk/bigdata_analysist_practical/blob/main/ADP_1.ipynb\" target=\"_parent\"><img src=\"https://colab.research.google.com/assets/colab-badge.svg\" alt=\"Open In Colab\"/></a>"
      ]
    },
    {
      "cell_type": "code",
      "metadata": {
        "id": "MHIoILbkUj6-"
      },
      "source": [
        "import pandas as pd\n",
        "import sklearn\n",
        "import scipy"
      ],
      "execution_count": 1,
      "outputs": []
    },
    {
      "cell_type": "code",
      "metadata": {
        "id": "1eS7ZeKNc7v5"
      },
      "source": [
        "rawdata = pd.read_csv('/content/drive/MyDrive/big_2021/data/ADP/모의고사 R코드 및 데이터/모의고사 1회/FIFA.csv', encoding = 'cp949')"
      ],
      "execution_count": 6,
      "outputs": []
    },
    {
      "cell_type": "code",
      "metadata": {
        "colab": {
          "base_uri": "https://localhost:8080/",
          "height": 308
        },
        "id": "y4bPHy51deld",
        "outputId": "ef093a09-1836-48c8-e3d4-a369d96e8834"
      },
      "source": [
        "rawdata.describe()"
      ],
      "execution_count": 7,
      "outputs": [
        {
          "output_type": "execute_result",
          "data": {
            "text/html": [
              "<div>\n",
              "<style scoped>\n",
              "    .dataframe tbody tr th:only-of-type {\n",
              "        vertical-align: middle;\n",
              "    }\n",
              "\n",
              "    .dataframe tbody tr th {\n",
              "        vertical-align: top;\n",
              "    }\n",
              "\n",
              "    .dataframe thead th {\n",
              "        text-align: right;\n",
              "    }\n",
              "</style>\n",
              "<table border=\"1\" class=\"dataframe\">\n",
              "  <thead>\n",
              "    <tr style=\"text-align: right;\">\n",
              "      <th></th>\n",
              "      <th>ID</th>\n",
              "      <th>Age</th>\n",
              "      <th>Overall</th>\n",
              "      <th>Jersey_Number</th>\n",
              "      <th>Contract_Valid_Until</th>\n",
              "      <th>Weight_lb</th>\n",
              "      <th>Release_Clause</th>\n",
              "      <th>Value</th>\n",
              "      <th>Wage</th>\n",
              "    </tr>\n",
              "  </thead>\n",
              "  <tbody>\n",
              "    <tr>\n",
              "      <th>count</th>\n",
              "      <td>16642.000000</td>\n",
              "      <td>16642.000000</td>\n",
              "      <td>16642.000000</td>\n",
              "      <td>16642.000000</td>\n",
              "      <td>16642.000000</td>\n",
              "      <td>16642.000000</td>\n",
              "      <td>16642.000000</td>\n",
              "      <td>16642.000000</td>\n",
              "      <td>16642.000000</td>\n",
              "    </tr>\n",
              "    <tr>\n",
              "      <th>mean</th>\n",
              "      <td>213846.073849</td>\n",
              "      <td>25.225754</td>\n",
              "      <td>66.162180</td>\n",
              "      <td>19.657794</td>\n",
              "      <td>2020.241257</td>\n",
              "      <td>165.988162</td>\n",
              "      <td>4584.939911</td>\n",
              "      <td>2442.530946</td>\n",
              "      <td>9.618375</td>\n",
              "    </tr>\n",
              "    <tr>\n",
              "      <th>std</th>\n",
              "      <td>30546.895337</td>\n",
              "      <td>4.716345</td>\n",
              "      <td>7.008032</td>\n",
              "      <td>16.055119</td>\n",
              "      <td>1.290654</td>\n",
              "      <td>15.575286</td>\n",
              "      <td>11119.040864</td>\n",
              "      <td>5720.773674</td>\n",
              "      <td>22.264145</td>\n",
              "    </tr>\n",
              "    <tr>\n",
              "      <th>min</th>\n",
              "      <td>16.000000</td>\n",
              "      <td>16.000000</td>\n",
              "      <td>46.000000</td>\n",
              "      <td>1.000000</td>\n",
              "      <td>2018.000000</td>\n",
              "      <td>110.000000</td>\n",
              "      <td>13.000000</td>\n",
              "      <td>10.000000</td>\n",
              "      <td>1.000000</td>\n",
              "    </tr>\n",
              "    <tr>\n",
              "      <th>25%</th>\n",
              "      <td>199571.250000</td>\n",
              "      <td>21.000000</td>\n",
              "      <td>62.000000</td>\n",
              "      <td>8.000000</td>\n",
              "      <td>2019.000000</td>\n",
              "      <td>154.000000</td>\n",
              "      <td>525.000000</td>\n",
              "      <td>300.000000</td>\n",
              "      <td>1.000000</td>\n",
              "    </tr>\n",
              "    <tr>\n",
              "      <th>50%</th>\n",
              "      <td>221497.500000</td>\n",
              "      <td>25.000000</td>\n",
              "      <td>66.000000</td>\n",
              "      <td>17.000000</td>\n",
              "      <td>2020.000000</td>\n",
              "      <td>165.000000</td>\n",
              "      <td>1100.000000</td>\n",
              "      <td>675.000000</td>\n",
              "      <td>3.000000</td>\n",
              "    </tr>\n",
              "    <tr>\n",
              "      <th>75%</th>\n",
              "      <td>236803.000000</td>\n",
              "      <td>29.000000</td>\n",
              "      <td>71.000000</td>\n",
              "      <td>26.000000</td>\n",
              "      <td>2021.000000</td>\n",
              "      <td>176.000000</td>\n",
              "      <td>3500.000000</td>\n",
              "      <td>2000.000000</td>\n",
              "      <td>8.000000</td>\n",
              "    </tr>\n",
              "    <tr>\n",
              "      <th>max</th>\n",
              "      <td>246620.000000</td>\n",
              "      <td>45.000000</td>\n",
              "      <td>94.000000</td>\n",
              "      <td>99.000000</td>\n",
              "      <td>2026.000000</td>\n",
              "      <td>243.000000</td>\n",
              "      <td>228100.000000</td>\n",
              "      <td>118500.000000</td>\n",
              "      <td>565.000000</td>\n",
              "    </tr>\n",
              "  </tbody>\n",
              "</table>\n",
              "</div>"
            ],
            "text/plain": [
              "                  ID           Age  ...          Value          Wage\n",
              "count   16642.000000  16642.000000  ...   16642.000000  16642.000000\n",
              "mean   213846.073849     25.225754  ...    2442.530946      9.618375\n",
              "std     30546.895337      4.716345  ...    5720.773674     22.264145\n",
              "min        16.000000     16.000000  ...      10.000000      1.000000\n",
              "25%    199571.250000     21.000000  ...     300.000000      1.000000\n",
              "50%    221497.500000     25.000000  ...     675.000000      3.000000\n",
              "75%    236803.000000     29.000000  ...    2000.000000      8.000000\n",
              "max    246620.000000     45.000000  ...  118500.000000    565.000000\n",
              "\n",
              "[8 rows x 9 columns]"
            ]
          },
          "metadata": {
            "tags": []
          },
          "execution_count": 7
        }
      ]
    },
    {
      "cell_type": "code",
      "metadata": {
        "colab": {
          "base_uri": "https://localhost:8080/",
          "height": 305
        },
        "id": "cp57t9S2e-We",
        "outputId": "01678941-cb31-4fef-bf26-7c4d60fcb7ba"
      },
      "source": [
        "rawdata.head()"
      ],
      "execution_count": 8,
      "outputs": [
        {
          "output_type": "execute_result",
          "data": {
            "text/html": [
              "<div>\n",
              "<style scoped>\n",
              "    .dataframe tbody tr th:only-of-type {\n",
              "        vertical-align: middle;\n",
              "    }\n",
              "\n",
              "    .dataframe tbody tr th {\n",
              "        vertical-align: top;\n",
              "    }\n",
              "\n",
              "    .dataframe thead th {\n",
              "        text-align: right;\n",
              "    }\n",
              "</style>\n",
              "<table border=\"1\" class=\"dataframe\">\n",
              "  <thead>\n",
              "    <tr style=\"text-align: right;\">\n",
              "      <th></th>\n",
              "      <th>ID</th>\n",
              "      <th>Name</th>\n",
              "      <th>Age</th>\n",
              "      <th>Nationality</th>\n",
              "      <th>Overall</th>\n",
              "      <th>Club</th>\n",
              "      <th>Preferred_Foot</th>\n",
              "      <th>Work_Rate</th>\n",
              "      <th>Position</th>\n",
              "      <th>Jersey_Number</th>\n",
              "      <th>Contract_Valid_Until</th>\n",
              "      <th>Height</th>\n",
              "      <th>Weight_lb</th>\n",
              "      <th>Release_Clause</th>\n",
              "      <th>Value</th>\n",
              "      <th>Wage</th>\n",
              "    </tr>\n",
              "  </thead>\n",
              "  <tbody>\n",
              "    <tr>\n",
              "      <th>0</th>\n",
              "      <td>158023</td>\n",
              "      <td>L. Messi</td>\n",
              "      <td>31</td>\n",
              "      <td>Argentina</td>\n",
              "      <td>94</td>\n",
              "      <td>FC Barcelona</td>\n",
              "      <td>Left</td>\n",
              "      <td>Medium/ Medium</td>\n",
              "      <td>RF</td>\n",
              "      <td>10</td>\n",
              "      <td>2021</td>\n",
              "      <td>5'7</td>\n",
              "      <td>159</td>\n",
              "      <td>226500</td>\n",
              "      <td>110500</td>\n",
              "      <td>565</td>\n",
              "    </tr>\n",
              "    <tr>\n",
              "      <th>1</th>\n",
              "      <td>20801</td>\n",
              "      <td>Cristiano Ronaldo</td>\n",
              "      <td>33</td>\n",
              "      <td>Portugal</td>\n",
              "      <td>94</td>\n",
              "      <td>Juventus</td>\n",
              "      <td>Right</td>\n",
              "      <td>High/ Low</td>\n",
              "      <td>ST</td>\n",
              "      <td>7</td>\n",
              "      <td>2022</td>\n",
              "      <td>6'2</td>\n",
              "      <td>183</td>\n",
              "      <td>127100</td>\n",
              "      <td>77000</td>\n",
              "      <td>405</td>\n",
              "    </tr>\n",
              "    <tr>\n",
              "      <th>2</th>\n",
              "      <td>190871</td>\n",
              "      <td>Neymar Jr</td>\n",
              "      <td>26</td>\n",
              "      <td>Brazil</td>\n",
              "      <td>92</td>\n",
              "      <td>Paris Saint-Germain</td>\n",
              "      <td>Right</td>\n",
              "      <td>High/ Medium</td>\n",
              "      <td>LW</td>\n",
              "      <td>10</td>\n",
              "      <td>2022</td>\n",
              "      <td>5'9</td>\n",
              "      <td>150</td>\n",
              "      <td>228100</td>\n",
              "      <td>118500</td>\n",
              "      <td>290</td>\n",
              "    </tr>\n",
              "    <tr>\n",
              "      <th>3</th>\n",
              "      <td>193080</td>\n",
              "      <td>De Gea</td>\n",
              "      <td>27</td>\n",
              "      <td>Spain</td>\n",
              "      <td>91</td>\n",
              "      <td>Manchester United</td>\n",
              "      <td>Right</td>\n",
              "      <td>Medium/ Medium</td>\n",
              "      <td>GK</td>\n",
              "      <td>1</td>\n",
              "      <td>2020</td>\n",
              "      <td>6'4</td>\n",
              "      <td>168</td>\n",
              "      <td>138600</td>\n",
              "      <td>72000</td>\n",
              "      <td>260</td>\n",
              "    </tr>\n",
              "    <tr>\n",
              "      <th>4</th>\n",
              "      <td>192985</td>\n",
              "      <td>K. De Bruyne</td>\n",
              "      <td>27</td>\n",
              "      <td>Belgium</td>\n",
              "      <td>91</td>\n",
              "      <td>Manchester City</td>\n",
              "      <td>Right</td>\n",
              "      <td>High/ High</td>\n",
              "      <td>RCM</td>\n",
              "      <td>7</td>\n",
              "      <td>2023</td>\n",
              "      <td>5'11</td>\n",
              "      <td>154</td>\n",
              "      <td>196400</td>\n",
              "      <td>102000</td>\n",
              "      <td>355</td>\n",
              "    </tr>\n",
              "  </tbody>\n",
              "</table>\n",
              "</div>"
            ],
            "text/plain": [
              "       ID               Name  Age  ... Release_Clause   Value Wage\n",
              "0  158023           L. Messi   31  ...         226500  110500  565\n",
              "1   20801  Cristiano Ronaldo   33  ...         127100   77000  405\n",
              "2  190871          Neymar Jr   26  ...         228100  118500  290\n",
              "3  193080             De Gea   27  ...         138600   72000  260\n",
              "4  192985       K. De Bruyne   27  ...         196400  102000  355\n",
              "\n",
              "[5 rows x 16 columns]"
            ]
          },
          "metadata": {
            "tags": []
          },
          "execution_count": 8
        }
      ]
    },
    {
      "cell_type": "markdown",
      "metadata": {
        "id": "5hxo2n8zhi8H"
      },
      "source": [
        "#ORIGINAL"
      ]
    },
    {
      "cell_type": "markdown",
      "metadata": {
        "id": "h9sS8pRShPMO"
      },
      "source": [
        "AGE와 OVERALL의 correlation과 pvalue"
      ]
    },
    {
      "cell_type": "code",
      "metadata": {
        "colab": {
          "base_uri": "https://localhost:8080/"
        },
        "id": "DoxDmQXfhgsW",
        "outputId": "8eac8d70-d030-4597-ffa9-c13e2683ae4e"
      },
      "source": [
        "scipy.stats.pearsonr(rawdata['Age'], rawdata['Overall'])"
      ],
      "execution_count": 17,
      "outputs": [
        {
          "output_type": "execute_result",
          "data": {
            "text/plain": [
              "(0.4649034580646554, 0.0)"
            ]
          },
          "metadata": {
            "tags": []
          },
          "execution_count": 17
        }
      ]
    },
    {
      "cell_type": "code",
      "metadata": {
        "id": "dv_isP3Gh8HO"
      },
      "source": [
        "#연관계수 0.46, pvalue 0.0 => 통계적으로 유의"
      ],
      "execution_count": null,
      "outputs": []
    },
    {
      "cell_type": "markdown",
      "metadata": {
        "id": "FHaaTsvRhlWX"
      },
      "source": [
        "#ADP"
      ]
    },
    {
      "cell_type": "markdown",
      "metadata": {
        "id": "eCaghifQeKiH"
      },
      "source": [
        "height변수의 단위를 cm으로 변환하여 새로운 변수 height_cm을 생성하시오\n",
        "(height: ft'inch, 1ft = 30cm, 1inch = 2.5cm)\n"
      ]
    },
    {
      "cell_type": "code",
      "metadata": {
        "id": "8IkcIilPd33g"
      },
      "source": [
        "rawdata['Height_cm'] = [int(x.split(\"'\")[0]) * 30 + int(x.split(\"'\")[1]) * 2.5 for x in rawdata['Height']]"
      ],
      "execution_count": 13,
      "outputs": []
    },
    {
      "cell_type": "code",
      "metadata": {
        "colab": {
          "base_uri": "https://localhost:8080/"
        },
        "id": "duDLm1UvgFbV",
        "outputId": "1666778b-773a-44e1-d02a-95bc083a108f"
      },
      "source": [
        "rawdata['Height_cm'].head()"
      ],
      "execution_count": 16,
      "outputs": [
        {
          "output_type": "execute_result",
          "data": {
            "text/plain": [
              "0    167.5\n",
              "1    185.0\n",
              "2    172.5\n",
              "3    190.0\n",
              "4    177.5\n",
              "Name: Height_cm, dtype: float64"
            ]
          },
          "metadata": {
            "tags": []
          },
          "execution_count": 16
        }
      ]
    },
    {
      "cell_type": "markdown",
      "metadata": {
        "id": "MzGZHlIwg2ke"
      },
      "source": [
        ""
      ]
    },
    {
      "cell_type": "code",
      "metadata": {
        "id": "bxaZNYhFgsyr"
      },
      "source": [
        "Fow = ['LS', ST, RS, LW, LF, CF, RF, RW]\n",
        "Mid = [LAM, CAM, RAM, LM, LCM, CM, RCM, RM]\n",
        "Def = []\n",
        "Goal = []\n"
      ],
      "execution_count": null,
      "outputs": []
    },
    {
      "cell_type": "markdown",
      "metadata": {
        "id": "1p-9GqYFi7Du"
      },
      "source": [
        "Position_Class변수의 각 범주에 따른 Value(시장가치)의 평균 차이를 비교하는 일원배치 분산분석을 수행하고 결과를 해석하시오. 유의하다면 사후검정을 수행하고 설명하시오\n"
      ]
    },
    {
      "cell_type": "code",
      "metadata": {
        "id": "oQK-ZZNyi7Um"
      },
      "source": [
        ""
      ],
      "execution_count": null,
      "outputs": []
    }
  ]
}