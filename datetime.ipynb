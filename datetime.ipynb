{
  "nbformat": 4,
  "nbformat_minor": 0,
  "metadata": {
    "colab": {
      "name": "datetime.ipynb",
      "provenance": [],
      "authorship_tag": "ABX9TyO4qUn98pyRif1SP3oqyxYg",
      "include_colab_link": true
    },
    "kernelspec": {
      "name": "python3",
      "display_name": "Python 3"
    },
    "language_info": {
      "name": "python"
    }
  },
  "cells": [
    {
      "cell_type": "markdown",
      "metadata": {
        "id": "view-in-github",
        "colab_type": "text"
      },
      "source": [
        "<a href=\"https://colab.research.google.com/github/kmouleejunhyuk/bigdata_analysist_practical/blob/main/datetime.ipynb\" target=\"_parent\"><img src=\"https://colab.research.google.com/assets/colab-badge.svg\" alt=\"Open In Colab\"/></a>"
      ]
    },
    {
      "cell_type": "markdown",
      "metadata": {
        "id": "HlpFZlPwtEm6"
      },
      "source": [
        "#날짜 데이터 핸들링"
      ]
    },
    {
      "cell_type": "code",
      "metadata": {
        "id": "D-X93i3wterl"
      },
      "source": [
        "import datetime\n",
        "import time\n",
        "import pandas\n",
        "import random"
      ],
      "execution_count": 67,
      "outputs": []
    },
    {
      "cell_type": "markdown",
      "metadata": {
        "id": "-DXiTqD7ueEK"
      },
      "source": [
        "현 날짜와 시간 데이터 생성"
      ]
    },
    {
      "cell_type": "code",
      "metadata": {
        "colab": {
          "base_uri": "https://localhost:8080/"
        },
        "id": "FQK0OUeKuiJW",
        "outputId": "5a827e91-6051-4cbd-c604-137fe8626481"
      },
      "source": [
        "datetime_now = datetime.datetime.today()\n",
        "datetime_now"
      ],
      "execution_count": 25,
      "outputs": [
        {
          "output_type": "execute_result",
          "data": {
            "text/plain": [
              "datetime.datetime(2021, 5, 12, 8, 48, 7, 443492)"
            ]
          },
          "metadata": {
            "tags": []
          },
          "execution_count": 25
        }
      ]
    },
    {
      "cell_type": "markdown",
      "metadata": {
        "id": "0zYNzqbevrHE"
      },
      "source": [
        "현 시간에 5시간 5분 5초를 더한 뒤 iso포맷으로 출력"
      ]
    },
    {
      "cell_type": "code",
      "metadata": {
        "id": "9lTfKosgu8Yq"
      },
      "source": [
        "datetime_now += datetime.timedelta(hours = 5, seconds = 5, minutes = 5)"
      ],
      "execution_count": 26,
      "outputs": []
    },
    {
      "cell_type": "code",
      "metadata": {
        "colab": {
          "base_uri": "https://localhost:8080/",
          "height": 35
        },
        "id": "7Y7Tw5MevL4-",
        "outputId": "a64088bf-38f6-4059-ae4e-f144e188ed14"
      },
      "source": [
        "datetime_now.isoformat()"
      ],
      "execution_count": 27,
      "outputs": [
        {
          "output_type": "execute_result",
          "data": {
            "application/vnd.google.colaboratory.intrinsic+json": {
              "type": "string"
            },
            "text/plain": [
              "'2021-05-12T13:53:12.443492'"
            ]
          },
          "metadata": {
            "tags": []
          },
          "execution_count": 27
        }
      ]
    },
    {
      "cell_type": "markdown",
      "metadata": {
        "id": "NX0Gkn1-xJ8M"
      },
      "source": [
        "datetime_now에서 년, 월, 일 등의 정보를 추출"
      ]
    },
    {
      "cell_type": "code",
      "metadata": {
        "colab": {
          "base_uri": "https://localhost:8080/"
        },
        "id": "6kuxWd-KwCqp",
        "outputId": "c5086a7b-46ca-4f15-c703-3947862db2cd"
      },
      "source": [
        "print(f'{datetime_now.year}년 {datetime_now.month}월 {datetime_now.day}일 {datetime_now.hour}시 {datetime_now.minute}분 {datetime_now.second}초')"
      ],
      "execution_count": 30,
      "outputs": [
        {
          "output_type": "stream",
          "text": [
            "2021년 5월 12일 13시 53분 12초\n"
          ],
          "name": "stdout"
        }
      ]
    },
    {
      "cell_type": "markdown",
      "metadata": {
        "id": "K-5C3L_exnkc"
      },
      "source": [
        "판다스 데이터프레임에서 C1과 C2 컬럼(string, yyyy-mm-dd)의 날짜 차이의 절대값을 계산해 C3 컬럼에 저장하고 그만큼을 C2와 더해 C4컬럼에 저장"
      ]
    },
    {
      "cell_type": "code",
      "metadata": {
        "id": "zhj7ez1wx1Ss"
      },
      "source": [
        "y = 2021\n",
        "m = 5\n",
        "df = pandas.DataFrame()\n",
        "df['C1'] = [f'{y}-{m}-{x}' for x in range(1, 16)]\n",
        "df['C2'] = [f'{y}-{m}-{x}' for x in random.sample(range(6, 21), 15)]"
      ],
      "execution_count": 75,
      "outputs": []
    },
    {
      "cell_type": "code",
      "metadata": {
        "id": "-wNeOhy6x0nw"
      },
      "source": [
        "c1 = [datetime.date(*list(map(int, x.split('-')))) for x in df['C1'].values]\n",
        "c2 = [datetime.date(*list(map(int, x.split('-')))) for x in df['C2'].values]\n",
        "df['C3'] = [abs(d1 - d2) for d1, d2 in zip(c1, c2)]\n",
        "df['C4'] = [d2 + d3 for d2, d3 in zip(c2, df['C3'])]"
      ],
      "execution_count": 88,
      "outputs": []
    },
    {
      "cell_type": "code",
      "metadata": {
        "colab": {
          "base_uri": "https://localhost:8080/",
          "height": 498
        },
        "id": "LyQSxFpbykPQ",
        "outputId": "76ef48b7-f3ab-4028-85e8-609bbc34ae76"
      },
      "source": [
        "df"
      ],
      "execution_count": 89,
      "outputs": [
        {
          "output_type": "execute_result",
          "data": {
            "text/html": [
              "<div>\n",
              "<style scoped>\n",
              "    .dataframe tbody tr th:only-of-type {\n",
              "        vertical-align: middle;\n",
              "    }\n",
              "\n",
              "    .dataframe tbody tr th {\n",
              "        vertical-align: top;\n",
              "    }\n",
              "\n",
              "    .dataframe thead th {\n",
              "        text-align: right;\n",
              "    }\n",
              "</style>\n",
              "<table border=\"1\" class=\"dataframe\">\n",
              "  <thead>\n",
              "    <tr style=\"text-align: right;\">\n",
              "      <th></th>\n",
              "      <th>C1</th>\n",
              "      <th>C2</th>\n",
              "      <th>C3</th>\n",
              "      <th>C4</th>\n",
              "    </tr>\n",
              "  </thead>\n",
              "  <tbody>\n",
              "    <tr>\n",
              "      <th>0</th>\n",
              "      <td>2021-5-1</td>\n",
              "      <td>2021-5-9</td>\n",
              "      <td>8 days</td>\n",
              "      <td>2021-05-17</td>\n",
              "    </tr>\n",
              "    <tr>\n",
              "      <th>1</th>\n",
              "      <td>2021-5-2</td>\n",
              "      <td>2021-5-15</td>\n",
              "      <td>13 days</td>\n",
              "      <td>2021-05-28</td>\n",
              "    </tr>\n",
              "    <tr>\n",
              "      <th>2</th>\n",
              "      <td>2021-5-3</td>\n",
              "      <td>2021-5-13</td>\n",
              "      <td>10 days</td>\n",
              "      <td>2021-05-23</td>\n",
              "    </tr>\n",
              "    <tr>\n",
              "      <th>3</th>\n",
              "      <td>2021-5-4</td>\n",
              "      <td>2021-5-16</td>\n",
              "      <td>12 days</td>\n",
              "      <td>2021-05-28</td>\n",
              "    </tr>\n",
              "    <tr>\n",
              "      <th>4</th>\n",
              "      <td>2021-5-5</td>\n",
              "      <td>2021-5-19</td>\n",
              "      <td>14 days</td>\n",
              "      <td>2021-06-02</td>\n",
              "    </tr>\n",
              "    <tr>\n",
              "      <th>5</th>\n",
              "      <td>2021-5-6</td>\n",
              "      <td>2021-5-14</td>\n",
              "      <td>8 days</td>\n",
              "      <td>2021-05-22</td>\n",
              "    </tr>\n",
              "    <tr>\n",
              "      <th>6</th>\n",
              "      <td>2021-5-7</td>\n",
              "      <td>2021-5-12</td>\n",
              "      <td>5 days</td>\n",
              "      <td>2021-05-17</td>\n",
              "    </tr>\n",
              "    <tr>\n",
              "      <th>7</th>\n",
              "      <td>2021-5-8</td>\n",
              "      <td>2021-5-18</td>\n",
              "      <td>10 days</td>\n",
              "      <td>2021-05-28</td>\n",
              "    </tr>\n",
              "    <tr>\n",
              "      <th>8</th>\n",
              "      <td>2021-5-9</td>\n",
              "      <td>2021-5-6</td>\n",
              "      <td>3 days</td>\n",
              "      <td>2021-05-09</td>\n",
              "    </tr>\n",
              "    <tr>\n",
              "      <th>9</th>\n",
              "      <td>2021-5-10</td>\n",
              "      <td>2021-5-11</td>\n",
              "      <td>1 days</td>\n",
              "      <td>2021-05-12</td>\n",
              "    </tr>\n",
              "    <tr>\n",
              "      <th>10</th>\n",
              "      <td>2021-5-11</td>\n",
              "      <td>2021-5-8</td>\n",
              "      <td>3 days</td>\n",
              "      <td>2021-05-11</td>\n",
              "    </tr>\n",
              "    <tr>\n",
              "      <th>11</th>\n",
              "      <td>2021-5-12</td>\n",
              "      <td>2021-5-20</td>\n",
              "      <td>8 days</td>\n",
              "      <td>2021-05-28</td>\n",
              "    </tr>\n",
              "    <tr>\n",
              "      <th>12</th>\n",
              "      <td>2021-5-13</td>\n",
              "      <td>2021-5-17</td>\n",
              "      <td>4 days</td>\n",
              "      <td>2021-05-21</td>\n",
              "    </tr>\n",
              "    <tr>\n",
              "      <th>13</th>\n",
              "      <td>2021-5-14</td>\n",
              "      <td>2021-5-10</td>\n",
              "      <td>4 days</td>\n",
              "      <td>2021-05-14</td>\n",
              "    </tr>\n",
              "    <tr>\n",
              "      <th>14</th>\n",
              "      <td>2021-5-15</td>\n",
              "      <td>2021-5-7</td>\n",
              "      <td>8 days</td>\n",
              "      <td>2021-05-15</td>\n",
              "    </tr>\n",
              "  </tbody>\n",
              "</table>\n",
              "</div>"
            ],
            "text/plain": [
              "           C1         C2      C3          C4\n",
              "0    2021-5-1   2021-5-9  8 days  2021-05-17\n",
              "1    2021-5-2  2021-5-15 13 days  2021-05-28\n",
              "2    2021-5-3  2021-5-13 10 days  2021-05-23\n",
              "3    2021-5-4  2021-5-16 12 days  2021-05-28\n",
              "4    2021-5-5  2021-5-19 14 days  2021-06-02\n",
              "5    2021-5-6  2021-5-14  8 days  2021-05-22\n",
              "6    2021-5-7  2021-5-12  5 days  2021-05-17\n",
              "7    2021-5-8  2021-5-18 10 days  2021-05-28\n",
              "8    2021-5-9   2021-5-6  3 days  2021-05-09\n",
              "9   2021-5-10  2021-5-11  1 days  2021-05-12\n",
              "10  2021-5-11   2021-5-8  3 days  2021-05-11\n",
              "11  2021-5-12  2021-5-20  8 days  2021-05-28\n",
              "12  2021-5-13  2021-5-17  4 days  2021-05-21\n",
              "13  2021-5-14  2021-5-10  4 days  2021-05-14\n",
              "14  2021-5-15   2021-5-7  8 days  2021-05-15"
            ]
          },
          "metadata": {
            "tags": []
          },
          "execution_count": 89
        }
      ]
    }
  ]
}