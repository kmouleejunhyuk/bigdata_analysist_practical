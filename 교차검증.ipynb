{
  "nbformat": 4,
  "nbformat_minor": 0,
  "metadata": {
    "colab": {
      "name": "교차검증.ipynb",
      "provenance": [],
      "collapsed_sections": [],
      "authorship_tag": "ABX9TyM2KUGIwwM8TdYap8NlhkyN",
      "include_colab_link": true
    },
    "kernelspec": {
      "name": "python3",
      "display_name": "Python 3"
    },
    "language_info": {
      "name": "python"
    }
  },
  "cells": [
    {
      "cell_type": "markdown",
      "metadata": {
        "id": "view-in-github",
        "colab_type": "text"
      },
      "source": [
        "<a href=\"https://colab.research.google.com/github/kmouleejunhyuk/bigdata_analysist_practical/blob/main/%EA%B5%90%EC%B0%A8%EA%B2%80%EC%A6%9D.ipynb\" target=\"_parent\"><img src=\"https://colab.research.google.com/assets/colab-badge.svg\" alt=\"Open In Colab\"/></a>"
      ]
    },
    {
      "cell_type": "code",
      "metadata": {
        "id": "G0yXjZANg6kF"
      },
      "source": [
        "import pandas as pd\n",
        "import numpy as np\n"
      ],
      "execution_count": 24,
      "outputs": []
    },
    {
      "cell_type": "code",
      "metadata": {
        "id": "EFwv0ISKhKEc"
      },
      "source": [
        "#iris data 준비\n",
        "from sklearn.datasets import load_iris\n",
        "dataset = load_iris()\n",
        "data = dataset.data\n",
        "data = pd.DataFrame(data, columns = ['a1', 'a2', 'a3', 'a4'])"
      ],
      "execution_count": 25,
      "outputs": []
    },
    {
      "cell_type": "code",
      "metadata": {
        "id": "FtLXG33Wjv-Y"
      },
      "source": [
        "target = dataset.target"
      ],
      "execution_count": 26,
      "outputs": []
    },
    {
      "cell_type": "code",
      "metadata": {
        "id": "n03C2Rnnjqah"
      },
      "source": [
        "#모델 준비\n",
        "from xgboost import XGBClassifier\n",
        "from sklearn.ensemble import RandomForestClassifier\n",
        "from sklearn.neighbors import KNeighborsClassifier"
      ],
      "execution_count": 27,
      "outputs": []
    },
    {
      "cell_type": "code",
      "metadata": {
        "id": "H3loHgFYlfLh"
      },
      "source": [
        "#파라미터 확인"
      ],
      "execution_count": 28,
      "outputs": []
    },
    {
      "cell_type": "code",
      "metadata": {
        "id": "FiscbWC7ldLx"
      },
      "source": [
        "# KNeighborsClassifier(algorithm='auto', leaf_size=30, metric='minkowski',\n",
        "#                      metric_params=None, n_jobs=None, n_neighbors=5, p=2,\n",
        "#                      weights='uniform')\n",
        "\n",
        "# RandomForestClassifier(bootstrap=True, ccp_alpha=0.0, class_weight=None,\n",
        "#                        criterion='gini', max_depth=None, max_features='auto',\n",
        "#                        max_leaf_nodes=None, max_samples=None,\n",
        "#                        min_impurity_decrease=0.0, min_impurity_split=None,\n",
        "#                        min_samples_leaf=1, min_samples_split=2,\n",
        "#                        min_weight_fraction_leaf=0.0, n_estimators=100,\n",
        "#                        n_jobs=None, oob_score=False, random_state=None,\n",
        "#                        verbose=0, warm_start=False)\n",
        "\n",
        "# XGBClassifier(base_score=0.5, booster='gbtree', colsample_bylevel=1,\n",
        "#               colsample_bynode=1, colsample_bytree=1, gamma=0,\n",
        "#               learning_rate=0.1, max_delta_step=0, max_depth=3,\n",
        "#               min_child_weight=1, missing=None, n_estimators=100, n_jobs=1,\n",
        "#               nthread=None, objective='binary:logistic', random_state=0,\n",
        "#               reg_alpha=0, reg_lambda=1, scale_pos_weight=1, seed=None,\n",
        "#               silent=None, subsample=1, verbosity=1)"
      ],
      "execution_count": 29,
      "outputs": []
    },
    {
      "cell_type": "code",
      "metadata": {
        "id": "hSUhuVCdimqZ"
      },
      "source": [
        "#파라미터 그리드 준비\n",
        "param_grid_rf = {\n",
        "    'model__n_estimators': [100, 150],\n",
        "    'model__max_depth': [None, 3, 5],\n",
        "    'model__min_samples_split': [0.01, 0.05, 0.1],\n",
        "    'model__max_features': ['auto', 'sqrt'],\n",
        "}\n",
        "\n",
        "param_grid_xgb = {\n",
        "    'model__learning_rate': [0.01, 0.05, 0.1],\n",
        "    'model__n_estimators': [100, 150],\n",
        "    'model__max_depth': [3, 5]\n",
        "}\n",
        "\n",
        "param_grid_KNN = {\n",
        "    'model__leaf_size': [10, 30, 50],\n",
        "    'model__n_neighbors': [5, 10, 15, 20]\n",
        "}"
      ],
      "execution_count": 45,
      "outputs": []
    },
    {
      "cell_type": "code",
      "metadata": {
        "colab": {
          "base_uri": "https://localhost:8080/"
        },
        "id": "M_42IceFr-7Z",
        "outputId": "742f8718-fc7b-45ba-b3fa-55cbce8a9719"
      },
      "source": [
        "#파이프라인 준비 및 점수 측정\n",
        "from sklearn.preprocessing import StandardScaler\n",
        "from sklearn.pipeline import Pipeline\n",
        "from sklearn.model_selection import GridSearchCV\n",
        "from sklearn.model_selection import cross_val_score, train_test_split\n",
        "from sklearn.metrics import classification_report\n",
        "\n",
        "pipe = Pipeline([('scaler' , StandardScaler()), ('model', XGBClassifier())])\n",
        "grid = GridSearchCV(pipe, param_grid_xgb, cv = 5)\n",
        "\n",
        "score = cross_val_score(grid, data, target, scoring = 'roc_auc_ovo_weighted')\n",
        "print(score)\n",
        "print(score.mean())"
      ],
      "execution_count": 47,
      "outputs": [
        {
          "output_type": "stream",
          "text": [
            "[0.98166667 0.98333333 0.95166667 0.99166667 1.        ]\n",
            "0.9816666666666667\n"
          ],
          "name": "stdout"
        }
      ]
    },
    {
      "cell_type": "code",
      "metadata": {
        "id": "UwT3Q_1DvAJG"
      },
      "source": [
        "#knn: 0.993\n",
        "#rf: 0.995\n",
        "#XGB: 0.981\n",
        "#best model: rf"
      ],
      "execution_count": null,
      "outputs": []
    },
    {
      "cell_type": "code",
      "metadata": {
        "colab": {
          "base_uri": "https://localhost:8080/"
        },
        "id": "DArHj7dguZe_",
        "outputId": "e67c2d86-c3b1-4a46-c325-d9c54ca4f062"
      },
      "source": [
        "pipe = Pipeline([('scaler' , StandardScaler()), ('model', RandomForestClassifier())])\n",
        "grid = GridSearchCV(pipe, param_grid_rf, cv = 5)\n",
        "\n",
        "#최종 결과(시험 시 제출시에만)\n",
        "x_train, x_test, y_train, y_test = train_test_split(data, target, test_size = 0.2)\n",
        "grid.fit(x_train, y_train)\n",
        "\n",
        "print(grid.best_score_)\n",
        "print(grid.score(x_test, y_test))\n",
        "print(grid.best_params_)"
      ],
      "execution_count": 49,
      "outputs": [
        {
          "output_type": "stream",
          "text": [
            "0.95\n",
            "1.0\n",
            "{'model__max_depth': None, 'model__max_features': 'sqrt', 'model__min_samples_split': 0.05, 'model__n_estimators': 100}\n"
          ],
          "name": "stdout"
        }
      ]
    },
    {
      "cell_type": "code",
      "metadata": {
        "colab": {
          "base_uri": "https://localhost:8080/"
        },
        "id": "3UHDN8AyymHa",
        "outputId": "8e5faf53-d5b5-41c9-fc36-41589f3219d7"
      },
      "source": [
        "grid.predict(x_test)"
      ],
      "execution_count": 50,
      "outputs": [
        {
          "output_type": "execute_result",
          "data": {
            "text/plain": [
              "array([2, 1, 0, 1, 0, 2, 1, 2, 0, 1, 1, 2, 0, 1, 0, 0, 2, 0, 1, 1, 2, 0,\n",
              "       0, 2, 2, 2, 2, 1, 0, 1])"
            ]
          },
          "metadata": {
            "tags": []
          },
          "execution_count": 50
        }
      ]
    }
  ]
}